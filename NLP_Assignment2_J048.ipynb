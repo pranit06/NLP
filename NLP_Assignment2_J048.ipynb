{
  "nbformat": 4,
  "nbformat_minor": 0,
  "metadata": {
    "colab": {
      "name": "NLP Assignment2 J048.ipynb",
      "provenance": [],
      "include_colab_link": true
    },
    "kernelspec": {
      "name": "python3",
      "display_name": "Python 3"
    },
    "language_info": {
      "name": "python"
    }
  },
  "cells": [
    {
      "cell_type": "markdown",
      "metadata": {
        "id": "view-in-github",
        "colab_type": "text"
      },
      "source": [
        "<a href=\"https://colab.research.google.com/github/pranit06/NLP/blob/main/NLP_Assignment2_J048.ipynb\" target=\"_parent\"><img src=\"https://colab.research.google.com/assets/colab-badge.svg\" alt=\"Open In Colab\"/></a>"
      ]
    },
    {
      "cell_type": "code",
      "metadata": {
        "id": "Byht5OX-r5S9"
      },
      "source": [
        "import nltk\n",
        "\n",
        "from nltk.tokenize import word_tokenize\n",
        "from nltk.tag import pos_tag\n",
        "import numpy as np \n",
        "import pandas as pd\n",
        "\n",
        "from tqdm import tqdm, trange\n",
        "\n",
        "import spacy\n",
        "from spacy import displacy\n",
        "from collections import Counter\n",
        "import en_core_web_sm\n",
        "nlp = en_core_web_sm.load()"
      ],
      "execution_count": null,
      "outputs": []
    },
    {
      "cell_type": "code",
      "metadata": {
        "colab": {
          "base_uri": "https://localhost:8080/"
        },
        "id": "GwcN1785r4an",
        "outputId": "124dad9d-80ab-4037-8e58-1cc44ebbb481"
      },
      "source": [
        "from google.colab import drive\n",
        "drive.mount('/content/drive')"
      ],
      "execution_count": null,
      "outputs": [
        {
          "output_type": "stream",
          "text": [
            "Drive already mounted at /content/drive; to attempt to forcibly remount, call drive.mount(\"/content/drive\", force_remount=True).\n"
          ],
          "name": "stdout"
        }
      ]
    },
    {
      "cell_type": "code",
      "metadata": {
        "colab": {
          "base_uri": "https://localhost:8080/",
          "height": 195
        },
        "id": "O7Ad9qW7JJMI",
        "outputId": "39ef2597-b5d6-4920-f2c0-dd0907bc1d41"
      },
      "source": [
        "df = pd.read_csv(\"/content/drive/MyDrive/NLP Datasets/ner_dataset.csv\", encoding=\"latin1\")\n",
        "df.head()"
      ],
      "execution_count": null,
      "outputs": [
        {
          "output_type": "execute_result",
          "data": {
            "text/html": [
              "<div>\n",
              "<style scoped>\n",
              "    .dataframe tbody tr th:only-of-type {\n",
              "        vertical-align: middle;\n",
              "    }\n",
              "\n",
              "    .dataframe tbody tr th {\n",
              "        vertical-align: top;\n",
              "    }\n",
              "\n",
              "    .dataframe thead th {\n",
              "        text-align: right;\n",
              "    }\n",
              "</style>\n",
              "<table border=\"1\" class=\"dataframe\">\n",
              "  <thead>\n",
              "    <tr style=\"text-align: right;\">\n",
              "      <th></th>\n",
              "      <th>Sentence #</th>\n",
              "      <th>Word</th>\n",
              "      <th>POS</th>\n",
              "      <th>Tag</th>\n",
              "    </tr>\n",
              "  </thead>\n",
              "  <tbody>\n",
              "    <tr>\n",
              "      <th>0</th>\n",
              "      <td>Sentence: 1</td>\n",
              "      <td>Thousands</td>\n",
              "      <td>NNS</td>\n",
              "      <td>O</td>\n",
              "    </tr>\n",
              "    <tr>\n",
              "      <th>1</th>\n",
              "      <td>NaN</td>\n",
              "      <td>of</td>\n",
              "      <td>IN</td>\n",
              "      <td>O</td>\n",
              "    </tr>\n",
              "    <tr>\n",
              "      <th>2</th>\n",
              "      <td>NaN</td>\n",
              "      <td>demonstrators</td>\n",
              "      <td>NNS</td>\n",
              "      <td>O</td>\n",
              "    </tr>\n",
              "    <tr>\n",
              "      <th>3</th>\n",
              "      <td>NaN</td>\n",
              "      <td>have</td>\n",
              "      <td>VBP</td>\n",
              "      <td>O</td>\n",
              "    </tr>\n",
              "    <tr>\n",
              "      <th>4</th>\n",
              "      <td>NaN</td>\n",
              "      <td>marched</td>\n",
              "      <td>VBN</td>\n",
              "      <td>O</td>\n",
              "    </tr>\n",
              "  </tbody>\n",
              "</table>\n",
              "</div>"
            ],
            "text/plain": [
              "    Sentence #           Word  POS Tag\n",
              "0  Sentence: 1      Thousands  NNS   O\n",
              "1          NaN             of   IN   O\n",
              "2          NaN  demonstrators  NNS   O\n",
              "3          NaN           have  VBP   O\n",
              "4          NaN        marched  VBN   O"
            ]
          },
          "metadata": {
            "tags": []
          },
          "execution_count": 17
        }
      ]
    },
    {
      "cell_type": "code",
      "metadata": {
        "colab": {
          "base_uri": "https://localhost:8080/",
          "height": 343
        },
        "id": "qTX7sPbaJuLN",
        "outputId": "86425286-1ac6-4f88-ec47-14a2d9dddc4b"
      },
      "source": [
        "df = df.fillna(method=\"ffill\")\n",
        "df.tail(10)"
      ],
      "execution_count": null,
      "outputs": [
        {
          "output_type": "execute_result",
          "data": {
            "text/html": [
              "<div>\n",
              "<style scoped>\n",
              "    .dataframe tbody tr th:only-of-type {\n",
              "        vertical-align: middle;\n",
              "    }\n",
              "\n",
              "    .dataframe tbody tr th {\n",
              "        vertical-align: top;\n",
              "    }\n",
              "\n",
              "    .dataframe thead th {\n",
              "        text-align: right;\n",
              "    }\n",
              "</style>\n",
              "<table border=\"1\" class=\"dataframe\">\n",
              "  <thead>\n",
              "    <tr style=\"text-align: right;\">\n",
              "      <th></th>\n",
              "      <th>Sentence #</th>\n",
              "      <th>Word</th>\n",
              "      <th>POS</th>\n",
              "      <th>Tag</th>\n",
              "    </tr>\n",
              "  </thead>\n",
              "  <tbody>\n",
              "    <tr>\n",
              "      <th>1048565</th>\n",
              "      <td>Sentence: 47958</td>\n",
              "      <td>impact</td>\n",
              "      <td>NN</td>\n",
              "      <td>O</td>\n",
              "    </tr>\n",
              "    <tr>\n",
              "      <th>1048566</th>\n",
              "      <td>Sentence: 47958</td>\n",
              "      <td>.</td>\n",
              "      <td>.</td>\n",
              "      <td>O</td>\n",
              "    </tr>\n",
              "    <tr>\n",
              "      <th>1048567</th>\n",
              "      <td>Sentence: 47959</td>\n",
              "      <td>Indian</td>\n",
              "      <td>JJ</td>\n",
              "      <td>B-gpe</td>\n",
              "    </tr>\n",
              "    <tr>\n",
              "      <th>1048568</th>\n",
              "      <td>Sentence: 47959</td>\n",
              "      <td>forces</td>\n",
              "      <td>NNS</td>\n",
              "      <td>O</td>\n",
              "    </tr>\n",
              "    <tr>\n",
              "      <th>1048569</th>\n",
              "      <td>Sentence: 47959</td>\n",
              "      <td>said</td>\n",
              "      <td>VBD</td>\n",
              "      <td>O</td>\n",
              "    </tr>\n",
              "    <tr>\n",
              "      <th>1048570</th>\n",
              "      <td>Sentence: 47959</td>\n",
              "      <td>they</td>\n",
              "      <td>PRP</td>\n",
              "      <td>O</td>\n",
              "    </tr>\n",
              "    <tr>\n",
              "      <th>1048571</th>\n",
              "      <td>Sentence: 47959</td>\n",
              "      <td>responded</td>\n",
              "      <td>VBD</td>\n",
              "      <td>O</td>\n",
              "    </tr>\n",
              "    <tr>\n",
              "      <th>1048572</th>\n",
              "      <td>Sentence: 47959</td>\n",
              "      <td>to</td>\n",
              "      <td>TO</td>\n",
              "      <td>O</td>\n",
              "    </tr>\n",
              "    <tr>\n",
              "      <th>1048573</th>\n",
              "      <td>Sentence: 47959</td>\n",
              "      <td>the</td>\n",
              "      <td>DT</td>\n",
              "      <td>O</td>\n",
              "    </tr>\n",
              "    <tr>\n",
              "      <th>1048574</th>\n",
              "      <td>Sentence: 47959</td>\n",
              "      <td>attack</td>\n",
              "      <td>NN</td>\n",
              "      <td>O</td>\n",
              "    </tr>\n",
              "  </tbody>\n",
              "</table>\n",
              "</div>"
            ],
            "text/plain": [
              "              Sentence #       Word  POS    Tag\n",
              "1048565  Sentence: 47958     impact   NN      O\n",
              "1048566  Sentence: 47958          .    .      O\n",
              "1048567  Sentence: 47959     Indian   JJ  B-gpe\n",
              "1048568  Sentence: 47959     forces  NNS      O\n",
              "1048569  Sentence: 47959       said  VBD      O\n",
              "1048570  Sentence: 47959       they  PRP      O\n",
              "1048571  Sentence: 47959  responded  VBD      O\n",
              "1048572  Sentence: 47959         to   TO      O\n",
              "1048573  Sentence: 47959        the   DT      O\n",
              "1048574  Sentence: 47959     attack   NN      O"
            ]
          },
          "metadata": {
            "tags": []
          },
          "execution_count": 18
        }
      ]
    },
    {
      "cell_type": "code",
      "metadata": {
        "colab": {
          "base_uri": "https://localhost:8080/"
        },
        "id": "tbXthztlJ-T5",
        "outputId": "7ae661cd-8f53-49ff-d9b0-3340fd42e7eb"
      },
      "source": [
        "words_list = list(set(df[\"Word\"].values))\n",
        "words_list[:20]"
      ],
      "execution_count": null,
      "outputs": [
        {
          "output_type": "execute_result",
          "data": {
            "text/plain": [
              "['homicide',\n",
              " 'luxuriate',\n",
              " 'outburst',\n",
              " 'obsolete',\n",
              " 'wrapping',\n",
              " 'probed',\n",
              " '1.27',\n",
              " 'Ilbo',\n",
              " 'Florida-based',\n",
              " 'attended',\n",
              " '57-member',\n",
              " 'jumper',\n",
              " '150-year-old',\n",
              " 'innocents',\n",
              " 'Adriatic',\n",
              " 'Weddings',\n",
              " 'Columbia',\n",
              " 'insiders',\n",
              " 'Tartus',\n",
              " 'THAKSIN']"
            ]
          },
          "metadata": {
            "tags": []
          },
          "execution_count": 22
        }
      ]
    },
    {
      "cell_type": "code",
      "metadata": {
        "colab": {
          "base_uri": "https://localhost:8080/"
        },
        "id": "ZpWlI2c1KC4J",
        "outputId": "952b8c26-9e28-48fb-f8bf-262b790b96ab"
      },
      "source": [
        "number_words = len(words_list)\n",
        "number_words"
      ],
      "execution_count": null,
      "outputs": [
        {
          "output_type": "execute_result",
          "data": {
            "text/plain": [
              "35178"
            ]
          },
          "metadata": {
            "tags": []
          },
          "execution_count": 21
        }
      ]
    },
    {
      "cell_type": "code",
      "metadata": {
        "id": "Azt7povQKE8K"
      },
      "source": [
        "class SentenceExtract(object):\n",
        "\n",
        "    def __init__(self, df):\n",
        "        self.n_sent = 1\n",
        "        self.df = df\n",
        "        self.empty = False\n",
        "        function = lambda s: [(w, p, t) for w, p, t in zip(s[\"Word\"].values.tolist(),\n",
        "                                                           s[\"POS\"].values.tolist(),\n",
        "                                                           s[\"Tag\"].values.tolist())]\n",
        "        self.grouped = self.df.groupby(\"Sentence #\").apply(function)\n",
        "        self.sentences = [s for s in self.grouped]\n",
        "    \n",
        "    def retrieve(self):\n",
        "        try:\n",
        "            s = self.grouped[\"Sentence: {}\".format(self.n_sent)]\n",
        "            self.n_sent += 1\n",
        "            return s\n",
        "        except:\n",
        "            return None"
      ],
      "execution_count": null,
      "outputs": []
    },
    {
      "cell_type": "code",
      "metadata": {
        "id": "zMVq3cPVKL2D"
      },
      "source": [
        "Sentences = SentenceExtract(df)"
      ],
      "execution_count": null,
      "outputs": []
    },
    {
      "cell_type": "code",
      "metadata": {
        "id": "oM3HSdn7KNxd"
      },
      "source": [
        "Sentences_list = [\" \".join([s[0] for s in sent]) for sent in Sentences.sentences]"
      ],
      "execution_count": null,
      "outputs": []
    },
    {
      "cell_type": "code",
      "metadata": {
        "id": "76ZsrIvnRVHT"
      },
      "source": [
        "Sentences_list_a = Sentences_list[:7500]\n",
        "listToStr_a = ' '.join([str(elem) for elem in Sentences_list_a])"
      ],
      "execution_count": null,
      "outputs": []
    },
    {
      "cell_type": "code",
      "metadata": {
        "id": "jIKBUoxiRTlc"
      },
      "source": [
        "article = nlp(listToStr_a)"
      ],
      "execution_count": null,
      "outputs": []
    },
    {
      "cell_type": "code",
      "metadata": {
        "colab": {
          "base_uri": "https://localhost:8080/"
        },
        "id": "oj7iPx7hKWWH",
        "outputId": "dd6d03fd-9c94-4b35-abc7-f1411f7c4385"
      },
      "source": [
        "labels = [x.label_ for x in article.ents]\n",
        "print(labels)\n",
        "Counter(labels)"
      ],
      "execution_count": null,
      "outputs": [
        {
          "output_type": "stream",
          "text": [
            "['CARDINAL', 'GPE', 'GPE', 'NORP', 'NORP', 'DATE', 'ORG', 'DATE', 'GPE', 'ORG', 'LOC', 'TIME', 'ORG', 'PERSON', 'DATE', 'GPE', 'NORP', 'NORP', 'GPE', 'PERSON', 'CARDINAL', 'GPE', 'GPE', 'GPE', 'GPE', 'DATE', 'CARDINAL', 'LOC', 'LOC', 'CARDINAL', 'ORG', 'NORP', 'DATE', 'NORP', 'GPE', 'GPE', 'ORG', 'GPE', 'PERSON', 'NORP', 'CARDINAL', 'CARDINAL', 'DATE', 'GPE', 'DATE', 'PERSON', 'CARDINAL', 'GPE', 'DATE', 'DATE', 'ORG', 'PERSON', 'GPE', 'NORP', 'GPE', 'NORP', 'PERSON', 'DATE', 'DATE', 'PERSON', 'PERSON', 'PERSON', 'DATE', 'ORDINAL', 'MONEY', 'ORG', 'ORG', 'PERSON', 'DATE', 'GPE', 'GPE', 'ORG', 'DATE', 'QUANTITY', 'LOC', 'DATE', 'DATE', 'GPE', 'LOC', 'CARDINAL', 'ORG', 'CARDINAL', 'MONEY', 'PERSON', 'ORG', 'GPE', 'DATE', 'TIME', 'GPE', 'CARDINAL', 'CARDINAL', 'PERSON', 'DATE', 'CARDINAL', 'GPE', 'DATE', 'GPE', 'CARDINAL', 'CARDINAL', 'GPE', 'FAC', 'PERSON', 'ORG', 'DATE', 'TIME', 'CARDINAL', 'PERSON', 'PERSON', 'DATE', 'CARDINAL', 'PERSON', 'PERSON', 'PERSON', 'DATE', 'CARDINAL', 'GPE', 'CARDINAL', 'GPE', 'CARDINAL', 'GPE', 'GPE', 'FAC', 'NORP', 'PERSON', 'GPE', 'ORG', 'DATE', 'ORDINAL', 'ORG', 'LOC', 'GPE', 'NORP', 'PERSON', 'CARDINAL', 'NORP', 'PERSON', 'PERSON', 'CARDINAL', 'PERSON', 'GPE', 'ORG', 'DATE', 'DATE', 'ORG', 'DATE', 'ORG', 'PERSON', 'NORP', 'PERSON', 'PERSON', 'ORG', 'MONEY', 'ORG', 'CARDINAL', 'PERSON', 'LOC', 'ORG', 'ORG', 'PERSON', 'PERSON', 'DATE', 'PERSON', 'EVENT', 'GPE', 'MONEY', 'DATE', 'PERSON', 'DATE', 'DATE', 'NORP', 'DATE', 'DATE', 'GPE', 'DATE', 'DATE', 'DATE', 'GPE', 'ORDINAL', 'DATE', 'NORP', 'GPE', 'DATE', 'PERSON', 'CARDINAL', 'GPE', 'PERSON', 'GPE', 'DATE', 'ORG', 'DATE', 'ORG', 'PERSON', 'DATE', 'NORP', 'PERSON', 'ORG', 'PERSON', 'GPE', 'PERSON', 'NORP', 'CARDINAL', 'ORDINAL', 'ORG', 'DATE', 'CARDINAL', 'DATE', 'PERSON', 'PERSON', 'CARDINAL', 'PERCENT', 'PERSON', 'PERSON', 'CARDINAL', 'DATE', 'PERSON', 'NORP', 'CARDINAL', 'DATE', 'DATE', 'PERSON', 'PERSON', 'PERSON', 'PERCENT', 'NORP', 'CARDINAL', 'PERSON', 'DATE', 'PERSON', 'DATE', 'MONEY', 'ORDINAL', 'PERSON', 'PERSON', 'MONEY', 'PERCENT', 'GPE', 'GPE', 'DATE', 'GPE', 'NORP', 'NORP', 'PERSON', 'DATE', 'PERSON', 'GPE', 'NORP', 'GPE', 'DATE', 'ORG', 'NORP', 'NORP', 'DATE', 'PERSON', 'DATE', 'DATE', 'ORG', 'CARDINAL', 'DATE', 'GPE', 'ORG', 'NORP', 'PERSON', 'GPE', 'DATE', 'NORP', 'ORG', 'NORP', 'NORP', 'DATE', 'CARDINAL', 'NORP', 'GPE', 'ORG', 'ORG', 'DATE', 'PERSON', 'NORP', 'GPE', 'NORP', 'GPE', 'NORP', 'CARDINAL', 'DATE', 'NORP', 'FAC', 'ORG', 'ORG', 'NORP', 'GPE', 'ORG', 'CARDINAL', 'NORP', 'NORP', 'NORP', 'NORP', 'ORG', 'PERSON', 'GPE', 'MONEY', 'MONEY', 'PERSON', 'ORG', 'GPE', 'MONEY', 'ORG', 'PERCENT', 'DATE', 'MONEY', 'ORG', 'CARDINAL', 'DATE', 'GPE', 'CARDINAL', 'ORG', 'CARDINAL', 'EVENT', 'GPE', 'GPE', 'DATE', 'CARDINAL', 'NORP', 'ORG', 'NORP', 'GPE', 'DATE', 'DATE', 'ORG', 'NORP', 'GPE', 'GPE', 'ORG', 'PERSON', 'ORG', 'GPE', 'DATE', 'PERSON', 'GPE', 'DATE', 'CARDINAL', 'ORG', 'NORP', 'DATE', 'DATE', 'NORP', 'GPE', 'GPE', 'ORG', 'CARDINAL', 'CARDINAL', 'CARDINAL', 'GPE', 'GPE', 'PERSON', 'PERSON', 'DATE', 'GPE', 'ORG', 'ORG', 'CARDINAL', 'LOC', 'LOC', 'LOC', 'NORP', 'PERSON', 'ORG', 'NORP', 'GPE', 'DATE', 'PERSON', 'ORG', 'NORP', 'ORG', 'GPE', 'NORP', 'DATE', 'ORG', 'GPE', 'ORG', 'NORP', 'GPE', 'CARDINAL', 'GPE', 'ORG', 'ORG', 'DATE', 'NORP', 'CARDINAL', 'DATE', 'GPE', 'PERSON', 'GPE', 'CARDINAL', 'NORP', 'ORG', 'ORG', 'ORG', 'ORG', 'GPE', 'FAC', 'FAC', 'ORG', 'CARDINAL', 'GPE', 'FAC', 'GPE', 'DATE', 'CARDINAL', 'CARDINAL', 'GPE', 'GPE', 'ORDINAL', 'GPE', 'CARDINAL', 'GPE', 'GPE', 'ORG', 'DATE', 'ORG', 'ORG', 'ORDINAL', 'NORP', 'GPE', 'ORG', 'GPE', 'PERCENT', 'PERCENT', 'GPE', 'DATE', 'DATE', 'GPE', 'ORDINAL', 'DATE', 'ORG', 'GPE', 'DATE', 'ORG', 'DATE', 'MONEY', 'GPE', 'GPE', 'NORP', 'DATE', 'ORG', 'DATE', 'DATE', 'GPE', 'CARDINAL', 'CARDINAL', 'LOC', 'GPE', 'PERSON', 'DATE', 'GPE', 'NORP', 'DATE', 'DATE', 'NORP', 'PERSON', 'DATE', 'PERSON', 'DATE', 'DATE', 'GPE', 'GPE', 'GPE', 'DATE', 'GPE', 'ORDINAL', 'LOC', 'ORG', 'PERCENT', 'CARDINAL', 'PERCENT', 'PERCENT', 'ORG', 'ORG', 'ORG', 'DATE', 'ORG', 'GPE', 'ORG', 'ORG', 'ORG', 'ORG', 'ORG', 'ORG', 'ORG', 'ORG', 'ORG', 'ORG', 'ORG', 'ORG', 'ORG', 'PERSON', 'NORP', 'PERSON', 'GPE', 'NORP', 'ORG', 'PERSON', 'ORG', 'PERSON', 'QUANTITY', 'QUANTITY', 'QUANTITY', 'QUANTITY', 'TIME', 'ORG', 'ORG', 'DATE', 'GPE', 'DATE', 'PERSON', 'PERSON', 'ORG', 'PERSON', 'GPE', 'DATE', 'ORG', 'ORG', 'ORG', 'PERSON', 'MONEY', 'PERSON', 'DATE', 'GPE', 'EVENT', 'GPE', 'PERSON', 'DATE', 'GPE', 'DATE', 'CARDINAL', 'CARDINAL', 'LOC', 'PERSON', 'NORP', 'CARDINAL', 'CARDINAL', 'GPE', 'DATE', 'GPE', 'DATE', 'GPE', 'GPE', 'DATE', 'CARDINAL', 'ORG', 'DATE', 'GPE', 'PERSON', 'DATE', 'TIME', 'DATE', 'ORG', 'DATE', 'PERSON', 'DATE', 'CARDINAL', 'DATE', 'GPE', 'DATE', 'FAC', 'ORG', 'CARDINAL', 'DATE', 'GPE', 'ORG', 'CARDINAL', 'DATE', 'TIME', 'CARDINAL', 'DATE', 'PERSON', 'GPE', 'ORG', 'PERSON', 'ORG', 'DATE', 'ORG', 'ORG', 'ORG', 'PERSON', 'GPE', 'NORP', 'NORP', 'PERSON', 'ORG', 'PERSON', 'NORP', 'PERSON', 'GPE', 'DATE', 'PERSON', 'NORP', 'ORG', 'CARDINAL', 'DATE', 'NORP', 'NORP', 'ORG', 'NORP', 'NORP', 'GPE', 'GPE', 'DATE', 'PERSON', 'NORP', 'GPE', 'NORP', 'GPE', 'PERSON', 'GPE', 'GPE', 'GPE', 'NORP', 'GPE', 'DATE', 'GPE', 'GPE', 'GPE', 'ORG', 'PERSON', 'NORP', 'PERSON', 'DATE', 'ORG', 'ORG', 'PERSON', 'GPE', 'GPE', 'NORP', 'GPE', 'NORP', 'GPE', 'DATE', 'NORP', 'PERSON', 'PERSON', 'DATE', 'DATE', 'GPE', 'DATE', 'CARDINAL', 'ORG', 'NORP', 'DATE', 'PERSON', 'ORG', 'CARDINAL', 'PERSON', 'DATE', 'ORG', 'DATE', 'CARDINAL', 'CARDINAL', 'NORP', 'DATE', 'NORP', 'CARDINAL', 'DATE', 'PERSON', 'PERSON', 'ORDINAL', 'PERCENT', 'PERCENT', 'CARDINAL', 'NORP', 'GPE', 'GPE', 'ORG', 'PERSON', 'ORDINAL', 'DATE', 'DATE', 'GPE', 'ORG', 'PERSON', 'TIME', 'DATE', 'ORG', 'PERSON', 'ORG', 'DATE', 'PERSON', 'TIME', 'DATE', 'PERSON', 'GPE', 'NORP', 'NORP', 'GPE', 'DATE', 'NORP', 'PERSON', 'GPE', 'GPE', 'PERSON', 'DATE', 'CARDINAL', 'LOC', 'DATE', 'NORP', 'NORP', 'GPE', 'CARDINAL', 'CARDINAL', 'NORP', 'GPE', 'CARDINAL', 'NORP', 'GPE', 'LOC', 'GPE', 'NORP', 'PERSON', 'GPE', 'DATE', 'GPE', 'NORP', 'ORG', 'CARDINAL', 'CARDINAL', 'PERSON', 'NORP', 'ORG', 'ORG', 'PERSON', 'GPE', 'GPE', 'ORG', 'ORG', 'ORG', 'PERSON', 'GPE', 'ORG', 'PERSON', 'PERSON', 'GPE', 'ORG', 'DATE', 'PERSON', 'MONEY', 'GPE', 'ORG', 'GPE', 'PERCENT', 'MONEY', 'GPE', 'NORP', 'PERSON', 'GPE', 'DATE', 'ORG', 'DATE', 'DATE', 'PERCENT', 'DATE', 'MONEY', 'PERCENT', 'DATE', 'MONEY', 'GPE', 'DATE', 'DATE', 'DATE', 'CARDINAL', 'GPE', 'NORP', 'DATE', 'GPE', 'NORP', 'GPE', 'NORP', 'GPE', 'DATE', 'DATE', 'DATE', 'NORP', 'DATE', 'DATE', 'PERSON', 'NORP', 'DATE', 'ORG', 'NORP', 'CARDINAL', 'GPE', 'PERSON', 'ORG', 'NORP', 'WORK_OF_ART', 'NORP', 'PERSON', 'NORP', 'GPE', 'GPE', 'GPE', 'GPE', 'ORG', 'DATE', 'PERSON', 'PERSON', 'PERSON', 'DATE', 'GPE', 'DATE', 'ORG', 'GPE', 'DATE', 'GPE', 'GPE', 'LANGUAGE', 'NORP', 'GPE', 'ORG', 'PERSON', 'NORP', 'NORP', 'ORG', 'GPE', 'GPE', 'GPE', 'GPE', 'GPE', 'NORP', 'ORG', 'NORP', 'DATE', 'GPE', 'ORG', 'GPE', 'GPE', 'NORP', 'GPE', 'GPE', 'GPE', 'GPE', 'LOC', 'GPE', 'CARDINAL', 'LOC', 'DATE', 'ORDINAL', 'DATE', 'NORP', 'GPE', 'LOC', 'CARDINAL', 'DATE', 'DATE', 'ORG', 'PERSON', 'DATE', 'GPE', 'GPE', 'CARDINAL', 'NORP', 'NORP', 'GPE', 'CARDINAL', 'DATE', 'GPE', 'CARDINAL', 'CARDINAL', 'NORP', 'GPE', 'TIME', 'CARDINAL', 'CARDINAL', 'CARDINAL', 'CARDINAL', 'DATE', 'GPE', 'GPE', 'DATE', 'CARDINAL', 'CARDINAL', 'NORP', 'NORP', 'NORP', 'GPE', 'ORG', 'NORP', 'GPE', 'GPE', 'CARDINAL', 'NORP', 'CARDINAL', 'GPE', 'NORP', 'DATE', 'LOC', 'DATE', 'CARDINAL', 'CARDINAL', 'GPE', 'GPE', 'NORP', 'GPE', 'CARDINAL', 'ORG', 'GPE', 'DATE', 'EVENT', 'GPE', 'GPE', 'ORG', 'NORP', 'LOC', 'GPE', 'GPE', 'CARDINAL', 'NORP', 'ORG', 'DATE', 'GPE', 'CARDINAL', 'DATE', 'NORP', 'GPE', 'NORP', 'GPE', 'LOC', 'GPE', 'GPE', 'CARDINAL', 'DATE', 'NORP', 'PERSON', 'GPE', 'ORG', 'NORP', 'GPE', 'GPE', 'NORP', 'DATE', 'ORG', 'PERSON', 'ORG', 'PERSON', 'NORP', 'PERSON', 'DATE', 'NORP', 'GPE', 'PERSON', 'ORG', 'NORP', 'CARDINAL', 'NORP', 'TIME', 'GPE', 'GPE', 'NORP', 'GPE', 'CARDINAL', 'NORP', 'CARDINAL', 'NORP', 'CARDINAL', 'GPE', 'CARDINAL', 'GPE', 'NORP', 'PERSON', 'DATE', 'GPE', 'GPE', 'NORP', 'TIME', 'FAC', 'NORP', 'CARDINAL', 'GPE', 'LOC', 'DATE', 'GPE', 'CARDINAL', 'GPE', 'CARDINAL', 'GPE', 'CARDINAL', 'GPE', 'CARDINAL', 'ORG', 'PERSON', 'GPE', 'NORP', 'NORP', 'ORG', 'DATE', 'PERSON', 'DATE', 'DATE', 'NORP', 'DATE', 'GPE', 'ORG', 'PERSON', 'DATE', 'GPE', 'PERSON', 'GPE', 'GPE', 'GPE', 'GPE', 'NORP', 'DATE', 'CARDINAL', 'DATE', 'NORP', 'NORP', 'CARDINAL', 'GPE', 'NORP', 'NORP', 'PERSON', 'DATE', 'PERSON', 'CARDINAL', 'GPE', 'CARDINAL', 'DATE', 'GPE', 'DATE', 'ORG', 'PERCENT', 'GPE', 'GPE', 'DATE', 'DATE', 'ORG', 'CARDINAL', 'DATE', 'GPE', 'GPE', 'NORP', 'DATE', 'GPE', 'GPE', 'PERSON', 'NORP', 'PERSON', 'GPE', 'GPE', 'ORG', 'LOC', 'NORP', 'PERSON', 'GPE', 'GPE', 'PERSON', 'DATE', 'NORP', 'DATE', 'GPE', 'DATE', 'NORP', 'ORG', 'CARDINAL', 'GPE', 'DATE', 'GPE', 'GPE', 'DATE', 'GPE', 'GPE', 'CARDINAL', 'GPE', 'DATE', 'ORG', 'GPE', 'ORG', 'GPE', 'ORG', 'NORP', 'NORP', 'NORP', 'CARDINAL', 'GPE', 'CARDINAL', 'NORP', 'ORG', 'GPE', 'DATE', 'NORP', 'NORP', 'PERSON', 'GPE', 'PERSON', 'GPE', 'PERSON', 'NORP', 'CARDINAL', 'GPE', 'ORG', 'ORG', 'NORP', 'GPE', 'PERSON', 'NORP', 'NORP', 'GPE', 'DATE', 'CARDINAL', 'CARDINAL', 'CARDINAL', 'ORG', 'ORG', 'PERSON', 'GPE', 'CARDINAL', 'NORP', 'NORP', 'NORP', 'GPE', 'GPE', 'NORP', 'CARDINAL', 'CARDINAL', 'DATE', 'GPE', 'GPE', 'CARDINAL', 'NORP', 'NORP', 'GPE', 'DATE', 'NORP', 'CARDINAL', 'DATE', 'GPE', 'CARDINAL', 'GPE', 'WORK_OF_ART', 'DATE', 'GPE', 'GPE', 'DATE', 'ORG', 'ORG', 'DATE', 'PERSON', 'ORG', 'PERSON', 'LAW', 'GPE', 'FAC', 'GPE', 'GPE', 'ORDINAL', 'GPE', 'GPE', 'PERSON', 'LOC', 'GPE', 'EVENT', 'DATE', 'PERSON', 'DATE', 'PERSON', 'GPE', 'ORDINAL', 'PERSON', 'PERSON', 'GPE', 'PERSON', 'GPE', 'PERSON', 'GPE', 'ORDINAL', 'PERSON', 'GPE', 'PERSON', 'GPE', 'CARDINAL', 'GPE', 'PERSON', 'PERSON', 'GPE', 'GPE', 'PERSON', 'GPE', 'GPE', 'PERSON', 'PERSON', 'GPE', 'NORP', 'PERSON', 'ORG', 'GPE', 'GPE', 'ORG', 'PERSON', 'WORK_OF_ART', 'LOC', 'ORG', 'PERSON', 'DATE', 'GPE', 'ORDINAL', 'NORP', 'TIME', 'TIME', 'TIME', 'NORP', 'NORP', 'ORG', 'CARDINAL', 'NORP', 'CARDINAL', 'NORP', 'ORG', 'GPE', 'PERSON', 'ORG', 'EVENT', 'DATE', 'EVENT', 'EVENT', 'PERSON', 'NORP', 'ORG', 'GPE', 'DATE', 'NORP', 'ORG', 'PERSON', 'GPE', 'PERSON', 'ORG', 'DATE', 'GPE', 'ORG', 'CARDINAL', 'TIME', 'GPE', 'GPE', 'DATE', 'GPE', 'NORP', 'NORP', 'NORP', 'DATE', 'NORP', 'NORP', 'NORP', 'GPE', 'DATE', 'FAC', 'DATE', 'PERSON', 'DATE', 'DATE', 'CARDINAL', 'CARDINAL', 'CARDINAL', 'FAC', 'DATE', 'ORG', 'PERSON', 'GPE', 'GPE', 'PERSON', 'DATE', 'PERSON', 'ORG', 'DATE', 'PERSON', 'GPE', 'LOC', 'ORDINAL', 'DATE', 'LOC', 'LOC', 'PERSON', 'GPE', 'PERSON', 'DATE', 'PERSON', 'DATE', 'GPE', 'ORG', 'PERSON', 'DATE', 'PERSON', 'GPE', 'PERSON', 'PERSON', 'ORG', 'GPE', 'ORG', 'CARDINAL', 'DATE', 'DATE', 'DATE', 'NORP', 'CARDINAL', 'DATE', 'GPE', 'QUANTITY', 'ORG', 'CARDINAL', 'CARDINAL', 'DATE', 'NORP', 'GPE', 'PERSON', 'LOC', 'PERSON', 'DATE', 'GPE', 'GPE', 'PERSON', 'GPE', 'CARDINAL', 'GPE', 'PERSON', 'NORP', 'GPE', 'GPE', 'GPE', 'GPE', 'ORG', 'GPE', 'NORP', 'GPE', 'ORG', 'GPE', 'NORP', 'GPE', 'GPE', 'DATE', 'DATE', 'ORG', 'GPE', 'EVENT', 'GPE', 'DATE', 'CARDINAL', 'LOC', 'GPE', 'GPE', 'NORP', 'PERSON', 'GPE', 'DATE', 'NORP', 'GPE', 'ORG', 'NORP', 'GPE', 'DATE', 'CARDINAL', 'NORP', 'NORP', 'NORP', 'GPE', 'GPE', 'NORP', 'DATE', 'NORP', 'GPE', 'DATE', 'TIME', 'NORP', 'GPE', 'ORG', 'DATE', 'ORG', 'NORP', 'PERSON', 'CARDINAL', 'CARDINAL', 'ORG', 'CARDINAL', 'GPE', 'GPE', 'DATE', 'GPE', 'DATE', 'CARDINAL', 'DATE', 'NORP', 'GPE', 'NORP', 'NORP', 'GPE', 'CARDINAL', 'NORP', 'CARDINAL', 'DATE', 'NORP', 'NORP', 'NORP', 'NORP', 'NORP', 'PERSON', 'NORP', 'ORG', 'NORP', 'DATE', 'ORG', 'NORP', 'ORG', 'GPE', 'CARDINAL', 'DATE', 'ORG', 'GPE', 'GPE', 'GPE', 'DATE', 'PERSON', 'PERSON', 'NORP', 'GPE', 'CARDINAL', 'NORP', 'DATE', 'NORP', 'CARDINAL', 'DATE', 'ORG', 'LOC', 'GPE', 'PERCENT', 'DATE', 'GPE', 'GPE', 'LOC', 'QUANTITY', 'ORG', 'DATE', 'PERSON', 'DATE', 'CARDINAL', 'DATE', 'DATE', 'TIME', 'DATE', 'NORP', 'CARDINAL', 'DATE', 'CARDINAL', 'GPE', 'GPE', 'CARDINAL', 'CARDINAL', 'NORP', 'ORDINAL', 'GPE', 'CARDINAL', 'GPE', 'CARDINAL', 'NORP', 'GPE', 'PERSON', 'CARDINAL', 'NORP', 'NORP', 'NORP', 'GPE', 'PERSON', 'DATE', 'PERSON', 'PERSON', 'NORP', 'DATE', 'CARDINAL', 'GPE', 'CARDINAL', 'CARDINAL', 'GPE', 'GPE', 'DATE', 'LOC', 'GPE', 'GPE', 'GPE', 'DATE', 'DATE', 'DATE', 'CARDINAL', 'DATE', 'GPE', 'GPE', 'DATE', 'QUANTITY', 'GPE', 'DATE', 'DATE', 'DATE', 'DATE', 'ORG', 'GPE', 'DATE', 'ORDINAL', 'PERSON', 'ORG', 'PERSON', 'PERSON', 'GPE', 'ORG', 'GPE', 'GPE', 'PERSON', 'PERSON', 'DATE', 'DATE', 'NORP', 'DATE', 'DATE', 'NORP', 'NORP', 'GPE', 'GPE', 'ORDINAL', 'DATE', 'DATE', 'PERSON', 'ORG', 'GPE', 'ORG', 'GPE', 'CARDINAL', 'LOC', 'NORP', 'PERSON', 'NORP', 'PERSON', 'GPE', 'DATE', 'CARDINAL', 'PERSON', 'ORG', 'GPE', 'DATE', 'CARDINAL', 'NORP', 'PERSON', 'NORP', 'GPE', 'NORP', 'CARDINAL', 'NORP', 'GPE', 'NORP', 'PERSON', 'ORG', 'ORG', 'PERSON', 'CARDINAL', 'GPE', 'CARDINAL', 'NORP', 'CARDINAL', 'GPE', 'GPE', 'ORG', 'DATE', 'NORP', 'PERSON', 'GPE', 'NORP', 'PERSON', 'CARDINAL', 'DATE', 'ORG', 'PERSON', 'ORG', 'CARDINAL', 'GPE', 'DATE', 'CARDINAL', 'GPE', 'NORP', 'ORG', 'NORP', 'ORG', 'DATE', 'ORG', 'NORP', 'CARDINAL', 'DATE', 'NORP', 'NORP', 'LOC', 'CARDINAL', 'GPE', 'CARDINAL', 'NORP', 'PERSON', 'ORG', 'GPE', 'CARDINAL', 'NORP', 'DATE', 'GPE', 'DATE', 'NORP', 'NORP', 'GPE', 'ORG', 'NORP', 'NORP', 'CARDINAL', 'GPE', 'DATE', 'GPE', 'GPE', 'NORP', 'MONEY', 'GPE', 'GPE', 'GPE', 'NORP', 'GPE', 'NORP', 'GPE', 'CARDINAL', 'GPE', 'NORP', 'NORP', 'TIME', 'LOC', 'GPE', 'FAC', 'GPE', 'CARDINAL', 'DATE', 'ORG', 'PERSON', 'DATE', 'GPE', 'NORP', 'NORP', 'CARDINAL', 'FAC', 'ORG', 'CARDINAL', 'DATE', 'ORDINAL', 'GPE', 'GPE', 'DATE', 'DATE', 'GPE', 'NORP', 'GPE', 'CARDINAL', 'ORG', 'CARDINAL', 'DATE', 'PERSON', 'ORG', 'ORG', 'DATE', 'DATE', 'GPE', 'GPE', 'NORP', 'CARDINAL', 'DATE', 'GPE', 'PERSON', 'PERSON', 'DATE', 'DATE', 'GPE', 'DATE', 'GPE', 'GPE', 'CARDINAL', 'NORP', 'ORG', 'CARDINAL', 'DATE', 'DATE', 'CARDINAL', 'NORP', 'DATE', 'PERSON', 'PERSON', 'NORP', 'ORDINAL', 'DATE', 'GPE', 'PERSON', 'GPE', 'DATE', 'CARDINAL', 'NORP', 'GPE', 'DATE', 'DATE', 'CARDINAL', 'CARDINAL', 'NORP', 'DATE', 'DATE', 'GPE', 'NORP', 'PERSON', 'PERSON', 'GPE', 'CARDINAL', 'PERSON', 'PERSON', 'NORP', 'PERSON', 'PERSON', 'NORP', 'NORP', 'DATE', 'NORP', 'PERSON', 'CARDINAL', 'FAC', 'ORG', 'ORG', 'ORG', 'ORG', 'ORG', 'ORG', 'PERSON', 'NORP', 'ORG', 'NORP', 'GPE', 'NORP', 'ORG', 'NORP', 'PERSON', 'DATE', 'DATE', 'ORG', 'GPE', 'ORG', 'GPE', 'GPE', 'MONEY', 'NORP', 'NORP', 'LOC', 'GPE', 'ORG', 'GPE', 'ORG', 'ORG', 'GPE', 'GPE', 'CARDINAL', 'DATE', 'ORG', 'DATE', 'ORG', 'ORDINAL', 'ORG', 'NORP', 'DATE', 'CARDINAL', 'ORG', 'NORP', 'GPE', 'NORP', 'GPE', 'GPE', 'DATE', 'CARDINAL', 'NORP', 'NORP', 'ORG', 'DATE', 'GPE', 'GPE', 'GPE', 'ORDINAL', 'DATE', 'CARDINAL', 'DATE', 'NORP', 'GPE', 'PERSON', 'DATE', 'TIME', 'CARDINAL', 'ORG', 'PERSON', 'PERSON', 'NORP', 'PERSON', 'GPE', 'DATE', 'ORG', 'DATE', 'CARDINAL', 'DATE', 'ORG', 'PERSON', 'PERSON', 'GPE', 'GPE', 'GPE', 'GPE', 'GPE', 'NORP', 'PERSON', 'NORP', 'PERSON', 'PERSON', 'LOC', 'ORG', 'DATE', 'GPE', 'CARDINAL', 'GPE', 'CARDINAL', 'CARDINAL', 'GPE', 'GPE', 'NORP', 'CARDINAL', 'DATE', 'NORP', 'NORP', 'PERSON', 'DATE', 'DATE', 'GPE', 'PERSON', 'GPE', 'NORP', 'DATE', 'GPE', 'NORP', 'GPE', 'ORG', 'DATE', 'CARDINAL', 'NORP', 'DATE', 'ORG', 'NORP', 'PERSON', 'GPE', 'LOC', 'CARDINAL', 'DATE', 'ORG', 'ORG', 'DATE', 'GPE', 'GPE', 'MONEY', 'GPE', 'ORG', 'DATE', 'CARDINAL', 'DATE', 'CARDINAL', 'ORG', 'CARDINAL', 'GPE', 'NORP', 'PERSON', 'DATE', 'ORG', 'PERSON', 'PERSON', 'GPE', 'PERSON', 'GPE', 'DATE', 'DATE', 'PERSON', 'ORG', 'DATE', 'PERSON', 'PERSON', 'GPE', 'NORP', 'GPE', 'PERSON', 'GPE', 'NORP', 'LOC', 'GPE', 'ORG', 'ORG', 'GPE', 'NORP', 'GPE', 'PERSON', 'GPE', 'GPE', 'ORG', 'GPE', 'GPE', 'DATE', 'ORG', 'GPE', 'GPE', 'CARDINAL', 'DATE', 'ORG', 'DATE', 'PERSON', 'CARDINAL', 'GPE', 'GPE', 'DATE', 'PERSON', 'ORG', 'GPE', 'ORG', 'PERCENT', 'DATE', 'PERCENT', 'DATE', 'DATE', 'GPE', 'GPE', 'ORG', 'CARDINAL', 'ORG', 'MONEY', 'DATE', 'CARDINAL', 'ORG', 'PRODUCT', 'CARDINAL', 'ORG', 'PRODUCT', 'GPE', 'LOC', 'NORP', 'DATE', 'GPE', 'ORG', 'CARDINAL', 'ORG', 'MONEY', 'DATE', 'NORP', 'NORP', 'DATE', 'GPE', 'CARDINAL', 'ORG', 'PRODUCT', 'MONEY', 'GPE', 'CARDINAL', 'DATE', 'NORP', 'GPE', 'GPE', 'CARDINAL', 'GPE', 'ORDINAL', 'DATE', 'NORP', 'CARDINAL', 'GPE', 'DATE', 'CARDINAL', 'NORP', 'GPE', 'GPE', 'PERSON', 'ORG', 'DATE', 'CARDINAL', 'PERSON', 'CARDINAL', 'GPE', 'GPE', 'GPE', 'GPE', 'GPE', 'GPE', 'ORG', 'DATE', 'NORP', 'GPE', 'ORG', 'GPE', 'PERSON', 'PERSON', 'WORK_OF_ART', 'GPE', 'MONEY', 'FAC', 'GPE', 'DATE', 'PERSON', 'ORG', 'PERSON', 'DATE', 'DATE', 'GPE', 'NORP', 'ORG', 'CARDINAL', 'DATE', 'NORP', 'PERSON', 'GPE', 'DATE', 'DATE', 'EVENT', 'CARDINAL', 'DATE', 'ORDINAL', 'CARDINAL', 'PERSON', 'CARDINAL', 'CARDINAL', 'NORP', 'NORP', 'GPE', 'DATE', 'NORP', 'PERSON', 'GPE', 'GPE', 'PERSON', 'PERSON', 'DATE', 'ORG', 'NORP', 'GPE', 'PERSON', 'DATE', 'GPE', 'GPE', 'PERSON', 'GPE', 'PERSON', 'DATE', 'ORG', 'CARDINAL', 'DATE', 'DATE', 'NORP', 'GPE', 'DATE', 'PERSON', 'NORP', 'DATE', 'PERSON', 'DATE', 'PERSON', 'CARDINAL', 'GPE', 'GPE', 'GPE', 'DATE', 'LOC', 'PERCENT', 'GPE', 'PERSON', 'PERSON', 'NORP', 'NORP', 'GPE', 'DATE', 'ORG', 'CARDINAL', 'ORG', 'GPE', 'EVENT', 'DATE', 'ORG', 'GPE', 'GPE', 'GPE', 'DATE', 'GPE', 'CARDINAL', 'DATE', 'CARDINAL', 'DATE', 'DATE', 'GPE', 'LOC', 'GPE', 'NORP', 'CARDINAL', 'GPE', 'CARDINAL', 'DATE', 'GPE', 'NORP', 'NORP', 'NORP', 'ORG', 'GPE', 'NORP', 'PERSON', 'ORG', 'ORG', 'ORG', 'ORG', 'NORP', 'ORG', 'GPE', 'NORP', 'PERSON', 'DATE', 'NORP', 'PERSON', 'ORG', 'ORG', 'DATE', 'ORG', 'PERSON', 'PERSON', 'PERSON', 'PERSON', 'DATE', 'GPE', 'ORG', 'GPE', 'GPE', 'ORG', 'ORG', 'DATE', 'ORG', 'GPE', 'NORP', 'DATE', 'ORG', 'NORP', 'GPE', 'NORP', 'ORG', 'DATE', 'CARDINAL', 'ORG', 'DATE', 'ORG', 'GPE', 'CARDINAL', 'ORG', 'CARDINAL', 'DATE', 'NORP', 'GPE', 'ORG', 'DATE', 'GPE', 'GPE', 'NORP', 'NORP', 'ORG', 'ORG', 'GPE', 'MONEY', 'MONEY', 'DATE', 'GPE', 'DATE', 'GPE', 'CARDINAL', 'LOC', 'DATE', 'GPE', 'CARDINAL', 'NORP', 'DATE', 'GPE', 'GPE', 'NORP', 'CARDINAL', 'CARDINAL', 'ORG', 'ORG', 'ORG', 'GPE', 'GPE', 'ORG', 'ORG', 'ORG', 'ORG', 'ORG', 'DATE', 'DATE', 'GPE', 'GPE', 'PERSON', 'DATE', 'DATE', 'NORP', 'DATE', 'GPE', 'DATE', 'ORG', 'DATE', 'GPE', 'CARDINAL', 'NORP', 'GPE', 'DATE', 'GPE', 'DATE', 'GPE', 'DATE', 'CARDINAL', 'DATE', 'GPE', 'GPE', 'PERSON', 'ORDINAL', 'PERSON', 'GPE', 'PERCENT', 'PERCENT', 'DATE', 'PERSON', 'PERCENT', 'PERCENT', 'DATE', 'GPE', 'GPE', 'ORG', 'DATE', 'DATE', 'DATE', 'PERCENT', 'GPE', 'GPE', 'CARDINAL', 'ORG', 'DATE', 'CARDINAL', 'PERSON', 'DATE', 'GPE', 'NORP', 'GPE', 'DATE', 'DATE', 'NORP', 'GPE', 'DATE', 'NORP', 'GPE', 'DATE', 'DATE', 'GPE', 'DATE', 'DATE', 'GPE', 'GPE', 'DATE', 'GPE', 'LOC', 'GPE', 'NORP', 'DATE', 'DATE', 'GPE', 'CARDINAL', 'NORP', 'CARDINAL', 'NORP', 'DATE', 'FAC', 'ORDINAL', 'DATE', 'EVENT', 'GPE', 'DATE', 'GPE', 'CARDINAL', 'CARDINAL', 'ORG', 'ORG', 'WORK_OF_ART', 'NORP', 'NORP', 'ORG', 'GPE', 'ORG', 'PERSON', 'GPE', 'DATE', 'ORG', 'NORP', 'DATE', 'NORP', 'PERSON', 'GPE', 'PERSON', 'PERSON', 'GPE', 'DATE', 'GPE', 'PERSON', 'NORP', 'PERSON', 'NORP', 'NORP', 'NORP', 'GPE', 'CARDINAL', 'NORP', 'NORP', 'NORP', 'DATE', 'GPE', 'NORP', 'DATE', 'CARDINAL', 'GPE', 'GPE', 'NORP', 'DATE', 'GPE', 'NORP', 'PERSON', 'NORP', 'NORP', 'DATE', 'PERSON', 'DATE', 'NORP', 'DATE', 'CARDINAL', 'GPE', 'ORG', 'GPE', 'DATE', 'CARDINAL', 'GPE', 'CARDINAL', 'GPE', 'GPE', 'PERSON', 'PERSON', 'PERSON', 'LOC', 'NORP', 'NORP', 'ORG', 'GPE', 'PERSON', 'MONEY', 'GPE', 'DATE', 'DATE', 'ORG', 'ORG', 'GPE', 'CARDINAL', 'GPE', 'GPE', 'ORG', 'MONEY', 'ORG', 'GPE', 'DATE', 'MONEY', 'PERSON', 'GPE', 'CARDINAL', 'GPE', 'ORG', 'DATE', 'EVENT', 'ORG', 'DATE', 'GPE', 'GPE', 'GPE', 'DATE', 'DATE', 'NORP', 'GPE', 'GPE', 'DATE', 'EVENT', 'GPE', 'GPE', 'ORDINAL', 'EVENT', 'DATE', 'PERSON', 'ORG', 'GPE', 'CARDINAL', 'DATE', 'GPE', 'GPE', 'GPE', 'ORDINAL', 'DATE', 'ORG', 'GPE', 'PERSON', 'DATE', 'CARDINAL', 'NORP', 'LOC', 'DATE', 'GPE', 'QUANTITY', 'GPE', 'GPE', 'PERSON', 'PERSON', 'CARDINAL', 'NORP', 'GPE', 'LOC', 'GPE', 'ORG', 'DATE', 'CARDINAL', 'DATE', 'LOC', 'QUANTITY', 'DATE', 'PERSON', 'LOC', 'ORDINAL', 'NORP', 'GPE', 'LOC', 'ORG', 'ORG', 'ORG', 'DATE', 'DATE', 'GPE', 'GPE', 'PERSON', 'TIME', 'ORG', 'ORG', 'PERSON', 'CARDINAL', 'GPE', 'CARDINAL', 'ORG', 'GPE', 'DATE', 'GPE', 'DATE', 'GPE', 'NORP', 'PERSON', 'DATE', 'NORP', 'CARDINAL', 'NORP', 'PERSON', 'NORP', 'PERSON', 'PERSON', 'PERSON', 'NORP', 'ORG', 'NORP', 'TIME', 'GPE', 'ORG', 'NORP', 'ORDINAL', 'CARDINAL', 'ORG', 'PERSON', 'GPE', 'GPE', 'PERSON', 'GPE', 'LOC', 'DATE', 'PERSON', 'PERSON', 'NORP', 'ORG', 'DATE', 'CARDINAL', 'ORG', 'DATE', 'GPE', 'CARDINAL', 'NORP', 'NORP', 'EVENT', 'NORP', 'NORP', 'LOC', 'DATE', 'GPE', 'GPE', 'PERSON', 'EVENT', 'NORP', 'CARDINAL', 'GPE', 'PERSON', 'CARDINAL', 'NORP', 'ORDINAL', 'DATE', 'NORP', 'EVENT', 'DATE', 'NORP', 'GPE', 'GPE', 'ORG', 'GPE', 'DATE', 'DATE', 'PERSON', 'GPE', 'GPE', 'ORG', 'CARDINAL', 'NORP', 'CARDINAL', 'GPE', 'NORP', 'GPE', 'GPE', 'ORG', 'DATE', 'CARDINAL', 'CARDINAL', 'DATE', 'GPE', 'DATE', 'PERSON', 'GPE', 'DATE', 'DATE', 'PERSON', 'PERSON', 'EVENT', 'DATE', 'CARDINAL', 'GPE', 'CARDINAL', 'DATE', 'CARDINAL', 'GPE', 'NORP', 'PERSON', 'ORG', 'LOC', 'LOC', 'GPE', 'DATE', 'CARDINAL', 'NORP', 'QUANTITY', 'GPE', 'CARDINAL', 'ORG', 'CARDINAL', 'LOC', 'ORG', 'LOC', 'DATE', 'PERSON', 'DATE', 'LOC', 'DATE', 'QUANTITY', 'LOC', 'QUANTITY', 'NORP', 'ORG', 'DATE', 'PERSON', 'ORG', 'ORG', 'GPE', 'NORP', 'GPE', 'LOC', 'DATE', 'GPE', 'LOC', 'EVENT', 'PERSON', 'GPE', 'CARDINAL', 'DATE', 'GPE', 'DATE', 'PERSON', 'ORDINAL', 'DATE', 'NORP', 'TIME', 'PERSON', 'GPE', 'CARDINAL', 'DATE', 'GPE', 'GPE', 'CARDINAL', 'PERSON', 'ORG', 'GPE', 'ORG', 'NORP', 'GPE', 'NORP', 'PERSON', 'NORP', 'GPE', 'ORG', 'GPE', 'NORP', 'ORG', 'CARDINAL', 'CARDINAL', 'GPE', 'CARDINAL', 'NORP', 'DATE', 'LOC', 'CARDINAL', 'CARDINAL', 'LOC', 'CARDINAL', 'DATE', 'QUANTITY', 'GPE', 'DATE', 'LOC', 'NORP', 'LOC', 'GPE', 'DATE', 'LOC', 'GPE', 'PERSON', 'DATE', 'ORG', 'DATE', 'CARDINAL', 'GPE', 'GPE', 'GPE', 'GPE', 'DATE', 'GPE', 'NORP', 'PERSON', 'GPE', 'GPE', 'GPE', 'GPE', 'GPE', 'GPE', 'ORG', 'GPE', 'ORG', 'PERSON', 'DATE', 'PERSON', 'ORG', 'DATE', 'GPE', 'PERSON', 'NORP', 'FAC', 'DATE', 'PERSON', 'PERSON', 'PERSON', 'ORG', 'ORG', 'DATE', 'DATE', 'PERSON', 'PERSON', 'PERSON', 'NORP', 'GPE', 'NORP', 'GPE', 'ORG', 'ORG', 'PERSON', 'LOC', 'DATE', 'ORDINAL', 'ORG', 'CARDINAL', 'CARDINAL', 'GPE', 'ORG', 'ORG', 'GPE', 'DATE', 'NORP', 'CARDINAL', 'NORP', 'ORG', 'NORP', 'PERSON', 'DATE', 'GPE', 'GPE', 'NORP', 'EVENT', 'ORG', 'GPE', 'DATE', 'ORG', 'PERSON', 'DATE', 'GPE', 'MONEY', 'LOC', 'GPE', 'PERSON', 'CARDINAL', 'NORP', 'DATE', 'NORP', 'PERSON', 'GPE', 'MONEY', 'ORG', 'GPE', 'PERSON', 'PERSON', 'PERSON', 'WORK_OF_ART', 'GPE', 'GPE', 'PERSON', 'GPE', 'PERSON', 'DATE', 'ORG', 'PERSON', 'ORG', 'NORP', 'LOC', 'LOC', 'LOC', 'NORP', 'NORP', 'ORG', 'NORP', 'GPE', 'NORP', 'PRODUCT', 'GPE', 'GPE', 'CARDINAL', 'CARDINAL', 'CARDINAL', 'NORP', 'GPE', 'PERSON', 'CARDINAL', 'CARDINAL', 'NORP', 'DATE', 'LOC', 'GPE', 'CARDINAL', 'DATE', 'GPE', 'CARDINAL', 'GPE', 'NORP', 'GPE', 'EVENT', 'CARDINAL', 'DATE', 'GPE', 'DATE', 'LOC', 'GPE', 'DATE', 'NORP', 'GPE', 'GPE', 'ORG', 'NORP', 'DATE', 'GPE', 'DATE', 'CARDINAL', 'NORP', 'GPE', 'GPE', 'DATE', 'DATE', 'NORP', 'GPE', 'DATE', 'GPE', 'MONEY', 'DATE', 'PRODUCT', 'CARDINAL', 'NORP', 'NORP', 'DATE', 'MONEY', 'MONEY', 'DATE', 'ORG', 'DATE', 'PERSON', 'PERSON', 'CARDINAL', 'NORP', 'NORP', 'ORG', 'PERSON', 'NORP', 'ORG', 'PERSON', 'ORG', 'PERSON', 'GPE', 'CARDINAL', 'NORP', 'PERSON', 'DATE', 'DATE', 'PERSON', 'NORP', 'LOC', 'GPE', 'GPE', 'GPE', 'NORP', 'NORP', 'PERSON', 'DATE', 'GPE', 'PERSON', 'PERSON', 'GPE', 'GPE', 'GPE', 'ORG', 'DATE', 'NORP', 'PERSON', 'GPE', 'CARDINAL', 'PERSON', 'DATE', 'LOC', 'NORP', 'GPE', 'GPE', 'LOC', 'GPE', 'GPE', 'DATE', 'GPE', 'GPE', 'GPE', 'GPE', 'LOC', 'EVENT', 'GPE', 'GPE', 'CARDINAL', 'DATE', 'NORP', 'ORG', 'GPE', 'GPE', 'NORP', 'GPE', 'GPE', 'CARDINAL', 'NORP', 'GPE', 'LOC', 'DATE', 'DATE', 'NORP', 'GPE', 'NORP', 'GPE', 'NORP', 'PERSON', 'CARDINAL', 'NORP', 'CARDINAL', 'GPE', 'DATE', 'CARDINAL', 'DATE', 'ORG', 'GPE', 'ORG', 'DATE', 'NORP', 'NORP', 'ORG', 'GPE', 'PERSON', 'PERSON', 'GPE', 'NORP', 'ORG', 'ORG', 'DATE', 'GPE', 'ORG', 'ORG', 'GPE', 'ORG', 'NORP', 'DATE', 'GPE', 'GPE', 'GPE', 'GPE', 'GPE', 'GPE', 'GPE', 'GPE', 'GPE', 'ORG', 'NORP', 'ORG', 'PERCENT', 'DATE', 'CARDINAL', 'GPE', 'GPE', 'GPE', 'DATE', 'DATE', 'GPE', 'PERSON', 'CARDINAL', 'ORG', 'ORG', 'ORG', 'ORG', 'PRODUCT', 'ORG', 'PERSON', 'GPE', 'GPE', 'GPE', 'DATE', 'NORP', 'LOC', 'NORP', 'CARDINAL', 'DATE', 'NORP', 'PERSON', 'ORG', 'DATE', 'NORP', 'PERSON', 'DATE', 'ORG', 'PERSON', 'PERSON', 'PERSON', 'PERSON', 'GPE', 'PERSON', 'PERSON', 'DATE', 'PERSON', 'GPE', 'DATE', 'NORP', 'CARDINAL', 'CARDINAL', 'CARDINAL', 'NORP', 'NORP', 'GPE', 'DATE', 'PERSON', 'GPE', 'ORG', 'CARDINAL', 'PERSON', 'CARDINAL', 'CARDINAL', 'DATE', 'CARDINAL', 'CARDINAL', 'GPE', 'PERSON', 'CARDINAL', 'CARDINAL', 'DATE', 'CARDINAL', 'GPE', 'GPE', 'GPE', 'NORP', 'GPE', 'GPE', 'NORP', 'ORG', 'PERSON', 'GPE', 'PERSON', 'GPE', 'ORG', 'GPE', 'PERSON', 'GPE', 'GPE', 'GPE', 'CARDINAL', 'GPE', 'NORP', 'GPE', 'NORP', 'DATE', 'PERSON', 'NORP', 'NORP', 'DATE', 'NORP', 'GPE', 'GPE', 'CARDINAL', 'GPE', 'GPE', 'DATE', 'CARDINAL', 'DATE', 'GPE', 'ORG', 'NORP', 'GPE', 'CARDINAL', 'NORP', 'GPE', 'GPE', 'DATE', 'GPE', 'DATE', 'NORP', 'PERSON', 'PERSON', 'ORG', 'ORG', 'CARDINAL', 'DATE', 'GPE', 'GPE', 'ORG', 'ORG', 'NORP', 'GPE', 'ORG', 'ORG', 'PERSON', 'ORG', 'ORG', 'NORP', 'NORP', 'PERSON', 'ORG', 'ORG', 'PERSON', 'GPE', 'PERSON', 'DATE', 'PERSON', 'GPE', 'NORP', 'DATE', 'GPE', 'DATE', 'LOC', 'GPE', 'GPE', 'GPE', 'GPE', 'ORG', 'PERSON', 'NORP', 'GPE', 'DATE', 'DATE', 'PERSON', 'PERSON', 'GPE', 'CARDINAL', 'NORP', 'GPE', 'PERSON', 'GPE', 'NORP', 'ORG', 'GPE', 'ORG', 'GPE', 'GPE', 'NORP', 'ORG', 'GPE', 'PERSON', 'ORG', 'CARDINAL', 'NORP', 'CARDINAL', 'CARDINAL', 'TIME', 'ORG', 'GPE', 'NORP', 'PERSON', 'ORG', 'EVENT', 'GPE', 'CARDINAL', 'DATE', 'ORG', 'PERSON', 'DATE', 'NORP', 'PERSON', 'PERSON', 'CARDINAL', 'DATE', 'ORG', 'PERSON', 'PERSON', 'PERSON', 'DATE', 'ORG', 'DATE', 'GPE', 'CARDINAL', 'ORG', 'GPE', 'DATE', 'CARDINAL', 'FAC', 'FAC', 'DATE', 'PERSON', 'ORG', 'ORG', 'GPE', 'NORP', 'DATE', 'DATE', 'ORG', 'ORG', 'ORG', 'CARDINAL', 'ORG', 'GPE', 'GPE', 'GPE', 'GPE', 'CARDINAL', 'NORP', 'GPE', 'DATE', 'NORP', 'DATE', 'NORP', 'NORP', 'TIME', 'ORG', 'ORG', 'NORP', 'ORG', 'PERSON', 'ORG', 'ORG', 'GPE', 'DATE', 'PERSON', 'CARDINAL', 'GPE', 'GPE', 'GPE', 'ORG', 'ORG', 'NORP', 'GPE', 'DATE', 'CARDINAL', 'ORG', 'ORG', 'GPE', 'DATE', 'GPE', 'CARDINAL', 'DATE', 'PERSON', 'ORG', 'GPE', 'GPE', 'GPE', 'CARDINAL', 'NORP', 'GPE', 'LOC', 'LOC', 'CARDINAL', 'CARDINAL', 'PERSON', 'CARDINAL', 'DATE', 'CARDINAL', 'DATE', 'PERSON', 'CARDINAL', 'GPE', 'CARDINAL', 'GPE', 'DATE', 'GPE', 'ORG', 'ORG', 'CARDINAL', 'GPE', 'ORG', 'CARDINAL', 'CARDINAL', 'DATE', 'DATE', 'NORP', 'CARDINAL', 'PRODUCT', 'GPE', 'CARDINAL', 'ORG', 'DATE', 'DATE', 'ORG', 'PRODUCT', 'DATE', 'CARDINAL', 'ORG', 'GPE', 'DATE', 'ORG', 'DATE', 'GPE', 'NORP', 'PERSON', 'EVENT', 'GPE', 'GPE', 'CARDINAL', 'ORG', 'PERSON', 'PERSON', 'GPE', 'ORG', 'GPE', 'ORG', 'CARDINAL', 'CARDINAL', 'GPE', 'CARDINAL', 'DATE', 'PERSON', 'GPE', 'CARDINAL', 'GPE', 'CARDINAL', 'NORP', 'PERSON', 'DATE', 'CARDINAL', 'DATE', 'PERSON', 'DATE', 'DATE', 'GPE', 'ORG', 'PERSON', 'GPE', 'NORP', 'CARDINAL', 'LOC', 'CARDINAL', 'DATE', 'CARDINAL', 'CARDINAL', 'CARDINAL', 'LOC', 'GPE', 'LOC', 'CARDINAL', 'CARDINAL', 'DATE', 'DATE', 'CARDINAL', 'DATE', 'NORP', 'NORP', 'PERSON', 'GPE', 'NORP', 'DATE', 'PERSON', 'PERSON', 'DATE', 'NORP', 'GPE', 'GPE', 'CARDINAL', 'NORP', 'NORP', 'PERSON', 'DATE', 'GPE', 'DATE', 'DATE', 'GPE', 'DATE', 'GPE', 'DATE', 'ORDINAL', 'CARDINAL', 'ORG', 'ORG', 'PERSON', 'ORG', 'PERSON', 'GPE', 'CARDINAL', 'DATE', 'ORG', 'CARDINAL', 'CARDINAL', 'ORG', 'PERSON', 'DATE', 'GPE', 'GPE', 'ORG', 'PRODUCT', 'GPE', 'ORG', 'CARDINAL', 'DATE', 'PERSON', 'GPE', 'GPE', 'DATE', 'DATE', 'DATE', 'GPE', 'TIME', 'CARDINAL', 'NORP', 'GPE', 'CARDINAL', 'GPE', 'ORG', 'DATE', 'NORP', 'PERSON', 'GPE', 'DATE', 'CARDINAL', 'CARDINAL', 'CARDINAL', 'PRODUCT', 'GPE', 'GPE', 'DATE', 'GPE', 'NORP', 'GPE', 'NORP', 'GPE', 'PERSON', 'GPE', 'PERSON', 'DATE', 'NORP', 'GPE', 'GPE', 'PERSON', 'GPE', 'GPE', 'PERSON', 'NORP', 'GPE', 'NORP', 'GPE', 'NORP', 'PERSON', 'NORP', 'GPE', 'DATE', 'PERSON', 'NORP', 'GPE', 'PERSON', 'GPE', 'PERSON', 'GPE', 'GPE', 'DATE', 'GPE', 'GPE', 'GPE', 'PERSON', 'GPE', 'ORG', 'NORP', 'CARDINAL', 'GPE', 'DATE', 'NORP', 'GPE', 'GPE', 'GPE', 'NORP', 'NORP', 'NORP', 'TIME', 'GPE', 'CARDINAL', 'GPE', 'GPE', 'ORDINAL', 'CARDINAL', 'ORG', 'PERSON', 'GPE', 'GPE', 'GPE', 'NORP', 'NORP', 'NORP', 'GPE', 'GPE', 'GPE', 'DATE', 'GPE', 'NORP', 'NORP', 'NORP', 'DATE', 'NORP', 'NORP', 'GPE', 'GPE', 'GPE', 'GPE', 'GPE', 'ORG', 'NORP', 'CARDINAL', 'CARDINAL', 'DATE', 'CARDINAL', 'GPE', 'GPE', 'GPE', 'CARDINAL', 'CARDINAL', 'ORG', 'DATE', 'GPE', 'GPE', 'GPE', 'CARDINAL', 'GPE', 'NORP', 'LOC', 'DATE', 'CARDINAL', 'DATE', 'GPE', 'NORP', 'DATE', 'GPE', 'GPE', 'NORP', 'GPE', 'CARDINAL', 'NORP', 'GPE', 'ORG', 'DATE', 'NORP', 'GPE', 'ORG', 'GPE', 'DATE', 'ORG', 'ORG', 'GPE', 'DATE', 'GPE', 'CARDINAL', 'NORP', 'GPE', 'NORP', 'GPE', 'DATE', 'PERSON', 'CARDINAL', 'CARDINAL', 'NORP', 'ORG', 'TIME', 'GPE', 'FAC', 'NORP', 'PERSON', 'GPE', 'ORG', 'DATE', 'NORP', 'ORG', 'PERSON', 'NORP', 'ORG', 'GPE', 'PERSON', 'PERSON', 'DATE', 'ORG', 'ORG', 'GPE', 'GPE', 'GPE', 'GPE', 'NORP', 'PERSON', 'CARDINAL', 'GPE', 'NORP', 'GPE', 'PERSON', 'PERSON', 'TIME', 'ORG', 'ORG', 'NORP', 'NORP', 'DATE', 'GPE', 'NORP', 'NORP', 'TIME', 'NORP', 'GPE', 'NORP', 'CARDINAL', 'NORP', 'CARDINAL', 'ORG', 'PERSON', 'LOC', 'GPE', 'GPE', 'GPE', 'GPE', 'NORP', 'PERSON', 'NORP', 'PERSON', 'DATE', 'NORP', 'PERSON', 'GPE', 'NORP', 'PERSON', 'PERSON', 'GPE', 'GPE', 'ORG', 'GPE', 'GPE', 'ORG', 'DATE', 'DATE', 'GPE', 'PERSON', 'GPE', 'ORG', 'LOC', 'GPE', 'GPE', 'ORG', 'DATE', 'LOC', 'DATE', 'GPE', 'GPE', 'PERSON', 'ORDINAL', 'DATE', 'NORP', 'GPE', 'DATE', 'ORDINAL', 'EVENT', 'GPE', 'DATE', 'ORG', 'LOC', 'ORG', 'GPE', 'PERSON', 'QUANTITY', 'LOC', 'QUANTITY', 'DATE', 'NORP', 'GPE', 'NORP', 'ORG', 'NORP', 'PERSON', 'PERSON', 'CARDINAL', 'ORG', 'PERSON', 'ORG', 'GPE', 'PERSON', 'DATE', 'ORG', 'DATE', 'PERSON', 'ORG', 'ORG', 'PERSON', 'PERSON', 'PERSON', 'PERSON', 'NORP', 'MONEY', 'EVENT', 'GPE', 'GPE', 'DATE', 'DATE', 'CARDINAL', 'CARDINAL', 'NORP', 'CARDINAL', 'ORG', 'DATE', 'GPE', 'GPE', 'GPE', 'ORG', 'DATE', 'GPE', 'ORG', 'DATE', 'CARDINAL', 'ORG', 'GPE', 'CARDINAL', 'GPE', 'DATE', 'NORP', 'PERSON', 'NORP', 'GPE', 'NORP', 'PERSON', 'ORG', 'PERSON', 'NORP', 'LOC', 'GPE', 'GPE', 'GPE', 'PERSON', 'NORP', 'EVENT', 'ORG', 'EVENT', 'CARDINAL', 'DATE', 'FAC', 'PERSON', 'MONEY', 'ORG', 'GPE', 'DATE', 'TIME', 'GPE', 'ORG', 'TIME', 'DATE', 'GPE', 'NORP', 'GPE', 'ORG', 'GPE', 'GPE', 'GPE', 'CARDINAL', 'ORG', 'DATE', 'TIME', 'DATE', 'GPE', 'ORDINAL', 'ORG', 'GPE', 'DATE', 'GPE', 'ORDINAL', 'NORP', 'ORG', 'DATE', 'NORP', 'PERSON', 'ORDINAL', 'DATE', 'NORP', 'PERSON', 'GPE', 'DATE', 'DATE', 'DATE', 'ORDINAL', 'PERSON', 'CARDINAL', 'PERCENT', 'GPE', 'GPE', 'EVENT', 'DATE', 'GPE', 'PERSON', 'PERSON', 'ORG', 'NORP', 'GPE', 'GPE', 'GPE', 'DATE', 'NORP', 'NORP', 'NORP', 'GPE', 'GPE', 'DATE', 'DATE', 'ORG', 'CARDINAL', 'GPE', 'GPE', 'GPE', 'GPE', 'NORP', 'DATE', 'GPE', 'NORP', 'GPE', 'GPE', 'PERSON', 'GPE', 'ORG', 'DATE', 'GPE', 'GPE', 'GPE', 'NORP', 'PERSON', 'PERSON', 'DATE', 'PERSON', 'NORP', 'NORP', 'NORP', 'PERSON', 'FAC', 'GPE', 'NORP', 'NORP', 'CARDINAL', 'NORP', 'GPE', 'NORP', 'GPE', 'DATE', 'NORP', 'GPE', 'GPE', 'EVENT', 'DATE', 'FAC', 'GPE', 'GPE', 'ORG', 'PERSON', 'DATE', 'CARDINAL', 'LOC', 'NORP', 'NORP', 'NORP', 'ORG', 'ORG', 'NORP', 'ORG', 'DATE', 'CARDINAL', 'MONEY', 'GPE', 'DATE', 'GPE', 'PERSON', 'DATE', 'ORG', 'ORG', 'GPE', 'ORG', 'DATE', 'WORK_OF_ART', 'DATE', 'GPE', 'GPE', 'WORK_OF_ART', 'DATE', 'ORG', 'PERSON', 'LOC', 'DATE', 'DATE', 'ORG', 'WORK_OF_ART', 'NORP', 'PERSON', 'MONEY', 'DATE', 'PERSON', 'DATE', 'CARDINAL', 'NORP', 'NORP', 'ORDINAL', 'WORK_OF_ART', 'DATE', 'GPE', 'GPE', 'DATE', 'CARDINAL', 'LOC', 'NORP', 'DATE', 'LOC', 'CARDINAL', 'NORP', 'GPE', 'NORP', 'GPE', 'GPE', 'DATE', 'ORG', 'DATE', 'GPE', 'GPE', 'CARDINAL', 'CARDINAL', 'GPE', 'NORP', 'NORP', 'NORP', 'ORG', 'DATE', 'PERSON', 'ORG', 'PERCENT', 'GPE', 'QUANTITY', 'NORP', 'GPE', 'CARDINAL', 'CARDINAL', 'NORP', 'GPE', 'ORG', 'NORP', 'CARDINAL', 'NORP', 'ORG', 'PERSON', 'NORP', 'PERSON', 'PERCENT', 'ORG', 'ORG', 'PERSON', 'NORP', 'EVENT', 'CARDINAL', 'DATE', 'CARDINAL', 'NORP', 'PERSON', 'GPE', 'ORDINAL', 'NORP', 'GPE', 'PERSON', 'PERSON', 'DATE', 'FAC', 'PERSON', 'ORDINAL', 'DATE', 'PERSON', 'CARDINAL', 'NORP', 'PERSON', 'DATE', 'GPE', 'GPE', 'DATE', 'CARDINAL', 'GPE', 'GPE', 'GPE', 'LOC', 'QUANTITY', 'GPE', 'DATE', 'GPE', 'DATE', 'NORP', 'NORP', 'GPE', 'GPE', 'GPE', 'ORG', 'PERSON', 'GPE', 'GPE', 'GPE', 'GPE', 'LAW', 'GPE', 'DATE', 'LAW', 'ORG', 'PERSON', 'DATE', 'ORG', 'NORP', 'PERSON', 'PERSON', 'ORG', 'ORG', 'GPE', 'ORG', 'NORP', 'CARDINAL', 'PERSON', 'DATE', 'ORG', 'GPE', 'PERSON', 'ORG', 'ORG', 'CARDINAL', 'ORG', 'DATE', 'ORG', 'GPE', 'NORP', 'PERSON', 'DATE', 'ORG', 'GPE', 'NORP', 'PERSON', 'GPE', 'ORG', 'GPE', 'PERSON', 'PERSON', 'DATE', 'DATE', 'NORP', 'CARDINAL', 'GPE', 'ORG', 'ORG', 'GPE', 'DATE', 'PERSON', 'DATE', 'ORG', 'DATE', 'GPE', 'GPE', 'CARDINAL', 'NORP', 'GPE', 'GPE', 'GPE', 'NORP', 'PERSON', 'DATE', 'ORG', 'DATE', 'ORG', 'NORP', 'DATE', 'CARDINAL', 'CARDINAL', 'GPE', 'NORP', 'NORP', 'GPE', 'DATE', 'NORP', 'NORP', 'ORG', 'CARDINAL', 'GPE', 'CARDINAL', 'NORP', 'GPE', 'NORP', 'NORP', 'GPE', 'ORG', 'CARDINAL', 'DATE', 'GPE', 'GPE', 'ORG', 'DATE', 'ORG', 'CARDINAL', 'DATE', 'NORP', 'ORG', 'GPE', 'ORG', 'PERSON', 'GPE', 'GPE', 'GPE', 'ORG', 'ORG', 'ORG', 'CARDINAL', 'GPE', 'GPE', 'ORG', 'PERSON', 'CARDINAL', 'GPE', 'GPE', 'ORG', 'GPE', 'GPE', 'GPE', 'GPE', 'GPE', 'GPE', 'MONEY', 'DATE', 'MONEY', 'GPE', 'DATE', 'GPE', 'PERSON', 'NORP', 'NORP', 'DATE', 'GPE', 'ORDINAL', 'NORP', 'DATE', 'NORP', 'DATE', 'NORP', 'DATE', 'LOC', 'NORP', 'DATE', 'EVENT', 'PERSON', 'NORP', 'EVENT', 'GPE', 'DATE', 'CARDINAL', 'LOC', 'ORG', 'PERSON', 'CARDINAL', 'PERSON', 'PERSON', 'TIME', 'ORG', 'GPE', 'LOC', 'GPE', 'DATE', 'ORG', 'DATE', 'GPE', 'ORG', 'GPE', 'DATE', 'DATE', 'ORG', 'DATE', 'ORG', 'MONEY', 'GPE', 'DATE', 'LOC', 'DATE', 'GPE', 'NORP', 'GPE', 'PERCENT', 'DATE', 'PERCENT', 'DATE', 'PERCENT', 'PERCENT', 'DATE', 'NORP', 'GPE', 'GPE', 'CARDINAL', 'CARDINAL', 'GPE', 'GPE', 'GPE', 'GPE', 'GPE', 'ORG', 'GPE', 'DATE', 'LAW', 'GPE', 'MONEY', 'DATE', 'LAW', 'GPE', 'GPE', 'GPE', 'ORG', 'MONEY', 'DATE', 'DATE', 'ORG', 'GPE', 'ORG', 'DATE', 'DATE', 'ORG', 'DATE', 'GPE', 'DATE', 'GPE', 'ORG', 'DATE', 'PERSON', 'NORP', 'GPE', 'DATE', 'DATE', 'GPE', 'ORG', 'ORDINAL', 'DATE', 'DATE', 'ORG', 'GPE', 'GPE', 'GPE', 'ORG', 'CARDINAL', 'DATE', 'GPE', 'NORP', 'NORP', 'NORP', 'GPE', 'CARDINAL', 'ORG', 'FAC', 'GPE', 'NORP', 'NORP', 'NORP', 'PERSON', 'DATE', 'PERSON', 'CARDINAL', 'CARDINAL', 'TIME', 'PERSON', 'PERSON', 'PERSON', 'DATE', 'GPE', 'GPE', 'GPE', 'NORP', 'NORP', 'NORP', 'NORP', 'GPE', 'CARDINAL', 'DATE', 'ORDINAL', 'DATE', 'LOC', 'GPE', 'NORP', 'GPE', 'PRODUCT', 'DATE', 'CARDINAL', 'FAC', 'ORG', 'CARDINAL', 'PERSON', 'NORP', 'ORG', 'PERSON', 'DATE', 'DATE', 'CARDINAL', 'NORP', 'CARDINAL', 'NORP', 'NORP', 'NORP', 'CARDINAL', 'GPE', 'PERSON', 'PERSON', 'PERSON', 'GPE', 'PERSON', 'DATE', 'DATE', 'ORG', 'NORP', 'GPE', 'DATE', 'GPE', 'ORDINAL', 'DATE', 'NORP', 'DATE', 'GPE', 'CARDINAL', 'NORP', 'CARDINAL', 'GPE', 'DATE', 'ORG', 'CARDINAL', 'DATE', 'CARDINAL', 'GPE', 'GPE', 'GPE', 'CARDINAL', 'GPE', 'GPE', 'ORG', 'ORG', 'GPE', 'DATE', 'ORG', 'NORP', 'CARDINAL', 'CARDINAL', 'GPE', 'DATE', 'DATE', 'DATE', 'DATE', 'GPE', 'DATE', 'DATE', 'CARDINAL', 'GPE', 'DATE', 'CARDINAL', 'CARDINAL', 'NORP', 'PERSON', 'ORG', 'GPE', 'GPE', 'ORG', 'PERSON', 'ORG', 'PERCENT', 'ORG', 'GPE', 'ORG', 'CARDINAL', 'DATE', 'NORP', 'PERSON', 'GPE', 'DATE', 'ORG', 'GPE', 'ORG', 'ORG', 'GPE', 'DATE', 'GPE', 'NORP', 'GPE', 'NORP', 'DATE', 'GPE', 'ORG', 'ORG', 'NORP', 'DATE', 'GPE', 'NORP', 'GPE', 'PERSON', 'DATE', 'GPE', 'GPE', 'FAC', 'DATE', 'ORG', 'CARDINAL', 'GPE', 'GPE', 'NORP', 'PERSON', 'DATE', 'GPE', 'PERSON', 'GPE', 'DATE', 'PERSON', 'DATE', 'GPE', 'DATE', 'GPE', 'GPE', 'PERSON', 'ORG', 'DATE', 'GPE', 'CARDINAL', 'LOC', 'GPE', 'NORP', 'GPE', 'ORDINAL', 'NORP', 'PERSON', 'GPE', 'ORG', 'GPE', 'DATE', 'GPE', 'DATE', 'GPE', 'ORG', 'GPE', 'GPE', 'NORP', 'ORG', 'GPE', 'GPE', 'GPE', 'DATE', 'ORG', 'NORP', 'CARDINAL', 'GPE', 'GPE', 'ORG', 'NORP', 'GPE', 'NORP', 'ORG', 'DATE', 'ORG', 'PERSON', 'LOC', 'GPE', 'PERSON', 'TIME', 'ORG', 'ORG', 'PERSON', 'CARDINAL', 'GPE', 'GPE', 'GPE', 'CARDINAL', 'NORP', 'ORG', 'PERSON', 'ORG', 'GPE', 'GPE', 'ORG', 'DATE', 'ORG', 'PERSON', 'GPE', 'GPE', 'PERSON', 'NORP', 'DATE', 'NORP', 'PERSON', 'ORDINAL', 'GPE', 'DATE', 'GPE', 'GPE', 'GPE', 'GPE', 'NORP', 'CARDINAL', 'CARDINAL', 'DATE', 'NORP', 'GPE', 'PERSON', 'PERSON', 'DATE', 'DATE', 'DATE', 'DATE', 'PERSON', 'DATE', 'PERSON', 'ORG', 'PRODUCT', 'CARDINAL', 'TIME', 'PERSON', 'GPE', 'DATE', 'ORG', 'ORG', 'ORG', 'DATE', 'GPE', 'DATE', 'NORP', 'PERSON', 'DATE', 'PERSON', 'PERSON', 'ORG', 'CARDINAL', 'PERSON', 'CARDINAL', 'DATE', 'DATE', 'CARDINAL', 'NORP', 'GPE', 'DATE', 'NORP', 'GPE', 'TIME', 'DATE', 'GPE', 'GPE', 'GPE', 'DATE', 'PERSON', 'DATE', 'GPE', 'ORG', 'PERSON', 'NORP', 'DATE', 'CARDINAL', 'CARDINAL', 'ORDINAL', 'GPE', 'ORDINAL', 'PERSON', 'DATE', 'CARDINAL', 'ORG', 'GPE', 'GPE', 'ORDINAL', 'GPE', 'DATE', 'GPE', 'DATE', 'ORDINAL', 'PERSON', 'GPE', 'NORP', 'CARDINAL', 'NORP', 'DATE', 'GPE', 'GPE', 'NORP', 'ORG', 'DATE', 'GPE', 'CARDINAL', 'NORP', 'GPE', 'DATE', 'ORG', 'CARDINAL', 'NORP', 'CARDINAL', 'NORP', 'GPE', 'CARDINAL', 'DATE', 'GPE', 'ORG', 'GPE', 'EVENT', 'MONEY', 'DATE', 'TIME', 'EVENT', 'LOC', 'EVENT', 'GPE', 'PERCENT', 'ORG', 'DATE', 'PERSON', 'LOC', 'GPE', 'CARDINAL', 'PERSON', 'CARDINAL', 'ORG', 'DATE', 'GPE', 'CARDINAL', 'DATE', 'GPE', 'GPE', 'GPE', 'GPE', 'PERSON', 'GPE', 'DATE', 'GPE', 'CARDINAL', 'NORP', 'GPE', 'DATE', 'ORG', 'GPE', 'GPE', 'CARDINAL', 'GPE', 'PERSON', 'GPE', 'LOC', 'GPE', 'PERSON', 'DATE', 'NORP', 'GPE', 'GPE', 'GPE', 'GPE', 'NORP', 'NORP', 'GPE', 'GPE', 'GPE', 'ORG', 'GPE', 'CARDINAL', 'ORG', 'GPE', 'DATE', 'ORG', 'ORG', 'DATE', 'GPE', 'DATE', 'ORG', 'CARDINAL', 'DATE', 'ORG', 'ORG', 'CARDINAL', 'GPE', 'CARDINAL', 'NORP', 'NORP', 'GPE', 'DATE', 'GPE', 'CARDINAL', 'CARDINAL', 'ORG', 'GPE', 'NORP', 'DATE', 'GPE', 'NORP', 'DATE', 'ORG', 'GPE', 'FAC', 'NORP', 'GPE', 'GPE', 'GPE', 'GPE', 'EVENT', 'GPE', 'GPE', 'DATE', 'NORP', 'DATE', 'GPE', 'NORP', 'CARDINAL', 'CARDINAL', 'DATE', 'CARDINAL', 'GPE', 'GPE', 'PERSON', 'DATE', 'QUANTITY', 'ORDINAL', 'GPE', 'DATE', 'DATE', 'PERSON', 'CARDINAL', 'NORP', 'GPE', 'CARDINAL', 'GPE', 'LOC', 'GPE', 'DATE', 'DATE', 'NORP', 'CARDINAL', 'GPE', 'DATE', 'NORP', 'ORG', 'DATE', 'NORP', 'DATE', 'NORP', 'GPE', 'ORG', 'DATE', 'PERSON', 'GPE', 'PERSON', 'ORG', 'PERSON', 'CARDINAL', 'DATE', 'DATE', 'PERSON', 'MONEY', 'GPE', 'PERSON', 'CARDINAL', 'DATE', 'DATE', 'GPE', 'LOC', 'PRODUCT', 'ORG', 'CARDINAL', 'NORP', 'CARDINAL', 'NORP', 'CARDINAL', 'NORP', 'GPE', 'DATE', 'ORG', 'DATE', 'GPE', 'GPE', 'NORP', 'DATE', 'NORP', 'GPE', 'PRODUCT', 'GPE', 'ORG', 'GPE', 'ORG', 'PERSON', 'NORP', 'DATE', 'CARDINAL', 'CARDINAL', 'PERSON', 'NORP', 'CARDINAL', 'GPE', 'NORP', 'PERSON', 'GPE', 'GPE', 'NORP', 'NORP', 'ORG', 'DATE', 'GPE', 'GPE', 'GPE', 'GPE', 'ORG', 'GPE', 'CARDINAL', 'GPE', 'CARDINAL', 'DATE', 'ORG', 'PERSON', 'WORK_OF_ART', 'CARDINAL', 'NORP', 'GPE', 'DATE', 'GPE', 'GPE', 'GPE', 'GPE', 'GPE', 'DATE', 'ORG', 'GPE', 'ORG', 'PERSON', 'GPE', 'DATE', 'GPE', 'NORP', 'CARDINAL', 'NORP', 'GPE', 'CARDINAL', 'DATE', 'GPE', 'DATE', 'GPE', 'DATE', 'NORP', 'CARDINAL', 'CARDINAL', 'TIME', 'NORP', 'NORP', 'ORG', 'PERSON', 'DATE', 'CARDINAL', 'NORP', 'NORP', 'GPE', 'GPE', 'DATE', 'GPE', 'NORP', 'PERSON', 'ORDINAL', 'PERSON', 'GPE', 'ORG', 'PERSON', 'DATE', 'GPE', 'NORP', 'NORP', 'GPE', 'GPE', 'FAC', 'GPE', 'GPE', 'GPE', 'PERSON', 'GPE', 'GPE', 'NORP', 'GPE', 'GPE', 'GPE', 'GPE', 'NORP', 'DATE', 'GPE', 'NORP', 'ORG', 'NORP', 'GPE', 'PERSON', 'GPE', 'ORG', 'ORG', 'PERSON', 'GPE', 'ORG', 'GPE', 'DATE', 'GPE', 'PERSON', 'DATE', 'NORP', 'GPE', 'ORG', 'NORP', 'PERSON', 'GPE', 'ORG', 'PERSON', 'PERSON', 'PERSON', 'ORG', 'GPE', 'DATE', 'CARDINAL', 'ORG', 'DATE', 'TIME', 'CARDINAL', 'DATE', 'DATE', 'ORG', 'ORG', 'GPE', 'DATE', 'CARDINAL', 'DATE', 'GPE', 'PERSON', 'ORG', 'DATE', 'PERSON', 'GPE', 'DATE', 'GPE', 'DATE', 'LOC', 'NORP', 'PERSON', 'ORG', 'NORP', 'LOC', 'PERSON', 'NORP', 'PERSON', 'DATE', 'GPE', 'GPE', 'GPE', 'PERSON', 'LOC', 'DATE', 'ORG', 'NORP', 'ORG', 'GPE', 'GPE', 'NORP', 'GPE', 'GPE', 'LOC', 'DATE', 'LOC', 'CARDINAL', 'GPE', 'NORP', 'GPE', 'GPE', 'PERSON', 'DATE', 'GPE', 'PERSON', 'GPE', 'DATE', 'ORG', 'PERSON', 'NORP', 'DATE', 'GPE', 'GPE', 'CARDINAL', 'DATE', 'GPE', 'PERSON', 'PERSON', 'DATE', 'PERSON', 'PERSON', 'PERSON', 'PERSON', 'PERSON', 'DATE', 'NORP', 'GPE', 'ORDINAL', 'ORG', 'GPE', 'NORP', 'DATE', 'GPE', 'GPE', 'CARDINAL', 'DATE', 'WORK_OF_ART', 'GPE', 'ORG', 'NORP', 'DATE', 'NORP', 'ORG', 'GPE', 'DATE', 'NORP', 'PERSON', 'GPE', 'EVENT', 'GPE', 'GPE', 'GPE', 'GPE', 'EVENT', 'GPE', 'DATE', 'PERSON', 'NORP', 'PERSON', 'DATE', 'GPE', 'GPE', 'GPE', 'NORP', 'PERSON', 'PERSON', 'ORG', 'GPE', 'ORG', 'GPE', 'GPE', 'GPE', 'GPE', 'DATE', 'NORP', 'PERSON', 'GPE', 'PERSON', 'PERSON', 'DATE', 'NORP', 'NORP', 'GPE', 'NORP', 'PERSON', 'GPE', 'DATE', 'GPE', 'PERSON', 'PERSON', 'NORP', 'DATE', 'GPE', 'LOC', 'GPE', 'NORP', 'DATE', 'NORP', 'ORG', 'CARDINAL', 'TIME', 'PERSON', 'GPE', 'ORG', 'NORP', 'ORG', 'NORP', 'GPE', 'GPE', 'NORP', 'NORP', 'NORP', 'PERSON', 'PERSON', 'LOC', 'DATE', 'PERSON', 'ORG', 'NORP', 'NORP', 'ORG', 'DATE', 'GPE', 'DATE', 'CARDINAL', 'NORP', 'NORP', 'GPE', 'NORP', 'CARDINAL', 'NORP', 'CARDINAL', 'NORP', 'NORP', 'GPE', 'TIME', 'DATE', 'GPE', 'DATE', 'NORP', 'DATE', 'GPE', 'NORP', 'ORG', 'DATE', 'CARDINAL', 'NORP', 'GPE', 'DATE', 'NORP', 'PERSON', 'NORP', 'NORP', 'ORG', 'DATE', 'NORP', 'PERSON', 'TIME', 'DATE', 'GPE', 'GPE', 'GPE', 'DATE', 'ORG', 'GPE', 'GPE', 'CARDINAL', 'NORP', 'ORG', 'NORP', 'GPE', 'ORG', 'GPE', 'ORG', 'ORG', 'GPE', 'ORG', 'GPE', 'NORP', 'NORP', 'GPE', 'DATE', 'NORP', 'PERSON', 'GPE', 'MONEY', 'GPE', 'LOC', 'ORG', 'DATE', 'GPE', 'NORP', 'GPE', 'MONEY', 'ORG', 'DATE', 'GPE', 'GPE', 'GPE', 'NORP', 'NORP', 'GPE', 'NORP', 'PERSON', 'GPE', 'NORP', 'PERSON', 'GPE', 'PERSON', 'PERSON', 'PERSON', 'PERSON', 'GPE', 'ORG', 'PERSON', 'NORP', 'PERSON', 'NORP', 'ORG', 'PERSON', 'PERSON', 'PERSON', 'CARDINAL', 'NORP', 'DATE', 'GPE', 'ORG', 'CARDINAL', 'DATE', 'DATE', 'CARDINAL', 'DATE', 'EVENT', 'DATE', 'GPE', 'DATE', 'DATE', 'NORP', 'EVENT', 'GPE', 'NORP', 'NORP', 'ORDINAL', 'DATE', 'DATE', 'GPE', 'CARDINAL', 'NORP', 'ORG', 'GPE', 'ORDINAL', 'NORP', 'ORG', 'ORG', 'PERSON', 'GPE', 'GPE', 'GPE', 'GPE', 'GPE', 'ORG', 'NORP', 'ORG', 'CARDINAL', 'ORG', 'PERSON', 'ORG', 'NORP', 'GPE', 'GPE', 'NORP', 'NORP', 'NORP', 'PERSON', 'ORG', 'PERSON', 'GPE', 'DATE', 'GPE', 'GPE', 'GPE', 'PERSON', 'CARDINAL', 'PERSON', 'GPE', 'PERSON', 'PERSON', 'NORP', 'DATE', 'PERSON', 'DATE', 'PERSON', 'PERSON', 'GPE', 'PERSON', 'PERSON', 'NORP', 'PERSON', 'GPE', 'NORP', 'PERSON', 'GPE', 'GPE', 'GPE', 'NORP', 'NORP', 'DATE', 'DATE', 'GPE', 'CARDINAL', 'GPE', 'PERSON', 'NORP', 'GPE', 'GPE', 'PERSON', 'GPE', 'GPE', 'NORP', 'GPE', 'ORG', 'PERSON', 'EVENT', 'ORG', 'DATE', 'PERSON', 'GPE', 'GPE', 'PERSON', 'PERSON', 'ORDINAL', 'PERSON', 'GPE', 'GPE', 'NORP', 'NORP', 'ORG', 'TIME', 'PERCENT', 'ORG', 'PERSON', 'NORP', 'DATE', 'ORDINAL', 'NORP', 'CARDINAL', 'DATE', 'GPE', 'MONEY', 'PERCENT', 'MONEY', 'GPE', 'ORG', 'GPE', 'DATE', 'QUANTITY', 'CARDINAL', 'PERCENT', 'NORP', 'GPE', 'GPE', 'DATE', 'GPE', 'PERSON', 'PERSON', 'NORP', 'GPE', 'CARDINAL', 'GPE', 'NORP', 'CARDINAL', 'GPE', 'GPE', 'GPE', 'GPE', 'DATE', 'GPE', 'NORP', 'PERSON', 'PERSON', 'DATE', 'PERSON', 'PERSON', 'ORG', 'PERSON', 'DATE', 'GPE', 'CARDINAL', 'PERSON', 'NORP', 'GPE', 'GPE', 'DATE', 'PERSON', 'PERSON', 'GPE', 'DATE', 'NORP', 'GPE', 'NORP', 'GPE', 'GPE', 'ORG', 'GPE', 'MONEY', 'DATE', 'DATE', 'GPE', 'GPE', 'PERSON', 'GPE', 'ORG', 'DATE', 'ORG', 'PERCENT', 'GPE', 'PERSON', 'GPE', 'NORP', 'PERSON', 'NORP', 'NORP', 'PERSON', 'PERSON', 'NORP', 'GPE', 'PERSON', 'GPE', 'DATE', 'PERSON', 'DATE', 'CARDINAL', 'DATE', 'ORG', 'PERSON', 'EVENT', 'DATE', 'PERSON', 'ORG', 'CARDINAL', 'ORG', 'ORG', 'CARDINAL', 'NORP', 'LOC', 'ORG', 'PERSON', 'QUANTITY', 'GPE', 'GPE', 'GPE', 'CARDINAL', 'PRODUCT', 'GPE', 'PERSON', 'GPE', 'GPE', 'PERSON', 'LOC', 'DATE', 'PERSON', 'GPE', 'LOC', 'DATE', 'EVENT', 'NORP', 'ORG', 'GPE', 'CARDINAL', 'NORP', 'GPE', 'GPE', 'ORG', 'PERSON', 'DATE', 'GPE', 'ORG', 'CARDINAL', 'NORP', 'LOC', 'NORP', 'PERSON', 'ORG', 'GPE', 'CARDINAL', 'ORG', 'DATE', 'ORG', 'DATE', 'GPE', 'NORP', 'GPE', 'NORP', 'GPE', 'GPE', 'GPE', 'ORG', 'PERSON', 'GPE', 'DATE', 'DATE', 'NORP', 'PERSON', 'PERSON', 'GPE', 'DATE', 'ORG', 'CARDINAL', 'GPE', 'CARDINAL', 'GPE', 'GPE', 'PERSON', 'DATE', 'GPE', 'GPE', 'DATE', 'DATE', 'ORG', 'PERSON', 'DATE', 'GPE', 'GPE', 'DATE', 'NORP', 'ORG', 'GPE', 'ORG', 'GPE', 'GPE', 'LAW', 'GPE', 'NORP', 'DATE', 'ORG', 'GPE', 'CARDINAL', 'GPE', 'ORG', 'GPE', 'ORG', 'GPE', 'GPE', 'ORG', 'NORP', 'DATE', 'CARDINAL', 'CARDINAL', 'GPE', 'NORP', 'GPE', 'DATE', 'DATE', 'GPE', 'NORP', 'TIME', 'QUANTITY', 'GPE', 'NORP', 'ORG', 'DATE', 'GPE', 'GPE', 'GPE', 'GPE', 'GPE', 'DATE', 'NORP', 'ORG', 'DATE', 'NORP', 'ORG', 'PERSON', 'DATE', 'GPE', 'ORG', 'NORP', 'GPE', 'NORP', 'ORG', 'ORG', 'CARDINAL', 'ORG', 'PERSON', 'DATE', 'NORP', 'ORG', 'GPE', 'GPE', 'PERSON', 'ORG', 'GPE', 'DATE', 'ORG', 'PERSON', 'DATE', 'DATE', 'ORG', 'GPE', 'DATE', 'QUANTITY', 'GPE', 'GPE', 'NORP', 'GPE', 'ORG', 'PERSON', 'DATE', 'GPE', 'ORG', 'GPE', 'NORP', 'GPE', 'DATE', 'GPE', 'ORG', 'PERSON', 'DATE', 'DATE', 'ORG', 'GPE', 'CARDINAL', 'GPE', 'GPE', 'CARDINAL', 'CARDINAL', 'GPE', 'GPE', 'GPE', 'GPE', 'DATE', 'ORG', 'CARDINAL', 'PERSON', 'ORG', 'NORP', 'PERSON', 'GPE', 'GPE', 'GPE', 'ORG', 'ORG', 'GPE', 'ORG', 'NORP', 'GPE', 'GPE', 'GPE', 'PERSON', 'NORP', 'GPE', 'DATE', 'GPE', 'PERSON', 'NORP', 'DATE', 'GPE', 'DATE', 'PERSON', 'PERSON', 'DATE', 'GPE', 'NORP', 'GPE', 'DATE', 'DATE', 'GPE', 'GPE', 'PERSON', 'DATE', 'DATE', 'GPE', 'ORG', 'PERSON', 'PERSON', 'GPE', 'GPE', 'PERSON', 'PERSON', 'ORG', 'DATE', 'GPE', 'PERSON', 'NORP', 'PERSON', 'ORG', 'DATE', 'NORP', 'DATE', 'GPE', 'CARDINAL', 'LOC', 'NORP', 'ORG', 'NORP', 'NORP', 'DATE', 'GPE', 'ORG', 'DATE', 'DATE', 'ORDINAL', 'ORG', 'PRODUCT', 'CARDINAL', 'GPE', 'GPE', 'DATE', 'NORP', 'CARDINAL', 'CARDINAL', 'DATE', 'GPE', 'GPE', 'NORP', 'PERSON', 'DATE', 'CARDINAL', 'DATE', 'NORP', 'QUANTITY', 'GPE', 'GPE', 'NORP', 'DATE', 'ORG', 'GPE', 'NORP', 'CARDINAL', 'ORG', 'CARDINAL', 'PERSON', 'NORP', 'GPE', 'DATE', 'ORG', 'LOC', 'DATE', 'TIME', 'CARDINAL', 'QUANTITY', 'ORG', 'GPE', 'PERSON', 'NORP', 'NORP', 'GPE', 'CARDINAL', 'NORP', 'CARDINAL', 'ORG', 'PERSON', 'ORG', 'ORG', 'GPE', 'GPE', 'FAC', 'PERSON', 'ORG', 'ORG', 'DATE', 'GPE', 'PERSON', 'ORG', 'CARDINAL', 'DATE', 'ORG', 'GPE', 'NORP', 'DATE', 'ORG', 'ORG', 'GPE', 'NORP', 'ORG', 'GPE', 'NORP', 'GPE', 'ORG', 'ORG', 'GPE', 'CARDINAL', 'GPE', 'GPE', 'DATE', 'ORG', 'PERSON', 'ORG', 'ORG', 'DATE', 'PERSON', 'GPE', 'CARDINAL', 'ORG', 'ORG', 'CARDINAL', 'DATE', 'GPE', 'GPE', 'GPE', 'PERSON', 'GPE', 'CARDINAL', 'DATE', 'ORG', 'GPE', 'GPE', 'ORG', 'ORDINAL', 'PERSON', 'GPE', 'ORG', 'PERSON', 'MONEY', 'DATE', 'PERSON', 'ORG', 'GPE', 'CARDINAL', 'DATE', 'GPE', 'CARDINAL', 'CARDINAL', 'DATE', 'CARDINAL', 'GPE', 'PERSON', 'GPE', 'LOC', 'GPE', 'CARDINAL', 'CARDINAL', 'QUANTITY', 'GPE', 'ORG', 'DATE', 'ORG', 'GPE', 'DATE', 'GPE', 'GPE', 'CARDINAL', 'DATE', 'LOC', 'GPE', 'CARDINAL', 'GPE', 'DATE', 'CARDINAL', 'GPE', 'DATE', 'ORG', 'GPE', 'DATE', 'GPE', 'GPE', 'PERSON', 'GPE', 'GPE', 'GPE', 'NORP', 'CARDINAL', 'CARDINAL', 'GPE', 'CARDINAL', 'CARDINAL', 'ORG', 'GPE', 'NORP', 'GPE', 'NORP', 'PERSON', 'DATE', 'NORP', 'PERSON', 'PERSON', 'NORP', 'DATE', 'DATE', 'NORP', 'PERSON', 'PERSON', 'DATE', 'NORP', 'NORP', 'ORG', 'PERSON', 'DATE', 'GPE', 'GPE', 'NORP', 'NORP', 'PERSON', 'PERSON', 'DATE', 'PERSON', 'PERSON', 'GPE', 'DATE', 'GPE', 'DATE', 'DATE', 'PERSON', 'DATE', 'NORP', 'GPE', 'CARDINAL', 'DATE', 'PERSON', 'GPE', 'ORG', 'PERSON', 'GPE', 'DATE', 'GPE', 'GPE', 'DATE', 'DATE', 'DATE', 'NORP', 'CARDINAL', 'ORG', 'ORG', 'DATE', 'GPE', 'CARDINAL', 'GPE', 'GPE', 'ORG', 'CARDINAL', 'GPE', 'CARDINAL', 'DATE', 'NORP', 'CARDINAL', 'GPE', 'CARDINAL', 'CARDINAL', 'CARDINAL', 'DATE', 'DATE', 'GPE', 'PERSON', 'DATE', 'GPE', 'NORP', 'NORP', 'DATE', 'NORP', 'GPE', 'GPE', 'DATE', 'CARDINAL', 'PERSON', 'GPE', 'GPE', 'ORG', 'GPE', 'PERSON', 'PERSON', 'ORG', 'GPE', 'NORP', 'NORP', 'DATE', 'NORP', 'GPE', 'NORP', 'NORP', 'NORP', 'NORP', 'NORP', 'GPE', 'DATE', 'NORP', 'PERSON', 'PERSON', 'DATE', 'NORP', 'PERSON', 'NORP', 'PERSON', 'CARDINAL', 'DATE', 'PERSON', 'GPE', 'NORP', 'PERSON', 'GPE', 'ORDINAL', 'GPE', 'GPE', 'ORDINAL', 'PERSON', 'CARDINAL', 'LOC', 'LOC', 'GPE', 'DATE', 'GPE', 'GPE', 'GPE', 'GPE', 'GPE', 'CARDINAL', 'GPE', 'GPE', 'CARDINAL', 'GPE', 'ORG', 'CARDINAL', 'GPE', 'GPE', 'CARDINAL', 'ORG', 'ORG', 'GPE', 'GPE', 'GPE', 'CARDINAL', 'NORP', 'GPE', 'DATE', 'DATE', 'GPE', 'CARDINAL', 'CARDINAL', 'CARDINAL', 'CARDINAL', 'ORG', 'DATE', 'NORP', 'PERSON', 'NORP', 'DATE', 'ORG', 'PERSON', 'DATE', 'PERSON', 'ORG', 'PERSON', 'PERSON', 'NORP', 'PERSON', 'GPE', 'DATE', 'PERSON', 'NORP', 'CARDINAL', 'EVENT', 'CARDINAL', 'ORG', 'DATE', 'DATE', 'PERSON', 'GPE', 'CARDINAL', 'NORP', 'PERSON', 'ORG', 'ORG', 'DATE', 'DATE', 'DATE', 'GPE', 'GPE', 'GPE', 'DATE', 'ORG', 'ORG', 'ORG', 'DATE', 'NORP', 'DATE', 'ORG', 'GPE', 'ORG', 'GPE', 'PERSON', 'PERSON', 'NORP', 'DATE', 'ORG', 'GPE', 'NORP', 'NORP', 'PERSON', 'PERSON', 'GPE', 'PERSON', 'DATE', 'WORK_OF_ART', 'DATE', 'TIME', 'ORG', 'GPE', 'PERSON', 'DATE', 'GPE', 'PERSON', 'PERSON', 'CARDINAL', 'MONEY', 'DATE', 'GPE', 'DATE', 'NORP', 'GPE', 'GPE', 'ORG', 'ORDINAL', 'DATE', 'PERSON', 'GPE', 'ORG', 'GPE', 'PERSON', 'GPE', 'GPE', 'GPE', 'GPE', 'NORP', 'ORG', 'DATE', 'PERSON', 'ORG', 'NORP', 'DATE', 'PERSON', 'TIME', 'DATE', 'ORG', 'DATE', 'PERSON', 'ORG', 'DATE', 'DATE', 'ORG', 'ORG', 'DATE', 'PERSON', 'NORP', 'GPE', 'GPE', 'GPE', 'NORP', 'PERSON', 'ORG', 'PERSON', 'DATE', 'PERSON', 'GPE', 'DATE', 'GPE', 'CARDINAL', 'ORG', 'GPE', 'PERSON', 'ORG', 'ORG', 'PERSON', 'DATE', 'ORG', 'PERSON', 'GPE', 'DATE', 'DATE', 'ORG', 'PERSON', 'LOC', 'PERSON', 'GPE', 'ORG', 'DATE', 'DATE', 'GPE', 'PERSON', 'NORP', 'PERSON', 'ORDINAL', 'GPE', 'DATE', 'ORG', 'PERSON', 'DATE', 'ORG', 'PERSON', 'DATE', 'DATE', 'CARDINAL', 'NORP', 'GPE', 'ORG', 'GPE', 'DATE', 'PRODUCT', 'NORP', 'CARDINAL', 'CARDINAL', 'ORG', 'ORG', 'GPE', 'ORG', 'GPE', 'GPE', 'PERCENT', 'GPE', 'MONEY', 'GPE', 'ORG', 'ORG', 'PERSON', 'DATE', 'MONEY', 'GPE', 'DATE', 'DATE', 'GPE', 'NORP', 'GPE', 'NORP', 'GPE', 'NORP', 'DATE', 'GPE', 'PERSON', 'DATE', 'PERSON', 'DATE', 'PERSON', 'GPE', 'PERSON', 'GPE', 'DATE', 'GPE', 'ORG', 'GPE', 'PERSON', 'DATE', 'TIME', 'GPE', 'ORG', 'GPE', 'QUANTITY', 'CARDINAL', 'CARDINAL', 'ORG', 'GPE', 'GPE', 'GPE', 'ORDINAL', 'LOC', 'DATE', 'DATE', 'NORP', 'GPE', 'GPE', 'NORP', 'LOC', 'GPE', 'LOC', 'DATE', 'CARDINAL', 'ORDINAL', 'GPE', 'PERSON', 'ORG', 'GPE', 'NORP', 'GPE', 'NORP', 'GPE', 'CARDINAL', 'TIME', 'GPE', 'DATE', 'NORP', 'GPE', 'NORP', 'NORP', 'NORP', 'NORP', 'NORP', 'CARDINAL', 'DATE', 'CARDINAL', 'NORP', 'NORP', 'GPE', 'NORP', 'ORG', 'ORG', 'ORG', 'NORP', 'ORG', 'NORP', 'DATE', 'DATE', 'GPE', 'NORP', 'ORG', 'ORG', 'PERSON', 'PERSON', 'ORG', 'CARDINAL', 'GPE', 'PERSON', 'PERSON', 'PERSON', 'DATE', 'DATE', 'CARDINAL', 'MONEY', 'GPE', 'MONEY', 'ORG', 'DATE', 'MONEY', 'MONEY', 'PERSON', 'ORG', 'DATE', 'GPE', 'ORG', 'PERSON', 'PERSON', 'PERSON', 'CARDINAL', 'CARDINAL', 'PERSON', 'PERSON', 'CARDINAL', 'ORG', 'PERSON', 'DATE', 'GPE', 'GPE', 'DATE', 'DATE', 'DATE', 'PERSON', 'GPE', 'ORG', 'DATE', 'DATE', 'ORG', 'FAC', 'EVENT', 'DATE', 'NORP', 'NORP', 'NORP', 'GPE', 'DATE', 'EVENT', 'GPE', 'GPE', 'NORP', 'GPE', 'NORP', 'NORP', 'DATE', 'DATE', 'GPE', 'CARDINAL', 'CARDINAL', 'LOC', 'GPE', 'GPE', 'ORG', 'ORG', 'DATE', 'DATE', 'GPE', 'DATE', 'DATE', 'NORP', 'ORG', 'GPE', 'GPE', 'DATE', 'GPE', 'DATE', 'EVENT', 'GPE', 'GPE', 'ORG', 'NORP', 'GPE', 'DATE', 'EVENT', 'GPE', 'DATE', 'GPE', 'GPE', 'ORDINAL', 'GPE', 'DATE', 'GPE', 'GPE', 'DATE', 'GPE', 'LAW', 'GPE', 'GPE', 'PERCENT', 'ORG', 'GPE', 'DATE', 'ORG', 'GPE', 'GPE', 'DATE', 'ORG', 'DATE', 'ORG', 'DATE', 'GPE', 'GPE', 'CARDINAL', 'PERSON', 'DATE', 'DATE', 'DATE', 'PERSON', 'DATE', 'DATE', 'DATE', 'DATE', 'NORP', 'GPE', 'ORG', 'DATE', 'ORG', 'DATE', 'ORG', 'DATE', 'ORG', 'NORP', 'GPE', 'GPE', 'GPE', 'GPE', 'GPE', 'GPE', 'GPE', 'CARDINAL', 'DATE', 'ORG', 'PERSON', 'ORG', 'PERSON', 'PERSON', 'PERSON', 'PERSON', 'ORG', 'PERSON', 'PERSON', 'PRODUCT', 'PERSON', 'PERSON', 'ORG', 'GPE', 'GPE', 'ORG', 'GPE', 'LAW', 'GPE', 'ORDINAL', 'NORP', 'DATE', 'CARDINAL', 'GPE', 'TIME', 'DATE', 'ORG', 'ORG', 'PERSON', 'ORDINAL', 'GPE', 'WORK_OF_ART', 'FAC', 'GPE', 'TIME', 'TIME', 'ORG', 'DATE', 'DATE', 'CARDINAL', 'GPE', 'GPE', 'DATE', 'DATE', 'ORG', 'PERCENT', 'DATE', 'DATE', 'GPE', 'NORP', 'PERSON', 'ORG', 'DATE', 'PERSON', 'DATE', 'ORG', 'PERSON', 'PERSON', 'PERSON', 'MONEY', 'PERSON', 'DATE', 'GPE', 'NORP', 'PERSON', 'NORP', 'CARDINAL', 'GPE', 'ORG', 'PERSON', 'NORP', 'GPE', 'TIME', 'NORP', 'NORP', 'TIME', 'GPE', 'DATE', 'GPE', 'CARDINAL', 'NORP', 'CARDINAL', 'DATE', 'GPE', 'GPE', 'NORP', 'DATE', 'NORP', 'CARDINAL', 'NORP', 'LOC', 'DATE', 'GPE', 'DATE', 'GPE', 'CARDINAL', 'CARDINAL', 'NORP', 'CARDINAL', 'CARDINAL', 'NORP', 'GPE', 'NORP', 'GPE', 'NORP', 'GPE', 'PERSON', 'NORP', 'PERSON', 'GPE', 'DATE', 'PERSON', 'GPE', 'DATE', 'NORP', 'DATE', 'PERSON', 'GPE', 'GPE', 'CARDINAL', 'PERSON', 'DATE', 'FAC', 'PERSON', 'GPE', 'DATE', 'GPE', 'CARDINAL', 'DATE', 'CARDINAL', 'NORP', 'NORP', 'ORG', 'PERSON', 'WORK_OF_ART', 'GPE', 'GPE', 'PERSON', 'PERSON', 'DATE', 'EVENT', 'LOC', 'WORK_OF_ART', 'GPE', 'DATE', 'WORK_OF_ART', 'PERSON', 'NORP', 'PERSON', 'GPE', 'PERSON', 'GPE', 'GPE', 'PERSON', 'DATE', 'PERSON', 'NORP', 'PERSON', 'GPE', 'GPE', 'ORDINAL', 'DATE', 'PERSON', 'NORP', 'ORG', 'DATE', 'PERSON', 'ORG', 'GPE', 'GPE', 'GPE', 'CARDINAL', 'GPE', 'ORG', 'PERSON', 'GPE', 'DATE', 'GPE', 'LOC', 'PERSON', 'NORP', 'PERSON', 'GPE', 'DATE', 'PERSON', 'DATE', 'GPE', 'NORP', 'PERSON', 'NORP', 'PERSON', 'NORP', 'NORP', 'GPE', 'EVENT', 'GPE', 'GPE', 'PERSON', 'NORP', 'GPE', 'GPE', 'NORP', 'DATE', 'GPE', 'PERSON', 'DATE', 'GPE', 'GPE', 'CARDINAL', 'ORG', 'GPE', 'NORP', 'NORP', 'CARDINAL', 'DATE', 'ORG', 'PERSON', 'DATE', 'CARDINAL', 'GPE', 'GPE', 'GPE', 'NORP', 'NORP', 'DATE', 'NORP', 'PERSON', 'NORP', 'PERSON', 'DATE', 'DATE', 'PERSON', 'GPE', 'CARDINAL', 'PERSON', 'ORG', 'GPE', 'PERSON', 'DATE', 'MONEY', 'GPE', 'NORP', 'DATE', 'PERSON', 'GPE', 'GPE', 'PERCENT', 'PERSON', 'DATE', 'CARDINAL', 'ORDINAL', 'DATE', 'DATE', 'CARDINAL', 'DATE', 'ORG', 'DATE', 'DATE', 'ORG', 'ORG', 'NORP', 'GPE', 'ORG', 'DATE', 'GPE', 'CARDINAL', 'DATE', 'CARDINAL', 'GPE', 'GPE', 'GPE', 'PERSON', 'GPE', 'GPE', 'DATE', 'DATE', 'ORG', 'GPE', 'NORP', 'GPE', 'GPE', 'NORP', 'PERSON', 'GPE', 'DATE', 'GPE', 'ORG', 'PERSON', 'GPE', 'NORP', 'GPE', 'GPE', 'DATE', 'ORG', 'PERSON', 'DATE', 'NORP', 'PERSON', 'DATE', 'PERSON', 'DATE', 'PERSON', 'GPE', 'NORP', 'GPE', 'TIME', 'CARDINAL', 'PERSON', 'DATE', 'DATE', 'CARDINAL', 'CARDINAL', 'CARDINAL', 'DATE', 'DATE', 'GPE', 'GPE', 'ORG', 'GPE', 'GPE', 'DATE', 'ORG', 'PERSON', 'NORP', 'NORP', 'DATE', 'GPE', 'NORP', 'NORP', 'GPE', 'ORG', 'PERSON', 'NORP', 'PERSON', 'ORG', 'PERSON', 'DATE', 'NORP', 'PERSON', 'NORP', 'DATE', 'DATE', 'PERSON', 'GPE', 'DATE', 'NORP', 'DATE', 'CARDINAL', 'GPE', 'NORP', 'NORP', 'CARDINAL', 'NORP', 'NORP', 'GPE', 'NORP', 'GPE', 'DATE', 'NORP', 'GPE', 'PERSON', 'DATE', 'NORP', 'CARDINAL', 'NORP', 'GPE', 'GPE', 'DATE', 'NORP', 'NORP', 'CARDINAL', 'NORP', 'GPE', 'CARDINAL', 'NORP', 'ORG', 'NORP', 'GPE', 'GPE', 'GPE', 'NORP', 'PERSON', 'NORP', 'GPE', 'DATE', 'NORP', 'NORP', 'PERSON', 'GPE', 'GPE', 'PERSON', 'DATE', 'GPE', 'DATE', 'PERSON', 'PERSON', 'NORP', 'PERSON', 'DATE', 'ORG', 'GPE', 'PERSON', 'ORG', 'GPE', 'ORG', 'GPE', 'GPE', 'GPE', 'GPE', 'ORG', 'DATE', 'PERSON', 'GPE', 'ORG', 'ORG', 'DATE', 'GPE', 'PERSON', 'PERSON', 'CARDINAL', 'GPE', 'GPE', 'GPE', 'GPE', 'NORP', 'GPE', 'GPE', 'GPE', 'DATE', 'NORP', 'GPE', 'DATE', 'NORP', 'GPE', 'DATE', 'NORP', 'NORP', 'TIME', 'CARDINAL', 'CARDINAL', 'NORP', 'NORP', 'NORP', 'DATE', 'CARDINAL', 'NORP', 'NORP', 'CARDINAL', 'NORP', 'GPE', 'GPE', 'NORP', 'GPE', 'CARDINAL', 'DATE', 'CARDINAL', 'PERSON', 'DATE', 'CARDINAL', 'PERSON', 'ORG', 'CARDINAL', 'GPE', 'PERSON', 'NORP', 'PERSON', 'PERSON', 'DATE', 'PERSON', 'GPE', 'GPE', 'PERSON', 'ORG', 'ORG', 'CARDINAL', 'NORP', 'CARDINAL', 'PERSON', 'GPE', 'ORG', 'GPE', 'PERCENT', 'CARDINAL', 'CARDINAL', 'CARDINAL', 'TIME', 'NORP', 'PERSON', 'GPE', 'ORG', 'NORP', 'ORG', 'PERSON', 'TIME', 'GPE', 'PERSON', 'DATE', 'ORG', 'GPE', 'ORG', 'FAC', 'FAC', 'DATE', 'GPE', 'GPE', 'GPE', 'GPE', 'ORG', 'GPE', 'NORP', 'GPE', 'LOC', 'GPE', 'ORG', 'PERSON', 'DATE', 'NORP', 'GPE', 'GPE', 'GPE', 'NORP', 'GPE', 'GPE', 'GPE', 'NORP', 'GPE', 'ORG', 'EVENT', 'ORG', 'GPE', 'ORG', 'GPE', 'ORG', 'GPE', 'GPE', 'CARDINAL', 'NORP', 'ORG', 'PERSON', 'CARDINAL', 'PERSON', 'PERSON', 'NORP', 'NORP', 'PERSON', 'GPE', 'GPE', 'ORG', 'PERSON', 'GPE', 'ORG', 'NORP', 'ORG', 'NORP', 'NORP', 'GPE', 'ORG', 'GPE', 'ORG', 'PERSON', 'PERSON', 'ORG', 'GPE', 'CARDINAL', 'CARDINAL', 'DATE', 'ORG', 'GPE', 'GPE', 'DATE', 'CARDINAL', 'PERSON', 'LOC', 'GPE', 'DATE', 'NORP', 'GPE', 'PERSON', 'ORG', 'PERSON', 'GPE', 'DATE', 'PERSON', 'ORG', 'DATE', 'PERSON', 'NORP', 'DATE', 'ORG', 'DATE', 'PERSON', 'PERSON', 'PERSON', 'DATE', 'DATE', 'ORDINAL', 'PERSON', 'GPE', 'DATE', 'ORG', 'ORG', 'CARDINAL', 'NORP', 'NORP', 'PERSON', 'CARDINAL', 'NORP', 'NORP', 'NORP', 'CARDINAL', 'GPE', 'TIME', 'CARDINAL', 'ORG', 'CARDINAL', 'NORP', 'ORG', 'PERSON', 'ORG', 'GPE', 'GPE', 'CARDINAL', 'CARDINAL', 'NORP', 'DATE', 'GPE', 'QUANTITY', 'GPE', 'GPE', 'NORP', 'DATE', 'CARDINAL', 'CARDINAL', 'CARDINAL', 'ORG', 'PERSON', 'GPE', 'ORG', 'NORP', 'ORG', 'PERSON', 'GPE', 'PERSON', 'DATE', 'PERSON', 'GPE', 'PERSON', 'ORG', 'CARDINAL', 'DATE', 'ORG', 'DATE', 'PERSON', 'ORG', 'GPE', 'ORG', 'ORG', 'PERSON', 'GPE', 'GPE', 'ORG', 'GPE', 'NORP', 'CARDINAL', 'NORP', 'GPE', 'NORP', 'CARDINAL', 'GPE', 'DATE', 'PERSON', 'CARDINAL', 'DATE', 'NORP', 'GPE', 'DATE', 'PERSON', 'ORG', 'DATE', 'GPE', 'NORP', 'ORG', 'DATE', 'GPE', 'GPE', 'GPE', 'ORDINAL', 'GPE', 'ORG', 'GPE', 'DATE', 'NORP', 'DATE', 'ORG', 'CARDINAL', 'DATE', 'CARDINAL', 'CARDINAL', 'DATE', 'GPE', 'GPE', 'LOC', 'ORG', 'GPE', 'NORP', 'DATE', 'DATE', 'GPE', 'MONEY', 'CARDINAL', 'ORG', 'ORG', 'ORG', 'DATE', 'DATE', 'PERSON', 'DATE', 'GPE', 'DATE', 'CARDINAL', 'CARDINAL', 'GPE', 'PERSON', 'PERSON', 'DATE', 'PERSON', 'ORDINAL', 'QUANTITY', 'PERSON', 'ORG', 'PERSON', 'CARDINAL', 'PERSON', 'GPE', 'CARDINAL', 'DATE', 'PERSON', 'GPE', 'GPE', 'GPE', 'ORG', 'DATE', 'GPE', 'GPE', 'DATE', 'GPE', 'NORP', 'GPE', 'NORP', 'NORP', 'NORP', 'GPE', 'NORP', 'GPE', 'DATE', 'CARDINAL', 'CARDINAL', 'ORG', 'CARDINAL', 'TIME', 'GPE', 'GPE', 'CARDINAL', 'DATE', 'GPE', 'GPE', 'DATE', 'NORP', 'CARDINAL', 'GPE', 'DATE', 'GPE', 'NORP', 'ORG', 'GPE', 'DATE', 'GPE', 'GPE', 'GPE', 'GPE', 'DATE', 'TIME', 'ORG', 'ORDINAL', 'CARDINAL', 'NORP', 'GPE', 'GPE', 'PERSON', 'NORP', 'PERSON', 'NORP', 'GPE', 'CARDINAL', 'PERSON', 'ORG', 'DATE', 'PERSON', 'GPE', 'CARDINAL', 'GPE', 'NORP', 'NORP', 'CARDINAL', 'CARDINAL', 'GPE', 'DATE', 'DATE', 'PERSON', 'TIME', 'GPE', 'ORDINAL', 'PERSON', 'DATE', 'DATE', 'ORDINAL', 'PERSON', 'DATE', 'PERSON', 'GPE', 'DATE', 'CARDINAL', 'PERSON', 'GPE', 'ORG', 'DATE', 'ORG', 'DATE', 'MONEY', 'DATE', 'DATE', 'MONEY', 'CARDINAL', 'TIME', 'GPE', 'ORG', 'NORP', 'ORG', 'DATE', 'PERCENT', 'DATE', 'DATE', 'ORG', 'PERSON', 'DATE', 'ORG', 'CARDINAL', 'NORP', 'ORG', 'NORP', 'GPE', 'DATE', 'PERSON', 'GPE', 'ORG', 'DATE', 'GPE', 'NORP', 'ORG', 'DATE', 'NORP', 'NORP', 'GPE', 'GPE', 'PERSON', 'ORG', 'DATE', 'DATE', 'LOC', 'LOC', 'ORG', 'DATE', 'NORP', 'CARDINAL', 'CARDINAL', 'NORP', 'LOC', 'DATE', 'GPE', 'QUANTITY', 'GPE', 'LOC', 'LOC', 'NORP', 'LOC', 'DATE', 'ORDINAL', 'PERSON', 'GPE', 'DATE', 'PERSON', 'GPE', 'GPE', 'CARDINAL', 'GPE', 'GPE', 'CARDINAL', 'DATE', 'NORP', 'PERSON', 'GPE', 'DATE', 'ORDINAL', 'ORG', 'ORG', 'PERSON', 'ORG', 'PERSON', 'ORG', 'GPE', 'PERSON', 'ORG', 'ORG', 'DATE', 'DATE', 'GPE', 'GPE', 'CARDINAL', 'DATE', 'GPE', 'GPE', 'ORDINAL', 'GPE', 'GPE', 'GPE', 'CARDINAL', 'GPE', 'GPE', 'GPE', 'ORG', 'DATE', 'CARDINAL', 'GPE', 'GPE', 'ORDINAL', 'GPE', 'NORP', 'GPE', 'GPE', 'GPE', 'GPE', 'GPE', 'GPE', 'GPE', 'ORG', 'GPE', 'GPE', 'DATE', 'PERSON', 'GPE', 'DATE', 'ORG', 'GPE', 'PERSON', 'DATE', 'LOC', 'ORG', 'NORP', 'PERSON', 'DATE', 'GPE', 'ORG', 'GPE', 'GPE', 'GPE', 'ORG', 'DATE', 'GPE', 'GPE', 'DATE', 'CARDINAL', 'PERCENT', 'PERSON', 'ORDINAL', 'NORP', 'NORP', 'DATE', 'ORG', 'GPE', 'GPE', 'GPE', 'GPE', 'GPE', 'CARDINAL', 'NORP', 'GPE', 'GPE', 'ORG', 'GPE', 'DATE', 'ORG', 'PERSON', 'GPE', 'ORDINAL', 'PERSON', 'DATE', 'DATE', 'DATE', 'DATE', 'GPE', 'GPE', 'LOC', 'DATE', 'CARDINAL', 'CARDINAL', 'DATE', 'ORG', 'ORG', 'PERSON', 'DATE', 'CARDINAL', 'CARDINAL', 'GPE', 'GPE', 'CARDINAL', 'DATE', 'CARDINAL', 'LOC', 'ORG', 'GPE', 'DATE', 'GPE', 'ORG', 'PERSON', 'NORP', 'PERSON', 'CARDINAL', 'GPE', 'GPE', 'GPE', 'GPE', 'ORG', 'DATE', 'ORG', 'GPE', 'LAW', 'DATE', 'PERSON', 'DATE', 'ORG', 'GPE', 'GPE', 'ORG', 'PERSON', 'DATE', 'GPE', 'NORP', 'PERSON', 'DATE', 'GPE', 'DATE', 'PERSON', 'GPE', 'CARDINAL', 'GPE', 'GPE', 'GPE', 'DATE', 'PERSON', 'CARDINAL', 'GPE', 'GPE', 'GPE', 'GPE', 'GPE', 'GPE', 'CARDINAL', 'DATE', 'ORG', 'GPE', 'PERCENT', 'DATE', 'NORP', 'PERSON', 'NORP', 'GPE', 'NORP', 'ORG', 'GPE', 'ORG', 'DATE', 'TIME', 'NORP', 'PERSON', 'GPE', 'PERSON', 'ORG', 'PERSON', 'NORP', 'ORG', 'GPE', 'NORP', 'NORP', 'PERSON', 'GPE', 'DATE', 'NORP', 'PERSON', 'GPE', 'DATE', 'ORDINAL', 'DATE', 'ORG', 'NORP', 'ORG', 'PERSON', 'ORG', 'GPE', 'ORG', 'PERSON', 'ORG', 'NORP', 'NORP', 'ORG', 'ORG', 'LOC', 'PERSON', 'GPE', 'DATE', 'ORG', 'ORG', 'GPE', 'NORP', 'PERSON', 'DATE', 'NORP', 'CARDINAL', 'GPE', 'ORG', 'DATE', 'TIME', 'PERSON', 'PERSON', 'PERSON', 'PERSON', 'NORP', 'PERSON', 'ORDINAL', 'GPE', 'GPE', 'ORG', 'NORP', 'GPE', 'DATE', 'GPE', 'CARDINAL', 'LOC', 'ORG', 'DATE', 'ORG', 'PERSON', 'ORG', 'ORG', 'DATE', 'GPE', 'GPE', 'DATE', 'GPE', 'ORG', 'ORG', 'PERSON', 'ORG', 'GPE', 'GPE', 'PERSON', 'DATE', 'GPE', 'ORG', 'ORG', 'NORP', 'DATE', 'GPE', 'CARDINAL', 'ORG', 'CARDINAL', 'NORP', 'GPE', 'GPE', 'GPE', 'DATE', 'ORG', 'ORG', 'ORG', 'NORP', 'DATE', 'GPE', 'GPE', 'ORG', 'GPE', 'NORP', 'NORP', 'GPE', 'LOC', 'GPE', 'GPE', 'DATE', 'LOC', 'GPE', 'LOC', 'GPE', 'GPE', 'DATE', 'GPE', 'GPE', 'ORG', 'GPE', 'GPE', 'GPE', 'GPE', 'ORG', 'CARDINAL', 'DATE', 'CARDINAL', 'DATE', 'GPE', 'ORG', 'GPE', 'GPE', 'GPE', 'GPE', 'GPE', 'GPE', 'GPE', 'LOC', 'GPE', 'NORP', 'PERSON', 'GPE', 'GPE', 'CARDINAL', 'GPE', 'GPE', 'LOC', 'NORP', 'PERSON', 'GPE', 'MONEY', 'GPE', 'PERSON', 'DATE', 'GPE', 'CARDINAL', 'NORP', 'GPE', 'DATE', 'CARDINAL', 'GPE', 'CARDINAL', 'GPE', 'GPE', 'GPE', 'GPE', 'DATE', 'GPE', 'DATE', 'CARDINAL', 'GPE', 'GPE', 'GPE', 'CARDINAL', 'NORP', 'NORP', 'GPE', 'ORG', 'CARDINAL', 'DATE', 'ORG', 'ORG', 'ORG', 'PERSON', 'DATE', 'GPE', 'ORG', 'PERSON', 'DATE', 'DATE', 'GPE', 'GPE', 'ORG', 'GPE', 'ORG', 'ORG', 'DATE', 'ORG', 'GPE', 'NORP', 'ORG', 'DATE', 'LOC', 'DATE', 'NORP', 'DATE', 'QUANTITY', 'QUANTITY', 'PERSON', 'ORDINAL', 'ORG', 'PERSON', 'GPE', 'MONEY', 'DATE', 'GPE', 'ORG', 'CARDINAL', 'DATE', 'NORP', 'DATE', 'GPE', 'NORP', 'GPE', 'ORG', 'PERCENT', 'GPE', 'GPE', 'GPE', 'PERCENT', 'NORP', 'GPE', 'ORG', 'PERCENT', 'NORP', 'GPE', 'GPE', 'GPE', 'TIME', 'LOC', 'PERCENT', 'DATE', 'PERSON', 'GPE', 'ORG', 'DATE', 'CARDINAL', 'NORP', 'GPE', 'NORP', 'CARDINAL', 'DATE', 'PERSON', 'PERSON', 'NORP', 'NORP', 'NORP', 'NORP', 'PERSON', 'GPE', 'NORP', 'NORP', 'PERSON', 'DATE', 'LOC', 'NORP', 'PERSON', 'NORP', 'GPE', 'NORP', 'PERSON', 'CARDINAL', 'DATE', 'LOC', 'PERSON', 'PERSON', 'DATE', 'PERSON', 'DATE', 'PERSON', 'PERSON', 'DATE', 'PERSON', 'PERSON', 'CARDINAL', 'MONEY', 'DATE', 'PERSON', 'ORG', 'PERSON', 'PERSON', 'PERSON', 'GPE', 'GPE', 'NORP', 'ORG', 'GPE', 'DATE', 'NORP', 'GPE', 'NORP', 'GPE', 'ORG', 'PERSON', 'GPE', 'DATE', 'NORP', 'GPE', 'DATE', 'CARDINAL', 'CARDINAL', 'CARDINAL', 'GPE', 'PERSON', 'DATE', 'PERSON', 'NORP', 'CARDINAL', 'GPE', 'NORP', 'PERSON', 'PERSON', 'GPE', 'NORP', 'DATE', 'NORP', 'PERSON', 'NORP', 'PERSON', 'GPE', 'CARDINAL', 'GPE', 'ORG', 'ORG', 'DATE', 'GPE', 'LOC', 'DATE', 'DATE', 'EVENT', 'GPE', 'GPE', 'DATE', 'DATE', 'ORG', 'ORG', 'CARDINAL', 'NORP', 'EVENT', 'DATE', 'DATE', 'GPE', 'PERSON', 'GPE', 'DATE', 'GPE', 'PERSON', 'PERSON', 'NORP', 'DATE', 'GPE', 'NORP', 'DATE', 'NORP', 'DATE', 'GPE', 'CARDINAL', 'GPE', 'ORG', 'PERSON', 'NORP', 'GPE', 'DATE', 'TIME', 'DATE', 'GPE', 'GPE', 'GPE', 'ORG', 'CARDINAL', 'CARDINAL', 'GPE', 'DATE', 'GPE', 'DATE', 'NORP', 'NORP', 'NORP', 'CARDINAL', 'GPE', 'ORG', 'NORP', 'PERSON', 'ORG', 'ORG', 'ORG', 'GPE', 'NORP', 'TIME', 'GPE', 'CARDINAL', 'NORP', 'NORP', 'NORP', 'CARDINAL', 'NORP', 'NORP', 'GPE', 'PERSON', 'DATE', 'GPE', 'TIME', 'NORP', 'PERSON', 'ORDINAL', 'GPE', 'NORP', 'GPE', 'DATE', 'NORP', 'NORP', 'GPE', 'GPE', 'GPE', 'GPE', 'CARDINAL', 'NORP', 'NORP', 'GPE', 'GPE', 'DATE', 'ORG', 'NORP', 'GPE', 'DATE', 'NORP', 'NORP', 'DATE', 'PERSON', 'ORG', 'NORP', 'PERSON', 'ORG', 'GPE', 'GPE', 'ORG', 'GPE', 'ORG', 'ORG', 'PERSON', 'ORG', 'GPE', 'NORP', 'GPE', 'PERSON', 'ORG', 'DATE', 'GPE', 'NORP', 'GPE', 'GPE', 'GPE', 'DATE', 'ORG', 'DATE', 'PERSON', 'DATE', 'CARDINAL', 'ORG', 'GPE', 'GPE', 'DATE', 'CARDINAL', 'CARDINAL', 'GPE', 'DATE', 'ORG', 'GPE', 'LOC', 'GPE', 'DATE', 'GPE', 'GPE', 'GPE', 'GPE', 'CARDINAL', 'CARDINAL', 'CARDINAL', 'CARDINAL', 'CARDINAL', 'DATE', 'GPE', 'GPE', 'CARDINAL', 'ORG', 'TIME', 'DATE', 'LOC', 'GPE', 'CARDINAL', 'ORG', 'ORG', 'GPE', 'ORG', 'GPE', 'ORG', 'GPE', 'ORG', 'ORG', 'CARDINAL', 'DATE', 'NORP', 'DATE', 'CARDINAL', 'NORP', 'DATE', 'ORG', 'PERSON', 'NORP', 'CARDINAL', 'DATE', 'CARDINAL', 'NORP', 'GPE', 'GPE', 'CARDINAL', 'CARDINAL', 'GPE', 'CARDINAL', 'GPE', 'NORP', 'PERSON', 'NORP', 'PERSON', 'GPE', 'DATE', 'GPE', 'CARDINAL', 'CARDINAL', 'NORP', 'GPE', 'ORDINAL', 'PERSON', 'DATE', 'DATE', 'NORP', 'ORG', 'CARDINAL', 'DATE', 'ORG', 'GPE', 'GPE', 'ORG', 'CARDINAL', 'DATE', 'LOC', 'LOC', 'LOC', 'LOC', 'NORP', 'GPE', 'GPE', 'ORG', 'NORP', 'ORG', 'PERSON', 'DATE', 'NORP', 'ORG', 'ORG', 'CARDINAL', 'ORG', 'NORP', 'DATE', 'ORG', 'PERSON', 'ORG', 'PERSON', 'DATE', 'PERSON', 'DATE', 'PERSON', 'DATE', 'PERSON', 'ORG', 'GPE', 'PERSON', 'GPE', 'PERSON', 'DATE', 'ORG', 'GPE', 'DATE', 'PERSON', 'DATE', 'DATE', 'PERSON', 'GPE', 'NORP', 'GPE', 'DATE', 'DATE', 'GPE', 'CARDINAL', 'PERSON', 'GPE', 'GPE', 'GPE', 'PERSON', 'GPE', 'GPE', 'FAC', 'DATE', 'DATE', 'NORP', 'PERSON', 'NORP', 'GPE', 'GPE', 'CARDINAL', 'GPE', 'ORG', 'ORG', 'ORG', 'PERSON', 'GPE', 'GPE', 'GPE', 'ORG', 'PERSON', 'PERSON', 'GPE', 'GPE', 'ORDINAL', 'GPE', 'PERSON', 'GPE', 'GPE', 'NORP', 'GPE', 'GPE', 'PERSON', 'NORP', 'ORG', 'PERSON', 'GPE', 'NORP', 'ORG', 'ORG', 'MONEY', 'ORG', 'GPE', 'DATE', 'ORG', 'DATE', 'ORG', 'PERCENT', 'ORG', 'PERSON', 'GPE', 'GPE', 'DATE', 'DATE', 'DATE', 'PERSON', 'DATE', 'ORG', 'PERSON', 'NORP', 'PERSON', 'GPE', 'GPE', 'CARDINAL', 'PERSON', 'CARDINAL', 'NORP', 'GPE', 'DATE', 'PRODUCT', 'LOC', 'FAC', 'DATE', 'ORG', 'PERCENT', 'ORG', 'ORG', 'GPE', 'NORP', 'ORG', 'GPE', 'CARDINAL', 'LOC', 'NORP', 'PERSON', 'DATE', 'DATE', 'PERSON', 'GPE', 'DATE', 'ORG', 'ORG', 'ORG', 'DATE', 'ORG', 'ORG', 'LOC', 'GPE', 'NORP', 'PERSON', 'GPE', 'NORP', 'GPE', 'DATE', 'PERSON', 'ORDINAL', 'DATE', 'DATE', 'DATE', 'DATE', 'GPE', 'ORG', 'PERSON', 'DATE', 'DATE', 'NORP', 'ORG', 'ORG', 'ORG', 'ORG', 'DATE', 'PRODUCT', 'NORP', 'ORG', 'GPE', 'GPE', 'NORP', 'GPE', 'GPE', 'GPE', 'GPE', 'DATE', 'PERSON', 'PERSON', 'CARDINAL', 'GPE', 'CARDINAL', 'GPE', 'NORP', 'CARDINAL', 'NORP', 'GPE', 'NORP', 'PERSON', 'DATE', 'GPE', 'DATE', 'GPE', 'DATE', 'GPE', 'GPE', 'NORP', 'NORP', 'GPE', 'DATE', 'GPE', 'NORP', 'NORP', 'GPE', 'NORP', 'NORP', 'DATE', 'DATE', 'GPE', 'GPE', 'GPE', 'GPE', 'DATE', 'NORP', 'NORP', 'EVENT', 'GPE', 'PERSON', 'GPE', 'ORG', 'DATE', 'PERSON', 'GPE', 'CARDINAL', 'ORG', 'ORG', 'PERSON', 'DATE', 'ORG', 'GPE', 'LANGUAGE', 'NORP', 'GPE', 'ORDINAL', 'WORK_OF_ART', 'DATE', 'ORDINAL', 'NORP', 'DATE', 'PERSON', 'ORG', 'ORDINAL', 'PERSON', 'GPE', 'GPE', 'CARDINAL', 'GPE', 'NORP', 'NORP', 'NORP', 'DATE', 'GPE', 'CARDINAL', 'CARDINAL', 'PERSON', 'NORP', 'ORG', 'GPE', 'PERSON', 'DATE', 'ORG', 'ORG', 'PERSON', 'PERSON', 'ORG', 'PERSON', 'PERSON', 'GPE', 'ORG', 'PERSON', 'DATE', 'ORG', 'PERSON', 'DATE', 'PERSON', 'CARDINAL', 'NORP', 'NORP', 'DATE', 'NORP', 'DATE', 'PERSON', 'CARDINAL', 'GPE', 'PERSON', 'DATE', 'ORDINAL', 'DATE', 'PERSON', 'DATE', 'DATE', 'ORG', 'DATE', 'GPE', 'PERSON', 'NORP', 'DATE', 'GPE', 'GPE', 'CARDINAL', 'DATE', 'ORDINAL', 'EVENT', 'PERSON', 'CARDINAL', 'NORP', 'GPE', 'PERSON', 'TIME', 'PERSON', 'GPE', 'PERSON', 'DATE', 'ORG', 'GPE', 'ORDINAL', 'CARDINAL', 'PERSON', 'CARDINAL', 'PERSON', 'TIME', 'PERSON', 'DATE', 'NORP', 'PERSON', 'PERSON', 'PERSON', 'NORP', 'PERSON', 'GPE', 'ORDINAL', 'CARDINAL', 'TIME', 'PERSON', 'PERSON', 'CARDINAL', 'ORG', 'GPE', 'CARDINAL', 'CARDINAL', 'CARDINAL', 'ORG', 'GPE', 'CARDINAL', 'GPE', 'GPE', 'CARDINAL', 'DATE', 'PERSON', 'DATE', 'GPE', 'GPE', 'NORP', 'CARDINAL', 'CARDINAL', 'GPE', 'DATE', 'GPE', 'PERSON', 'CARDINAL', 'GPE', 'DATE', 'DATE', 'DATE', 'PERSON', 'GPE', 'DATE', 'GPE', 'DATE', 'GPE', 'PERSON', 'DATE', 'MONEY', 'DATE', 'ORG', 'GPE', 'CARDINAL', 'CARDINAL', 'DATE', 'ORG', 'QUANTITY', 'GPE', 'GPE', 'GPE', 'GPE', 'CARDINAL', 'CARDINAL', 'DATE', 'DATE', 'CARDINAL', 'NORP', 'PERSON', 'CARDINAL', 'ORG', 'CARDINAL', 'TIME', 'EVENT', 'ORG', 'GPE', 'DATE', 'GPE', 'PERCENT', 'DATE', 'ORG', 'PERSON', 'ORG', 'DATE', 'LOC', 'GPE', 'ORG', 'GPE', 'ORG', 'LOC', 'GPE', 'DATE', 'DATE', 'PERSON', 'GPE', 'MONEY', 'NORP', 'DATE', 'ORG', 'GPE', 'GPE', 'NORP', 'PERSON', 'MONEY', 'ORG', 'DATE', 'DATE', 'GPE', 'DATE', 'DATE', 'PERSON', 'GPE', 'DATE', 'NORP', 'CARDINAL', 'NORP', 'DATE', 'DATE', 'CARDINAL', 'GPE', 'NORP', 'NORP', 'NORP', 'GPE', 'DATE', 'GPE', 'CARDINAL', 'GPE', 'DATE', 'GPE', 'GPE', 'GPE', 'PERSON', 'GPE', 'NORP', 'NORP', 'DATE', 'GPE', 'GPE', 'NORP', 'GPE', 'PERSON', 'GPE', 'GPE', 'NORP', 'NORP', 'DATE', 'NORP', 'GPE', 'NORP', 'GPE', 'DATE', 'CARDINAL', 'ORDINAL', 'CARDINAL', 'NORP', 'PERSON', 'GPE', 'DATE', 'GPE', 'CARDINAL', 'DATE', 'NORP', 'DATE', 'GPE', 'NORP', 'NORP', 'CARDINAL', 'NORP', 'CARDINAL', 'CARDINAL', 'ORG', 'DATE', 'ORG', 'ORG', 'ORG', 'GPE', 'CARDINAL', 'ORG', 'GPE', 'GPE', 'GPE', 'DATE', 'GPE', 'PERSON', 'GPE', 'NORP', 'DATE', 'NORP', 'ORG', 'GPE', 'ORG', 'GPE', 'DATE', 'GPE', 'CARDINAL', 'GPE', 'CARDINAL', 'NORP', 'GPE', 'GPE', 'GPE', 'CARDINAL', 'ORG', 'DATE', 'TIME', 'NORP', 'GPE', 'GPE', 'ORG', 'DATE', 'NORP', 'NORP', 'GPE', 'NORP', 'DATE', 'DATE', 'ORG', 'CARDINAL', 'NORP', 'GPE', 'ORG', 'ORG', 'ORG', 'GPE', 'DATE', 'DATE', 'ORG', 'GPE', 'PERSON', 'NORP', 'CARDINAL', 'NORP', 'PERSON', 'GPE', 'GPE', 'GPE', 'PERSON', 'GPE', 'ORG', 'ORG', 'GPE', 'GPE', 'GPE', 'DATE', 'ORG', 'PERSON', 'GPE', 'PERSON', 'NORP', 'GPE', 'GPE', 'ORG', 'GPE', 'GPE', 'GPE', 'DATE', 'GPE', 'GPE', 'DATE', 'QUANTITY', 'DATE', 'GPE', 'CARDINAL', 'NORP', 'NORP', 'DATE', 'DATE', 'CARDINAL', 'DATE', 'CARDINAL', 'ORG', 'NORP', 'LOC', 'DATE', 'DATE', 'PERSON', 'GPE', 'DATE', 'GPE', 'ORG', 'ORG', 'FAC', 'GPE', 'LOC', 'LOC', 'PERSON', 'GPE', 'NORP', 'DATE', 'GPE', 'NORP', 'GPE', 'CARDINAL', 'LOC', 'GPE', 'GPE', 'CARDINAL', 'CARDINAL', 'NORP', 'DATE', 'PERSON', 'DATE', 'LOC', 'LOC', 'NORP', 'GPE', 'GPE', 'DATE', 'ORG', 'PERSON', 'DATE', 'NORP', 'NORP', 'GPE', 'GPE', 'GPE', 'PERSON', 'DATE', 'DATE', 'PERSON', 'GPE', 'GPE', 'EVENT', 'ORG', 'DATE', 'GPE', 'ORG', 'DATE', 'NORP', 'PERSON', 'FAC', 'NORP', 'GPE', 'PERSON', 'DATE', 'DATE', 'GPE', 'PERSON', 'DATE', 'NORP', 'NORP', 'PERSON', 'ORG', 'PERSON', 'NORP', 'DATE', 'NORP', 'DATE', 'NORP', 'NORP', 'GPE', 'GPE', 'ORDINAL', 'DATE', 'GPE', 'GPE', 'DATE', 'DATE', 'GPE', 'NORP', 'PERSON', 'NORP', 'PERSON', 'GPE', 'DATE', 'GPE', 'GPE', 'ORG', 'GPE', 'GPE', 'GPE', 'DATE', 'CARDINAL', 'CARDINAL', 'LOC', 'GPE', 'CARDINAL', 'DATE', 'CARDINAL', 'PERSON', 'GPE', 'NORP', 'DATE', 'GPE', 'NORP', 'DATE', 'DATE', 'FAC', 'ORG', 'PERSON', 'NORP', 'GPE', 'PERSON', 'GPE', 'DATE', 'GPE', 'GPE', 'GPE', 'ORG', 'DATE', 'GPE', 'ORG', 'PERSON', 'GPE', 'GPE', 'NORP', 'GPE', 'GPE', 'NORP', 'PERSON', 'CARDINAL', 'ORG', 'ORG', 'GPE', 'GPE', 'DATE', 'CARDINAL', 'GPE', 'GPE', 'DATE', 'PERSON', 'ORG', 'PERSON', 'ORG', 'DATE', 'PERSON', 'ORDINAL', 'ORG', 'DATE', 'ORG', 'GPE', 'NORP', 'DATE', 'PERSON', 'LOC', 'ORG', 'GPE', 'GPE', 'GPE', 'PERSON', 'ORG', 'GPE', 'NORP', 'PERSON', 'ORG', 'CARDINAL', 'ORG', 'GPE', 'PERSON', 'ORG', 'GPE', 'GPE', 'NORP', 'NORP', 'DATE', 'GPE', 'ORG', 'GPE', 'ORG', 'GPE', 'GPE', 'ORG', 'DATE', 'GPE', 'GPE', 'CARDINAL', 'NORP', 'NORP', 'GPE', 'DATE', 'DATE', 'CARDINAL', 'NORP', 'GPE', 'GPE', 'CARDINAL', 'CARDINAL', 'GPE', 'DATE', 'DATE', 'GPE', 'DATE', 'CARDINAL', 'PERCENT', 'NORP', 'NORP', 'PERSON', 'NORP', 'NORP', 'DATE', 'CARDINAL', 'NORP', 'GPE', 'NORP', 'PERSON', 'GPE', 'GPE', 'GPE', 'NORP', 'DATE', 'NORP', 'DATE', 'NORP', 'GPE', 'CARDINAL', 'CARDINAL', 'ORG', 'PERSON', 'ORG', 'ORDINAL', 'DATE', 'ORDINAL', 'ORG', 'DATE', 'NORP', 'DATE', 'GPE', 'PERSON', 'CARDINAL', 'GPE', 'DATE', 'CARDINAL', 'PERSON', 'ORDINAL', 'DATE', 'PRODUCT', 'CARDINAL', 'CARDINAL', 'CARDINAL', 'NORP', 'CARDINAL', 'NORP', 'CARDINAL', 'CARDINAL', 'CARDINAL', 'NORP', 'PERSON', 'ORG', 'DATE', 'CARDINAL', 'NORP', 'NORP', 'DATE', 'DATE', 'DATE', 'GPE', 'CARDINAL', 'LOC', 'CARDINAL', 'GPE', 'GPE', 'CARDINAL', 'TIME', 'DATE', 'PERSON', 'PERSON', 'PERSON', 'DATE', 'CARDINAL', 'TIME', 'DATE', 'DATE', 'ORG', 'DATE', 'GPE', 'DATE', 'PERSON', 'DATE', 'GPE', 'PERSON', 'DATE', 'DATE', 'PERSON', 'ORG', 'ORG', 'NORP', 'GPE', 'LANGUAGE', 'LOC', 'PERSON', 'FAC', 'DATE', 'LOC', 'GPE', 'ORG', 'DATE', 'CARDINAL', 'PERSON', 'LOC', 'DATE', 'ORG', 'FAC', 'DATE', 'PERSON', 'DATE', 'PERCENT', 'DATE', 'FAC', 'QUANTITY', 'LOC', 'DATE', 'LOC', 'GPE', 'DATE', 'ORG', 'NORP', 'CARDINAL', 'ORG', 'DATE', 'GPE', 'ORG', 'TIME', 'ORG', 'ORG', 'ORG', 'ORG', 'PERSON', 'GPE', 'NORP', 'DATE', 'NORP', 'DATE', 'PERSON', 'ORG', 'GPE', 'CARDINAL', 'TIME', 'ORG', 'DATE', 'NORP', 'PERSON', 'NORP', 'PERSON', 'GPE', 'GPE', 'PERSON', 'NORP', 'PERSON', 'GPE', 'CARDINAL', 'DATE', 'GPE', 'GPE', 'ORG', 'PERSON', 'LOC', 'CARDINAL', 'PERSON', 'NORP', 'PERSON', 'ORG', 'NORP', 'LOC', 'NORP', 'PERSON', 'GPE', 'NORP', 'PERCENT', 'DATE', 'DATE', 'GPE', 'DATE', 'PERSON', 'DATE', 'NORP', 'ORG', 'NORP', 'PERSON', 'ORG', 'NORP', 'DATE', 'DATE', 'NORP', 'GPE', 'GPE', 'LOC', 'NORP', 'DATE', 'DATE', 'NORP', 'GPE', 'NORP', 'DATE', 'GPE', 'GPE', 'NORP', 'GPE', 'GPE', 'ORG', 'NORP', 'NORP', 'GPE', 'GPE', 'DATE', 'NORP', 'DATE', 'NORP', 'PERSON', 'NORP', 'GPE', 'NORP', 'ORG', 'ORG', 'ORDINAL', 'PERSON', 'GPE', 'GPE', 'NORP', 'DATE', 'PERSON', 'ORG', 'GPE', 'DATE', 'DATE', 'ORG', 'PERSON', 'GPE', 'NORP', 'DATE', 'GPE', 'DATE', 'ORG', 'PERSON', 'GPE', 'ORG', 'DATE', 'DATE', 'GPE', 'ORG', 'DATE', 'CARDINAL', 'NORP', 'NORP', 'GPE', 'GPE', 'DATE', 'GPE', 'LOC', 'GPE', 'DATE', 'CARDINAL', 'ORG', 'DATE', 'CARDINAL', 'CARDINAL', 'CARDINAL', 'ORG', 'GPE', 'GPE', 'GPE', 'DATE', 'DATE', 'DATE', 'PERSON', 'DATE', 'GPE', 'GPE', 'DATE', 'CARDINAL', 'ORG', 'DATE', 'CARDINAL', 'ORG', 'ORDINAL', 'DATE', 'GPE', 'CARDINAL', 'ORG', 'ORG', 'ORG', 'DATE', 'CARDINAL', 'PERSON', 'NORP', 'ORG', 'PERSON', 'ORG', 'PERSON', 'PERSON', 'ORG', 'PERSON', 'CARDINAL', 'CARDINAL', 'NORP', 'ORDINAL', 'NORP', 'NORP', 'DATE', 'ORG', 'NORP', 'ORG', 'GPE', 'DATE', 'GPE', 'NORP', 'GPE', 'DATE', 'PERSON', 'DATE', 'NORP', 'DATE', 'PERSON', 'PERSON', 'DATE', 'ORG', 'NORP', 'GPE', 'DATE', 'GPE', 'CARDINAL', 'GPE', 'NORP', 'NORP', 'GPE', 'GPE', 'ORG', 'GPE', 'GPE', 'TIME', 'ORG', 'ORG', 'DATE', 'DATE', 'ORG', 'GPE', 'GPE', 'DATE', 'NORP', 'PERSON', 'LOC', 'ORG', 'DATE', 'ORG', 'DATE', 'ORG', 'ORG', 'DATE', 'NORP', 'GPE', 'PERSON', 'GPE', 'ORG', 'GPE', 'GPE', 'DATE', 'NORP', 'PERSON', 'GPE', 'PERSON', 'NORP', 'GPE', 'DATE', 'GPE', 'GPE', 'GPE', 'GPE', 'PERSON', 'GPE', 'DATE', 'GPE', 'GPE', 'CARDINAL', 'NORP', 'ORG', 'ORG', 'DATE', 'NORP', 'DATE', 'PERSON', 'GPE', 'ORG', 'CARDINAL', 'ORG', 'GPE', 'GPE', 'PERSON', 'PERSON', 'WORK_OF_ART', 'NORP', 'PERSON', 'PERSON', 'GPE', 'DATE', 'GPE', 'CARDINAL', 'GPE', 'GPE', 'DATE', 'PERSON', 'DATE', 'NORP', 'PERSON', 'DATE', 'GPE', 'CARDINAL', 'NORP', 'NORP', 'GPE', 'GPE', 'NORP', 'GPE', 'GPE', 'CARDINAL', 'GPE', 'LOC', 'GPE', 'GPE', 'GPE', 'GPE', 'CARDINAL', 'NORP', 'GPE', 'ORG', 'DATE', 'GPE', 'PERSON', 'DATE', 'GPE', 'CARDINAL', 'GPE', 'PERSON', 'NORP', 'GPE', 'GPE', 'GPE', 'NORP', 'GPE', 'CARDINAL', 'NORP', 'NORP', 'NORP', 'EVENT', 'LOC', 'ORG', 'PERSON', 'ORG', 'PERSON', 'DATE', 'GPE', 'NORP', 'GPE', 'GPE', 'GPE', 'NORP', 'GPE', 'NORP', 'PERSON', 'DATE', 'GPE', 'PERSON', 'ORG', 'PERSON', 'GPE', 'GPE', 'GPE', 'DATE', 'ORG', 'GPE', 'ORG', 'DATE', 'NORP', 'EVENT', 'PERSON', 'LOC', 'CARDINAL', 'CARDINAL', 'GPE', 'GPE', 'GPE', 'GPE', 'GPE', 'GPE', 'ORDINAL', 'ORG', 'ORG', 'GPE', 'NORP', 'ORG', 'GPE', 'DATE', 'ORG', 'NORP', 'PERSON', 'PERSON', 'PERSON', 'DATE', 'GPE', 'CARDINAL', 'CARDINAL', 'GPE', 'NORP', 'GPE', 'CARDINAL', 'GPE', 'PERSON', 'LOC', 'PERSON', 'DATE', 'PERSON', 'PERSON', 'PERSON', 'GPE', 'DATE', 'NORP', 'NORP', 'CARDINAL', 'NORP', 'GPE', 'PERSON', 'FAC', 'ORG', 'ORG', 'DATE', 'GPE', 'LOC', 'GPE', 'GPE', 'GPE', 'GPE', 'CARDINAL', 'DATE', 'GPE', 'ORG', 'GPE', 'GPE', 'ORDINAL', 'DATE', 'DATE', 'NORP', 'GPE', 'GPE', 'GPE', 'NORP', 'DATE', 'EVENT', 'GPE', 'GPE', 'GPE', 'DATE', 'NORP', 'NORP', 'DATE', 'DATE', 'EVENT', 'DATE', 'NORP', 'DATE', 'DATE', 'TIME', 'DATE', 'PERSON', 'EVENT', 'DATE', 'GPE', 'ORG', 'GPE', 'MONEY', 'DATE', 'LOC', 'LOC', 'ORG', 'PERSON', 'GPE', 'NORP', 'GPE', 'CARDINAL', 'ORG', 'ORG', 'PERSON', 'CARDINAL', 'PERSON', 'DATE', 'NORP', 'ORG', 'CARDINAL', 'CARDINAL', 'NORP', 'ORG', 'CARDINAL', 'DATE', 'GPE', 'PERSON', 'ORG', 'PERCENT', 'PERSON', 'ORG', 'PERSON', 'NORP', 'PERSON', 'NORP', 'NORP', 'GPE', 'PERSON', 'DATE', 'DATE', 'CARDINAL', 'NORP', 'NORP', 'DATE', 'CARDINAL', 'CARDINAL', 'CARDINAL', 'NORP', 'PRODUCT', 'GPE', 'NORP', 'NORP', 'GPE', 'DATE', 'NORP', 'CARDINAL', 'DATE', 'PERSON', 'DATE', 'GPE', 'NORP', 'NORP', 'DATE', 'ORG', 'ORG', 'ORG', 'CARDINAL', 'DATE', 'NORP', 'NORP', 'NORP', 'GPE', 'ORG', 'PERSON', 'NORP', 'GPE', 'ORG', 'ORG', 'DATE', 'NORP', 'ORG', 'GPE', 'NORP', 'GPE', 'DATE', 'LANGUAGE', 'GPE', 'GPE', 'PERSON', 'CARDINAL', 'NORP', 'GPE', 'DATE', 'ORG', 'QUANTITY', 'GPE', 'CARDINAL', 'GPE', 'PERSON', 'DATE', 'NORP', 'GPE', 'NORP', 'GPE', 'NORP', 'GPE', 'GPE', 'DATE', 'NORP', 'ORG', 'GPE', 'GPE', 'GPE', 'DATE', 'ORG', 'NORP', 'DATE', 'ORDINAL', 'NORP', 'DATE', 'DATE', 'CARDINAL', 'ORG', 'PERSON', 'PERSON', 'PERSON', 'GPE', 'CARDINAL', 'DATE', 'NORP', 'NORP', 'CARDINAL', 'DATE', 'NORP', 'DATE', 'GPE', 'ORG', 'PERSON', 'NORP', 'DATE', 'GPE', 'NORP', 'GPE', 'CARDINAL', 'GPE', 'GPE', 'GPE', 'CARDINAL', 'CARDINAL', 'PERSON', 'TIME', 'GPE', 'ORG', 'ORDINAL', 'ORG', 'PERSON', 'CARDINAL', 'GPE', 'EVENT', 'NORP', 'GPE', 'PERSON', 'ORG', 'GPE', 'LOC', 'ORG', 'GPE', 'DATE', 'TIME', 'GPE', 'NORP', 'CARDINAL', 'ORG', 'GPE', 'ORG', 'PERSON', 'LOC', 'NORP', 'PERSON', 'ORG', 'NORP', 'DATE', 'NORP', 'NORP', 'GPE', 'DATE', 'GPE', 'ORG', 'DATE', 'GPE', 'LOC', 'ORG', 'GPE', 'NORP', 'LOC', 'GPE', 'ORG', 'NORP', 'PERSON', 'GPE', 'DATE', 'ORG', 'NORP', 'NORP', 'GPE', 'GPE', 'GPE', 'GPE', 'GPE', 'CARDINAL', 'CARDINAL', 'DATE', 'GPE', 'ORG', 'DATE', 'GPE', 'DATE', 'GPE', 'DATE', 'ORG', 'NORP', 'CARDINAL', 'LOC', 'DATE', 'CARDINAL', 'NORP', 'PERSON', 'GPE', 'NORP', 'PERSON', 'GPE', 'DATE', 'NORP', 'PERSON', 'PERSON', 'DATE', 'NORP', 'PERSON', 'NORP', 'NORP', 'NORP', 'NORP', 'GPE', 'PERSON', 'NORP', 'GPE', 'NORP', 'CARDINAL', 'GPE', 'CARDINAL', 'GPE', 'GPE', 'NORP', 'ORG', 'PERSON', 'ORG', 'DATE', 'ORG', 'DATE', 'PERSON', 'PERSON', 'PERSON', 'NORP', 'PERSON', 'PERSON', 'PERSON', 'PERSON', 'DATE', 'CARDINAL', 'ORG', 'PERSON', 'PERSON', 'PERSON', 'PERSON', 'PERSON', 'GPE', 'PERSON', 'ORG', 'PERSON', 'DATE', 'NORP', 'GPE', 'ORG', 'DATE', 'NORP', 'PERSON', 'DATE', 'PERSON', 'PERSON', 'GPE', 'GPE', 'PERSON', 'GPE', 'DATE', 'GPE', 'GPE', 'NORP', 'CARDINAL', 'DATE', 'CARDINAL', 'CARDINAL', 'CARDINAL', 'LOC', 'NORP', 'DATE', 'CARDINAL', 'GPE', 'GPE', 'CARDINAL', 'NORP', 'CARDINAL', 'NORP', 'TIME', 'GPE', 'NORP', 'ORG', 'GPE', 'DATE', 'GPE', 'PERSON', 'DATE', 'ORG', 'PERSON', 'DATE', 'NORP', 'GPE', 'DATE', 'ORG', 'ORG', 'CARDINAL', 'ORG', 'DATE', 'GPE', 'NORP', 'GPE', 'CARDINAL', 'DATE', 'GPE', 'NORP', 'NORP', 'GPE', 'CARDINAL', 'ORDINAL', 'CARDINAL', 'ORG', 'TIME', 'GPE', 'CARDINAL', 'CARDINAL', 'GPE', 'CARDINAL', 'DATE', 'GPE', 'GPE', 'DATE', 'NORP', 'CARDINAL', 'CARDINAL', 'GPE', 'PERSON', 'CARDINAL', 'GPE', 'DATE', 'CARDINAL', 'NORP', 'GPE', 'GPE', 'GPE', 'NORP', 'DATE', 'GPE', 'DATE', 'PERSON', 'PERSON', 'PERSON', 'NORP', 'NORP', 'GPE', 'PERSON', 'GPE', 'GPE', 'NORP', 'ORG', 'DATE', 'NORP', 'ORG', 'GPE', 'CARDINAL', 'CARDINAL', 'GPE', 'CARDINAL', 'NORP', 'ORG', 'GPE', 'DATE', 'PERSON', 'CARDINAL', 'GPE', 'EVENT', 'CARDINAL', 'GPE', 'PERSON', 'DATE', 'CARDINAL', 'NORP', 'GPE', 'PERSON', 'ORG', 'ORG', 'CARDINAL', 'DATE', 'NORP', 'GPE', 'GPE', 'NORP', 'ORG', 'NORP', 'CARDINAL', 'ORG', 'DATE', 'ORDINAL', 'ORG', 'PERSON', 'GPE', 'ORG', 'DATE', 'NORP', 'GPE', 'CARDINAL', 'NORP', 'PERSON', 'GPE', 'ORG', 'DATE', 'GPE', 'CARDINAL', 'ORG', 'CARDINAL', 'NORP', 'GPE', 'DATE', 'PERSON', 'ORG', 'PERSON', 'DATE', 'PERSON', 'ORG', 'DATE', 'GPE', 'GPE', 'ORG', 'ORG', 'GPE', 'NORP', 'NORP', 'PERSON', 'PERSON', 'DATE', 'GPE', 'ORG', 'PERSON', 'DATE', 'ORG', 'GPE', 'NORP', 'GPE', 'ORG', 'CARDINAL', 'DATE', 'CARDINAL', 'CARDINAL', 'PERSON', 'DATE', 'GPE', 'DATE', 'ORG', 'PERSON', 'DATE', 'GPE', 'NORP', 'DATE', 'NORP', 'PERSON', 'PERSON', 'NORP', 'GPE', 'NORP', 'DATE', 'GPE', 'GPE', 'GPE', 'GPE', 'GPE', 'DATE', 'ORG', 'PERSON', 'NORP', 'GPE', 'DATE', 'GPE', 'ORG', 'ORG', 'GPE', 'NORP', 'GPE', 'ORG', 'PERSON', 'ORG', 'WORK_OF_ART', 'PERSON', 'PERSON', 'GPE', 'GPE', 'ORG', 'ORG', 'DATE', 'MONEY', 'MONEY', 'DATE', 'DATE', 'DATE', 'MONEY', 'MONEY', 'DATE', 'MONEY', 'MONEY', 'GPE', 'GPE', 'DATE', 'GPE', 'WORK_OF_ART', 'DATE', 'NORP', 'ORG', 'ORG', 'NORP', 'LANGUAGE', 'DATE', 'PERSON', 'PERSON', 'PERSON', 'WORK_OF_ART', 'CARDINAL', 'PERCENT', 'CARDINAL', 'NORP', 'GPE', 'DATE', 'ORG', 'PERCENT', 'DATE', 'GPE', 'GPE', 'DATE', 'GPE', 'DATE', 'GPE', 'PERSON', 'ORG', 'ORG', 'GPE', 'PERSON', 'PERSON', 'LOC', 'GPE', 'NORP', 'GPE', 'DATE', 'GPE', 'LOC', 'GPE', 'EVENT', 'NORP', 'EVENT', 'DATE', 'ORG', 'GPE', 'ORG', 'DATE', 'GPE', 'WORK_OF_ART', 'GPE', 'ORDINAL', 'DATE', 'ORG', 'DATE', 'ORG', 'DATE', 'PERSON', 'PERSON', 'DATE', 'GPE', 'DATE', 'ORG', 'ORDINAL', 'ORG', 'CARDINAL', 'ORG', 'CARDINAL', 'ORG', 'GPE', 'DATE', 'DATE', 'DATE', 'ORG', 'NORP', 'DATE', 'GPE', 'MONEY', 'GPE', 'ORG', 'DATE', 'GPE', 'ORG', 'GPE', 'PERSON', 'PERSON', 'DATE', 'MONEY', 'ORG', 'NORP', 'ORG', 'NORP', 'PRODUCT', 'DATE', 'GPE', 'CARDINAL', 'DATE', 'GPE', 'CARDINAL', 'GPE', 'GPE', 'GPE', 'PERSON', 'GPE', 'NORP', 'PERSON', 'GPE', 'PERSON', 'GPE', 'PERSON', 'DATE', 'NORP', 'GPE', 'DATE', 'CARDINAL', 'CARDINAL', 'DATE', 'PERSON', 'ORG', 'DATE', 'PERSON', 'NORP', 'DATE', 'ORG', 'LAW', 'GPE', 'NORP', 'PERCENT', 'CARDINAL', 'DATE', 'ORG', 'GPE', 'PERSON', 'NORP', 'CARDINAL', 'NORP', 'DATE', 'DATE', 'PERSON', 'GPE', 'GPE', 'CARDINAL', 'DATE', 'ORDINAL', 'GPE', 'GPE', 'ORG', 'DATE', 'PERSON', 'DATE', 'CARDINAL', 'PERSON', 'DATE', 'GPE', 'GPE', 'PERSON', 'PERSON', 'CARDINAL', 'GPE', 'GPE', 'ORG', 'PERSON', 'CARDINAL', 'GPE', 'ORG', 'CARDINAL', 'CARDINAL', 'DATE', 'CARDINAL', 'GPE', 'ORG', 'CARDINAL', 'ORG', 'ORG', 'GPE', 'WORK_OF_ART', 'CARDINAL', 'DATE', 'ORG', 'DATE', 'ORG', 'GPE', 'GPE', 'GPE', 'ORG', 'ORG', 'ORG', 'GPE', 'DATE', 'ORG', 'PERSON', 'DATE', 'ORDINAL', 'ORG', 'NORP', 'PERSON', 'DATE', 'TIME', 'NORP', 'PERSON', 'ORG', 'PERSON', 'GPE', 'GPE', 'CARDINAL', 'NORP', 'PERSON', 'NORP', 'NORP', 'PERSON', 'GPE', 'GPE', 'ORG', 'PERSON', 'GPE', 'DATE', 'NORP', 'ORG', 'CARDINAL', 'GPE', 'GPE', 'PERSON', 'DATE', 'CARDINAL', 'DATE', 'ORG', 'ORG', 'CARDINAL', 'ORG', 'DATE', 'GPE', 'ORG', 'ORG', 'GPE', 'CARDINAL', 'CARDINAL', 'NORP', 'NORP', 'NORP', 'GPE', 'ORDINAL', 'FAC', 'DATE', 'NORP', 'QUANTITY', 'DATE', 'CARDINAL', 'GPE', 'ORG', 'PERCENT', 'GPE', 'NORP', 'NORP', 'PERCENT', 'GPE', 'NORP', 'NORP', 'CARDINAL', 'NORP', 'GPE', 'DATE', 'GPE', 'CARDINAL', 'NORP', 'ORG', 'ORG', 'GPE', 'GPE', 'GPE', 'NORP', 'GPE', 'GPE', 'GPE', 'GPE', 'DATE', 'DATE', 'ORG', 'CARDINAL', 'CARDINAL', 'DATE', 'GPE', 'ORG', 'DATE', 'CARDINAL', 'NORP', 'DATE', 'NORP', 'GPE', 'GPE', 'NORP', 'ORG', 'DATE', 'NORP', 'GPE', 'DATE', 'GPE', 'NORP', 'GPE', 'PERSON', 'GPE', 'DATE', 'CARDINAL', 'CARDINAL', 'DATE', 'GPE', 'GPE', 'GPE', 'DATE', 'GPE', 'ORDINAL', 'ORG', 'NORP', 'PERSON', 'GPE', 'ORG', 'PERSON', 'ORG', 'GPE', 'DATE', 'ORG', 'GPE', 'EVENT', 'CARDINAL', 'GPE', 'GPE', 'GPE', 'GPE', 'ORG', 'CARDINAL', 'CARDINAL', 'GPE', 'GPE', 'LOC', 'DATE', 'NORP', 'NORP', 'NORP', 'CARDINAL', 'GPE', 'ORG', 'GPE', 'CARDINAL', 'ORG', 'NORP', 'NORP', 'DATE', 'NORP', 'ORG', 'MONEY', 'GPE', 'GPE', 'GPE', 'NORP', 'NORP', 'DATE', 'GPE', 'FAC', 'GPE', 'GPE', 'NORP', 'ORG', 'PERSON', 'DATE', 'FAC', 'FAC', 'GPE', 'GPE', 'PERSON', 'DATE', 'FAC', 'GPE', 'GPE', 'GPE', 'FAC', 'GPE', 'PERSON', 'DATE', 'GPE', 'FAC', 'DATE', 'FAC', 'GPE', 'ORG', 'LANGUAGE', 'GPE', 'DATE', 'GPE', 'ORG', 'ORG', 'NORP', 'PERSON', 'PERSON', 'CARDINAL', 'GPE', 'DATE', 'NORP', 'NORP', 'ORG', 'PERSON', 'GPE', 'GPE', 'GPE', 'GPE', 'PERSON', 'PERSON', 'FAC', 'ORG', 'ORG', 'NORP', 'GPE', 'GPE', 'DATE', 'PERSON', 'PERSON', 'PERSON', 'DATE', 'DATE', 'ORG', 'ORG', 'GPE', 'ORG', 'NORP', 'FAC', 'DATE', 'ORG', 'ORG', 'DATE', 'GPE', 'GPE', 'DATE', 'PERSON', 'ORG', 'NORP', 'GPE', 'GPE', 'GPE', 'GPE', 'GPE', 'DATE', 'CARDINAL', 'CARDINAL', 'GPE', 'GPE', 'GPE', 'DATE', 'ORG', 'NORP', 'GPE', 'GPE', 'GPE', 'CARDINAL', 'DATE', 'GPE', 'NORP', 'PERSON', 'GPE', 'DATE', 'GPE', 'ORG', 'DATE', 'ORG', 'GPE', 'ORG', 'DATE', 'GPE', 'ORG', 'PERSON', 'PERSON', 'GPE', 'DATE', 'GPE', 'GPE', 'PERSON', 'ORG', 'DATE', 'DATE', 'DATE', 'ORG', 'PERSON', 'ORG', 'PERSON', 'NORP', 'DATE', 'PERSON', 'DATE', 'PERSON', 'PERSON', 'FAC', 'DATE', 'DATE', 'GPE', 'PERSON', 'GPE', 'GPE', 'GPE', 'ORG', 'GPE', 'GPE', 'NORP', 'NORP', 'GPE', 'PERSON', 'GPE', 'ORDINAL', 'DATE', 'DATE', 'GPE', 'GPE', 'GPE', 'DATE', 'ORG', 'PERSON', 'DATE', 'NORP', 'GPE', 'GPE', 'PERSON', 'GPE', 'NORP', 'GPE', 'ORG', 'CARDINAL', 'ORDINAL', 'CARDINAL', 'GPE', 'ORG', 'NORP', 'ORDINAL', 'GPE', 'DATE', 'CARDINAL', 'CARDINAL', 'GPE', 'GPE', 'DATE', 'GPE', 'MONEY', 'GPE', 'GPE', 'GPE', 'ORDINAL', 'GPE', 'PERSON', 'NORP', 'PERSON', 'QUANTITY', 'GPE', 'ORG', 'DATE', 'CARDINAL', 'NORP', 'GPE', 'GPE', 'PERSON', 'CARDINAL', 'PERSON', 'PERSON', 'GPE', 'GPE', 'PERSON', 'CARDINAL', 'ORDINAL', 'GPE', 'GPE', 'CARDINAL', 'DATE', 'CARDINAL', 'ORG', 'PERSON', 'CARDINAL', 'DATE', 'CARDINAL', 'ORG', 'GPE', 'ORDINAL', 'DATE', 'GPE', 'DATE', 'DATE', 'ORG', 'NORP', 'DATE', 'PERSON', 'TIME', 'ORG', 'DATE', 'DATE', 'ORG', 'DATE', 'CARDINAL', 'GPE', 'LOC', 'DATE', 'LOC', 'CARDINAL', 'CARDINAL', 'LOC', 'ORG', 'DATE', 'NORP', 'GPE', 'LOC', 'ORG', 'DATE', 'NORP', 'NORP', 'CARDINAL', 'CARDINAL', 'GPE', 'EVENT', 'GPE', 'ORDINAL', 'PERSON', 'EVENT', 'PERSON', 'GPE', 'MONEY', 'GPE', 'PERSON', 'EVENT', 'CARDINAL', 'CARDINAL', 'NORP', 'DATE', 'CARDINAL', 'CARDINAL', 'PERSON', 'PERSON', 'ORG', 'GPE', 'NORP', 'NORP', 'PERSON', 'DATE', 'ORG', 'ORG', 'PERSON', 'ORG', 'PERSON', 'LOC', 'PERSON', 'PERSON', 'GPE', 'DATE', 'ORG', 'DATE', 'PERSON', 'DATE', 'NORP', 'PERSON', 'GPE', 'PERSON', 'ORG', 'GPE', 'DATE', 'ORG', 'NORP', 'CARDINAL', 'GPE', 'CARDINAL', 'GPE', 'ORG', 'DATE', 'PERSON', 'GPE', 'CARDINAL', 'GPE', 'DATE', 'NORP', 'GPE', 'DATE', 'GPE', 'PERSON', 'NORP', 'PERSON', 'CARDINAL', 'NORP', 'GPE', 'GPE', 'CARDINAL', 'CARDINAL', 'ORG', 'CARDINAL', 'PERSON', 'PERSON', 'PERSON', 'DATE', 'NORP', 'PERSON', 'GPE', 'GPE', 'DATE', 'NORP', 'PERSON', 'GPE', 'GPE', 'NORP', 'PERSON', 'NORP', 'PERSON', 'PERSON', 'GPE', 'DATE', 'NORP', 'NORP', 'NORP', 'GPE', 'DATE', 'DATE', 'NORP', 'NORP', 'PERSON', 'ORG', 'DATE', 'ORG', 'GPE', 'DATE', 'PERSON', 'DATE', 'NORP', 'PERSON', 'PERSON', 'ORG', 'PERSON', 'DATE', 'PERSON', 'DATE', 'GPE', 'DATE', 'ORG', 'GPE', 'PERSON', 'ORG', 'TIME', 'PERSON', 'DATE', 'FAC', 'ORDINAL', 'DATE', 'ORDINAL', 'DATE', 'NORP', 'LOC', 'GPE', 'ORG', 'CARDINAL', 'DATE', 'NORP', 'FAC', 'FAC', 'ORG', 'NORP', 'PERSON', 'CARDINAL', 'TIME', 'GPE', 'NORP', 'DATE', 'NORP', 'CARDINAL', 'DATE', 'GPE', 'NORP', 'ORG', 'CARDINAL', 'CARDINAL', 'CARDINAL', 'ORG', 'NORP', 'PERSON', 'ORG', 'GPE', 'PERSON', 'NORP', 'PERSON', 'DATE', 'GPE', 'PERSON', 'GPE', 'GPE', 'GPE', 'NORP', 'GPE', 'ORG', 'ORG', 'GPE', 'NORP', 'GPE', 'ORG', 'DATE', 'ORG', 'NORP', 'NORP', 'NORP', 'PERSON', 'GPE', 'FAC', 'GPE', 'GPE', 'GPE', 'NORP', 'NORP', 'PERSON', 'NORP', 'PERSON', 'DATE', 'GPE', 'GPE', 'PERSON', 'PERSON', 'DATE', 'DATE', 'GPE', 'GPE', 'GPE', 'WORK_OF_ART', 'CARDINAL', 'NORP', 'PERSON', 'GPE', 'PERSON', 'PERSON', 'GPE', 'DATE', 'ORG', 'PERSON', 'GPE', 'PERSON', 'GPE', 'PERSON', 'GPE', 'DATE', 'GPE', 'GPE', 'GPE', 'ORG', 'PERSON', 'DATE', 'DATE', 'ORG', 'GPE', 'GPE', 'ORG', 'LAW', 'ORG', 'DATE', 'GPE', 'GPE', 'ORG', 'GPE', 'NORP', 'PERSON', 'DATE', 'DATE', 'CARDINAL', 'ORG', 'PERSON', 'GPE', 'ORG', 'DATE', 'GPE', 'NORP', 'GPE', 'TIME', 'DATE', 'NORP', 'ORG', 'PERSON', 'FAC', 'PERSON', 'GPE', 'GPE', 'DATE', 'GPE', 'NORP', 'CARDINAL', 'GPE', 'DATE', 'GPE', 'TIME', 'DATE', 'GPE', 'NORP', 'ORG', 'GPE', 'GPE', 'DATE', 'DATE', 'GPE', 'NORP', 'GPE', 'GPE', 'CARDINAL', 'GPE', 'DATE', 'DATE', 'NORP', 'GPE', 'DATE', 'DATE', 'PERSON', 'PERSON', 'DATE', 'GPE', 'PERSON', 'CARDINAL', 'ORG', 'ORG', 'GPE', 'PERSON', 'PERSON', 'NORP', 'PERSON', 'ORG', 'GPE', 'GPE', 'GPE', 'GPE', 'PERSON', 'GPE', 'GPE', 'GPE', 'DATE', 'ORG', 'GPE', 'ORG', 'DATE', 'ORG', 'GPE', 'DATE', 'CARDINAL', 'ORG', 'GPE', 'FAC', 'GPE', 'ORG', 'DATE', 'ORG', 'PERSON', 'ORG', 'GPE', 'FAC', 'PERSON', 'ORG', 'CARDINAL', 'DATE', 'DATE', 'CARDINAL', 'DATE', 'DATE', 'NORP', 'PERSON', 'DATE', 'NORP', 'PERSON', 'GPE', 'DATE', 'GPE', 'GPE', 'PERSON', 'GPE', 'GPE', 'GPE', 'GPE', 'DATE', 'GPE', 'CARDINAL', 'ORG', 'GPE', 'GPE', 'PERSON', 'FAC', 'GPE', 'ORG', 'CARDINAL', 'DATE', 'NORP', 'GPE', 'DATE', 'ORG', 'GPE', 'ORG', 'GPE', 'DATE', 'CARDINAL', 'EVENT', 'ORG', 'DATE', 'PERCENT', 'DATE', 'PERCENT', 'DATE', 'ORDINAL', 'DATE', 'CARDINAL', 'DATE', 'CARDINAL', 'GPE', 'PERSON', 'MONEY', 'DATE', 'NORP', 'PERSON', 'GPE', 'NORP', 'GPE', 'GPE', 'ORG', 'PERSON', 'DATE', 'GPE', 'GPE', 'GPE', 'ORG', 'NORP', 'GPE', 'PERSON', 'CARDINAL', 'DATE', 'GPE', 'GPE', 'GPE', 'DATE', 'GPE', 'CARDINAL', 'GPE', 'DATE', 'ORG', 'PERSON', 'DATE', 'GPE', 'PERSON', 'PERSON', 'PERSON', 'ORG', 'PERSON', 'ORG', 'ORG', 'PERSON', 'PERSON', 'GPE', 'PERSON', 'ORG', 'DATE', 'PERSON', 'TIME', 'DATE', 'GPE', 'PERSON', 'CARDINAL', 'DATE', 'PERSON', 'PERSON', 'GPE', 'DATE', 'NORP', 'DATE', 'GPE', 'GPE', 'GPE', 'GPE', 'DATE', 'DATE', 'MONEY', 'GPE', 'MONEY', 'GPE', 'GPE', 'DATE', 'NORP', 'ORG', 'ORG', 'GPE', 'CARDINAL', 'NORP', 'GPE', 'NORP', 'NORP', 'TIME', 'GPE', 'GPE', 'NORP', 'CARDINAL', 'NORP', 'DATE', 'NORP', 'NORP', 'NORP', 'GPE', 'ORG', 'ORG', 'CARDINAL', 'NORP', 'ORG', 'ORG', 'MONEY', 'DATE', 'ORG', 'PERSON', 'ORG', 'MONEY', 'DATE', 'ORG', 'ORG', 'DATE', 'MONEY', 'DATE', 'ORG', 'ORG', 'MONEY', 'DATE', 'ORG', 'PRODUCT', 'ORG', 'CARDINAL', 'ORG', 'PERSON', 'GPE', 'DATE', 'ORG', 'TIME', 'GPE', 'ORDINAL', 'GPE', 'ORG', 'CARDINAL', 'GPE', 'ORG', 'CARDINAL', 'ORG', 'MONEY', 'ORG', 'DATE', 'CARDINAL', 'LOC', 'DATE', 'GPE', 'GPE', 'CARDINAL', 'PERCENT', 'GPE', 'LOC', 'GPE', 'CARDINAL', 'CARDINAL', 'GPE', 'CARDINAL', 'GPE', 'CARDINAL', 'NORP', 'NORP', 'GPE', 'NORP', 'PERSON', 'NORP', 'PERSON', 'DATE', 'NORP', 'GPE', 'NORP', 'PERSON', 'DATE', 'NORP', 'NORP', 'DATE', 'GPE', 'NORP', 'CARDINAL', 'GPE', 'GPE', 'PERSON', 'PERSON', 'DATE', 'LAW', 'LOC', 'GPE', 'LAW', 'NORP', 'PERSON', 'NORP', 'PERSON', 'DATE', 'CARDINAL', 'DATE', 'CARDINAL', 'CARDINAL', 'DATE', 'GPE', 'GPE', 'ORG', 'GPE', 'DATE', 'NORP', 'PERSON', 'NORP', 'DATE', 'GPE', 'GPE', 'CARDINAL', 'GPE', 'NORP', 'ORG', 'GPE', 'ORG', 'PERSON', 'TIME', 'DATE', 'CARDINAL', 'NORP', 'GPE', 'GPE', 'GPE', 'ORG', 'GPE', 'GPE', 'GPE', 'GPE', 'GPE', 'ORG', 'GPE', 'CARDINAL', 'ORG', 'DATE', 'CARDINAL', 'ORG', 'ORG', 'ORG', 'CARDINAL', 'DATE', 'LOC', 'GPE', 'GPE', 'ORG', 'NORP', 'LOC', 'ORG', 'GPE', 'ORG', 'DATE', 'ORG', 'PERSON', 'ORDINAL', 'EVENT', 'GPE', 'GPE', 'TIME', 'TIME', 'ORG', 'GPE', 'ORDINAL', 'CARDINAL', 'TIME', 'NORP', 'PERSON', 'ORDINAL', 'WORK_OF_ART', 'EVENT', 'EVENT', 'NORP', 'GPE', 'DATE', 'PERSON', 'NORP', 'PERSON', 'DATE', 'MONEY', 'PERSON', 'DATE', 'CARDINAL', 'ORG', 'PERSON', 'DATE', 'ORG', 'CARDINAL', 'NORP', 'GPE', 'DATE', 'DATE', 'PERSON', 'NORP', 'GPE', 'PERSON', 'GPE', 'NORP', 'GPE', 'ORG', 'GPE', 'CARDINAL', 'GPE', 'DATE', 'CARDINAL', 'CARDINAL', 'ORG', 'GPE', 'GPE', 'ORG', 'GPE', 'DATE', 'NORP', 'GPE', 'CARDINAL', 'CARDINAL', 'GPE', 'CARDINAL', 'NORP', 'NORP', 'NORP', 'GPE', 'GPE', 'DATE', 'NORP', 'DATE', 'GPE', 'ORG', 'GPE', 'PERSON', 'CARDINAL', 'CARDINAL', 'DATE', 'DATE', 'GPE', 'GPE', 'ORG', 'ORG', 'ORG', 'CARDINAL', 'PERSON', 'GPE', 'DATE', 'GPE', 'PERSON', 'ORDINAL', 'DATE', 'ORDINAL', 'GPE', 'CARDINAL', 'CARDINAL', 'GPE', 'DATE', 'DATE', 'DATE', 'DATE', 'DATE', 'DATE', 'CARDINAL', 'CARDINAL', 'GPE', 'DATE', 'NORP', 'PERSON', 'DATE', 'DATE', 'GPE', 'NORP', 'DATE', 'GPE', 'NORP', 'GPE', 'ORG', 'DATE', 'ORG', 'PERSON', 'ORG', 'DATE', 'QUANTITY', 'NORP', 'LOC', 'DATE', 'QUANTITY', 'DATE', 'GPE', 'CARDINAL', 'GPE', 'QUANTITY', 'DATE', 'DATE', 'CARDINAL', 'GPE', 'PERSON', 'GPE', 'DATE', 'GPE', 'CARDINAL', 'GPE', 'PERSON', 'GPE', 'ORG', 'GPE', 'GPE', 'GPE', 'DATE', 'DATE', 'NORP', 'PERSON', 'GPE', 'NORP', 'QUANTITY', 'CARDINAL', 'GPE', 'ORG', 'NORP', 'NORP', 'CARDINAL', 'CARDINAL', 'NORP', 'GPE', 'ORG', 'NORP', 'DATE', 'PERSON', 'PERSON', 'QUANTITY', 'GPE', 'DATE', 'NORP', 'CARDINAL', 'CARDINAL', 'CARDINAL', 'GPE', 'DATE', 'GPE', 'NORP', 'TIME', 'GPE', 'GPE', 'GPE', 'GPE', 'DATE', 'NORP', 'PERSON', 'GPE', 'GPE', 'NORP', 'DATE', 'MONEY', 'GPE', 'GPE', 'GPE', 'NORP', 'DATE', 'GPE', 'MONEY', 'GPE', 'DATE', 'CARDINAL', 'GPE', 'PERSON', 'DATE', 'ORG', 'DATE', 'DATE', 'GPE', 'CARDINAL', 'DATE', 'LAW', 'ORG', 'NORP', 'PERSON', 'ORG', 'NORP', 'GPE', 'NORP', 'DATE', 'GPE', 'PERSON', 'ORG', 'PERSON', 'ORG', 'GPE', 'CARDINAL', 'GPE', 'GPE', 'ORG', 'DATE', 'GPE', 'GPE', 'GPE', 'GPE', 'GPE', 'QUANTITY', 'CARDINAL', 'NORP', 'GPE', 'NORP', 'GPE', 'DATE', 'CARDINAL', 'NORP', 'GPE', 'GPE', 'DATE', 'GPE', 'CARDINAL', 'NORP', 'NORP', 'PERSON', 'NORP', 'DATE', 'DATE', 'DATE', 'GPE', 'DATE', 'PERSON', 'DATE', 'DATE', 'GPE', 'PERSON', 'PERCENT', 'GPE', 'NORP', 'PERSON', 'ORG', 'ORG', 'PERSON', 'ORG', 'ORG', 'CARDINAL', 'ORG', 'DATE', 'MONEY', 'GPE', 'ORDINAL', 'DATE', 'PERSON', 'DATE', 'DATE', 'PERSON', 'PERSON', 'PERSON', 'NORP', 'NORP', 'NORP', 'DATE', 'NORP', 'CARDINAL', 'DATE', 'GPE', 'ORG', 'ORG', 'DATE', 'CARDINAL', 'PERCENT', 'CARDINAL', 'GPE', 'PERCENT', 'NORP', 'DATE', 'CARDINAL', 'CARDINAL', 'NORP', 'DATE', 'NORP', 'DATE', 'NORP', 'DATE', 'DATE', 'LOC', 'DATE', 'DATE', 'MONEY', 'MONEY', 'GPE', 'DATE', 'GPE', 'LOC', 'GPE', 'PERSON', 'PERSON', 'PERCENT', 'NORP', 'LOC', 'PERCENT', 'PERSON', 'GPE', 'ORG', 'QUANTITY', 'QUANTITY', 'DATE', 'ORG', 'NORP', 'GPE', 'GPE', 'DATE', 'NORP', 'PERSON', 'NORP', 'PERSON', 'PERSON', 'PERSON', 'DATE', 'GPE', 'GPE', 'ORG', 'PERSON', 'PERSON', 'PERSON', 'DATE', 'DATE', 'GPE', 'DATE', 'GPE', 'NORP', 'NORP', 'DATE', 'ORG', 'PERSON', 'ORG', 'PERSON', 'NORP', 'NORP', 'CARDINAL', 'ORG', 'DATE', 'CARDINAL', 'ORG', 'DATE', 'NORP', 'NORP', 'PERSON', 'PERCENT', 'ORG', 'PERSON', 'ORG', 'ORG', 'ORG', 'CARDINAL', 'GPE', 'DATE', 'PERSON', 'ORG', 'NORP', 'NORP', 'ORG', 'DATE', 'NORP', 'DATE', 'PERSON', 'ORG', 'DATE', 'ORG', 'PERSON', 'NORP', 'PERSON', 'NORP', 'NORP', 'ORG', 'GPE', 'DATE', 'PERSON', 'GPE', 'DATE', 'ORG', 'GPE', 'DATE', 'CARDINAL', 'NORP', 'NORP', 'NORP', 'PERCENT', 'NORP', 'CARDINAL', 'GPE', 'ORG', 'CARDINAL', 'PERSON', 'ORG', 'GPE', 'PERSON', 'ORG', 'GPE', 'PERSON', 'DATE', 'GPE', 'GPE', 'CARDINAL', 'GPE', 'DATE', 'DATE', 'GPE', 'ORG', 'EVENT', 'DATE', 'GPE', 'GPE', 'NORP', 'NORP', 'CARDINAL', 'CARDINAL', 'NORP', 'PERSON', 'PERSON', 'NORP', 'ORDINAL', 'DATE', 'PERSON', 'PERSON', 'NORP', 'ORDINAL', 'NORP', 'PERSON', 'GPE', 'WORK_OF_ART', 'CARDINAL', 'ORG', 'GPE', 'ORDINAL', 'ORG', 'ORDINAL', 'EVENT', 'CARDINAL', 'DATE', 'PERSON', 'GPE', 'NORP', 'DATE', 'DATE', 'GPE', 'CARDINAL', 'NORP', 'GPE', 'ORDINAL', 'CARDINAL', 'GPE', 'NORP', 'PERSON', 'DATE', 'NORP', 'ORDINAL', 'GPE', 'NORP', 'TIME', 'PERSON', 'DATE', 'CARDINAL', 'NORP', 'PERSON', 'GPE', 'GPE', 'LOC', 'DATE', 'PERSON', 'CARDINAL', 'CARDINAL', 'GPE', 'GPE', 'PERSON', 'LOC', 'GPE', 'GPE', 'GPE', 'PERSON', 'GPE', 'PERSON', 'GPE', 'GPE', 'GPE', 'GPE', 'DATE', 'ORG', 'LOC', 'GPE', 'ORG', 'PRODUCT', 'ORG', 'DATE', 'NORP', 'ORG', 'ORG', 'ORG', 'CARDINAL', 'NORP', 'DATE', 'GPE', 'GPE', 'GPE', 'ORDINAL', 'DATE', 'EVENT', 'DATE', 'CARDINAL', 'CARDINAL', 'ORG', 'ORG', 'WORK_OF_ART', 'GPE', 'NORP', 'GPE', 'GPE', 'GPE', 'NORP', 'PERSON', 'DATE', 'ORG', 'DATE', 'GPE', 'PERSON', 'CARDINAL', 'ORG', 'DATE', 'PERSON', 'PERSON', 'PERSON', 'PERSON', 'ORG', 'DATE', 'PERSON', 'CARDINAL', 'CARDINAL', 'NORP', 'GPE', 'DATE', 'CARDINAL', 'NORP', 'ORG', 'NORP', 'PERSON', 'WORK_OF_ART', 'DATE', 'CARDINAL', 'CARDINAL', 'ORG', 'GPE', 'PERSON', 'CARDINAL', 'ORDINAL', 'ORDINAL', 'LAW', 'PERSON', 'GPE', 'NORP', 'PERSON', 'ORDINAL', 'DATE', 'CARDINAL', 'DATE', 'LOC', 'GPE', 'DATE', 'PERSON', 'NORP', 'NORP', 'ORDINAL', 'ORG', 'NORP', 'PERSON', 'DATE', 'NORP', 'CARDINAL', 'NORP', 'DATE', 'GPE', 'CARDINAL', 'CARDINAL', 'CARDINAL', 'LOC', 'PERSON', 'DATE', 'GPE', 'TIME', 'CARDINAL', 'ORG', 'NORP', 'GPE', 'GPE', 'CARDINAL', 'DATE', 'GPE', 'GPE', 'CARDINAL', 'ORG', 'DATE', 'NORP', 'GPE', 'ORG', 'NORP', 'CARDINAL', 'ORG', 'CARDINAL', 'DATE', 'GPE', 'NORP', 'GPE', 'DATE', 'ORDINAL', 'ORG', 'NORP', 'CARDINAL', 'NORP', 'GPE', 'CARDINAL', 'NORP', 'NORP', 'ORG', 'ORG', 'GPE', 'GPE', 'PERSON', 'NORP', 'NORP', 'ORG', 'DATE', 'CARDINAL', 'GPE', 'GPE', 'ORG', 'ORG', 'ORG', 'GPE', 'CARDINAL', 'ORG', 'ORG', 'GPE', 'GPE', 'NORP', 'GPE', 'NORP', 'PERSON', 'MONEY', 'DATE', 'ORG', 'DATE', 'GPE', 'GPE', 'CARDINAL', 'GPE', 'CARDINAL', 'DATE', 'GPE', 'ORG', 'CARDINAL', 'GPE', 'DATE', 'CARDINAL', 'CARDINAL', 'NORP', 'DATE', 'ORG', 'GPE', 'GPE', 'CARDINAL', 'GPE', 'GPE', 'NORP', 'ORG', 'ORG', 'PERSON', 'ORDINAL', 'GPE', 'ORG', 'DATE', 'GPE', 'PERSON', 'ORG', 'GPE', 'ORG', 'PERSON', 'CARDINAL', 'CARDINAL', 'DATE', 'TIME', 'DATE', 'GPE', 'PERSON', 'CARDINAL', 'GPE', 'GPE', 'PERSON', 'PERSON', 'PERSON', 'GPE', 'DATE', 'GPE', 'NORP', 'PERSON', 'ORG', 'NORP', 'ORG', 'NORP', 'GPE', 'PERSON', 'CARDINAL', 'GPE', 'ORG', 'PERSON', 'DATE', 'GPE', 'DATE', 'ORG', 'PERSON', 'PERSON', 'PERSON', 'LOC', 'GPE', 'GPE', 'DATE', 'DATE', 'LOC', 'GPE', 'PERSON', 'ORG', 'GPE', 'DATE', 'GPE', 'NORP', 'DATE', 'TIME', 'LOC', 'CARDINAL', 'LOC', 'GPE', 'GPE', 'NORP', 'CARDINAL', 'DATE', 'GPE', 'CARDINAL', 'ORG', 'NORP', 'ORG', 'CARDINAL', 'ORG', 'ORG', 'TIME', 'ORG', 'DATE', 'GPE', 'GPE', 'DATE', 'CARDINAL', 'PERSON', 'GPE', 'NORP', 'ORG', 'NORP', 'GPE', 'GPE', 'PERSON', 'GPE', 'ORG', 'ORG', 'PERSON', 'ORG', 'DATE', 'ORG', 'GPE', 'PERSON', 'PERSON', 'ORG', 'GPE', 'GPE', 'ORG', 'MONEY', 'DATE', 'CARDINAL', 'CARDINAL', 'MONEY', 'PERCENT', 'DATE', 'CARDINAL', 'MONEY', 'DATE', 'MONEY', 'NORP', 'NORP', 'DATE', 'NORP', 'ORG', 'GPE', 'PERCENT', 'GPE', 'LOC', 'ORG', 'DATE', 'GPE', 'NORP', 'PERCENT', 'GPE', 'ORG', 'GPE', 'NORP', 'DATE', 'GPE', 'PERCENT', 'PERCENT', 'GPE', 'DATE', 'GPE', 'NORP', 'CARDINAL', 'PERSON', 'DATE', 'DATE', 'PERCENT', 'ORG', 'NORP', 'CARDINAL', 'DATE', 'CARDINAL', 'CARDINAL', 'CARDINAL', 'DATE', 'GPE', 'GPE', 'GPE', 'GPE', 'ORG', 'ORDINAL', 'DATE', 'DATE', 'ORG', 'ORG', 'ORG', 'GPE', 'MONEY', 'DATE', 'DATE', 'DATE', 'CARDINAL', 'CARDINAL', 'DATE', 'DATE', 'DATE', 'GPE', 'GPE', 'DATE', 'GPE', 'DATE', 'DATE', 'EVENT', 'GPE', 'GPE', 'CARDINAL', 'NORP', 'DATE', 'DATE', 'NORP', 'LOC', 'ORG', 'DATE', 'GPE', 'ORG', 'DATE', 'DATE', 'GPE', 'CARDINAL', 'GPE', 'PERSON', 'PERSON', 'PERSON', 'PERSON', 'ORG', 'ORG', 'GPE', 'CARDINAL', 'NORP', 'GPE', 'ORG', 'DATE', 'WORK_OF_ART', 'ORG', 'CARDINAL', 'ORG', 'DATE', 'DATE', 'NORP', 'CARDINAL', 'PERSON', 'PERSON', 'GPE', 'NORP', 'GPE', 'EVENT', 'NORP', 'GPE', 'ORG', 'ORG', 'DATE', 'PERCENT', 'GPE', 'GPE', 'PERCENT', 'PERCENT', 'CARDINAL', 'DATE', 'ORG', 'CARDINAL', 'NORP', 'ORG', 'ORG', 'MONEY', 'DATE', 'GPE', 'DATE', 'GPE', 'GPE', 'ORG', 'GPE', 'NORP', 'NORP', 'CARDINAL', 'MONEY', 'DATE', 'GPE', 'PERCENT', 'ORG', 'GPE', 'NORP', 'ORG', 'PERCENT', 'GPE', 'ORG', 'GPE', 'NORP', 'ORDINAL', 'EVENT', 'ORG', 'ORG', 'DATE', 'ORG', 'GPE', 'FAC', 'GPE', 'NORP', 'GPE', 'ORG', 'PERSON', 'NORP', 'GPE', 'NORP', 'GPE', 'GPE', 'NORP', 'ORG', 'DATE', 'GPE', 'GPE', 'DATE', 'ORG', 'GPE', 'ORG', 'PERSON', 'GPE', 'NORP', 'PERSON', 'DATE', 'CARDINAL', 'NORP', 'GPE', 'NORP', 'DATE', 'CARDINAL', 'DATE', 'NORP', 'GPE', 'CARDINAL', 'GPE', 'PERSON', 'PERSON', 'NORP', 'NORP', 'GPE', 'DATE', 'NORP', 'PERSON', 'DATE', 'CARDINAL', 'GPE', 'GPE', 'GPE', 'GPE', 'CARDINAL', 'DATE', 'NORP', 'PERSON', 'DATE', 'DATE', 'ORG', 'DATE', 'PERSON', 'DATE', 'CARDINAL', 'GPE', 'PERSON', 'DATE', 'NORP', 'GPE', 'DATE', 'NORP', 'GPE', 'GPE', 'GPE', 'GPE', 'NORP', 'GPE', 'ORG', 'PERSON', 'GPE', 'DATE', 'GPE', 'GPE', 'DATE', 'GPE', 'NORP', 'PERSON', 'DATE', 'GPE', 'QUANTITY', 'ORG', 'GPE', 'DATE', 'ORG', 'PERSON', 'GPE', 'GPE', 'GPE', 'GPE', 'DATE', 'ORG', 'PERSON', 'GPE', 'DATE', 'DATE', 'NORP', 'ORG', 'GPE', 'GPE', 'DATE', 'GPE', 'NORP', 'ORG', 'DATE', 'ORG', 'PERSON', 'PERSON', 'ORG', 'CARDINAL', 'ORG', 'ORG', 'MONEY', 'GPE', 'GPE', 'DATE', 'ORG', 'ORG', 'GPE', 'NORP', 'PERSON', 'ORG', 'ORG', 'GPE', 'GPE', 'ORG', 'GPE', 'DATE', 'ORG', 'ORG', 'CARDINAL', 'DATE', 'DATE', 'GPE', 'GPE', 'ORG', 'GPE', 'ORG', 'PERSON', 'DATE', 'GPE', 'ORG', 'PERSON', 'GPE', 'DATE', 'ORG', 'PERSON', 'GPE', 'LOC', 'GPE', 'CARDINAL', 'DATE', 'ORG', 'ORG', 'GPE', 'DATE', 'DATE', 'PERSON', 'PERSON', 'ORDINAL', 'ORG', 'NORP', 'PERSON', 'PERSON', 'PERSON', 'CARDINAL', 'TIME', 'DATE', 'ORG', 'GPE', 'CARDINAL', 'PERSON', 'PERSON', 'PERSON', 'ORG', 'EVENT', 'GPE', 'PERSON', 'PERSON', 'TIME', 'ORG', 'GPE', 'PERSON', 'GPE', 'DATE', 'PERSON', 'PERSON', 'PERSON', 'GPE', 'GPE', 'EVENT', 'PERSON', 'NORP', 'GPE', 'GPE', 'GPE', 'DATE', 'DATE', 'NORP', 'ORG', 'PERSON', 'PERSON', 'DATE', 'GPE', 'FAC', 'PERSON', 'PERSON', 'ORDINAL', 'PERSON', 'GPE', 'GPE', 'NORP', 'GPE', 'CARDINAL', 'ORDINAL', 'DATE', 'GPE', 'NORP', 'CARDINAL', 'CARDINAL', 'GPE', 'NORP', 'NORP', 'GPE', 'GPE', 'DATE', 'CARDINAL', 'GPE', 'GPE', 'GPE', 'CARDINAL', 'NORP', 'DATE', 'GPE', 'GPE', 'GPE', 'DATE', 'CARDINAL', 'NORP', 'NORP', 'GPE', 'PERCENT', 'DATE', 'DATE', 'DATE', 'ORG', 'PERCENT', 'DATE', 'DATE', 'DATE', 'GPE', 'DATE', 'GPE', 'GPE', 'LOC', 'DATE', 'DATE', 'CARDINAL', 'LOC', 'DATE', 'GPE', 'CARDINAL', 'DATE', 'CARDINAL', 'CARDINAL', 'CARDINAL', 'PERSON', 'DATE', 'GPE', 'PERSON', 'GPE', 'NORP', 'LOC', 'DATE', 'CARDINAL', 'GPE', 'CARDINAL', 'CARDINAL', 'DATE', 'ORG', 'TIME', 'CARDINAL', 'CARDINAL', 'GPE', 'GPE', 'CARDINAL', 'NORP', 'GPE', 'GPE', 'PERSON', 'ORG', 'PERSON', 'NORP', 'ORG', 'EVENT', 'DATE', 'ORG', 'PERSON', 'DATE', 'MONEY', 'MONEY', 'DATE', 'CARDINAL', 'ORG', 'PERSON', 'DATE', 'CARDINAL', 'CARDINAL', 'CARDINAL', 'CARDINAL', 'DATE', 'PERSON', 'DATE', 'NORP', 'ORDINAL', 'CARDINAL', 'CARDINAL', 'CARDINAL', 'EVENT', 'ORG', 'PERSON', 'GPE', 'DATE', 'LOC', 'CARDINAL', 'NORP', 'NORP', 'EVENT', 'LOC', 'GPE', 'CARDINAL', 'GPE', 'FAC', 'NORP', 'WORK_OF_ART', 'PERSON', 'CARDINAL', 'QUANTITY', 'GPE', 'NORP', 'CARDINAL', 'NORP', 'ORDINAL', 'DATE', 'DATE', 'GPE', 'GPE', 'DATE', 'NORP', 'ORG', 'DATE', 'DATE', 'ORG', 'GPE', 'GPE', 'DATE', 'GPE', 'GPE', 'CARDINAL', 'ORG', 'PERSON', 'ORG', 'PERSON', 'PERSON', 'PERSON', 'ORG', 'GPE', 'PERSON', 'CARDINAL', 'NORP', 'DATE', 'DATE', 'PERSON', 'PERSON', 'ORG', 'DATE', 'PERSON', 'ORG', 'DATE', 'ORG', 'GPE', 'PERSON', 'DATE', 'GPE', 'ORG', 'GPE', 'GPE', 'GPE', 'GPE', 'ORG', 'ORG', 'GPE', 'DATE', 'GPE', 'ORG', 'NORP', 'NORP', 'ORG', 'DATE', 'LOC', 'CARDINAL', 'ORG', 'GPE', 'GPE', 'GPE', 'GPE', 'GPE', 'CARDINAL', 'DATE', 'ORG', 'GPE', 'CARDINAL', 'ORG', 'CARDINAL', 'CARDINAL', 'GPE', 'DATE', 'DATE', 'DATE', 'DATE', 'ORG', 'NORP', 'CARDINAL', 'GPE', 'GPE', 'ORG', 'ORG', 'DATE', 'DATE', 'DATE', 'DATE', 'ORG', 'CARDINAL', 'ORG', 'DATE', 'GPE', 'ORG', 'GPE', 'DATE', 'ORG', 'ORG', 'ORG', 'GPE', 'ORG', 'ORG', 'GPE', 'DATE', 'ORG', 'ORG', 'ORDINAL', 'DATE', 'CARDINAL', 'NORP', 'CARDINAL', 'NORP', 'GPE', 'LOC', 'DATE', 'PERSON', 'DATE', 'ORDINAL', 'PERSON', 'NORP', 'CARDINAL', 'CARDINAL', 'ORG', 'DATE', 'PERSON', 'GPE', 'ORG', 'PERSON', 'GPE', 'ORG', 'GPE', 'PERSON', 'DATE', 'ORG', 'CARDINAL', 'PERSON', 'NORP', 'PERSON', 'DATE', 'ORG', 'GPE', 'DATE', 'NORP', 'GPE', 'ORG', 'ORG', 'GPE', 'DATE', 'GPE', 'LOC', 'NORP', 'DATE', 'NORP', 'PERSON', 'ORDINAL', 'DATE', 'GPE', 'PERSON', 'GPE', 'ORG', 'ORG', 'ORG', 'GPE', 'PERSON', 'PERSON', 'PERSON', 'ORG', 'PERSON', 'PERSON', 'ORG', 'MONEY', 'ORG', 'ORG', 'PERSON', 'CARDINAL', 'ORG', 'NORP', 'ORG', 'PERSON', 'PERSON', 'ORDINAL', 'CARDINAL', 'ORG', 'DATE', 'DATE', 'NORP', 'CARDINAL', 'NORP', 'GPE', 'DATE', 'ORG', 'PERSON', 'NORP', 'ORG', 'DATE', 'NORP', 'GPE', 'ORDINAL', 'NORP', 'ORG', 'NORP', 'PERSON', 'PERSON', 'GPE', 'DATE', 'DATE', 'NORP', 'PERSON', 'ORG', 'CARDINAL', 'GPE', 'NORP', 'DATE', 'GPE', 'GPE', 'GPE', 'GPE', 'GPE', 'PERSON', 'DATE', 'GPE', 'ORG', 'GPE', 'ORG', 'DATE', 'NORP', 'NORP', 'PERSON', 'PERSON', 'DATE', 'GPE', 'GPE', 'GPE', 'GPE', 'GPE', 'ORG', 'CARDINAL', 'LOC', 'GPE', 'DATE', 'NORP', 'PERSON', 'GPE', 'CARDINAL', 'NORP', 'GPE', 'DATE', 'ORG', 'NORP', 'PERSON', 'GPE', 'ORG', 'DATE', 'NORP', 'NORP', 'GPE', 'NORP', 'DATE', 'GPE', 'PERSON', 'NORP', 'PERSON', 'GPE', 'GPE', 'PERSON', 'ORG', 'NORP', 'PERSON', 'ORG', 'LANGUAGE', 'ORG', 'DATE', 'ORG', 'PERSON', 'DATE', 'GPE', 'PERSON', 'GPE', 'CARDINAL', 'CARDINAL', 'GPE', 'DATE', 'PERSON', 'DATE', 'NORP', 'PERSON', 'FAC', 'GPE', 'PERSON', 'GPE', 'DATE', 'ORDINAL', 'DATE', 'PERSON', 'ORDINAL', 'CARDINAL', 'ORDINAL', 'CARDINAL', 'ORDINAL', 'ORDINAL', 'PERSON', 'GPE', 'ORG', 'NORP', 'PERSON', 'ORDINAL', 'FAC', 'PERSON', 'GPE', 'PERSON', 'GPE', 'PERSON', 'GPE', 'GPE', 'NORP', 'PERSON', 'DATE', 'NORP', 'NORP', 'PERSON', 'GPE', 'PERSON', 'CARDINAL', 'NORP', 'CARDINAL', 'NORP', 'NORP', 'DATE', 'GPE', 'CARDINAL', 'NORP', 'CARDINAL', 'NORP', 'GPE', 'GPE', 'DATE', 'DATE', 'NORP', 'ORG', 'NORP', 'CARDINAL', 'PERSON', 'CARDINAL', 'PERSON', 'ORG', 'PERSON', 'PERSON', 'WORK_OF_ART', 'DATE', 'PERSON', 'PERSON', 'PERSON', 'PERSON', 'NORP', 'DATE', 'GPE', 'GPE', 'CARDINAL', 'DATE', 'GPE', 'NORP', 'GPE', 'ORG', 'GPE', 'DATE', 'DATE', 'NORP', 'GPE', 'CARDINAL', 'GPE', 'GPE', 'ORG', 'GPE', 'DATE', 'LOC', 'PERSON', 'ORG', 'DATE', 'CARDINAL', 'PERCENT', 'NORP', 'LOC', 'DATE', 'DATE', 'CARDINAL', 'CARDINAL', 'GPE', 'ORG', 'GPE', 'FAC', 'GPE', 'DATE', 'GPE', 'DATE', 'CARDINAL', 'NORP', 'ORG', 'GPE', 'DATE', 'GPE', 'ORG', 'ORG', 'DATE', 'ORG', 'FAC', 'PERSON', 'GPE', 'CARDINAL', 'FAC', 'NORP', 'NORP', 'ORG', 'PERSON', 'DATE', 'ORG', 'ORG', 'PERSON', 'CARDINAL', 'PERSON', 'GPE', 'NORP', 'PERSON', 'GPE', 'GPE', 'DATE', 'CARDINAL', 'GPE', 'PERSON', 'GPE', 'NORP', 'DATE', 'GPE', 'LOC', 'GPE', 'ORDINAL', 'GPE', 'PERCENT', 'DATE', 'PERSON', 'GPE', 'GPE', 'NORP', 'PERSON', 'ORG', 'GPE', 'ORG', 'PERSON', 'GPE', 'GPE', 'GPE', 'PERSON', 'PERSON', 'PERSON', 'PERSON', 'CARDINAL', 'NORP', 'NORP', 'PERSON', 'GPE', 'DATE', 'ORG', 'NORP', 'GPE', 'DATE', 'NORP', 'NORP', 'NORP', 'NORP', 'CARDINAL', 'GPE', 'GPE', 'DATE', 'NORP', 'PERSON', 'GPE', 'DATE', 'PERSON', 'DATE', 'ORG', 'GPE', 'GPE', 'NORP', 'DATE', 'GPE', 'LOC', 'ORG', 'GPE', 'GPE', 'DATE', 'NORP', 'DATE', 'NORP', 'GPE', 'DATE', 'PERSON', 'GPE', 'NORP', 'CARDINAL', 'GPE', 'NORP', 'ORG', 'GPE', 'PERSON', 'GPE', 'NORP', 'TIME', 'GPE', 'NORP', 'GPE', 'CARDINAL', 'GPE', 'ORG', 'DATE', 'DATE', 'DATE', 'DATE', 'PERSON', 'GPE', 'DATE', 'PERSON', 'PERSON', 'DATE', 'NORP', 'DATE', 'DATE', 'NORP', 'PERSON', 'GPE', 'DATE', 'CARDINAL', 'PERSON', 'DATE', 'GPE', 'GPE', 'PERSON', 'ORDINAL', 'PERSON', 'DATE', 'PERSON', 'NORP', 'PERSON', 'GPE', 'PERSON', 'PERSON', 'GPE', 'NORP', 'GPE', 'DATE', 'ORG', 'GPE', 'DATE', 'NORP', 'NORP', 'GPE', 'CARDINAL', 'DATE', 'GPE', 'GPE', 'ORG', 'NORP', 'GPE', 'DATE', 'CARDINAL', 'NORP', 'NORP', 'DATE', 'ORG', 'ORG', 'CARDINAL', 'NORP', 'GPE', 'CARDINAL', 'PERCENT', 'DATE', 'PERCENT', 'NORP', 'CARDINAL', 'NORP', 'DATE', 'PERCENT', 'GPE', 'GPE', 'CARDINAL', 'NORP', 'ORG', 'CARDINAL', 'NORP', 'NORP', 'NORP', 'DATE', 'DATE', 'ORG', 'PERSON', 'NORP', 'NORP', 'GPE', 'GPE', 'GPE', 'GPE', 'GPE', 'NORP', 'CARDINAL', 'WORK_OF_ART', 'DATE', 'GPE', 'GPE', 'NORP', 'ORG', 'GPE', 'CARDINAL', 'PERSON', 'GPE', 'GPE', 'CARDINAL', 'GPE', 'DATE', 'CARDINAL', 'NORP', 'CARDINAL', 'DATE', 'GPE', 'NORP', 'GPE', 'GPE', 'ORG', 'PERCENT', 'CARDINAL', 'NORP', 'PERSON', 'DATE', 'ORG', 'DATE', 'PRODUCT', 'LOC', 'CARDINAL', 'PERCENT', 'CARDINAL', 'CARDINAL', 'PERCENT', 'CARDINAL', 'DATE', 'NORP', 'PERCENT', 'CARDINAL', 'NORP', 'CARDINAL', 'NORP', 'NORP', 'PERSON', 'CARDINAL', 'GPE', 'DATE', 'CARDINAL', 'NORP', 'PERSON', 'PERSON', 'NORP', 'PERSON', 'PERSON', 'CARDINAL', 'NORP', 'NORP', 'NORP', 'GPE', 'GPE', 'NORP', 'CARDINAL', 'NORP', 'GPE', 'NORP', 'PERSON', 'DATE', 'ORG', 'GPE', 'ORG', 'PERSON', 'TIME', 'DATE', 'LOC', 'ORG', 'PERSON', 'ORG', 'CARDINAL', 'DATE', 'CARDINAL', 'ORG', 'CARDINAL', 'NORP', 'PERSON', 'GPE', 'DATE', 'GPE', 'DATE', 'PERSON', 'NORP', 'PERSON', 'DATE', 'DATE', 'NORP', 'PERSON', 'GPE', 'MONEY', 'NORP', 'CARDINAL', 'NORP', 'CARDINAL', 'GPE', 'GPE', 'DATE', 'NORP', 'GPE', 'GPE', 'ORG', 'DATE', 'GPE', 'GPE', 'GPE', 'GPE', 'FAC', 'GPE', 'ORG', 'DATE', 'DATE', 'NORP', 'NORP', 'NORP', 'GPE', 'GPE', 'GPE', 'CARDINAL', 'GPE', 'NORP', 'LOC', 'NORP', 'CARDINAL', 'NORP', 'DATE', 'LOC', 'GPE', 'TIME', 'GPE', 'CARDINAL', 'NORP', 'CARDINAL', 'NORP', 'GPE', 'PERSON', 'CARDINAL', 'DATE', 'GPE', 'CARDINAL', 'GPE', 'NORP', 'GPE', 'DATE', 'GPE', 'GPE', 'CARDINAL', 'GPE', 'DATE', 'CARDINAL', 'GPE', 'CARDINAL', 'ORG', 'GPE', 'CARDINAL', 'DATE', 'GPE', 'ORG', 'GPE', 'ORG', 'ORG', 'NORP', 'PERSON', 'PERSON', 'DATE', 'DATE', 'ORG', 'PERSON', 'DATE', 'GPE', 'CARDINAL', 'ORG', 'GPE', 'ORG', 'PERSON', 'GPE', 'DATE', 'GPE', 'PERSON', 'NORP', 'NORP', 'PERSON', 'NORP', 'PERSON', 'GPE', 'GPE', 'MONEY', 'ORG', 'ORG', 'GPE', 'DATE', 'ORG', 'ORG', 'NORP', 'DATE', 'ORG', 'PERSON', 'GPE', 'ORG', 'ORG', 'ORG', 'GPE', 'ORG', 'ORG', 'ORG', 'NORP', 'GPE', 'PERSON', 'ORG', 'GPE', 'DATE', 'NORP', 'DATE', 'PERSON', 'GPE', 'PERSON', 'NORP', 'PERSON', 'DATE', 'GPE', 'ORG', 'PERCENT', 'GPE', 'GPE', 'DATE', 'CARDINAL', 'ORDINAL', 'LOC', 'NORP', 'GPE', 'GPE', 'QUANTITY', 'GPE', 'ORG', 'CARDINAL', 'DATE', 'CARDINAL', 'DATE', 'CARDINAL', 'PERSON', 'GPE', 'MONEY', 'ORG', 'DATE', 'PRODUCT', 'PERSON', 'DATE', 'NORP', 'PERSON', 'PERSON', 'DATE', 'GPE', 'GPE', 'GPE', 'DATE', 'NORP', 'DATE', 'NORP', 'NORP', 'GPE', 'PERSON', 'GPE', 'ORG', 'DATE', 'GPE', 'DATE', 'GPE', 'GPE', 'DATE', 'ORG', 'PERSON', 'ORG', 'PERSON', 'NORP', 'NORP', 'NORP', 'PERSON', 'ORG', 'ORG', 'PERSON', 'GPE', 'CARDINAL', 'DATE', 'NORP', 'GPE', 'NORP', 'DATE', 'CARDINAL', 'NORP', 'PERSON', 'ORG', 'NORP', 'PERSON', 'EVENT', 'GPE', 'GPE', 'ORG', 'PERSON', 'TIME', 'CARDINAL', 'PERSON', 'GPE', 'ORDINAL', 'TIME', 'PERSON', 'NORP', 'ORDINAL', 'TIME', 'PERSON', 'CARDINAL', 'ORDINAL', 'TIME', 'NORP', 'EVENT', 'CARDINAL', 'CARDINAL', 'DATE', 'NORP', 'NORP', 'GPE', 'GPE', 'ORG', 'ORG', 'GPE', 'NORP', 'PERSON', 'GPE', 'GPE', 'PERSON', 'PERSON', 'PERSON', 'DATE', 'PERSON', 'GPE', 'CARDINAL', 'NORP', 'NORP', 'NORP', 'CARDINAL', 'GPE', 'DATE', 'NORP', 'PERSON', 'GPE', 'PERSON', 'LOC', 'PERSON', 'NORP', 'PERSON', 'DATE', 'PERSON', 'GPE', 'GPE', 'PERSON', 'GPE', 'GPE', 'PERSON', 'GPE', 'GPE', 'GPE', 'GPE', 'GPE', 'PERSON', 'LOC', 'GPE', 'NORP', 'GPE', 'CARDINAL', 'GPE', 'NORP', 'GPE', 'GPE', 'GPE', 'GPE', 'GPE', 'GPE', 'GPE', 'GPE', 'GPE', 'GPE', 'DATE', 'DATE', 'GPE', 'GPE', 'PERSON', 'GPE', 'GPE', 'PERSON', 'DATE', 'NORP', 'GPE', 'PERSON', 'GPE', 'NORP', 'PERSON', 'DATE', 'ORG', 'PERSON', 'PERSON', 'ORG', 'GPE', 'PERSON', 'PERSON', 'GPE', 'GPE', 'CARDINAL', 'CARDINAL', 'GPE', 'LOC', 'DATE', 'PERSON', 'FAC', 'LOC', 'PERSON', 'FAC', 'TIME', 'DATE', 'DATE', 'PERSON', 'LOC', 'CARDINAL', 'DATE', 'FAC', 'PERSON', 'ORG', 'DATE', 'NORP', 'NORP', 'DATE', 'NORP', 'NORP', 'NORP', 'NORP', 'CARDINAL', 'DATE', 'NORP', 'ORG', 'ORG', 'DATE', 'DATE', 'GPE', 'ORG', 'NORP', 'DATE', 'ORG', 'DATE', 'DATE', 'NORP', 'PERSON', 'PERSON', 'NORP', 'DATE', 'ORG', 'CARDINAL', 'NORP', 'DATE', 'GPE', 'GPE', 'NORP', 'PERSON', 'PERCENT', 'PERSON', 'CARDINAL', 'ORG', 'DATE', 'CARDINAL', 'PERSON', 'DATE', 'ORG', 'ORG', 'CARDINAL', 'DATE', 'NORP', 'NORP', 'PERSON', 'GPE', 'GPE', 'NORP', 'NORP', 'DATE', 'NORP', 'NORP', 'CARDINAL', 'NORP', 'GPE', 'PERSON', 'NORP', 'GPE', 'PERSON', 'NORP', 'DATE', 'GPE', 'ORG', 'NORP', 'NORP', 'PERSON', 'NORP', 'ORG', 'PERSON', 'ORG', 'PERSON', 'DATE', 'PERSON', 'GPE', 'ORG', 'PERSON', 'NORP', 'GPE', 'ORG', 'GPE', 'DATE', 'PERSON', 'ORG', 'ORG', 'GPE', 'CARDINAL', 'CARDINAL', 'GPE', 'NORP', 'ORG', 'LOC', 'TIME', 'NORP', 'FAC', 'GPE', 'DATE', 'ORG', 'GPE', 'CARDINAL', 'CARDINAL', 'NORP', 'PERSON', 'CARDINAL', 'GPE', 'DATE', 'NORP', 'NORP', 'GPE', 'DATE', 'NORP', 'GPE', 'DATE', 'NORP', 'GPE', 'GPE', 'LOC', 'PERSON', 'ORG', 'ORG', 'NORP', 'DATE', 'GPE', 'DATE', 'GPE', 'DATE', 'NORP', 'GPE', 'GPE', 'GPE', 'QUANTITY', 'GPE', 'NORP', 'CARDINAL', 'PERSON', 'NORP', 'ORG', 'NORP', 'DATE', 'DATE', 'ORG', 'GPE', 'PERSON', 'CARDINAL', 'CARDINAL', 'PERSON', 'GPE', 'DATE', 'PERSON', 'PERSON', 'DATE', 'PERSON', 'CARDINAL', 'PRODUCT', 'PRODUCT', 'DATE', 'DATE', 'GPE', 'ORDINAL', 'ORG', 'GPE', 'GPE', 'GPE', 'NORP', 'ORG', 'GPE', 'NORP', 'CARDINAL', 'NORP', 'CARDINAL', 'GPE', 'NORP', 'CARDINAL', 'ORG', 'DATE', 'CARDINAL', 'GPE', 'GPE', 'LOC', 'GPE', 'ORG', 'ORG', 'CARDINAL', 'DATE', 'NORP', 'DATE', 'CARDINAL', 'DATE', 'LOC', 'PERSON', 'CARDINAL', 'MONEY', 'ORG', 'NORP', 'GPE', 'NORP', 'ORDINAL', 'GPE', 'GPE', 'ORG', 'DATE', 'ORG', 'NORP', 'ORG', 'GPE', 'GPE', 'MONEY', 'DATE', 'GPE', 'ORG', 'GPE', 'CARDINAL', 'GPE', 'GPE', 'ORG', 'GPE', 'NORP', 'ORG', 'CARDINAL', 'NORP', 'GPE', 'DATE', 'PERSON', 'GPE', 'GPE', 'PERSON', 'GPE', 'GPE', 'DATE', 'GPE', 'DATE', 'GPE', 'ORG', 'NORP', 'ORG', 'DATE', 'PERSON', 'ORG', 'NORP', 'GPE', 'DATE', 'ORG', 'PERSON', 'DATE', 'PERSON', 'NORP', 'ORG', 'DATE', 'GPE', 'DATE', 'GPE', 'DATE', 'GPE', 'CARDINAL', 'DATE', 'PERSON', 'CARDINAL', 'DATE', 'DATE', 'ORG', 'ORG', 'ORG', 'PRODUCT', 'PERSON', 'DATE', 'CARDINAL', 'PERSON', 'ORG', 'DATE', 'ORG', 'GPE', 'PERSON', 'PERSON', 'CARDINAL', 'ORG', 'PERSON', 'NORP', 'DATE', 'CARDINAL', 'DATE', 'NORP', 'ORG', 'NORP', 'ORG', 'GPE', 'DATE', 'ORG', 'CARDINAL', 'GPE', 'ORG', 'NORP', 'DATE', 'NORP', 'NORP', 'CARDINAL', 'NORP', 'GPE', 'GPE', 'GPE', 'DATE', 'DATE', 'GPE', 'NORP', 'GPE', 'PERSON', 'GPE', 'GPE', 'DATE', 'NORP', 'PERSON', 'GPE', 'PERSON', 'GPE', 'PERSON', 'NORP', 'PERSON', 'PRODUCT', 'MONEY', 'PERSON', 'PERSON', 'GPE', 'ORG', 'MONEY', 'DATE', 'NORP', 'GPE', 'GPE', 'PERSON', 'ORG', 'PERSON', 'CARDINAL', 'ORG', 'CARDINAL', 'GPE', 'MONEY', 'ORG', 'GPE', 'PERCENT', 'PERSON', 'ORDINAL', 'PERSON', 'PERCENT', 'ORG', 'PERCENT', 'GPE', 'GPE', 'CARDINAL', 'DATE', 'GPE', 'GPE', 'ORG', 'GPE', 'GPE', 'NORP', 'PERCENT', 'PERSON', 'ORG', 'ORG', 'ORG', 'DATE', 'LOC', 'DATE', 'PERSON', 'GPE', 'DATE', 'PERSON', 'ORG', 'GPE', 'PERSON', 'CARDINAL', 'ORG', 'DATE', 'WORK_OF_ART', 'DATE', 'PERSON', 'CARDINAL', 'DATE', 'DATE', 'PERCENT', 'DATE', 'DATE', 'GPE', 'ORG', 'DATE', 'ORG', 'PERCENT', 'DATE', 'PERCENT', 'DATE', 'DATE', 'GPE', 'NORP', 'DATE', 'MONEY', 'NORP', 'GPE', 'DATE', 'DATE', 'GPE', 'DATE', 'DATE', 'GPE', 'PERCENT', 'DATE', 'DATE', 'PERCENT', 'PERCENT', 'DATE', 'DATE', 'PERCENT', 'CARDINAL', 'DATE', 'GPE', 'ORG', 'NORP', 'ORG', 'NORP', 'ORG', 'ORG', 'DATE', 'CARDINAL', 'DATE', 'CARDINAL', 'ORG', 'LOC', 'DATE', 'DATE', 'DATE', 'GPE', 'NORP', 'CARDINAL', 'LOC', 'DATE', 'GPE', 'ORG', 'GPE', 'ORG', 'DATE', 'GPE', 'ORG', 'PERSON', 'PERSON', 'GPE', 'MONEY', 'PERSON', 'CARDINAL', 'PRODUCT', 'PRODUCT', 'PERSON', 'PERSON', 'ORG', 'ORG', 'ORG', 'CARDINAL', 'DATE', 'PERSON', 'ORDINAL', 'EVENT', 'DATE', 'TIME', 'GPE', 'GPE', 'GPE', 'ORG', 'GPE', 'LOC', 'ORDINAL', 'GPE', 'LOC', 'NORP', 'LOC', 'ORG', 'ORG', 'NORP', 'CARDINAL', 'DATE', 'GPE', 'CARDINAL', 'CARDINAL', 'LOC', 'DATE', 'ORG', 'DATE', 'ORG', 'GPE', 'DATE', 'GPE', 'ORG', 'GPE', 'GPE', 'ORG', 'DATE', 'ORG', 'GPE', 'CARDINAL', 'NORP', 'GPE', 'PERSON', 'DATE', 'CARDINAL', 'GPE', 'CARDINAL', 'NORP', 'DATE', 'DATE', 'GPE', 'GPE', 'CARDINAL', 'NORP', 'CARDINAL', 'NORP', 'NORP', 'GPE', 'NORP', 'CARDINAL', 'NORP', 'PERSON', 'DATE', 'CARDINAL', 'ORG', 'DATE', 'LOC', 'FAC', 'ORG', 'CARDINAL', 'DATE', 'GPE', 'GPE', 'GPE', 'ORG', 'GPE', 'PERSON', 'GPE', 'DATE', 'NORP', 'ORG', 'PERSON', 'DATE', 'ORG', 'ORG', 'GPE', 'GPE', 'ORG', 'NORP', 'PERSON', 'ORG', 'GPE', 'ORDINAL', 'DATE', 'GPE', 'GPE', 'NORP', 'PERSON', 'ORDINAL', 'GPE', 'CARDINAL', 'DATE', 'ORDINAL', 'EVENT', 'FAC', 'DATE', 'QUANTITY', 'PERSON', 'GPE', 'GPE', 'NORP', 'LOC', 'GPE', 'DATE', 'CARDINAL', 'PERSON', 'GPE', 'NORP', 'DATE', 'CARDINAL', 'CARDINAL', 'GPE', 'GPE', 'DATE', 'CARDINAL', 'DATE', 'NORP', 'GPE', 'CARDINAL', 'NORP', 'PERCENT', 'DATE', 'GPE', 'DATE', 'DATE', 'PERCENT', 'DATE', 'PERCENT', 'CARDINAL', 'CARDINAL', 'PERCENT', 'GPE', 'GPE', 'GPE', 'NORP', 'NORP', 'NORP', 'GPE', 'NORP', 'PERSON', 'GPE', 'GPE', 'NORP', 'GPE', 'GPE', 'NORP', 'ORG', 'ORG', 'GPE', 'NORP', 'DATE', 'ORG', 'GPE', 'DATE', 'CARDINAL', 'DATE', 'ORG', 'GPE', 'NORP', 'DATE', 'GPE', 'ORG', 'GPE', 'ORG', 'ORG', 'GPE', 'ORG', 'ORG', 'MONEY', 'CARDINAL', 'NORP', 'GPE', 'DATE', 'GPE', 'DATE', 'DATE', 'PERSON', 'NORP', 'ORG', 'CARDINAL', 'DATE', 'GPE', 'PERSON', 'GPE', 'ORG', 'PERSON', 'GPE', 'DATE', 'GPE', 'GPE', 'ORG', 'GPE', 'DATE', 'GPE', 'GPE', 'ORG', 'GPE', 'NORP', 'PERSON', 'GPE', 'GPE', 'DATE', 'ORG', 'PERSON', 'PERSON', 'DATE', 'DATE', 'DATE', 'GPE', 'CARDINAL', 'ORG', 'PERSON', 'NORP', 'WORK_OF_ART', 'GPE', 'DATE', 'NORP', 'PERSON', 'GPE', 'GPE', 'DATE', 'NORP', 'LOC', 'DATE', 'LOC', 'GPE', 'ORDINAL', 'GPE', 'LOC', 'CARDINAL', 'DATE', 'ORG', 'ORG', 'ORG', 'GPE', 'GPE', 'ORG', 'PERSON', 'GPE', 'CARDINAL', 'NORP', 'GPE', 'GPE', 'CARDINAL', 'GPE', 'GPE', 'CARDINAL', 'NORP', 'GPE', 'GPE', 'GPE', 'CARDINAL', 'NORP', 'FAC', 'DATE', 'DATE', 'GPE', 'ORDINAL', 'ORG', 'DATE', 'PERSON', 'GPE', 'PERSON', 'PERSON', 'DATE', 'ORG', 'GPE', 'DATE', 'PERSON', 'PERSON', 'DATE', 'PERSON', 'CARDINAL', 'PERSON', 'PERSON', 'PERSON', 'DATE', 'ORG', 'NORP', 'ORG', 'ORDINAL', 'DATE', 'ORG', 'PERSON', 'GPE', 'NORP', 'DATE', 'GPE', 'DATE', 'DATE', 'GPE', 'PERSON', 'LOC', 'PERSON', 'NORP', 'PERCENT', 'DATE', 'PERCENT', 'DATE', 'ORG', 'DATE', 'ORG', 'PERSON', 'CARDINAL', 'GPE', 'ORG', 'ORG', 'GPE', 'CARDINAL', 'GPE', 'GPE', 'CARDINAL', 'ORG', 'PERSON', 'LOC', 'CARDINAL', 'GPE', 'GPE', 'NORP', 'ORG', 'GPE', 'CARDINAL', 'NORP', 'GPE', 'ORG', 'PERSON', 'CARDINAL', 'NORP', 'NORP', 'ORDINAL', 'NORP', 'PERSON', 'NORP', 'PERSON', 'GPE', 'GPE', 'PERSON', 'GPE', 'DATE', 'PERSON', 'ORG', 'DATE', 'EVENT', 'DATE', 'GPE', 'PERSON', 'NORP', 'DATE', 'GPE', 'CARDINAL', 'GPE', 'GPE', 'ORG', 'CARDINAL', 'GPE', 'GPE', 'DATE', 'TIME', 'QUANTITY', 'GPE', 'CARDINAL', 'CARDINAL', 'ORG', 'ORG', 'GPE', 'ORG', 'GPE', 'GPE', 'CARDINAL', 'GPE', 'ORG', 'DATE', 'ORG', 'PERSON', 'DATE', 'LAW', 'ORG', 'DATE', 'ORG', 'GPE', 'DATE', 'GPE', 'ORG', 'DATE', 'DATE', 'ORG', 'DATE', 'DATE', 'NORP', 'PERSON', 'PERSON', 'ORG', 'CARDINAL', 'GPE', 'DATE', 'PERSON', 'ORG', 'GPE', 'GPE', 'GPE', 'LOC', 'GPE', 'NORP', 'PERSON', 'GPE', 'GPE', 'GPE', 'GPE', 'CARDINAL', 'ORDINAL', 'EVENT', 'GPE', 'DATE', 'GPE', 'PERSON', 'PERSON', 'GPE', 'NORP', 'PERSON', 'DATE', 'GPE', 'PERSON', 'GPE', 'CARDINAL', 'GPE', 'ORDINAL', 'GPE', 'DATE', 'GPE', 'ORDINAL', 'DATE', 'ORG', 'CARDINAL', 'GPE', 'CARDINAL', 'NORP', 'GPE', 'EVENT', 'DATE', 'DATE', 'GPE', 'GPE', 'GPE', 'GPE', 'NORP', 'GPE', 'CARDINAL', 'DATE', 'GPE', 'GPE', 'LOC', 'DATE', 'PERSON', 'PERSON', 'GPE', 'DATE', 'NORP', 'PERSON', 'CARDINAL', 'DATE', 'GPE', 'CARDINAL', 'GPE', 'GPE', 'DATE', 'ORG', 'NORP', 'DATE', 'GPE', 'ORG', 'ORG', 'CARDINAL', 'CARDINAL', 'DATE', 'DATE', 'NORP', 'DATE', 'DATE', 'ORG', 'ORG', 'PERSON', 'GPE', 'DATE', 'CARDINAL', 'NORP', 'DATE', 'WORK_OF_ART', 'CARDINAL', 'NORP', 'DATE', 'CARDINAL', 'DATE', 'NORP', 'GPE', 'DATE', 'NORP', 'PERSON', 'DATE', 'GPE', 'QUANTITY', 'CARDINAL', 'GPE', 'PERSON', 'ORG', 'GPE', 'DATE', 'NORP', 'GPE', 'NORP', 'GPE', 'DATE', 'QUANTITY', 'LOC', 'GPE', 'GPE', 'NORP', 'NORP', 'DATE', 'GPE', 'ORG', 'GPE', 'ORG', 'GPE', 'GPE', 'GPE', 'GPE', 'GPE', 'ORG', 'PERSON', 'DATE', 'GPE', 'PERSON', 'GPE', 'GPE', 'DATE', 'GPE', 'GPE', 'PERSON', 'PERSON', 'PERSON', 'PERSON', 'PERSON', 'GPE', 'DATE', 'GPE', 'GPE', 'ORG', 'ORG', 'PERSON', 'GPE', 'DATE', 'PERSON', 'GPE', 'NORP', 'NORP', 'DATE', 'GPE', 'PERSON', 'NORP', 'GPE', 'DATE', 'NORP', 'NORP', 'NORP', 'GPE', 'NORP', 'DATE', 'EVENT', 'CARDINAL', 'ORG', 'ORG', 'GPE', 'LOC', 'DATE', 'PERSON', 'DATE', 'PERSON', 'ORG', 'PERSON', 'DATE', 'PERSON', 'PERSON', 'NORP', 'DATE', 'DATE', 'DATE', 'GPE', 'PERCENT', 'ORG', 'DATE', 'GPE', 'QUANTITY', 'DATE', 'QUANTITY', 'DATE', 'NORP', 'GPE', 'NORP', 'NORP', 'PERSON', 'DATE', 'ORG', 'NORP', 'DATE', 'CARDINAL', 'GPE', 'LOC', 'DATE', 'DATE', 'ORG', 'GPE', 'TIME', 'ORG', 'NORP', 'ORG', 'PERSON', 'CARDINAL', 'GPE', 'DATE', 'PERSON', 'PERSON', 'EVENT', 'DATE', 'DATE', 'EVENT', 'PERSON', 'CARDINAL', 'GPE', 'NORP', 'ORG', 'CARDINAL', 'ORG', 'NORP', 'ORG', 'GPE', 'LOC', 'DATE', 'NORP', 'ORG', 'CARDINAL', 'ORG', 'CARDINAL', 'ORG', 'DATE', 'CARDINAL', 'NORP', 'NORP', 'PERSON', 'NORP', 'PERSON', 'GPE', 'NORP', 'TIME', 'CARDINAL', 'DATE', 'GPE', 'NORP', 'LOC', 'LOC', 'GPE', 'ORG', 'PERSON', 'CARDINAL', 'PERSON', 'NORP', 'PERSON', 'NORP', 'CARDINAL', 'NORP', 'GPE', 'LOC', 'DATE', 'DATE', 'PERSON', 'ORG', 'GPE', 'PERSON', 'CARDINAL', 'GPE', 'PERSON', 'GPE', 'GPE', 'ORG', 'PERSON', 'ORG', 'PERSON', 'ORG', 'ORG', 'PERSON', 'LOC', 'GPE', 'DATE', 'NORP', 'CARDINAL', 'GPE', 'DATE', 'DATE', 'ORG', 'PERSON', 'DATE', 'NORP', 'DATE', 'CARDINAL', 'GPE', 'CARDINAL', 'GPE', 'ORG', 'PERSON', 'PERSON', 'PERSON', 'CARDINAL', 'ORG', 'DATE', 'PERSON', 'ORG', 'DATE', 'PERSON', 'PERSON', 'DATE', 'PERSON', 'PERSON', 'PERSON', 'DATE', 'PERSON', 'ORG', 'ORG', 'CARDINAL', 'CARDINAL', 'GPE', 'GPE', 'GPE', 'GPE', 'GPE', 'GPE', 'ORG', 'DATE', 'GPE', 'GPE', 'GPE', 'ORDINAL', 'NORP', 'DATE', 'LOC', 'ORDINAL', 'GPE', 'CARDINAL', 'DATE', 'NORP', 'ORG', 'CARDINAL', 'NORP', 'CARDINAL', 'GPE', 'DATE', 'CARDINAL', 'GPE', 'GPE', 'LOC', 'DATE', 'ORG', 'CARDINAL', 'ORG', 'GPE', 'GPE', 'GPE', 'GPE', 'ORG', 'NORP', 'ORG', 'QUANTITY', 'GPE', 'ORG', 'GPE', 'CARDINAL', 'NORP', 'ORG', 'ORG', 'DATE', 'ORG', 'CARDINAL', 'LOC', 'ORG', 'GPE', 'GPE', 'ORG', 'ORG', 'PERSON', 'DATE', 'PERSON', 'GPE', 'NORP', 'GPE', 'ORG', 'NORP', 'GPE', 'GPE', 'GPE', 'GPE', 'NORP', 'GPE', 'ORG', 'DATE', 'NORP', 'PERSON', 'PERSON', 'GPE', 'CARDINAL', 'NORP', 'NORP', 'GPE', 'DATE', 'LOC', 'GPE', 'PERSON', 'DATE', 'GPE', 'PERSON', 'DATE', 'GPE', 'GPE', 'PERSON', 'DATE', 'PERSON', 'PERSON', 'DATE', 'ORG', 'DATE', 'GPE', 'GPE', 'GPE', 'ORG', 'NORP', 'PERSON', 'NORP', 'GPE', 'ORG', 'PERSON', 'GPE', 'GPE', 'PERSON', 'DATE', 'GPE', 'NORP', 'PERSON', 'DATE', 'GPE', 'ORDINAL', 'GPE', 'ORDINAL', 'NORP', 'ORG', 'NORP', 'DATE', 'NORP', 'DATE', 'DATE', 'DATE', 'TIME', 'PERSON', 'LOC', 'DATE', 'DATE', 'NORP', 'ORG', 'WORK_OF_ART', 'PERSON', 'ORG', 'GPE', 'NORP', 'DATE', 'DATE', 'LOC', 'NORP', 'PERSON', 'GPE', 'PERSON', 'DATE', 'GPE', 'DATE', 'PERSON', 'ORG', 'GPE', 'PERSON', 'GPE', 'DATE', 'PERSON', 'DATE', 'LOC', 'CARDINAL', 'CARDINAL', 'NORP', 'NORP', 'PERSON', 'DATE', 'CARDINAL', 'ORDINAL', 'GPE', 'PERSON', 'NORP', 'GPE', 'CARDINAL', 'DATE', 'DATE', 'DATE', 'NORP', 'CARDINAL', 'CARDINAL', 'NORP', 'GPE', 'CARDINAL', 'NORP', 'DATE', 'CARDINAL', 'GPE', 'DATE', 'DATE', 'CARDINAL', 'CARDINAL', 'CARDINAL', 'CARDINAL', 'NORP', 'CARDINAL', 'NORP', 'DATE', 'GPE', 'GPE', 'NORP', 'NORP', 'NORP', 'ORG', 'ORG', 'GPE', 'DATE', 'GPE', 'ORG', 'CARDINAL', 'ORG', 'GPE', 'DATE', 'NORP', 'ORG', 'CARDINAL', 'CARDINAL', 'NORP', 'TIME', 'GPE', 'CARDINAL', 'CARDINAL', 'ORG', 'GPE', 'DATE', 'ORG', 'QUANTITY', 'QUANTITY', 'GPE', 'DATE', 'ORG', 'DATE', 'DATE', 'CARDINAL', 'CARDINAL', 'CARDINAL', 'GPE', 'PERSON', 'DATE', 'NORP', 'CARDINAL', 'CARDINAL', 'DATE', 'GPE', 'PERSON', 'PERSON', 'GPE', 'GPE', 'NORP', 'NORP', 'CARDINAL', 'DATE', 'GPE', 'PERSON', 'CARDINAL', 'CARDINAL', 'CARDINAL', 'GPE', 'DATE', 'DATE', 'GPE', 'GPE', 'CARDINAL', 'NORP', 'CARDINAL', 'NORP', 'CARDINAL', 'DATE', 'NORP', 'PERSON', 'ORG', 'ORG', 'MONEY', 'ORG', 'GPE', 'NORP', 'DATE', 'GPE', 'PERSON', 'DATE', 'NORP', 'GPE', 'DATE', 'NORP', 'ORG', 'NORP', 'GPE', 'CARDINAL', 'NORP', 'NORP', 'DATE', 'NORP', 'NORP', 'GPE', 'LOC', 'GPE', 'GPE', 'GPE', 'ORG', 'DATE', 'GPE', 'GPE', 'PERSON', 'GPE', 'NORP', 'GPE', 'LOC', 'GPE', 'GPE', 'GPE', 'CARDINAL', 'NORP', 'GPE', 'NORP', 'PERSON', 'GPE', 'GPE', 'GPE', 'GPE', 'GPE', 'ORG', 'ORG', 'GPE', 'LOC', 'DATE', 'NORP', 'DATE', 'NORP', 'GPE', 'GPE', 'ORG', 'ORG', 'PERSON', 'GPE', 'LOC', 'GPE', 'DATE', 'DATE', 'ORG', 'GPE', 'DATE', 'ORG', 'ORG', 'ORG', 'ORG', 'ORG', 'PERSON', 'GPE', 'CARDINAL', 'GPE', 'ORG', 'ORG', 'GPE', 'NORP', 'GPE', 'GPE', 'NORP', 'PERSON', 'DATE', 'PERSON', 'NORP', 'GPE', 'DATE', 'GPE', 'GPE', 'GPE', 'ORG', 'GPE', 'GPE', 'GPE', 'GPE', 'DATE', 'ORG', 'GPE', 'GPE', 'NORP', 'NORP', 'ORG', 'GPE', 'DATE', 'CARDINAL', 'GPE', 'DATE', 'GPE', 'GPE', 'ORG', 'DATE', 'DATE', 'GPE', 'GPE', 'NORP', 'GPE', 'PERSON', 'ORG', 'DATE', 'GPE', 'ORG', 'GPE', 'LOC', 'ORG', 'DATE', 'PERSON', 'ORG', 'DATE', 'NORP', 'EVENT', 'GPE', 'ORG', 'PERSON', 'ORG', 'ORG', 'NORP', 'DATE', 'GPE', 'PERSON', 'FAC', 'DATE', 'GPE', 'EVENT', 'LOC', 'DATE', 'NORP', 'DATE', 'ORDINAL', 'PERSON', 'NORP', 'GPE', 'ORG', 'GPE', 'PERSON', 'DATE', 'PERSON', 'GPE', 'PERSON', 'NORP', 'PERSON', 'NORP', 'NORP', 'PERSON', 'CARDINAL', 'PERSON', 'PERSON', 'CARDINAL', 'NORP', 'PERSON', 'GPE', 'DATE', 'CARDINAL', 'CARDINAL', 'GPE', 'GPE', 'DATE', 'CARDINAL', 'NORP', 'GPE', 'GPE', 'GPE', 'CARDINAL', 'NORP', 'CARDINAL', 'DATE', 'GPE', 'CARDINAL', 'CARDINAL', 'DATE', 'ORG', 'GPE', 'GPE', 'PERSON', 'GPE', 'PERSON', 'PERSON', 'GPE', 'GPE', 'DATE', 'DATE', 'GPE', 'DATE', 'GPE', 'GPE', 'NORP', 'GPE', 'PERSON', 'ORG', 'PERSON', 'GPE', 'GPE', 'GPE', 'DATE', 'PERSON', 'GPE', 'DATE', 'CARDINAL', 'ORG', 'ORG', 'DATE', 'DATE', 'GPE', 'GPE', 'ORG', 'ORG', 'EVENT', 'GPE', 'PERCENT', 'PERCENT', 'MONEY', 'GPE', 'DATE', 'MONEY', 'DATE', 'ORG', 'GPE', 'DATE', 'DATE', 'GPE', 'ORG', 'ORG', 'GPE', 'NORP', 'ORG', 'PERSON', 'DATE', 'GPE', 'ORG', 'PERSON', 'PERSON', 'DATE', 'ORG', 'NORP', 'WORK_OF_ART', 'DATE', 'ORG', 'NORP', 'DATE', 'ORDINAL', 'EVENT', 'GPE', 'PERSON', 'PERSON', 'ORDINAL', 'PERSON', 'DATE', 'CARDINAL', 'NORP', 'GPE', 'PERSON', 'DATE', 'PERSON', 'DATE', 'PERSON', 'DATE', 'NORP', 'DATE', 'GPE', 'ORG', 'PERSON', 'GPE', 'DATE', 'TIME', 'DATE', 'DATE', 'CARDINAL', 'CARDINAL', 'GPE', 'GPE', 'GPE', 'GPE', 'GPE', 'DATE', 'CARDINAL', 'GPE', 'DATE', 'NORP', 'NORP', 'MONEY', 'DATE', 'NORP', 'NORP', 'PERSON', 'PERSON', 'GPE', 'NORP', 'DATE', 'GPE', 'FAC', 'GPE', 'PERSON', 'DATE', 'GPE', 'GPE', 'DATE', 'GPE', 'ORG', 'GPE', 'GPE', 'DATE', 'NORP', 'DATE', 'NORP', 'PERSON', 'GPE', 'DATE', 'NORP', 'CARDINAL', 'CARDINAL', 'GPE', 'GPE', 'NORP', 'ORG', 'CARDINAL', 'CARDINAL', 'GPE', 'CARDINAL', 'NORP', 'CARDINAL', 'NORP', 'PERSON', 'GPE', 'DATE', 'DATE', 'PERSON', 'PERSON', 'DATE', 'TIME', 'PERSON', 'GPE', 'ORG', 'GPE', 'ORG', 'ORG', 'GPE', 'GPE', 'CARDINAL', 'GPE', 'DATE', 'CARDINAL', 'CARDINAL', 'DATE', 'GPE', 'ORG', 'NORP', 'PERSON', 'ORG', 'CARDINAL', 'LOC', 'DATE', 'ORDINAL', 'PERSON', 'DATE', 'CARDINAL', 'NORP', 'PERSON', 'GPE', 'PERSON', 'PERSON', 'CARDINAL', 'CARDINAL', 'PERSON', 'PERSON', 'GPE', 'NORP', 'DATE', 'DATE', 'CARDINAL', 'PERSON', 'GPE', 'PERSON', 'CARDINAL', 'DATE', 'NORP', 'DATE', 'GPE', 'NORP', 'PERSON', 'GPE', 'TIME', 'PERSON', 'ORG', 'NORP', 'GPE', 'DATE', 'GPE', 'ORG', 'DATE', 'PERSON', 'DATE', 'GPE', 'DATE', 'PERSON', 'CARDINAL', 'NORP', 'DATE', 'PERSON', 'DATE', 'NORP', 'PERSON', 'GPE', 'DATE', 'PERSON', 'ORG', 'PERSON', 'DATE', 'TIME', 'DATE', 'PERSON', 'PERSON', 'GPE', 'GPE', 'DATE', 'GPE', 'NORP', 'CARDINAL', 'NORP', 'ORG', 'DATE', 'PERSON', 'DATE', 'GPE', 'GPE', 'CARDINAL', 'NORP', 'PERSON', 'NORP', 'GPE', 'DATE', 'NORP', 'ORDINAL', 'GPE', 'ORG', 'PERSON', 'ORDINAL', 'ORG', 'ORG', 'DATE', 'DATE', 'ORG', 'CARDINAL', 'LOC', 'CARDINAL', 'LOC', 'NORP', 'PERSON', 'CARDINAL', 'GPE', 'GPE', 'CARDINAL', 'CARDINAL', 'DATE', 'ORDINAL', 'ORG', 'DATE', 'GPE', 'FAC', 'GPE', 'DATE', 'PERSON', 'LANGUAGE', 'NORP', 'DATE', 'CARDINAL', 'CARDINAL', 'NORP', 'DATE', 'GPE', 'CARDINAL', 'TIME', 'DATE', 'WORK_OF_ART', 'LANGUAGE', 'NORP', 'GPE', 'GPE', 'PERSON', 'NORP', 'GPE', 'ORG', 'GPE', 'ORG', 'GPE', 'PERSON', 'PERSON', 'DATE', 'GPE', 'PERSON', 'ORG', 'ORG', 'NORP', 'GPE', 'NORP', 'DATE', 'PERSON', 'GPE', 'GPE', 'LOC', 'GPE', 'PERSON', 'PERSON', 'NORP', 'GPE', 'CARDINAL', 'NORP', 'DATE', 'GPE', 'ORG', 'PRODUCT', 'NORP', 'NORP', 'GPE', 'DATE', 'NORP', 'NORP', 'NORP', 'NORP', 'DATE', 'NORP', 'LOC', 'LOC', 'GPE', 'QUANTITY', 'LOC', 'NORP', 'GPE', 'ORG', 'NORP', 'TIME', 'NORP', 'LOC', 'LOC', 'PERSON', 'LOC', 'DATE', 'CARDINAL', 'ORG', 'GPE', 'FAC', 'DATE', 'PERSON', 'NORP', 'PERSON', 'CARDINAL', 'DATE', 'ORG', 'DATE', 'GPE', 'GPE', 'GPE', 'GPE', 'GPE', 'PERSON', 'GPE', 'PERSON', 'ORG', 'GPE', 'PERSON', 'DATE', 'GPE', 'PERSON', 'DATE', 'NORP', 'GPE', 'GPE', 'ORG', 'ORG', 'GPE', 'NORP', 'CARDINAL', 'DATE', 'DATE', 'CARDINAL', 'GPE', 'ORG', 'TIME', 'GPE', 'ORG', 'CARDINAL', 'DATE', 'DATE', 'GPE', 'ORG', 'CARDINAL', 'NORP', 'GPE', 'NORP', 'GPE', 'DATE', 'NORP', 'PERSON', 'DATE', 'PERSON', 'DATE', 'GPE', 'DATE', 'GPE', 'NORP', 'PERSON', 'DATE', 'GPE', 'CARDINAL', 'NORP', 'PERSON', 'DATE', 'PERSON', 'DATE', 'ORG', 'DATE', 'PERSON', 'DATE', 'PERSON', 'PERSON', 'DATE', 'GPE', 'PERSON', 'DATE', 'ORG', 'GPE', 'DATE', 'DATE', 'NORP', 'GPE', 'CARDINAL', 'LOC', 'ORG', 'CARDINAL', 'CARDINAL', 'GPE', 'LOC', 'GPE', 'DATE', 'NORP', 'GPE', 'DATE', 'TIME', 'GPE', 'NORP', 'GPE', 'ORG', 'NORP', 'PERSON', 'DATE', 'GPE', 'NORP', 'NORP', 'DATE', 'NORP', 'ORG', 'PERSON', 'ORG', 'ORG', 'PERSON', 'PERCENT', 'PERSON', 'PERSON', 'NORP', 'NORP', 'NORP', 'GPE', 'QUANTITY', 'MONEY', 'ORG', 'DATE', 'MONEY', 'ORG', 'MONEY', 'DATE', 'PERSON', 'PERSON', 'GPE', 'NORP', 'PERSON', 'ORG', 'NORP', 'PERSON', 'NORP', 'PERSON', 'CARDINAL', 'DATE', 'NORP', 'PERSON', 'NORP', 'CARDINAL', 'CARDINAL', 'GPE', 'NORP', 'NORP', 'NORP', 'GPE', 'CARDINAL', 'NORP', 'GPE', 'GPE', 'DATE', 'CARDINAL', 'CARDINAL', 'DATE', 'GPE', 'NORP', 'CARDINAL', 'GPE', 'DATE', 'GPE', 'NORP', 'CARDINAL', 'DATE', 'PERSON', 'TIME', 'CARDINAL', 'NORP', 'GPE', 'ORG', 'EVENT', 'GPE', 'DATE', 'NORP', 'GPE', 'MONEY', 'ORG', 'DATE', 'GPE', 'ORG', 'DATE', 'GPE', 'DATE', 'PRODUCT', 'CARDINAL', 'CARDINAL', 'QUANTITY', 'ORG', 'DATE', 'ORG', 'ORDINAL', 'PERCENT', 'GPE', 'DATE', 'MONEY', 'NORP', 'PERSON', 'PERSON', 'DATE', 'ORG', 'ORG', 'ORG', 'DATE', 'EVENT', 'DATE', 'ORG', 'PERCENT', 'GPE', 'CARDINAL', 'ORG', 'PERCENT', 'NORP', 'GPE', 'LOC', 'DATE', 'DATE', 'DATE', 'DATE', 'ORG', 'DATE', 'PERSON', 'DATE', 'DATE', 'PERSON', 'GPE', 'GPE', 'NORP', 'GPE', 'NORP', 'NORP', 'GPE', 'GPE', 'ORG', 'LOC', 'LOC', 'NORP', 'DATE', 'DATE', 'NORP', 'EVENT', 'DATE', 'PERSON', 'PRODUCT', 'GPE', 'NORP', 'DATE', 'LOC', 'GPE', 'DATE', 'DATE', 'PERSON', 'GPE', 'GPE', 'LOC', 'DATE', 'PERSON', 'GPE', 'ORDINAL', 'GPE', 'GPE', 'DATE', 'NORP', 'DATE', 'DATE', 'PERCENT', 'DATE', 'PERCENT', 'DATE', 'GPE', 'GPE', 'PERCENT', 'DATE', 'PERCENT', 'DATE', 'ORG', 'PERSON', 'GPE', 'DATE', 'GPE', 'PERCENT', 'DATE', 'PERCENT', 'DATE', 'CARDINAL', 'GPE', 'NORP', 'DATE', 'MONEY', 'GPE', 'ORG', 'ORG', 'GPE', 'GPE', 'CARDINAL', 'ORG', 'PERSON', 'ORG', 'TIME', 'PERSON', 'GPE', 'GPE', 'NORP', 'CARDINAL', 'CARDINAL', 'PERSON', 'NORP', 'GPE', 'CARDINAL', 'NORP', 'CARDINAL', 'NORP', 'NORP', 'DATE', 'NORP', 'PERSON', 'GPE', 'GPE', 'GPE', 'ORG', 'GPE', 'ORG', 'GPE', 'ORG', 'DATE', 'DATE', 'ORDINAL', 'PERSON', 'PERSON', 'CARDINAL', 'PERSON', 'PERCENT', 'PERSON', 'PERCENT', 'ORG', 'DATE', 'DATE', 'PERSON', 'ORG', 'PERSON', 'PERSON', 'GPE', 'ORDINAL', 'CARDINAL', 'GPE', 'DATE', 'DATE', 'LOC', 'GPE', 'GPE', 'GPE', 'PERSON', 'CARDINAL', 'DATE', 'DATE', 'PERSON', 'GPE', 'PERSON', 'PERSON', 'NORP', 'ORG', 'PERSON', 'PERSON', 'DATE', 'NORP', 'GPE', 'GPE', 'DATE', 'GPE', 'ORG', 'DATE', 'GPE', 'ORG', 'PERSON', 'GPE', 'CARDINAL', 'NORP', 'GPE', 'DATE', 'CARDINAL', 'PERSON', 'DATE', 'CARDINAL', 'NORP', 'NORP', 'GPE', 'CARDINAL', 'ORG', 'DATE', 'CARDINAL', 'CARDINAL', 'NORP', 'CARDINAL', 'NORP', 'CARDINAL', 'CARDINAL', 'CARDINAL', 'CARDINAL', 'GPE', 'GPE', 'ORG', 'ORG', 'GPE', 'GPE', 'DATE', 'CARDINAL', 'PERSON', 'DATE', 'NORP', 'GPE', 'ORDINAL', 'EVENT', 'ORG', 'DATE', 'PERSON', 'GPE', 'GPE', 'GPE', 'ORG', 'ORG', 'GPE', 'DATE', 'CARDINAL', 'NORP', 'NORP', 'NORP', 'PERSON', 'GPE', 'PERSON', 'ORG', 'DATE', 'GPE', 'NORP', 'PERSON', 'PERSON', 'GPE', 'DATE', 'CARDINAL', 'NORP', 'NORP', 'PERSON', 'PERSON', 'NORP', 'DATE', 'DATE', 'GPE', 'CARDINAL', 'NORP', 'GPE', 'GPE', 'GPE', 'GPE', 'ORG', 'GPE', 'GPE', 'GPE', 'GPE', 'CARDINAL', 'ORG', 'GPE', 'GPE', 'ORG', 'PERSON', 'NORP', 'DATE', 'ORG', 'DATE', 'GPE', 'ORG', 'DATE', 'GPE', 'NORP', 'GPE', 'GPE', 'GPE', 'GPE', 'GPE', 'PERSON', 'NORP', 'PERSON', 'NORP', 'PERSON', 'PERSON', 'NORP', 'DATE', 'ORG', 'NORP', 'NORP', 'GPE', 'DATE', 'GPE', 'PERSON', 'GPE', 'NORP', 'ORG', 'GPE', 'GPE', 'ORG', 'PERSON', 'DATE', 'NORP', 'NORP', 'LOC', 'ORG', 'CARDINAL', 'GPE', 'ORG', 'QUANTITY', 'ORG', 'NORP', 'GPE', 'PERSON', 'GPE', 'GPE', 'GPE', 'DATE', 'CARDINAL', 'NORP', 'LOC', 'CARDINAL', 'CARDINAL', 'ORG', 'PERSON', 'QUANTITY', 'CARDINAL', 'NORP', 'GPE', 'DATE', 'DATE', 'GPE', 'GPE', 'PERSON', 'DATE', 'GPE', 'GPE', 'PERSON', 'CARDINAL', 'ORG', 'GPE', 'GPE', 'DATE', 'CARDINAL', 'ORG', 'GPE', 'GPE', 'DATE', 'DATE', 'PERSON', 'NORP', 'NORP', 'NORP', 'DATE', 'PERSON', 'GPE', 'GPE', 'NORP', 'GPE', 'GPE', 'ORG', 'GPE', 'ORG', 'NORP', 'CARDINAL', 'NORP', 'GPE', 'CARDINAL', 'PERSON', 'GPE', 'ORG', 'PERSON', 'DATE', 'ORG', 'NORP', 'PERSON', 'PERSON', 'DATE', 'NORP', 'DATE', 'DATE', 'GPE', 'NORP', 'CARDINAL', 'DATE', 'PERSON', 'GPE', 'GPE', 'ORDINAL', 'NORP', 'GPE', 'PERSON', 'NORP', 'GPE', 'NORP', 'DATE', 'NORP', 'LOC', 'GPE', 'GPE', 'DATE', 'CARDINAL', 'ORG', 'PERSON', 'DATE', 'PERSON', 'GPE', 'GPE', 'DATE', 'NORP', 'GPE', 'PERSON', 'DATE', 'LOC', 'LOC', 'LOC', 'ORG', 'CARDINAL', 'LOC', 'GPE', 'LOC', 'DATE', 'PERSON', 'LOC', 'NORP', 'GPE', 'LOC', 'GPE', 'GPE', 'PERSON', 'GPE', 'LOC', 'GPE', 'ORG', 'NORP', 'GPE', 'GPE', 'CARDINAL', 'ORG', 'ORG', 'GPE', 'NORP', 'DATE', 'ORG', 'DATE', 'NORP', 'GPE', 'NORP', 'PERSON', 'GPE', 'PERSON', 'GPE', 'GPE', 'GPE', 'GPE', 'GPE', 'CARDINAL', 'NORP', 'GPE', 'CARDINAL', 'CARDINAL', 'DATE', 'GPE', 'NORP', 'CARDINAL', 'ORG', 'NORP', 'ORG', 'GPE', 'NORP', 'GPE', 'GPE', 'GPE', 'GPE', 'ORG', 'PERSON', 'ORG', 'DATE', 'GPE', 'GPE', 'DATE', 'PERSON', 'GPE', 'CARDINAL', 'GPE', 'GPE', 'GPE', 'GPE', 'PERSON', 'GPE', 'GPE', 'PERSON', 'GPE', 'NORP', 'ORG', 'ORDINAL', 'DATE', 'DATE', 'GPE', 'DATE', 'CARDINAL', 'ORG', 'DATE', 'DATE', 'GPE', 'ORG', 'ORG', 'CARDINAL', 'NORP', 'NORP', 'DATE', 'NORP', 'GPE', 'PERSON', 'NORP', 'DATE', 'GPE', 'PERSON', 'PERSON', 'DATE', 'ORDINAL', 'PERSON', 'GPE', 'GPE', 'CARDINAL', 'GPE', 'GPE', 'NORP', 'GPE', 'DATE', 'GPE', 'GPE', 'DATE', 'GPE', 'GPE', 'NORP', 'CARDINAL', 'GPE', 'GPE', 'GPE', 'GPE', 'CARDINAL', 'DATE', 'GPE', 'ORG', 'LOC', 'DATE', 'ORDINAL', 'GPE', 'NORP', 'DATE', 'ORG', 'DATE', 'PERSON', 'LOC', 'ORG', 'PRODUCT', 'PERSON', 'ORG', 'CARDINAL', 'GPE', 'GPE', 'GPE', 'PERSON', 'NORP', 'CARDINAL', 'ORG', 'PERSON', 'ORG', 'DATE', 'GPE', 'PERSON', 'GPE', 'GPE', 'NORP', 'PERSON', 'ORDINAL', 'DATE', 'ORG', 'DATE', 'CARDINAL', 'ORG', 'DATE', 'CARDINAL', 'WORK_OF_ART', 'ORDINAL', 'DATE', 'PERSON', 'DATE', 'MONEY', 'NORP', 'ORG', 'NORP', 'DATE', 'GPE', 'DATE', 'ORDINAL', 'DATE', 'GPE', 'LOC', 'GPE', 'ORDINAL', 'DATE', 'ORG', 'PERSON', 'ORG', 'NORP', 'DATE', 'DATE', 'NORP', 'LOC', 'NORP', 'GPE', 'GPE', 'DATE', 'PERSON', 'GPE', 'ORG', 'GPE', 'CARDINAL', 'TIME', 'DATE', 'GPE', 'PERSON', 'GPE', 'DATE', 'GPE', 'CARDINAL', 'GPE', 'GPE', 'GPE', 'DATE', 'NORP', 'GPE', 'NORP', 'NORP', 'PERSON', 'DATE', 'PERSON', 'ORG', 'GPE', 'CARDINAL', 'PERSON', 'DATE', 'GPE', 'GPE', 'DATE', 'PERSON', 'CARDINAL', 'DATE', 'DATE', 'PERSON', 'DATE', 'ORG', 'GPE', 'GPE', 'GPE', 'GPE', 'DATE', 'ORG', 'CARDINAL', 'DATE', 'NORP', 'ORG', 'PERSON', 'NORP', 'GPE', 'GPE', 'PERSON', 'PERSON', 'GPE', 'GPE', 'NORP', 'PERSON', 'ORDINAL', 'PERSON', 'NORP', 'GPE', 'LOC', 'GPE', 'DATE', 'DATE', 'ORG', 'GPE', 'ORG', 'DATE', 'NORP', 'GPE', 'EVENT', 'MONEY', 'MONEY', 'GPE', 'LOC', 'MONEY', 'DATE', 'GPE', 'PERSON', 'MONEY', 'PERSON', 'PERSON', 'ORG', 'GPE', 'NORP', 'PERSON', 'CARDINAL', 'NORP', 'PERSON', 'DATE', 'NORP', 'DATE', 'ORG', 'ORG', 'GPE', 'PERSON', 'NORP', 'GPE', 'GPE', 'GPE', 'GPE', 'DATE', 'GPE', 'NORP', 'DATE', 'LOC', 'PERSON', 'GPE', 'FAC', 'ORG', 'EVENT', 'GPE', 'GPE', 'ORG', 'ORG', 'PERSON', 'DATE', 'CARDINAL', 'LOC', 'DATE', 'ORG', 'ORG', 'ORG', 'ORG', 'ORG', 'DATE', 'GPE', 'GPE', 'GPE', 'PERSON', 'GPE', 'PERSON', 'ORDINAL', 'EVENT', 'LOC', 'PERSON', 'ORDINAL', 'LOC', 'DATE', 'GPE', 'DATE', 'GPE', 'CARDINAL', 'NORP', 'GPE', 'CARDINAL', 'DATE', 'GPE', 'NORP', 'ORDINAL', 'NORP', 'DATE', 'QUANTITY', 'GPE', 'DATE', 'GPE', 'CARDINAL', 'GPE', 'NORP', 'GPE', 'DATE', 'GPE', 'PERSON', 'ORG', 'NORP', 'ORG', 'CARDINAL', 'GPE', 'GPE', 'NORP', 'PERSON', 'PERSON', 'ORG', 'PERSON', 'GPE', 'NORP', 'PERSON', 'GPE', 'DATE', 'PERSON', 'NORP', 'NORP', 'GPE', 'ORG', 'DATE', 'ORG', 'DATE', 'ORG', 'ORG', 'NORP', 'PERSON', 'ORG', 'PERSON', 'DATE', 'ORG', 'GPE', 'GPE', 'GPE', 'DATE', 'ORG', 'DATE', 'PERSON', 'CARDINAL', 'NORP', 'NORP', 'EVENT', 'GPE', 'DATE', 'PERSON', 'DATE', 'GPE', 'GPE', 'PERSON', 'DATE', 'ORG', 'DATE', 'ORG', 'CARDINAL', 'GPE', 'DATE', 'GPE', 'NORP', 'ORG', 'QUANTITY', 'DATE', 'ORG', 'GPE', 'LOC', 'DATE', 'CARDINAL', 'QUANTITY', 'GPE', 'NORP', 'DATE', 'NORP', 'PERSON', 'CARDINAL', 'NORP', 'CARDINAL', 'DATE', 'CARDINAL', 'GPE', 'GPE', 'GPE', 'PERSON', 'GPE', 'DATE', 'EVENT', 'NORP', 'PERSON', 'DATE', 'EVENT', 'EVENT', 'PERSON', 'ORG', 'GPE', 'PERSON', 'QUANTITY', 'FAC', 'DATE', 'NORP', 'GPE', 'DATE', 'PERSON', 'GPE', 'PERSON', 'GPE', 'DATE', 'PERSON', 'GPE', 'PERSON', 'GPE', 'DATE', 'DATE', 'ORG', 'ORG', 'PERSON', 'GPE', 'GPE', 'FAC', 'DATE', 'FAC', 'DATE', 'GPE', 'GPE', 'CARDINAL', 'NORP', 'CARDINAL', 'DATE', 'GPE', 'CARDINAL', 'GPE', 'CARDINAL', 'NORP', 'NORP', 'CARDINAL', 'DATE', 'GPE', 'CARDINAL', 'NORP', 'NORP', 'DATE', 'ORG', 'ORG', 'PERSON', 'NORP', 'GPE', 'NORP', 'NORP', 'PERSON', 'GPE', 'GPE', 'ORG', 'PERSON', 'ORG', 'DATE', 'DATE', 'ORG', 'ORG', 'PERSON', 'GPE', 'GPE', 'NORP', 'GPE', 'DATE', 'NORP', 'GPE', 'CARDINAL', 'GPE', 'CARDINAL', 'GPE', 'ORDINAL', 'GPE', 'DATE', 'CARDINAL', 'GPE', 'LOC', 'GPE', 'DATE', 'NORP', 'PERSON', 'PERSON', 'ORG', 'CARDINAL', 'DATE', 'NORP', 'GPE', 'CARDINAL', 'NORP', 'PERSON', 'GPE', 'GPE', 'DATE', 'NORP', 'PERSON', 'PERSON', 'DATE', 'GPE', 'ORG', 'PERSON', 'GPE', 'GPE', 'CARDINAL', 'DATE', 'GPE', 'CARDINAL', 'CARDINAL', 'ORG', 'EVENT', 'NORP', 'DATE', 'ORG', 'CARDINAL', 'ORDINAL', 'DATE', 'WORK_OF_ART', 'NORP', 'PERSON', 'ORG', 'PERSON', 'CARDINAL', 'ORG', 'DATE', 'PERSON', 'DATE', 'PERSON', 'PERSON', 'DATE', 'PERSON', 'CARDINAL', 'PERSON', 'NORP', 'PERSON', 'PERSON', 'GPE', 'CARDINAL', 'DATE', 'DATE', 'ORG', 'ORG', 'PERSON', 'PERSON', 'CARDINAL', 'ORG', 'PERSON', 'ORG', 'GPE', 'GPE', 'ORG', 'DATE', 'CARDINAL', 'CARDINAL', 'NORP', 'PERSON', 'PERSON', 'GPE', 'NORP', 'GPE', 'GPE', 'CARDINAL', 'NORP', 'DATE', 'CARDINAL', 'PERSON', 'PERSON', 'DATE', 'NORP', 'DATE', 'GPE', 'DATE', 'NORP', 'PERSON', 'GPE', 'LOC', 'CARDINAL', 'ORG', 'DATE', 'DATE', 'ORG', 'CARDINAL', 'PERSON', 'LOC', 'DATE', 'CARDINAL', 'CARDINAL', 'NORP', 'GPE', 'CARDINAL', 'GPE', 'GPE', 'ORG', 'DATE', 'DATE', 'ORG', 'GPE', 'DATE', 'PERSON', 'EVENT', 'GPE', 'PERSON', 'GPE', 'ORG', 'QUANTITY', 'GPE', 'DATE', 'DATE', 'GPE', 'CARDINAL', 'GPE', 'MONEY', 'DATE', 'GPE', 'MONEY', 'PERSON', 'GPE', 'GPE', 'NORP', 'DATE', 'PERSON', 'GPE', 'GPE', 'GPE', 'PERSON', 'GPE', 'GPE', 'ORG', 'DATE', 'ORG', 'GPE', 'LOC', 'GPE', 'GPE', 'ORG', 'GPE', 'PERSON', 'ORG', 'GPE', 'GPE', 'CARDINAL', 'CARDINAL', 'DATE', 'TIME', 'TIME', 'NORP', 'NORP', 'GPE', 'PERSON', 'DATE', 'GPE', 'PERSON', 'CARDINAL', 'CARDINAL', 'ORG', 'GPE', 'DATE', 'ORG', 'PERSON', 'EVENT', 'GPE', 'NORP', 'CARDINAL', 'ORG', 'MONEY', 'NORP', 'GPE', 'GPE', 'PERSON', 'GPE', 'DATE', 'GPE', 'DATE', 'CARDINAL', 'CARDINAL', 'ORG', 'ORG', 'PERSON', 'PERSON', 'DATE', 'GPE', 'DATE', 'DATE', 'NORP', 'PERSON', 'ORG', 'DATE', 'GPE', 'GPE', 'PERCENT', 'CARDINAL', 'GPE', 'PERSON', 'DATE', 'GPE', 'GPE', 'DATE', 'ORG', 'DATE', 'PERSON', 'ORG', 'PERSON', 'NORP', 'ORG', 'ORG', 'ORG', 'ORG', 'ORG', 'ORG', 'GPE', 'LOC', 'CARDINAL', 'DATE', 'GPE', 'DATE', 'ORG', 'GPE', 'GPE', 'GPE', 'GPE', 'GPE', 'GPE', 'NORP', 'PERSON', 'ORDINAL', 'CARDINAL', 'DATE', 'PERSON', 'DATE', 'PERSON', 'ORDINAL', 'CARDINAL', 'ORG', 'CARDINAL', 'ORDINAL', 'DATE', 'NORP', 'PERCENT', 'NORP', 'PERSON', 'ORG', 'GPE', 'PERSON', 'MONEY', 'PERSON', 'NORP', 'PERSON', 'GPE', 'PERSON', 'GPE', 'GPE', 'NORP', 'DATE', 'PERSON', 'PERSON', 'PERSON', 'DATE', 'PERSON', 'NORP', 'GPE', 'ORDINAL', 'GPE', 'GPE', 'NORP', 'NORP', 'GPE', 'DATE', 'GPE', 'NORP', 'ORG', 'NORP', 'GPE', 'LOC', 'GPE', 'GPE', 'GPE', 'GPE', 'DATE', 'DATE', 'PERSON', 'GPE', 'NORP', 'ORG', 'GPE', 'ORDINAL', 'ORG', 'DATE', 'PERSON', 'PERCENT', 'DATE', 'PERSON', 'NORP', 'PERSON', 'NORP', 'ORG', 'GPE', 'PERCENT', 'ORG', 'GPE', 'GPE', 'PRODUCT', 'DATE', 'GPE', 'MONEY', 'GPE', 'CARDINAL', 'DATE', 'GPE', 'LOC', 'ORG', 'GPE', 'DATE', 'LOC', 'GPE', 'ORG', 'DATE', 'DATE', 'GPE', 'PERCENT', 'ORG', 'CARDINAL', 'CARDINAL', 'CARDINAL', 'ORG', 'GPE', 'PERSON', 'ORG', 'PERSON', 'MONEY', 'PERSON', 'DATE', 'PERSON', 'DATE', 'DATE', 'ORG', 'ORDINAL', 'GPE', 'NORP', 'PERSON', 'GPE', 'DATE', 'NORP', 'PERSON', 'PERSON', 'GPE', 'GPE', 'CARDINAL', 'NORP', 'CARDINAL', 'NORP', 'CARDINAL', 'GPE', 'DATE', 'NORP', 'ORG', 'ORG', 'GPE', 'GPE', 'NORP', 'ORG', 'PERSON', 'GPE', 'DATE', 'QUANTITY', 'DATE', 'DATE', 'ORG', 'GPE', 'GPE', 'GPE', 'GPE', 'GPE', 'GPE', 'GPE', 'ORG', 'DATE', 'ORG', 'QUANTITY', 'QUANTITY', 'ORG', 'CARDINAL', 'PERCENT', 'PERSON', 'GPE', 'LOC', 'DATE', 'DATE', 'MONEY', 'MONEY', 'ORG', 'PERCENT', 'DATE', 'NORP', 'PERSON', 'GPE', 'GPE', 'PERSON', 'TIME', 'GPE', 'DATE', 'DATE', 'GPE', 'DATE', 'CARDINAL', 'CARDINAL', 'CARDINAL', 'PERSON', 'ORG', 'ORG', 'NORP', 'GPE', 'GPE', 'ORG', 'CARDINAL', 'CARDINAL', 'DATE', 'GPE', 'GPE', 'GPE', 'DATE', 'PERSON', 'ORG', 'ORG', 'EVENT', 'PERSON', 'GPE', 'GPE', 'ORDINAL', 'DATE', 'NORP', 'DATE', 'NORP', 'PERSON', 'LANGUAGE', 'GPE', 'DATE', 'PERSON', 'WORK_OF_ART', 'PERSON', 'NORP', 'DATE', 'PERSON', 'PERSON', 'PERSON', 'PERSON', 'PERSON', 'PERSON', 'CARDINAL', 'DATE', 'NORP', 'WORK_OF_ART', 'PERSON', 'NORP', 'PERSON', 'NORP', 'PERSON', 'LOC', 'GPE', 'LOC', 'GPE', 'DATE', 'DATE', 'GPE', 'PERSON', 'LOC', 'DATE', 'GPE', 'NORP', 'DATE', 'NORP', 'NORP', 'DATE', 'GPE', 'MONEY', 'GPE', 'GPE', 'ORG', 'NORP', 'GPE', 'DATE', 'ORG', 'GPE', 'DATE', 'PERSON', 'DATE', 'DATE', 'CARDINAL', 'GPE', 'DATE', 'PERSON', 'CARDINAL', 'PERSON', 'ORG', 'DATE', 'NORP', 'CARDINAL', 'GPE', 'GPE', 'ORG', 'GPE', 'ORDINAL', 'DATE', 'CARDINAL', 'GPE', 'PERSON', 'CARDINAL', 'GPE', 'GPE', 'GPE', 'DATE', 'CARDINAL', 'GPE', 'DATE', 'LOC', 'NORP', 'ORDINAL', 'GPE', 'NORP', 'DATE', 'PERSON', 'GPE', 'GPE', 'NORP', 'GPE', 'CARDINAL', 'CARDINAL', 'LOC', 'GPE', 'LOC', 'GPE', 'MONEY', 'DATE', 'QUANTITY', 'CARDINAL', 'DATE', 'GPE', 'LOC', 'NORP', 'PERSON', 'NORP', 'PERSON', 'DATE', 'ORDINAL', 'NORP', 'PERSON', 'PERSON', 'GPE', 'CARDINAL', 'FAC', 'GPE', 'NORP', 'NORP', 'DATE', 'NORP', 'GPE', 'EVENT', 'NORP', 'GPE', 'PERSON', 'DATE', 'GPE', 'GPE', 'CARDINAL', 'PERSON', 'GPE', 'GPE', 'WORK_OF_ART', 'DATE', 'DATE', 'GPE', 'GPE', 'GPE', 'PERSON', 'GPE', 'DATE', 'GPE', 'GPE', 'GPE', 'DATE', 'GPE', 'GPE', 'GPE', 'NORP', 'GPE', 'DATE', 'CARDINAL', 'NORP', 'NORP', 'GPE', 'PERSON', 'NORP', 'CARDINAL', 'ORG', 'ORDINAL', 'CARDINAL', 'ORG', 'ORG', 'ORG', 'NORP', 'DATE', 'DATE', 'GPE', 'GPE', 'DATE', 'GPE', 'GPE', 'CARDINAL', 'NORP', 'PERSON', 'ORG', 'ORG', 'GPE', 'GPE', 'NORP', 'DATE', 'GPE', 'NORP', 'GPE', 'GPE', 'ORG', 'DATE', 'ORG', 'ORG', 'DATE', 'GPE', 'GPE', 'CARDINAL', 'ORG', 'PRODUCT', 'GPE', 'NORP', 'GPE', 'ORG', 'DATE', 'GPE', 'ORG', 'CARDINAL', 'GPE', 'GPE', 'PERSON', 'GPE', 'ORG', 'PERSON', 'GPE', 'ORG', 'PERSON', 'DATE', 'GPE', 'FAC', 'GPE', 'PERSON', 'DATE', 'GPE', 'DATE', 'GPE', 'NORP', 'GPE', 'GPE', 'ORG', 'ORG', 'NORP', 'ORG', 'PERSON', 'GPE', 'NORP', 'LAW', 'GPE', 'GPE', 'ORG', 'DATE', 'GPE', 'GPE', 'GPE', 'GPE', 'GPE', 'GPE', 'GPE', 'GPE', 'PERSON', 'DATE', 'ORG', 'MONEY', 'PERSON', 'ORG', 'ORG', 'PERSON', 'DATE', 'ORG', 'CARDINAL', 'PERSON', 'ORG', 'GPE', 'NORP', 'GPE', 'PERSON', 'ORG', 'ORG', 'GPE', 'PERSON', 'DATE', 'GPE', 'LAW', 'MONEY', 'ORG', 'DATE', 'ORG', 'GPE', 'MONEY', 'DATE', 'MONEY', 'PERSON', 'NORP', 'GPE', 'NORP', 'CARDINAL', 'NORP', 'CARDINAL', 'PERSON', 'PERSON', 'NORP', 'NORP', 'ORG', 'GPE', 'DATE', 'CARDINAL', 'DATE', 'CARDINAL', 'DATE', 'GPE', 'DATE', 'NORP', 'PERSON', 'GPE', 'LOC', 'GPE', 'GPE', 'CARDINAL', 'GPE', 'ORG', 'DATE', 'GPE', 'ORG', 'GPE', 'LOC', 'GPE', 'ORG', 'DATE', 'PERSON', 'PERSON', 'PERSON', 'GPE', 'GPE', 'GPE', 'GPE', 'PERSON', 'GPE', 'ORG', 'PERSON', 'GPE', 'DATE', 'GPE', 'ORG', 'MONEY', 'GPE', 'GPE', 'GPE', 'ORG', 'ORG', 'MONEY', 'ORG', 'PERSON', 'GPE', 'GPE', 'MONEY', 'GPE', 'CARDINAL', 'DATE', 'CARDINAL', 'CARDINAL', 'NORP', 'GPE', 'GPE', 'NORP', 'GPE', 'NORP', 'ORG', 'PERSON', 'GPE', 'EVENT', 'NORP', 'DATE', 'NORP', 'CARDINAL', 'NORP', 'GPE', 'GPE', 'NORP', 'LOC', 'PERSON', 'GPE', 'GPE', 'GPE', 'GPE', 'GPE', 'GPE', 'GPE', 'GPE', 'NORP', 'ORG', 'ORG', 'EVENT', 'GPE', 'ORG', 'CARDINAL', 'GPE', 'PERSON', 'TIME', 'DATE', 'ORG', 'GPE', 'ORG', 'GPE', 'ORG', 'ORG', 'GPE', 'GPE', 'GPE', 'GPE', 'GPE', 'CARDINAL', 'NORP', 'CARDINAL', 'ORG', 'PERSON', 'ORDINAL', 'ORDINAL', 'PERSON', 'PERSON', 'GPE', 'NORP', 'NORP', 'ORDINAL', 'GPE', 'GPE', 'CARDINAL', 'NORP', 'NORP', 'DATE', 'GPE', 'CARDINAL', 'NORP', 'CARDINAL', 'GPE', 'GPE', 'NORP', 'PERSON', 'NORP', 'PERSON', 'GPE', 'NORP', 'PERSON', 'PERSON', 'ORDINAL', 'NORP', 'PERSON', 'DATE', 'CARDINAL', 'DATE', 'NORP', 'ORG', 'ORG', 'PERSON', 'ORG', 'PERSON', 'PERSON', 'NORP', 'PERSON', 'DATE', 'PERSON', 'DATE', 'GPE', 'GPE', 'DATE', 'PERSON', 'NORP', 'GPE', 'GPE', 'GPE', 'PERSON', 'GPE', 'DATE', 'ORG', 'NORP', 'ORG', 'GPE', 'ORG', 'GPE', 'GPE', 'DATE', 'ORG', 'GPE', 'GPE', 'GPE', 'ORG', 'NORP', 'DATE', 'DATE', 'CARDINAL', 'ORG', 'GPE', 'GPE', 'PERSON', 'ORG', 'GPE', 'CARDINAL', 'ORG', 'GPE', 'DATE', 'ORG', 'ORG', 'CARDINAL', 'PRODUCT', 'PRODUCT', 'DATE', 'NORP', 'ORG', 'CARDINAL', 'CARDINAL', 'GPE', 'NORP', 'ORG', 'PERSON', 'NORP', 'GPE', 'GPE', 'ORG', 'PERSON', 'DATE', 'NORP', 'PERSON', 'NORP', 'PERSON', 'GPE', 'NORP', 'PERSON', 'DATE', 'GPE', 'ORG', 'GPE', 'ORG', 'ORG', 'ORG', 'NORP', 'PERSON', 'ORG', 'GPE', 'LOC', 'PERSON', 'DATE', 'NORP', 'ORG', 'GPE', 'GPE', 'LOC', 'GPE', 'GPE', 'GPE', 'ORG', 'LOC', 'GPE', 'GPE', 'GPE', 'GPE', 'PERSON', 'GPE', 'ORG', 'DATE', 'GPE', 'GPE', 'GPE', 'NORP', 'DATE', 'PERSON', 'NORP', 'DATE', 'PERSON', 'NORP', 'GPE', 'CARDINAL', 'NORP', 'ORG', 'ORG', 'ORG', 'CARDINAL', 'GPE', 'GPE', 'PERSON', 'PERSON', 'PERSON', 'LOC', 'GPE', 'ORG', 'PERSON', 'DATE', 'GPE', 'GPE', 'NORP', 'PERSON', 'PERSON', 'DATE', 'ORG', 'PERSON', 'PERSON', 'GPE', 'ORG', 'ORG', 'ORG', 'DATE', 'PERSON', 'DATE', 'PERSON', 'PERSON', 'CARDINAL', 'NORP', 'CARDINAL', 'NORP', 'CARDINAL', 'NORP', 'TIME', 'GPE', 'DATE', 'ORG', 'DATE', 'MONEY', 'MONEY', 'MONEY', 'MONEY', 'DATE', 'MONEY', 'ORG', 'DATE', 'ORG', 'ORG', 'DATE', 'MONEY', 'MONEY', 'GPE', 'DATE', 'GPE', 'PERCENT', 'PERCENT', 'DATE', 'GPE', 'ORG', 'MONEY', 'ORG', 'PERSON', 'DATE', 'ORG', 'DATE', 'GPE', 'ORG', 'MONEY', 'MONEY', 'MONEY', 'ORG', 'MONEY', 'ORG', 'NORP', 'EVENT', 'DATE', 'DATE', 'DATE', 'PERSON', 'DATE', 'GPE', 'ORG', 'PERSON', 'LOC', 'GPE', 'LOC', 'PERSON', 'ORG', 'GPE', 'DATE', 'ORDINAL', 'ORG', 'GPE', 'LOC', 'GPE', 'GPE', 'DATE', 'ORG', 'NORP', 'GPE', 'GPE', 'PERCENT', 'GPE', 'PERCENT', 'PERCENT', 'ORG', 'ORDINAL', 'PERSON', 'GPE', 'NORP', 'PERSON', 'DATE', 'NORP', 'PERSON', 'GPE', 'GPE', 'ORG', 'PERSON', 'GPE', 'ORG', 'PERSON', 'GPE', 'LOC', 'CARDINAL', 'GPE', 'DATE', 'GPE', 'GPE', 'MONEY', 'GPE', 'DATE', 'PERSON', 'CARDINAL', 'GPE', 'NORP', 'PERSON', 'ORG', 'DATE', 'ORG', 'NORP', 'DATE', 'PERSON', 'GPE', 'NORP', 'NORP', 'CARDINAL', 'GPE', 'DATE', 'NORP', 'DATE', 'DATE', 'ORDINAL', 'DATE', 'PERSON', 'PERSON', 'PERSON', 'DATE', 'GPE', 'GPE', 'ORG', 'GPE', 'LOC', 'GPE', 'PERSON', 'PERSON', 'NORP', 'PERSON', 'NORP', 'GPE', 'DATE', 'ORG', 'DATE', 'DATE', 'GPE', 'GPE', 'DATE', 'CARDINAL', 'DATE', 'ORG', 'ORG', 'PERSON', 'DATE', 'PERSON', 'LOC', 'PERSON', 'ORG', 'DATE', 'PERSON', 'DATE', 'DATE', 'PERSON', 'CARDINAL', 'ORG', 'GPE', 'PERSON', 'ORG', 'PERSON', 'ORG', 'PERSON', 'ORDINAL', 'CARDINAL', 'PERSON', 'ORG', 'PERSON', 'ORG', 'ORDINAL', 'PERSON', 'DATE', 'FAC', 'GPE', 'GPE', 'PERSON', 'PERSON', 'ORDINAL', 'DATE', 'ORG', 'PERSON', 'PERSON', 'GPE', 'PERSON', 'ORDINAL', 'PERSON', 'ORG', 'DATE', 'ORG', 'DATE', 'ORG', 'ORG', 'GPE', 'CARDINAL', 'DATE', 'PERSON', 'ORG', 'DATE', 'ORG', 'GPE', 'DATE', 'ORG', 'GPE', 'GPE', 'ORG', 'ORG', 'ORG', 'PERSON', 'DATE', 'DATE', 'NORP', 'PERSON', 'GPE', 'PERSON', 'PERSON', 'GPE', 'GPE', 'PERSON', 'GPE', 'GPE', 'DATE', 'NORP', 'DATE', 'GPE', 'ORG', 'GPE', 'GPE', 'ORG', 'ORG', 'DATE', 'NORP', 'NORP', 'NORP', 'ORG', 'DATE', 'GPE', 'GPE', 'GPE', 'ORG', 'DATE', 'NORP', 'GPE', 'DATE', 'NORP', 'ORG', 'GPE', 'GPE', 'PERSON', 'CARDINAL', 'ORG', 'PERSON', 'PERSON', 'DATE', 'PERSON', 'ORG', 'DATE', 'PERSON', 'GPE', 'DATE', 'NORP', 'ORG', 'GPE', 'CARDINAL', 'ORG', 'ORG', 'GPE', 'CARDINAL', 'GPE', 'ORG', 'GPE', 'DATE', 'CARDINAL', 'ORG', 'NORP', 'ORG', 'ORG', 'ORG', 'CARDINAL', 'DATE', 'GPE', 'GPE', 'DATE', 'CARDINAL', 'GPE', 'CARDINAL', 'CARDINAL', 'CARDINAL', 'GPE', 'ORG', 'GPE', 'GPE', 'GPE', 'DATE', 'NORP', 'PERSON', 'DATE', 'ORG', 'GPE', 'ORG', 'GPE', 'PERSON', 'NORP', 'GPE', 'NORP', 'GPE', 'NORP', 'ORG', 'GPE', 'GPE', 'ORDINAL', 'ORG', 'GPE', 'DATE', 'CARDINAL', 'NORP', 'GPE', 'DATE', 'CARDINAL', 'CARDINAL', 'GPE', 'GPE', 'GPE', 'GPE', 'GPE', 'GPE', 'ORG', 'NORP', 'GPE', 'DATE', 'CARDINAL', 'GPE', 'GPE', 'CARDINAL', 'ORG', 'GPE', 'CARDINAL', 'LOC', 'PERSON', 'NORP', 'PERSON', 'DATE', 'NORP', 'GPE', 'GPE', 'DATE', 'CARDINAL', 'PERSON', 'PERSON', 'ORG', 'CARDINAL', 'GPE', 'DATE', 'PERSON', 'CARDINAL', 'ORG', 'LOC', 'GPE', 'NORP', 'GPE', 'GPE', 'DATE', 'TIME', 'CARDINAL', 'DATE', 'GPE', 'CARDINAL', 'NORP', 'GPE', 'GPE', 'DATE', 'ORDINAL', 'NORP', 'NORP', 'CARDINAL', 'GPE', 'ORG', 'PERSON', 'DATE', 'DATE', 'ORDINAL', 'PERSON', 'NORP', 'ORG', 'DATE', 'PERSON', 'ORG', 'PERSON', 'GPE', 'DATE', 'PERSON', 'DATE', 'DATE', 'PERSON', 'ORG', 'ORG', 'PERSON', 'DATE', 'NORP', 'PERSON', 'NORP', 'DATE', 'DATE', 'ORDINAL', 'LOC', 'GPE', 'PERSON', 'PERSON', 'GPE', 'DATE', 'GPE', 'GPE', 'NORP', 'NORP', 'NORP', 'DATE', 'GPE', 'ORG', 'PERSON', 'DATE', 'GPE', 'PERSON', 'DATE', 'GPE', 'GPE', 'GPE', 'DATE', 'NORP', 'GPE', 'GPE', 'CARDINAL', 'NORP', 'GPE', 'DATE', 'DATE', 'NORP', 'PERSON', 'ORG', 'CARDINAL', 'CARDINAL', 'NORP', 'NORP', 'DATE', 'DATE', 'GPE', 'DATE', 'ORG', 'CARDINAL', 'GPE', 'GPE', 'GPE', 'NORP', 'PERSON', 'NORP', 'GPE', 'NORP', 'DATE', 'GPE', 'GPE', 'PERSON', 'NORP', 'NORP', 'GPE', 'GPE', 'NORP', 'NORP', 'PERSON', 'ORG', 'NORP', 'DATE', 'DATE', 'GPE', 'NORP', 'GPE', 'DATE', 'ORG', 'DATE', 'NORP', 'CARDINAL', 'DATE', 'DATE', 'GPE', 'GPE', 'GPE', 'GPE', 'CARDINAL', 'DATE', 'NORP', 'GPE', 'ORG', 'GPE', 'GPE', 'GPE', 'ORG', 'GPE', 'GPE', 'GPE', 'DATE', 'TIME', 'NORP', 'PERSON', 'DATE', 'GPE', 'GPE', 'GPE', 'DATE', 'GPE', 'CARDINAL', 'DATE', 'ORG', 'GPE', 'CARDINAL', 'CARDINAL', 'DATE', 'GPE', 'PERSON', 'NORP', 'PERSON', 'DATE', 'GPE', 'CARDINAL', 'NORP', 'ORG', 'LOC', 'PERSON', 'GPE', 'GPE', 'GPE', 'GPE', 'GPE', 'GPE', 'GPE', 'GPE', 'NORP', 'NORP', 'GPE', 'DATE', 'NORP', 'DATE', 'PERSON', 'ORG', 'DATE', 'GPE', 'ORG', 'GPE', 'PERSON', 'GPE', 'PERSON', 'GPE', 'GPE', 'GPE', 'DATE', 'NORP', 'GPE', 'ORG', 'GPE', 'ORG', 'GPE', 'ORG', 'NORP', 'GPE', 'ORG', 'DATE', 'ORG', 'DATE', 'ORG', 'ORG', 'PERSON', 'DATE', 'GPE', 'QUANTITY', 'GPE', 'NORP', 'GPE', 'CARDINAL', 'NORP', 'NORP', 'TIME', 'GPE', 'GPE', 'ORDINAL', 'NORP', 'GPE', 'DATE', 'NORP', 'NORP', 'GPE', 'NORP', 'GPE', 'CARDINAL', 'ORG', 'GPE', 'DATE', 'ORG', 'ORG', 'DATE', 'CARDINAL', 'NORP', 'DATE', 'NORP', 'PERCENT', 'NORP', 'DATE', 'GPE', 'ORG', 'MONEY', 'GPE', 'DATE', 'PERSON', 'DATE', 'ORG', 'CARDINAL', 'ORG', 'ORG', 'PERSON', 'DATE', 'ORG', 'PERSON', 'CARDINAL', 'ORG', 'PERSON', 'DATE', 'GPE', 'GPE', 'GPE', 'DATE', 'NORP', 'PERSON', 'GPE', 'DATE', 'NORP', 'PERSON', 'GPE', 'GPE', 'GPE', 'DATE', 'PERSON', 'DATE', 'GPE', 'GPE', 'GPE', 'MONEY', 'GPE', 'ORG', 'GPE', 'GPE', 'NORP', 'GPE', 'TIME', 'CARDINAL', 'DATE', 'CARDINAL', 'DATE', 'ORG', 'ORG', 'ORG', 'NORP', 'GPE', 'NORP', 'NORP', 'DATE', 'CARDINAL', 'CARDINAL', 'NORP', 'GPE', 'DATE', 'CARDINAL', 'GPE', 'GPE', 'CARDINAL', 'PERSON', 'NORP', 'GPE', 'GPE', 'TIME', 'DATE', 'NORP', 'PERSON', 'PERSON', 'ORG', 'NORP', 'GPE', 'DATE', 'GPE', 'ORG', 'ORG', 'NORP', 'GPE', 'CARDINAL', 'NORP', 'GPE', 'GPE', 'CARDINAL', 'PERSON', 'GPE', 'PRODUCT', 'GPE', 'GPE', 'DATE', 'PERSON', 'DATE', 'GPE', 'PERSON', 'DATE', 'ORG', 'ORG', 'CARDINAL', 'PERSON', 'ORG', 'DATE', 'DATE', 'PRODUCT', 'PERSON', 'NORP', 'GPE', 'MONEY', 'ORG', 'ORG', 'PERSON', 'ORG', 'ORG', 'CARDINAL', 'ORG', 'DATE', 'CARDINAL', 'CARDINAL', 'GPE', 'ORG', 'GPE', 'NORP', 'DATE', 'DATE', 'NORP', 'GPE', 'GPE', 'GPE', 'GPE', 'NORP', 'CARDINAL', 'NORP', 'CARDINAL', 'CARDINAL', 'DATE', 'DATE', 'NORP', 'PERSON', 'GPE', 'PERSON', 'GPE', 'GPE', 'CARDINAL', 'DATE', 'GPE', 'GPE', 'GPE', 'GPE', 'CARDINAL', 'GPE', 'PERSON', 'GPE', 'GPE', 'NORP', 'GPE', 'NORP', 'DATE', 'NORP', 'NORP', 'NORP', 'CARDINAL', 'NORP', 'NORP', 'LOC', 'GPE', 'GPE', 'CARDINAL', 'CARDINAL', 'NORP', 'NORP', 'LOC', 'TIME', 'GPE', 'CARDINAL', 'NORP', 'NORP', 'PERSON', 'CARDINAL', 'NORP', 'GPE', 'DATE', 'NORP', 'ORG', 'ORG', 'PERSON', 'GPE', 'GPE', 'GPE', 'DATE', 'GPE', 'DATE', 'GPE', 'DATE', 'GPE', 'DATE', 'CARDINAL', 'PERSON', 'CARDINAL', 'LOC', 'LOC', 'ORG', 'PERSON', 'PERSON', 'GPE', 'DATE', 'PERSON', 'GPE', 'PERSON', 'PERSON', 'DATE', 'GPE', 'DATE', 'DATE', 'CARDINAL', 'CARDINAL', 'GPE', 'GPE', 'ORG', 'ORG', 'ORG', 'PERSON', 'NORP', 'PERSON', 'DATE', 'NORP', 'GPE', 'CARDINAL', 'CARDINAL', 'NORP', 'DATE', 'PERSON', 'DATE', 'GPE', 'DATE', 'DATE', 'ORG', 'NORP', 'DATE', 'GPE', 'GPE', 'DATE', 'GPE', 'PERSON', 'DATE', 'DATE', 'GPE', 'NORP', 'DATE', 'GPE', 'CARDINAL', 'CARDINAL', 'PERSON', 'GPE', 'PERSON', 'GPE', 'CARDINAL', 'NORP', 'DATE', 'GPE', 'PERSON', 'ORDINAL', 'DATE', 'GPE', 'NORP', 'EVENT', 'GPE', 'CARDINAL', 'GPE', 'EVENT', 'GPE', 'CARDINAL', 'PERSON', 'DATE', 'ORG', 'NORP', 'ORDINAL', 'GPE', 'ORG', 'GPE', 'PERSON', 'TIME', 'PERSON', 'TIME', 'PERSON', 'GPE', 'DATE', 'GPE', 'GPE', 'GPE', 'GPE', 'GPE', 'ORDINAL', 'GPE', 'GPE', 'DATE', 'GPE', 'GPE', 'NORP', 'NORP', 'GPE', 'CARDINAL', 'NORP', 'EVENT', 'NORP', 'ORG', 'GPE', 'GPE', 'PERSON', 'CARDINAL', 'PERSON', 'GPE', 'GPE', 'MONEY', 'QUANTITY', 'PERSON', 'PERSON', 'GPE', 'EVENT', 'GPE', 'PERSON', 'PERSON', 'GPE', 'DATE', 'CARDINAL', 'CARDINAL', 'GPE', 'ORDINAL', 'TIME', 'GPE', 'PERSON', 'CARDINAL', 'ORDINAL', 'ORG', 'PERSON', 'GPE', 'ORG', 'GPE', 'PERSON', 'CARDINAL', 'ORG', 'GPE', 'NORP', 'PERSON', 'ORG', 'PERSON', 'PERSON', 'DATE', 'PERSON', 'NORP', 'GPE', 'NORP', 'PERSON', 'NORP', 'GPE', 'PERSON', 'DATE', 'FAC', 'GPE', 'NORP', 'NORP', 'ORG', 'ORG', 'CARDINAL', 'DATE', 'GPE', 'GPE', 'GPE', 'GPE', 'GPE', 'GPE', 'GPE', 'GPE', 'ORG', 'DATE', 'DATE', 'NORP', 'DATE', 'ORG', 'GPE', 'CARDINAL', 'NORP', 'GPE', 'DATE', 'PERSON', 'ORG', 'GPE', 'GPE', 'CARDINAL', 'NORP', 'DATE', 'PERSON', 'PERSON', 'ORG', 'ORG', 'ORG', 'GPE', 'GPE', 'ORG', 'DATE', 'GPE', 'ORG', 'ORG', 'PERSON', 'GPE', 'CARDINAL', 'NORP', 'DATE', 'CARDINAL', 'CARDINAL', 'GPE', 'NORP', 'DATE', 'GPE', 'GPE', 'CARDINAL', 'GPE', 'PERSON', 'PERSON', 'NORP', 'PERSON', 'DATE', 'NORP', 'DATE', 'EVENT', 'GPE', 'CARDINAL', 'NORP', 'CARDINAL', 'NORP', 'NORP', 'NORP', 'NORP', 'PERSON', 'GPE', 'GPE', 'ORG', 'DATE', 'GPE', 'DATE', 'GPE', 'CARDINAL', 'GPE', 'DATE', 'NORP', 'PERSON', 'GPE', 'PERSON', 'CARDINAL', 'GPE', 'GPE', 'NORP', 'DATE', 'GPE', 'PERSON', 'PERSON', 'ORG', 'GPE', 'GPE', 'GPE', 'DATE', 'DATE', 'DATE', 'GPE', 'ORDINAL', 'TIME', 'GPE', 'NORP', 'GPE', 'DATE', 'DATE', 'GPE', 'ORG', 'PERSON', 'DATE', 'GPE', 'PERSON', 'PERSON', 'NORP', 'DATE', 'ORG', 'GPE', 'DATE', 'PERSON', 'ORG', 'ORG', 'ORG', 'NORP', 'DATE', 'EVENT', 'DATE', 'GPE', 'PERSON', 'GPE', 'GPE', 'GPE', 'CARDINAL', 'NORP', 'PERSON', 'NORP', 'GPE', 'NORP', 'ORG', 'NORP', 'GPE', 'CARDINAL', 'CARDINAL', 'GPE', 'MONEY', 'WORK_OF_ART', 'GPE', 'CARDINAL', 'GPE', 'CARDINAL', 'GPE', 'CARDINAL', 'CARDINAL', 'PERSON', 'PERSON', 'PERSON', 'GPE', 'GPE', 'DATE', 'NORP', 'GPE', 'DATE', 'NORP', 'DATE', 'ORG', 'ORG', 'PERSON', 'PERSON', 'ORG', 'DATE', 'CARDINAL', 'NORP', 'GPE', 'ORG', 'ORDINAL', 'PERSON', 'ORG', 'ORG', 'LOC', 'PERSON', 'NORP', 'PERSON', 'DATE', 'ORG', 'NORP', 'CARDINAL', 'DATE', 'LOC', 'NORP', 'NORP', 'NORP', 'GPE', 'NORP', 'NORP', 'LOC', 'DATE', 'GPE', 'GPE', 'GPE', 'ORG', 'ORG', 'NORP', 'GPE', 'ORG', 'GPE', 'CARDINAL', 'GPE', 'DATE', 'ORG', 'NORP', 'GPE', 'NORP', 'DATE', 'NORP', 'ORG', 'NORP', 'NORP', 'GPE', 'CARDINAL', 'PERSON', 'ORDINAL', 'GPE', 'CARDINAL', 'GPE', 'GPE', 'ORG', 'GPE', 'CARDINAL', 'PERSON', 'NORP', 'ORG', 'PERSON', 'ORG', 'PERSON', 'GPE', 'ORG', 'PERSON', 'NORP', 'GPE', 'PERSON', 'DATE', 'NORP', 'NORP', 'DATE', 'CARDINAL', 'ORG', 'PERSON', 'GPE', 'GPE', 'GPE', 'GPE', 'CARDINAL', 'CARDINAL', 'DATE', 'GPE', 'ORG', 'GPE', 'DATE', 'GPE', 'GPE', 'NORP', 'CARDINAL', 'CARDINAL', 'CARDINAL', 'DATE', 'NORP', 'GPE', 'CARDINAL', 'NORP', 'CARDINAL', 'CARDINAL', 'GPE', 'CARDINAL', 'NORP', 'DATE', 'CARDINAL', 'NORP', 'NORP', 'GPE', 'ORG', 'DATE', 'ORG', 'CARDINAL', 'GPE', 'GPE', 'ORG', 'ORG', 'PERSON', 'DATE', 'DATE', 'NORP', 'DATE', 'PERSON', 'ORG', 'DATE', 'NORP', 'CARDINAL', 'NORP', 'GPE', 'GPE', 'CARDINAL', 'CARDINAL', 'CARDINAL', 'NORP', 'GPE', 'CARDINAL', 'NORP', 'CARDINAL', 'CARDINAL', 'DATE', 'GPE', 'ORG', 'PERSON', 'NORP', 'PERSON', 'GPE', 'PERSON', 'GPE', 'DATE', 'NORP', 'ORG', 'PERSON', 'NORP', 'PERSON', 'GPE', 'GPE', 'PERSON', 'GPE', 'DATE', 'NORP', 'GPE', 'PERSON', 'CARDINAL', 'CARDINAL', 'DATE', 'PERSON', 'GPE', 'ORG', 'DATE', 'PERSON', 'ORG', 'DATE', 'DATE', 'PERSON', 'NORP', 'DATE', 'GPE', 'PERSON', 'ORG', 'NORP', 'GPE', 'CARDINAL', 'NORP', 'DATE', 'NORP', 'ORG', 'PERSON', 'GPE', 'PERSON', 'NORP', 'NORP', 'GPE', 'GPE', 'NORP', 'DATE', 'NORP', 'NORP', 'GPE', 'NORP', 'NORP', 'NORP', 'GPE', 'PERSON', 'ORG', 'NORP', 'DATE', 'GPE', 'GPE', 'DATE', 'ORG', 'PERSON', 'PERSON', 'GPE', 'PERSON', 'GPE', 'PERSON', 'PERSON', 'PERSON', 'DATE', 'PERSON', 'PERSON', 'GPE', 'ORDINAL', 'DATE', 'GPE', 'DATE', 'ORG', 'ORG', 'GPE', 'NORP', 'CARDINAL', 'CARDINAL', 'EVENT', 'DATE', 'ORG', 'MONEY', 'ORG', 'DATE', 'ORG', 'GPE', 'PERSON', 'DATE', 'GPE', 'FAC', 'ORG', 'NORP', 'CARDINAL', 'GPE', 'CARDINAL', 'ORG', 'NORP', 'GPE', 'DATE', 'NORP', 'DATE', 'GPE', 'CARDINAL', 'PERSON', 'PERSON', 'PERSON', 'NORP', 'PERSON', 'NORP', 'PERSON', 'NORP', 'PERSON', 'DATE', 'GPE', 'GPE', 'MONEY', 'MONEY', 'GPE', 'GPE', 'MONEY', 'PERSON', 'ORG', 'EVENT', 'NORP', 'GPE', 'GPE', 'PERSON', 'ORG', 'ORG', 'DATE', 'NORP', 'GPE', 'GPE', 'NORP', 'DATE', 'GPE', 'GPE', 'GPE', 'DATE', 'DATE', 'NORP', 'GPE', 'FAC', 'WORK_OF_ART', 'ORG', 'GPE', 'NORP', 'GPE', 'GPE', 'ORG', 'GPE', 'CARDINAL', 'DATE', 'GPE', 'GPE', 'GPE', 'CARDINAL', 'GPE', 'QUANTITY', 'GPE', 'CARDINAL', 'NORP', 'GPE', 'DATE', 'GPE', 'DATE', 'PERSON', 'PERSON', 'PERSON', 'DATE', 'GPE', 'NORP', 'NORP', 'PERSON', 'GPE', 'DATE', 'DATE', 'GPE', 'GPE', 'NORP', 'PERSON', 'GPE', 'GPE', 'GPE', 'NORP', 'GPE', 'GPE', 'NORP', 'PERSON', 'PERSON', 'GPE', 'NORP', 'NORP', 'DATE', 'CARDINAL', 'NORP', 'DATE', 'PERSON', 'ORG', 'ORG', 'NORP', 'GPE', 'LOC', 'EVENT', 'PERSON', 'NORP', 'GPE', 'DATE', 'GPE', 'DATE', 'NORP', 'CARDINAL', 'NORP', 'GPE', 'ORG', 'ORG', 'GPE', 'PERSON', 'GPE', 'GPE', 'GPE', 'MONEY', 'DATE', 'MONEY', 'PERSON', 'GPE', 'GPE', 'PERSON', 'PERSON', 'ORG', 'GPE', 'ORG', 'CARDINAL', 'CARDINAL', 'CARDINAL', 'CARDINAL', 'ORG', 'GPE', 'NORP', 'DATE', 'ORG', 'CARDINAL', 'GPE', 'ORG', 'PERSON', 'GPE', 'GPE', 'LOC', 'NORP', 'CARDINAL', 'CARDINAL', 'DATE', 'CARDINAL', 'GPE', 'GPE', 'PERSON', 'PERSON', 'DATE', 'GPE', 'ORDINAL', 'PERSON', 'TIME', 'PERSON', 'GPE', 'GPE', 'EVENT', 'NORP', 'DATE', 'GPE', 'NORP', 'DATE', 'DATE', 'CARDINAL', 'CARDINAL', 'GPE', 'GPE', 'DATE', 'GPE', 'GPE', 'ORG', 'GPE', 'PERSON', 'GPE', 'PERSON', 'CARDINAL', 'GPE', 'ORG', 'LOC', 'PERSON', 'GPE', 'DATE', 'GPE', 'GPE', 'GPE', 'DATE', 'ORG', 'NORP', 'ORG', 'GPE', 'NORP', 'DATE', 'ORDINAL', 'DATE', 'ORG', 'DATE', 'GPE', 'ORG', 'NORP', 'NORP', 'DATE', 'ORG', 'PERSON', 'PERSON', 'GPE', 'CARDINAL', 'ORG', 'GPE', 'DATE', 'NORP', 'CARDINAL', 'GPE', 'DATE', 'GPE', 'ORG', 'DATE', 'GPE', 'DATE', 'NORP', 'ORG', 'DATE', 'NORP', 'DATE', 'GPE', 'NORP', 'ORG', 'NORP', 'GPE', 'NORP', 'ORG', 'GPE', 'GPE', 'NORP', 'ORG', 'GPE', 'DATE', 'GPE', 'PERSON', 'NORP', 'NORP', 'GPE', 'GPE', 'GPE', 'DATE', 'NORP', 'PERSON', 'NORP', 'PERSON', 'DATE', 'WORK_OF_ART', 'ORG', 'CARDINAL', 'MONEY', 'DATE', 'GPE', 'PERSON', 'PERSON', 'ORG', 'ORG', 'PERSON', 'DATE', 'WORK_OF_ART', 'GPE', 'DATE', 'DATE', 'DATE', 'PERSON', 'ORDINAL', 'LOC', 'DATE', 'GPE', 'GPE', 'PERSON', 'PERSON', 'DATE', 'ORG', 'PERSON', 'DATE', 'DATE', 'PERSON', 'LOC', 'DATE', 'ORG', 'GPE', 'PERSON', 'FAC', 'DATE', 'PERSON', 'ORG', 'PERSON', 'ORG', 'GPE', 'GPE', 'PERSON', 'ORG', 'DATE', 'GPE', 'GPE', 'NORP', 'DATE', 'ORG', 'PERSON', 'NORP', 'PERSON', 'PERSON', 'PERSON', 'DATE', 'GPE', 'DATE', 'PERSON', 'GPE', 'DATE', 'DATE', 'NORP', 'CARDINAL', 'CARDINAL', 'GPE', 'DATE', 'ORG', 'GPE', 'CARDINAL', 'ORG', 'ORG', 'ORG', 'GPE', 'NORP', 'FAC', 'NORP', 'DATE', 'GPE', 'GPE', 'ORG', 'PERSON', 'DATE', 'NORP', 'GPE', 'GPE', 'DATE', 'NORP', 'GPE', 'FAC', 'PERSON', 'GPE', 'DATE', 'DATE', 'NORP', 'NORP', 'NORP', 'NORP', 'DATE', 'TIME', 'DATE', 'NORP', 'GPE', 'DATE', 'ORG', 'MONEY', 'GPE', 'MONEY', 'MONEY', 'GPE', 'DATE', 'GPE', 'DATE', 'GPE', 'NORP', 'DATE', 'PERSON', 'NORP', 'DATE', 'GPE', 'NORP', 'FAC', 'NORP', 'LOC', 'ORG', 'NORP', 'GPE', 'GPE', 'CARDINAL', 'NORP', 'DATE', 'NORP', 'PERSON', 'GPE', 'DATE', 'CARDINAL', 'NORP', 'NORP', 'PERCENT', 'NORP', 'NORP', 'DATE', 'GPE', 'GPE', 'NORP', 'GPE', 'NORP', 'GPE', 'GPE', 'GPE', 'NORP', 'GPE', 'GPE', 'NORP', 'CARDINAL', 'CARDINAL', 'CARDINAL', 'NORP', 'GPE', 'GPE', 'GPE', 'DATE', 'CARDINAL', 'CARDINAL', 'NORP', 'CARDINAL', 'CARDINAL', 'CARDINAL', 'DATE', 'MONEY', 'MONEY', 'GPE', 'ORG', 'GPE', 'ORG', 'NORP', 'PERSON', 'GPE', 'CARDINAL', 'GPE', 'ORG', 'ORG', 'DATE', 'PERSON', 'PERSON', 'CARDINAL', 'NORP', 'GPE', 'GPE', 'PERSON', 'PERCENT', 'NORP', 'ORG', 'GPE', 'GPE', 'CARDINAL', 'ORG', 'ORG', 'DATE', 'CARDINAL', 'ORG', 'ORDINAL', 'NORP', 'CARDINAL', 'DATE', 'GPE', 'CARDINAL', 'CARDINAL', 'DATE', 'GPE', 'GPE', 'ORG', 'CARDINAL', 'GPE', 'CARDINAL', 'NORP', 'GPE', 'NORP', 'ORG', 'DATE', 'CARDINAL', 'NORP', 'CARDINAL', 'NORP', 'NORP', 'GPE', 'PERSON', 'PERSON', 'PERSON', 'DATE', 'CARDINAL', 'NORP', 'GPE', 'NORP', 'NORP', 'ORG', 'DATE', 'DATE', 'NORP', 'DATE', 'NORP', 'DATE', 'NORP', 'ORG', 'WORK_OF_ART', 'PERSON', 'PERSON', 'NORP', 'NORP', 'ORG', 'CARDINAL', 'LOC', 'DATE', 'LOC', 'ORG', 'CARDINAL', 'CARDINAL', 'DATE', 'GPE', 'ORG', 'ORG', 'NORP', 'GPE', 'GPE', 'NORP', 'NORP', 'DATE', 'NORP', 'ORG', 'ORG', 'ORG', 'ORG', 'GPE', 'GPE', 'ORG', 'PERSON', 'DATE', 'NORP', 'ORG', 'PERSON', 'ORG', 'ORG', 'GPE', 'ORDINAL', 'ORG', 'CARDINAL', 'GPE', 'NORP', 'GPE', 'ORG', 'GPE', 'GPE', 'CARDINAL', 'GPE', 'ORG', 'ORG', 'CARDINAL', 'DATE', 'ORG', 'CARDINAL', 'GPE', 'ORG', 'GPE', 'ORG', 'DATE', 'PERCENT', 'MONEY', 'MONEY', 'MONEY', 'MONEY', 'MONEY', 'MONEY', 'NORP', 'PERCENT', 'MONEY', 'MONEY', 'CARDINAL', 'MONEY', 'DATE', 'DATE', 'DATE', 'MONEY', 'PERCENT', 'MONEY', 'MONEY', 'MONEY', 'MONEY', 'MONEY', 'DATE', 'GPE', 'ORG', 'MONEY', 'PERCENT', 'MONEY', 'DATE', 'PERCENT', 'MONEY', 'ORG', 'NORP', 'ORDINAL', 'LOC', 'NORP', 'GPE', 'ORG', 'GPE', 'DATE', 'GPE', 'NORP', 'PERCENT', 'DATE', 'LOC', 'DATE', 'MONEY', 'PERSON', 'DATE', 'DATE', 'DATE', 'TIME', 'DATE', 'EVENT', 'PERCENT', 'DATE', 'PERCENT', 'DATE', 'PERCENT', 'DATE', 'DATE', 'DATE', 'ORG', 'DATE', 'PERCENT', 'EVENT', 'GPE', 'DATE', 'DATE', 'PERSON', 'ORDINAL', 'GPE', 'PERCENT', 'DATE', 'ORG', 'PERCENT', 'DATE', 'ORG', 'PERCENT', 'ORG', 'ORG', 'DATE', 'DATE', 'PERCENT', 'DATE', 'DATE', 'GPE', 'LOC', 'ORG', 'CARDINAL', 'NORP', 'DATE', 'DATE', 'GPE', 'GPE', 'DATE', 'DATE', 'NORP', 'GPE', 'GPE', 'GPE', 'GPE', 'NORP', 'DATE', 'DATE', 'GPE', 'GPE', 'EVENT', 'GPE', 'EVENT', 'DATE', 'NORP', 'GPE', 'DATE', 'DATE', 'GPE', 'ORG', 'PERSON', 'ORG', 'DATE', 'DATE', 'GPE', 'GPE', 'DATE', 'DATE', 'GPE', 'ORG', 'DATE', 'DATE', 'GPE', 'FAC', 'DATE', 'CARDINAL', 'ORG', 'CARDINAL', 'ORG', 'ORG', 'DATE', 'DATE', 'NORP', 'CARDINAL', 'CARDINAL', 'DATE', 'PRODUCT', 'GPE', 'GPE', 'PERSON', 'ORG', 'CARDINAL', 'GPE', 'GPE', 'GPE', 'GPE', 'GPE', 'CARDINAL', 'NORP', 'ORG', 'GPE', 'GPE', 'ORG', 'DATE', 'NORP', 'GPE', 'NORP', 'DATE', 'ORG', 'GPE', 'ORDINAL', 'DATE', 'ORDINAL', 'DATE', 'GPE', 'DATE', 'ORG', 'ORG', 'NORP', 'ORG', 'PERSON', 'GPE', 'ORG', 'DATE', 'ORG', 'CARDINAL', 'CARDINAL', 'DATE', 'ORG', 'DATE', 'DATE', 'ORG', 'GPE', 'GPE', 'PERCENT', 'MONEY', 'DATE', 'MONEY', 'DATE', 'ORG', 'ORG', 'ORG', 'CARDINAL', 'CARDINAL', 'PERSON', 'MONEY', 'DATE', 'DATE', 'TIME', 'DATE', 'PERSON', 'NORP', 'GPE', 'GPE', 'CARDINAL', 'PERSON', 'DATE', 'DATE', 'ORG', 'FAC', 'PERSON', 'GPE', 'ORG', 'PERSON', 'GPE', 'PERSON', 'DATE', 'GPE', 'GPE', 'CARDINAL', 'DATE', 'GPE', 'DATE', 'PERSON', 'NORP', 'NORP', 'CARDINAL', 'NORP', 'NORP', 'DATE', 'NORP', 'NORP', 'GPE', 'NORP', 'GPE', 'GPE', 'GPE', 'GPE', 'PERSON', 'ORG', 'GPE', 'ORG', 'DATE', 'GPE', 'GPE', 'GPE', 'NORP', 'NORP', 'ORG', 'GPE', 'ORG', 'PERSON', 'GPE', 'PERSON', 'DATE', 'ORG', 'LOC', 'PERSON', 'PERSON', 'PERSON', 'ORG', 'PERSON', 'PERSON', 'GPE', 'CARDINAL', 'DATE', 'ORG', 'GPE', 'CARDINAL', 'QUANTITY', 'GPE', 'GPE', 'CARDINAL', 'DATE', 'DATE', 'LOC', 'DATE', 'NORP', 'CARDINAL', 'CARDINAL', 'CARDINAL', 'NORP', 'ORG', 'DATE', 'GPE', 'CARDINAL', 'ORG', 'GPE', 'DATE', 'CARDINAL', 'CARDINAL', 'GPE', 'CARDINAL', 'ORG', 'GPE', 'GPE', 'GPE', 'GPE', 'CARDINAL', 'NORP', 'CARDINAL', 'GPE', 'CARDINAL', 'NORP', 'GPE', 'GPE', 'CARDINAL', 'CARDINAL', 'DATE', 'CARDINAL', 'NORP', 'ORG', 'GPE', 'NORP', 'GPE', 'GPE', 'GPE', 'GPE', 'DATE', 'GPE', 'ORDINAL', 'GPE', 'NORP', 'GPE', 'GPE', 'GPE', 'NORP', 'GPE', 'ORG', 'NORP', 'DATE', 'GPE', 'NORP', 'ORG', 'CARDINAL', 'PERSON', 'DATE', 'GPE', 'GPE', 'GPE', 'NORP', 'GPE', 'NORP', 'NORP', 'PERSON', 'LOC', 'GPE', 'GPE', 'CARDINAL', 'PERSON', 'GPE', 'GPE', 'PERSON', 'GPE', 'GPE', 'ORDINAL', 'DATE', 'ORDINAL', 'PERSON', 'CARDINAL', 'DATE', 'PRODUCT', 'NORP', 'GPE', 'GPE', 'GPE', 'PERSON', 'DATE', 'ORG', 'PERSON', 'GPE', 'ORG', 'DATE', 'GPE', 'CARDINAL', 'ORG', 'GPE', 'DATE', 'NORP', 'NORP', 'NORP', 'DATE', 'GPE', 'GPE', 'CARDINAL', 'CARDINAL', 'GPE', 'DATE', 'ORG', 'ORG', 'ORG', 'GPE', 'DATE', 'ORG', 'NORP', 'ORG', 'ORG', 'ORG', 'NORP', 'DATE', 'ORG', 'GPE', 'ORG', 'GPE', 'PERSON', 'DATE', 'GPE', 'DATE', 'DATE', 'PERSON', 'GPE', 'GPE', 'ORG', 'NORP', 'CARDINAL', 'CARDINAL', 'GPE', 'DATE', 'ORG', 'ORG', 'GPE', 'CARDINAL', 'PERSON', 'GPE', 'DATE', 'LOC', 'FAC', 'GPE', 'NORP', 'DATE', 'PERCENT', 'QUANTITY', 'GPE', 'NORP', 'DATE', 'NORP', 'PERSON', 'NORP', 'DATE', 'CARDINAL', 'NORP', 'ORDINAL', 'NORP', 'PERSON', 'NORP', 'DATE', 'CARDINAL', 'GPE', 'GPE', 'DATE', 'PERSON', 'DATE', 'PERSON', 'NORP', 'PERSON', 'GPE', 'NORP', 'CARDINAL', 'MONEY', 'CARDINAL', 'GPE', 'DATE', 'DATE', 'CARDINAL', 'DATE', 'ORG', 'CARDINAL', 'DATE', 'QUANTITY', 'NORP', 'DATE', 'DATE', 'NORP', 'DATE', 'GPE', 'ORDINAL', 'DATE', 'CARDINAL', 'PERSON', 'DATE', 'NORP', 'PERSON', 'GPE', 'PERSON', 'ORG', 'DATE', 'GPE', 'PERSON', 'DATE', 'PERSON', 'DATE', 'PERSON', 'GPE', 'DATE', 'PERSON', 'ORG', 'CARDINAL', 'PERSON', 'GPE', 'GPE', 'GPE', 'NORP', 'CARDINAL', 'ORG', 'PERSON', 'ORDINAL', 'DATE', 'DATE', 'GPE', 'ORG', 'DATE', 'TIME', 'CARDINAL', 'ORG', 'ORG', 'CARDINAL', 'NORP', 'DATE', 'CARDINAL', 'ORG', 'GPE', 'DATE', 'DATE', 'PERSON', 'ORG', 'PERSON', 'PERSON', 'GPE', 'GPE', 'DATE', 'NORP', 'GPE', 'PERSON', 'LOC', 'GPE', 'NORP', 'PERSON', 'DATE', 'GPE', 'GPE', 'GPE', 'GPE', 'ORG', 'GPE', 'DATE', 'NORP', 'PERSON', 'DATE', 'GPE', 'DATE', 'NORP', 'CARDINAL', 'GPE', 'DATE', 'DATE', 'NORP', 'LOC', 'DATE', 'GPE', 'GPE', 'ORDINAL', 'DATE', 'GPE', 'ORG', 'ORG', 'GPE', 'GPE', 'PERSON', 'LOC', 'PERSON', 'GPE', 'GPE', 'GPE', 'GPE', 'GPE', 'GPE', 'CARDINAL', 'DATE', 'ORG', 'CARDINAL', 'NORP', 'DATE', 'ORG', 'GPE', 'PERSON', 'DATE', 'PERSON', 'GPE', 'CARDINAL', 'CARDINAL', 'GPE', 'PERSON', 'GPE', 'DATE', 'GPE', 'PERSON', 'DATE', 'NORP', 'PERSON', 'PERSON', 'DATE', 'PERSON', 'CARDINAL', 'ORG', 'ORG', 'EVENT', 'ORG', 'NORP', 'CARDINAL', 'DATE', 'ORG', 'DATE', 'DATE', 'GPE', 'GPE', 'NORP', 'ORDINAL', 'CARDINAL', 'CARDINAL', 'TIME', 'CARDINAL', 'NORP', 'NORP', 'TIME', 'ORG', 'ORG', 'GPE', 'EVENT', 'GPE', 'CARDINAL', 'DATE', 'PERSON', 'DATE', 'NORP', 'NORP', 'PERSON', 'DATE', 'ORDINAL', 'DATE', 'PERSON', 'DATE', 'ORG', 'PERSON', 'DATE', 'GPE', 'GPE', 'DATE', 'DATE', 'DATE', 'DATE', 'PERSON', 'DATE', 'GPE', 'CARDINAL', 'CARDINAL', 'DATE', 'GPE', 'GPE', 'ORG', 'DATE', 'GPE', 'DATE', 'GPE', 'PERSON', 'NORP', 'PERSON', 'DATE', 'GPE', 'GPE', 'ORG', 'DATE', 'GPE', 'CARDINAL', 'NORP', 'PERSON', 'DATE', 'PERSON', 'DATE', 'PERSON', 'GPE', 'DATE', 'WORK_OF_ART', 'ORG', 'PERSON', 'PRODUCT', 'DATE', 'GPE', 'NORP', 'PERSON', 'GPE', 'GPE', 'PERSON', 'ORG', 'LOC', 'CARDINAL', 'CARDINAL', 'GPE', 'ORG', 'DATE', 'LOC', 'GPE', 'GPE', 'CARDINAL', 'CARDINAL', 'LOC', 'PERSON', 'GPE', 'GPE', 'LOC', 'NORP', 'LOC', 'GPE', 'GPE', 'DATE', 'DATE', 'GPE', 'ORDINAL', 'NORP', 'LOC', 'GPE', 'GPE', 'EVENT', 'CARDINAL', 'FAC', 'FAC', 'NORP', 'DATE', 'CARDINAL', 'ORG', 'FAC', 'DATE', 'GPE', 'PERSON', 'NORP', 'EVENT', 'GPE', 'DATE', 'NORP', 'PERSON', 'ORG', 'GPE', 'PERSON', 'PERSON', 'ORG', 'CARDINAL', 'GPE', 'GPE', 'NORP', 'CARDINAL', 'DATE', 'GPE', 'CARDINAL', 'CARDINAL', 'NORP', 'DATE', 'NORP', 'CARDINAL', 'DATE', 'GPE', 'ORG', 'NORP', 'PERSON', 'NORP', 'LOC', 'DATE', 'ORG', 'GPE', 'DATE', 'DATE', 'GPE', 'PERSON', 'DATE', 'ORG', 'PERSON', 'CARDINAL', 'GPE', 'CARDINAL', 'PERSON', 'PERSON', 'PERSON', 'ORDINAL', 'PERSON', 'GPE', 'DATE', 'DATE', 'DATE', 'PERSON', 'PERSON', 'DATE', 'GPE', 'DATE', 'DATE', 'PERSON', 'ORDINAL', 'DATE', 'GPE', 'GPE', 'CARDINAL', 'GPE', 'DATE', 'PERSON', 'ORG', 'NORP', 'ORG', 'DATE', 'NORP', 'ORG', 'CARDINAL', 'NORP', 'CARDINAL', 'GPE', 'LOC', 'NORP', 'PERSON', 'PERSON', 'GPE', 'PERSON', 'DATE', 'GPE', 'GPE', 'PERSON', 'PERSON', 'PERSON', 'DATE', 'NORP', 'GPE', 'DATE', 'NORP', 'ORG', 'ORG', 'PERSON', 'DATE', 'GPE', 'GPE', 'PERSON', 'NORP', 'NORP', 'GPE', 'GPE', 'CARDINAL', 'PERSON', 'DATE', 'DATE', 'LOC', 'ORG', 'DATE', 'PERSON', 'GPE', 'NORP', 'PERSON', 'DATE', 'PERSON', 'DATE', 'PERSON', 'CARDINAL', 'NORP', 'PERSON', 'NORP', 'PERSON', 'GPE', 'GPE', 'CARDINAL', 'NORP', 'GPE', 'ORG', 'GPE', 'DATE', 'GPE', 'GPE', 'GPE', 'PERSON', 'NORP', 'PERSON', 'GPE', 'DATE', 'GPE', 'GPE', 'GPE', 'NORP', 'GPE', 'NORP', 'NORP', 'GPE', 'CARDINAL', 'DATE', 'NORP', 'GPE', 'CARDINAL', 'DATE', 'FAC', 'GPE', 'TIME', 'PERSON', 'PERSON', 'DATE', 'DATE', 'GPE', 'PERSON', 'QUANTITY', 'QUANTITY', 'LOC', 'MONEY', 'GPE', 'DATE', 'NORP', 'CARDINAL', 'NORP', 'DATE', 'PERSON', 'CARDINAL', 'DATE', 'PERSON', 'NORP', 'PERSON', 'PERSON', 'ORG', 'GPE', 'NORP', 'PERSON', 'ORG', 'PERSON', 'GPE', 'ORG', 'DATE', 'CARDINAL', 'NORP', 'ORG', 'DATE', 'PERSON', 'ORG', 'ORG', 'NORP', 'PERSON', 'NORP', 'DATE', 'PERSON', 'ORG', 'GPE', 'PERSON', 'PERSON', 'PERSON', 'DATE', 'ORDINAL', 'ORG', 'GPE', 'NORP', 'ORG', 'CARDINAL', 'NORP', 'DATE', 'PERSON', 'ORG', 'GPE', 'PERCENT', 'DATE', 'ORG', 'NORP', 'NORP', 'ORG', 'GPE', 'DATE', 'CARDINAL', 'NORP', 'ORG', 'GPE', 'NORP', 'CARDINAL', 'CARDINAL', 'DATE', 'GPE', 'CARDINAL', 'GPE', 'CARDINAL', 'CARDINAL', 'DATE', 'DATE', 'CARDINAL', 'GPE', 'DATE', 'CARDINAL', 'CARDINAL', 'GPE', 'GPE', 'NORP', 'GPE', 'GPE', 'NORP', 'DATE', 'LOC', 'GPE', 'NORP', 'DATE', 'GPE', 'CARDINAL', 'NORP', 'DATE', 'NORP', 'GPE', 'DATE', 'ORG', 'ORG', 'CARDINAL', 'PERSON', 'GPE', 'NORP', 'NORP', 'CARDINAL', 'NORP', 'GPE', 'DATE', 'LOC', 'GPE', 'CARDINAL', 'NORP', 'DATE', 'NORP', 'NORP', 'DATE', 'GPE', 'NORP', 'CARDINAL', 'GPE', 'ORG', 'GPE', 'ORDINAL', 'GPE', 'DATE', 'DATE', 'GPE', 'DATE', 'NORP', 'NORP', 'PERSON', 'GPE', 'GPE', 'GPE', 'PERSON', 'GPE', 'GPE', 'NORP', 'GPE', 'NORP', 'GPE', 'DATE', 'GPE', 'GPE', 'GPE', 'NORP', 'ORG', 'DATE', 'DATE', 'CARDINAL', 'DATE', 'DATE', 'DATE', 'GPE', 'GPE', 'DATE', 'LOC', 'DATE', 'GPE', 'PERSON', 'NORP', 'NORP', 'GPE', 'NORP', 'NORP', 'CARDINAL', 'PERSON', 'PERSON', 'DATE', 'ORG', 'PERSON', 'GPE', 'PERSON', 'PERSON', 'GPE', 'DATE', 'PERSON', 'GPE', 'PERSON', 'PERSON', 'ORG', 'GPE', 'ORG', 'CARDINAL', 'GPE', 'GPE', 'GPE', 'ORG', 'GPE', 'GPE', 'GPE', 'GPE', 'GPE', 'DATE', 'CARDINAL', 'GPE', 'NORP', 'DATE', 'DATE', 'GPE', 'PERSON', 'DATE', 'GPE', 'PERSON', 'GPE', 'NORP', 'PERSON', 'PERSON', 'NORP', 'EVENT', 'GPE', 'GPE', 'ORDINAL', 'GPE', 'GPE', 'CARDINAL', 'CARDINAL', 'NORP', 'PERSON', 'DATE', 'DATE', 'GPE', 'GPE', 'ORG', 'NORP', 'DATE', 'ORG', 'DATE', 'CARDINAL', 'EVENT', 'PERSON', 'NORP', 'PERSON', 'NORP', 'PERSON', 'PERSON', 'ORG', 'ORG', 'ORG', 'GPE', 'PERSON', 'NORP', 'PERSON', 'NORP', 'PERSON', 'PERSON', 'PERSON', 'CARDINAL', 'DATE', 'ORDINAL', 'DATE', 'ORG', 'GPE', 'GPE', 'PERSON', 'CARDINAL', 'GPE', 'PERSON', 'ORDINAL', 'GPE', 'PERSON', 'ORG', 'PERSON', 'NORP', 'PERSON', 'PERSON', 'DATE', 'DATE', 'ORG', 'GPE', 'LOC', 'PERSON', 'ORG', 'ORG', 'PERSON', 'PERSON', 'ORG', 'PERSON', 'NORP', 'DATE', 'GPE', 'GPE', 'GPE', 'GPE', 'DATE', 'GPE', 'GPE', 'GPE', 'ORG', 'ORG', 'ORG', 'ORG', 'GPE', 'GPE', 'CARDINAL', 'LAW', 'ORG', 'GPE', 'ORG', 'GPE', 'DATE', 'CARDINAL', 'ORG', 'NORP', 'ORG', 'DATE', 'CARDINAL', 'NORP', 'NORP', 'NORP', 'ORG', 'DATE', 'GPE', 'GPE', 'DATE', 'CARDINAL', 'CARDINAL', 'CARDINAL', 'NORP', 'PERSON', 'DATE', 'CARDINAL', 'NORP', 'CARDINAL', 'ORG', 'NORP', 'NORP', 'DATE', 'NORP', 'GPE', 'NORP', 'GPE', 'DATE', 'MONEY', 'MONEY', 'MONEY', 'NORP', 'GPE', 'GPE', 'DATE', 'DATE', 'ORG', 'PERSON', 'GPE', 'GPE', 'CARDINAL', 'NORP', 'GPE', 'CARDINAL', 'ORG', 'GPE', 'PERSON', 'DATE', 'CARDINAL', 'DATE', 'PERSON', 'DATE', 'NORP', 'PERSON', 'NORP', 'TIME', 'GPE', 'GPE', 'CARDINAL', 'ORG', 'GPE', 'NORP', 'DATE', 'DATE', 'GPE', 'GPE', 'GPE', 'GPE', 'ORG', 'DATE', 'PERSON', 'CARDINAL', 'GPE', 'GPE', 'DATE', 'DATE', 'CARDINAL', 'CARDINAL', 'LOC', 'GPE', 'ORG', 'CARDINAL', 'DATE', 'CARDINAL', 'GPE', 'DATE', 'ORG', 'ORG', 'ORG', 'MONEY', 'CARDINAL', 'NORP', 'GPE', 'GPE', 'ORG', 'PERSON', 'CARDINAL', 'NORP', 'MONEY', 'GPE', 'GPE', 'MONEY', 'GPE', 'GPE', 'GPE', 'GPE', 'GPE', 'GPE', 'GPE', 'GPE', 'GPE', 'PERSON', 'CARDINAL', 'ORG', 'ORG', 'GPE', 'CARDINAL', 'DATE', 'DATE', 'DATE', 'ORDINAL', 'NORP', 'NORP', 'PERSON', 'PERSON', 'NORP', 'PERSON', 'NORP', 'PERSON', 'NORP', 'NORP', 'DATE', 'PERCENT', 'NORP', 'PERSON', 'PERCENT', 'PERSON', 'GPE', 'NORP', 'CARDINAL', 'GPE', 'DATE', 'CARDINAL', 'GPE', 'CARDINAL', 'CARDINAL', 'PERSON', 'CARDINAL', 'GPE', 'GPE', 'NORP', 'GPE', 'CARDINAL', 'NORP', 'DATE', 'DATE', 'CARDINAL', 'DATE', 'GPE', 'PERSON', 'PERSON', 'GPE', 'DATE', 'PERSON', 'GPE', 'DATE', 'PERSON', 'GPE', 'WORK_OF_ART', 'DATE', 'ORDINAL', 'PERSON', 'DATE', 'ORG', 'ORG', 'PERSON', 'ORDINAL', 'CARDINAL', 'GPE', 'WORK_OF_ART', 'DATE', 'DATE', 'CARDINAL', 'TIME', 'NORP', 'PERSON', 'QUANTITY', 'GPE', 'CARDINAL', 'CARDINAL', 'ORG', 'NORP', 'PERSON', 'ORG', 'PERSON', 'ORG', 'PERSON', 'PERSON', 'PERSON', 'ORG', 'PERSON', 'NORP', 'NORP', 'PERSON', 'ORG', 'NORP', 'DATE', 'GPE', 'ORG', 'CARDINAL', 'ORG', 'ORG', 'NORP', 'ORG', 'ORDINAL', 'NORP', 'CARDINAL', 'DATE', 'GPE', 'ORG', 'DATE', 'CARDINAL', 'NORP', 'CARDINAL', 'NORP', 'CARDINAL', 'NORP', 'CARDINAL', 'NORP', 'ORG', 'CARDINAL', 'PERSON', 'CARDINAL', 'ORG', 'PERSON', 'DATE', 'GPE', 'NORP', 'LOC', 'LOC', 'CARDINAL', 'GPE', 'ORG', 'DATE', 'GPE', 'DATE', 'GPE', 'DATE', 'NORP', 'PERSON', 'GPE', 'GPE', 'DATE', 'NORP', 'NORP', 'GPE', 'CARDINAL', 'GPE', 'DATE', 'ORDINAL', 'GPE', 'GPE', 'GPE', 'PERSON', 'NORP', 'GPE', 'NORP', 'DATE', 'DATE', 'NORP', 'CARDINAL', 'GPE', 'DATE', 'ORG', 'NORP', 'GPE', 'GPE', 'CARDINAL', 'GPE', 'GPE', 'NORP', 'DATE', 'LOC', 'NORP', 'GPE', 'GPE', 'GPE', 'PERSON', 'DATE', 'GPE', 'GPE', 'ORG', 'NORP', 'GPE', 'DATE', 'GPE', 'NORP', 'PERSON', 'DATE', 'GPE', 'DATE', 'NORP', 'GPE', 'NORP', 'PERSON', 'NORP', 'GPE', 'NORP', 'GPE', 'GPE', 'GPE', 'LOC', 'GPE', 'DATE', 'ORG', 'NORP', 'NORP', 'GPE', 'CARDINAL', 'LOC', 'TIME', 'CARDINAL', 'DATE', 'GPE', 'CARDINAL', 'GPE', 'CARDINAL', 'GPE', 'CARDINAL', 'GPE', 'GPE', 'ORG', 'PERSON', 'ORG', 'DATE', 'GPE', 'CARDINAL', 'GPE', 'CARDINAL', 'GPE', 'DATE', 'GPE', 'DATE', 'NORP', 'NORP', 'GPE', 'CARDINAL', 'NORP', 'GPE']\n"
          ],
          "name": "stdout"
        },
        {
          "output_type": "execute_result",
          "data": {
            "text/plain": [
              "Counter({'CARDINAL': 2053,\n",
              "         'DATE': 3649,\n",
              "         'EVENT': 140,\n",
              "         'FAC': 104,\n",
              "         'GPE': 5551,\n",
              "         'LANGUAGE': 10,\n",
              "         'LAW': 19,\n",
              "         'LOC': 414,\n",
              "         'MONEY': 210,\n",
              "         'NORP': 2891,\n",
              "         'ORDINAL': 290,\n",
              "         'ORG': 2716,\n",
              "         'PERCENT': 162,\n",
              "         'PERSON': 2742,\n",
              "         'PRODUCT': 46,\n",
              "         'QUANTITY': 82,\n",
              "         'TIME': 160,\n",
              "         'WORK_OF_ART': 52})"
            ]
          },
          "metadata": {
            "tags": []
          },
          "execution_count": 28
        }
      ]
    },
    {
      "cell_type": "code",
      "metadata": {
        "colab": {
          "base_uri": "https://localhost:8080/"
        },
        "id": "Txryu6BsLAtH",
        "outputId": "18a32ad0-87c4-45b5-c102-4aeac706237d"
      },
      "source": [
        "sentences = [x for x in article.sents]\n",
        "print(sentences[20])\n",
        "print(sentences[0])\n",
        "print(sentences[100])"
      ],
      "execution_count": null,
      "outputs": [
        {
          "output_type": "stream",
          "text": [
            "Doctors say the stroke has not caused any permanent damage .\n",
            "Thousands of demonstrators have marched through London to protest the war in Iraq and demand the withdrawal of British troops from that country .\n",
            "She was a longtime member of the Zapatista movement and appeared in public wearing a black ski mask .\n"
          ],
          "name": "stdout"
        }
      ]
    },
    {
      "cell_type": "code",
      "metadata": {
        "colab": {
          "base_uri": "https://localhost:8080/",
          "height": 106
        },
        "id": "Edz7l_d3LiQ9",
        "outputId": "8b4e90a1-c4ff-47fe-bb0c-8dcd9746c262"
      },
      "source": [
        "displacy.render(nlp(str(sentences[20])), jupyter=True, style='ent')"
      ],
      "execution_count": null,
      "outputs": [
        {
          "output_type": "stream",
          "text": [
            "/usr/lib/python3.7/runpy.py:193: UserWarning: [W006] No entities to visualize found in Doc object. If this is surprising to you, make sure the Doc was processed using a model that supports named entity recognition, and check the `doc.ents` property manually if necessary.\n",
            "  \"__main__\", mod_spec)\n"
          ],
          "name": "stderr"
        },
        {
          "output_type": "display_data",
          "data": {
            "text/html": [
              "<span class=\"tex2jax_ignore\"><div class=\"entities\" style=\"line-height: 2.5; direction: ltr\">Doctors say the stroke has not caused any permanent damage .</div></span>"
            ],
            "text/plain": [
              "<IPython.core.display.HTML object>"
            ]
          },
          "metadata": {
            "tags": []
          }
        }
      ]
    },
    {
      "cell_type": "code",
      "metadata": {
        "colab": {
          "base_uri": "https://localhost:8080/",
          "height": 86
        },
        "id": "ZrcOfpJsLk5s",
        "outputId": "7ed41a8d-1c1b-4415-93c0-cea2d5f74598"
      },
      "source": [
        "displacy.render(nlp(str(sentences[0])), jupyter=True, style='ent')"
      ],
      "execution_count": null,
      "outputs": [
        {
          "output_type": "display_data",
          "data": {
            "text/html": [
              "<span class=\"tex2jax_ignore\"><div class=\"entities\" style=\"line-height: 2.5; direction: ltr\">\n",
              "<mark class=\"entity\" style=\"background: #e4e7d2; padding: 0.45em 0.6em; margin: 0 0.25em; line-height: 1; border-radius: 0.35em;\">\n",
              "    Thousands\n",
              "    <span style=\"font-size: 0.8em; font-weight: bold; line-height: 1; border-radius: 0.35em; text-transform: uppercase; vertical-align: middle; margin-left: 0.5rem\">CARDINAL</span>\n",
              "</mark>\n",
              " of demonstrators have marched through \n",
              "<mark class=\"entity\" style=\"background: #feca74; padding: 0.45em 0.6em; margin: 0 0.25em; line-height: 1; border-radius: 0.35em;\">\n",
              "    London\n",
              "    <span style=\"font-size: 0.8em; font-weight: bold; line-height: 1; border-radius: 0.35em; text-transform: uppercase; vertical-align: middle; margin-left: 0.5rem\">GPE</span>\n",
              "</mark>\n",
              " to protest the war in \n",
              "<mark class=\"entity\" style=\"background: #feca74; padding: 0.45em 0.6em; margin: 0 0.25em; line-height: 1; border-radius: 0.35em;\">\n",
              "    Iraq\n",
              "    <span style=\"font-size: 0.8em; font-weight: bold; line-height: 1; border-radius: 0.35em; text-transform: uppercase; vertical-align: middle; margin-left: 0.5rem\">GPE</span>\n",
              "</mark>\n",
              " and demand the withdrawal of \n",
              "<mark class=\"entity\" style=\"background: #c887fb; padding: 0.45em 0.6em; margin: 0 0.25em; line-height: 1; border-radius: 0.35em;\">\n",
              "    British\n",
              "    <span style=\"font-size: 0.8em; font-weight: bold; line-height: 1; border-radius: 0.35em; text-transform: uppercase; vertical-align: middle; margin-left: 0.5rem\">NORP</span>\n",
              "</mark>\n",
              " troops from that country .</div></span>"
            ],
            "text/plain": [
              "<IPython.core.display.HTML object>"
            ]
          },
          "metadata": {
            "tags": []
          }
        }
      ]
    },
    {
      "cell_type": "code",
      "metadata": {
        "colab": {
          "base_uri": "https://localhost:8080/",
          "height": 51
        },
        "id": "ZxFU6WFSLm1S",
        "outputId": "5334d29b-f5bc-470a-9967-281ab6f524f1"
      },
      "source": [
        "displacy.render(nlp(str(sentences[100])), jupyter=True, style='ent')"
      ],
      "execution_count": null,
      "outputs": [
        {
          "output_type": "display_data",
          "data": {
            "text/html": [
              "<span class=\"tex2jax_ignore\"><div class=\"entities\" style=\"line-height: 2.5; direction: ltr\">She was a longtime member of the \n",
              "<mark class=\"entity\" style=\"background: #c887fb; padding: 0.45em 0.6em; margin: 0 0.25em; line-height: 1; border-radius: 0.35em;\">\n",
              "    Zapatista\n",
              "    <span style=\"font-size: 0.8em; font-weight: bold; line-height: 1; border-radius: 0.35em; text-transform: uppercase; vertical-align: middle; margin-left: 0.5rem\">NORP</span>\n",
              "</mark>\n",
              " movement and appeared in public wearing a black ski mask .</div></span>"
            ],
            "text/plain": [
              "<IPython.core.display.HTML object>"
            ]
          },
          "metadata": {
            "tags": []
          }
        }
      ]
    },
    {
      "cell_type": "code",
      "metadata": {
        "colab": {
          "base_uri": "https://localhost:8080/",
          "height": 418
        },
        "id": "Oj6nFexULng4",
        "outputId": "5bb46c2b-3dbe-446a-d3c6-2fe3a886d0b9"
      },
      "source": [
        "displacy.render(nlp(str(sentences[20])), style='dep', jupyter = True, options = {'distance': 120})"
      ],
      "execution_count": null,
      "outputs": [
        {
          "output_type": "display_data",
          "data": {
            "text/html": [
              "<span class=\"tex2jax_ignore\"><svg xmlns=\"http://www.w3.org/2000/svg\" xmlns:xlink=\"http://www.w3.org/1999/xlink\" xml:lang=\"en\" id=\"31e73fa3c2d0426abc36721c5f07d289-0\" class=\"displacy\" width=\"1250\" height=\"377.0\" direction=\"ltr\" style=\"max-width: none; height: 377.0px; color: #000000; background: #ffffff; font-family: Arial; direction: ltr\">\n",
              "<text class=\"displacy-token\" fill=\"currentColor\" text-anchor=\"middle\" y=\"287.0\">\n",
              "    <tspan class=\"displacy-word\" fill=\"currentColor\" x=\"50\">Doctors</tspan>\n",
              "    <tspan class=\"displacy-tag\" dy=\"2em\" fill=\"currentColor\" x=\"50\">NOUN</tspan>\n",
              "</text>\n",
              "\n",
              "<text class=\"displacy-token\" fill=\"currentColor\" text-anchor=\"middle\" y=\"287.0\">\n",
              "    <tspan class=\"displacy-word\" fill=\"currentColor\" x=\"170\">say</tspan>\n",
              "    <tspan class=\"displacy-tag\" dy=\"2em\" fill=\"currentColor\" x=\"170\">VERB</tspan>\n",
              "</text>\n",
              "\n",
              "<text class=\"displacy-token\" fill=\"currentColor\" text-anchor=\"middle\" y=\"287.0\">\n",
              "    <tspan class=\"displacy-word\" fill=\"currentColor\" x=\"290\">the</tspan>\n",
              "    <tspan class=\"displacy-tag\" dy=\"2em\" fill=\"currentColor\" x=\"290\">DET</tspan>\n",
              "</text>\n",
              "\n",
              "<text class=\"displacy-token\" fill=\"currentColor\" text-anchor=\"middle\" y=\"287.0\">\n",
              "    <tspan class=\"displacy-word\" fill=\"currentColor\" x=\"410\">stroke</tspan>\n",
              "    <tspan class=\"displacy-tag\" dy=\"2em\" fill=\"currentColor\" x=\"410\">NOUN</tspan>\n",
              "</text>\n",
              "\n",
              "<text class=\"displacy-token\" fill=\"currentColor\" text-anchor=\"middle\" y=\"287.0\">\n",
              "    <tspan class=\"displacy-word\" fill=\"currentColor\" x=\"530\">has</tspan>\n",
              "    <tspan class=\"displacy-tag\" dy=\"2em\" fill=\"currentColor\" x=\"530\">AUX</tspan>\n",
              "</text>\n",
              "\n",
              "<text class=\"displacy-token\" fill=\"currentColor\" text-anchor=\"middle\" y=\"287.0\">\n",
              "    <tspan class=\"displacy-word\" fill=\"currentColor\" x=\"650\">not</tspan>\n",
              "    <tspan class=\"displacy-tag\" dy=\"2em\" fill=\"currentColor\" x=\"650\">PART</tspan>\n",
              "</text>\n",
              "\n",
              "<text class=\"displacy-token\" fill=\"currentColor\" text-anchor=\"middle\" y=\"287.0\">\n",
              "    <tspan class=\"displacy-word\" fill=\"currentColor\" x=\"770\">caused</tspan>\n",
              "    <tspan class=\"displacy-tag\" dy=\"2em\" fill=\"currentColor\" x=\"770\">VERB</tspan>\n",
              "</text>\n",
              "\n",
              "<text class=\"displacy-token\" fill=\"currentColor\" text-anchor=\"middle\" y=\"287.0\">\n",
              "    <tspan class=\"displacy-word\" fill=\"currentColor\" x=\"890\">any</tspan>\n",
              "    <tspan class=\"displacy-tag\" dy=\"2em\" fill=\"currentColor\" x=\"890\">DET</tspan>\n",
              "</text>\n",
              "\n",
              "<text class=\"displacy-token\" fill=\"currentColor\" text-anchor=\"middle\" y=\"287.0\">\n",
              "    <tspan class=\"displacy-word\" fill=\"currentColor\" x=\"1010\">permanent</tspan>\n",
              "    <tspan class=\"displacy-tag\" dy=\"2em\" fill=\"currentColor\" x=\"1010\">ADJ</tspan>\n",
              "</text>\n",
              "\n",
              "<text class=\"displacy-token\" fill=\"currentColor\" text-anchor=\"middle\" y=\"287.0\">\n",
              "    <tspan class=\"displacy-word\" fill=\"currentColor\" x=\"1130\">damage .</tspan>\n",
              "    <tspan class=\"displacy-tag\" dy=\"2em\" fill=\"currentColor\" x=\"1130\">NOUN</tspan>\n",
              "</text>\n",
              "\n",
              "<g class=\"displacy-arrow\">\n",
              "    <path class=\"displacy-arc\" id=\"arrow-31e73fa3c2d0426abc36721c5f07d289-0-0\" stroke-width=\"2px\" d=\"M70,242.0 C70,182.0 155.0,182.0 155.0,242.0\" fill=\"none\" stroke=\"currentColor\"/>\n",
              "    <text dy=\"1.25em\" style=\"font-size: 0.8em; letter-spacing: 1px\">\n",
              "        <textPath xlink:href=\"#arrow-31e73fa3c2d0426abc36721c5f07d289-0-0\" class=\"displacy-label\" startOffset=\"50%\" side=\"left\" fill=\"currentColor\" text-anchor=\"middle\">nsubj</textPath>\n",
              "    </text>\n",
              "    <path class=\"displacy-arrowhead\" d=\"M70,244.0 L62,232.0 78,232.0\" fill=\"currentColor\"/>\n",
              "</g>\n",
              "\n",
              "<g class=\"displacy-arrow\">\n",
              "    <path class=\"displacy-arc\" id=\"arrow-31e73fa3c2d0426abc36721c5f07d289-0-1\" stroke-width=\"2px\" d=\"M310,242.0 C310,182.0 395.0,182.0 395.0,242.0\" fill=\"none\" stroke=\"currentColor\"/>\n",
              "    <text dy=\"1.25em\" style=\"font-size: 0.8em; letter-spacing: 1px\">\n",
              "        <textPath xlink:href=\"#arrow-31e73fa3c2d0426abc36721c5f07d289-0-1\" class=\"displacy-label\" startOffset=\"50%\" side=\"left\" fill=\"currentColor\" text-anchor=\"middle\">det</textPath>\n",
              "    </text>\n",
              "    <path class=\"displacy-arrowhead\" d=\"M310,244.0 L302,232.0 318,232.0\" fill=\"currentColor\"/>\n",
              "</g>\n",
              "\n",
              "<g class=\"displacy-arrow\">\n",
              "    <path class=\"displacy-arc\" id=\"arrow-31e73fa3c2d0426abc36721c5f07d289-0-2\" stroke-width=\"2px\" d=\"M430,242.0 C430,62.0 765.0,62.0 765.0,242.0\" fill=\"none\" stroke=\"currentColor\"/>\n",
              "    <text dy=\"1.25em\" style=\"font-size: 0.8em; letter-spacing: 1px\">\n",
              "        <textPath xlink:href=\"#arrow-31e73fa3c2d0426abc36721c5f07d289-0-2\" class=\"displacy-label\" startOffset=\"50%\" side=\"left\" fill=\"currentColor\" text-anchor=\"middle\">nsubj</textPath>\n",
              "    </text>\n",
              "    <path class=\"displacy-arrowhead\" d=\"M430,244.0 L422,232.0 438,232.0\" fill=\"currentColor\"/>\n",
              "</g>\n",
              "\n",
              "<g class=\"displacy-arrow\">\n",
              "    <path class=\"displacy-arc\" id=\"arrow-31e73fa3c2d0426abc36721c5f07d289-0-3\" stroke-width=\"2px\" d=\"M550,242.0 C550,122.0 760.0,122.0 760.0,242.0\" fill=\"none\" stroke=\"currentColor\"/>\n",
              "    <text dy=\"1.25em\" style=\"font-size: 0.8em; letter-spacing: 1px\">\n",
              "        <textPath xlink:href=\"#arrow-31e73fa3c2d0426abc36721c5f07d289-0-3\" class=\"displacy-label\" startOffset=\"50%\" side=\"left\" fill=\"currentColor\" text-anchor=\"middle\">aux</textPath>\n",
              "    </text>\n",
              "    <path class=\"displacy-arrowhead\" d=\"M550,244.0 L542,232.0 558,232.0\" fill=\"currentColor\"/>\n",
              "</g>\n",
              "\n",
              "<g class=\"displacy-arrow\">\n",
              "    <path class=\"displacy-arc\" id=\"arrow-31e73fa3c2d0426abc36721c5f07d289-0-4\" stroke-width=\"2px\" d=\"M670,242.0 C670,182.0 755.0,182.0 755.0,242.0\" fill=\"none\" stroke=\"currentColor\"/>\n",
              "    <text dy=\"1.25em\" style=\"font-size: 0.8em; letter-spacing: 1px\">\n",
              "        <textPath xlink:href=\"#arrow-31e73fa3c2d0426abc36721c5f07d289-0-4\" class=\"displacy-label\" startOffset=\"50%\" side=\"left\" fill=\"currentColor\" text-anchor=\"middle\">neg</textPath>\n",
              "    </text>\n",
              "    <path class=\"displacy-arrowhead\" d=\"M670,244.0 L662,232.0 678,232.0\" fill=\"currentColor\"/>\n",
              "</g>\n",
              "\n",
              "<g class=\"displacy-arrow\">\n",
              "    <path class=\"displacy-arc\" id=\"arrow-31e73fa3c2d0426abc36721c5f07d289-0-5\" stroke-width=\"2px\" d=\"M190,242.0 C190,2.0 770.0,2.0 770.0,242.0\" fill=\"none\" stroke=\"currentColor\"/>\n",
              "    <text dy=\"1.25em\" style=\"font-size: 0.8em; letter-spacing: 1px\">\n",
              "        <textPath xlink:href=\"#arrow-31e73fa3c2d0426abc36721c5f07d289-0-5\" class=\"displacy-label\" startOffset=\"50%\" side=\"left\" fill=\"currentColor\" text-anchor=\"middle\">ccomp</textPath>\n",
              "    </text>\n",
              "    <path class=\"displacy-arrowhead\" d=\"M770.0,244.0 L778.0,232.0 762.0,232.0\" fill=\"currentColor\"/>\n",
              "</g>\n",
              "\n",
              "<g class=\"displacy-arrow\">\n",
              "    <path class=\"displacy-arc\" id=\"arrow-31e73fa3c2d0426abc36721c5f07d289-0-6\" stroke-width=\"2px\" d=\"M910,242.0 C910,122.0 1120.0,122.0 1120.0,242.0\" fill=\"none\" stroke=\"currentColor\"/>\n",
              "    <text dy=\"1.25em\" style=\"font-size: 0.8em; letter-spacing: 1px\">\n",
              "        <textPath xlink:href=\"#arrow-31e73fa3c2d0426abc36721c5f07d289-0-6\" class=\"displacy-label\" startOffset=\"50%\" side=\"left\" fill=\"currentColor\" text-anchor=\"middle\">det</textPath>\n",
              "    </text>\n",
              "    <path class=\"displacy-arrowhead\" d=\"M910,244.0 L902,232.0 918,232.0\" fill=\"currentColor\"/>\n",
              "</g>\n",
              "\n",
              "<g class=\"displacy-arrow\">\n",
              "    <path class=\"displacy-arc\" id=\"arrow-31e73fa3c2d0426abc36721c5f07d289-0-7\" stroke-width=\"2px\" d=\"M1030,242.0 C1030,182.0 1115.0,182.0 1115.0,242.0\" fill=\"none\" stroke=\"currentColor\"/>\n",
              "    <text dy=\"1.25em\" style=\"font-size: 0.8em; letter-spacing: 1px\">\n",
              "        <textPath xlink:href=\"#arrow-31e73fa3c2d0426abc36721c5f07d289-0-7\" class=\"displacy-label\" startOffset=\"50%\" side=\"left\" fill=\"currentColor\" text-anchor=\"middle\">amod</textPath>\n",
              "    </text>\n",
              "    <path class=\"displacy-arrowhead\" d=\"M1030,244.0 L1022,232.0 1038,232.0\" fill=\"currentColor\"/>\n",
              "</g>\n",
              "\n",
              "<g class=\"displacy-arrow\">\n",
              "    <path class=\"displacy-arc\" id=\"arrow-31e73fa3c2d0426abc36721c5f07d289-0-8\" stroke-width=\"2px\" d=\"M790,242.0 C790,62.0 1125.0,62.0 1125.0,242.0\" fill=\"none\" stroke=\"currentColor\"/>\n",
              "    <text dy=\"1.25em\" style=\"font-size: 0.8em; letter-spacing: 1px\">\n",
              "        <textPath xlink:href=\"#arrow-31e73fa3c2d0426abc36721c5f07d289-0-8\" class=\"displacy-label\" startOffset=\"50%\" side=\"left\" fill=\"currentColor\" text-anchor=\"middle\">dobj</textPath>\n",
              "    </text>\n",
              "    <path class=\"displacy-arrowhead\" d=\"M1125.0,244.0 L1133.0,232.0 1117.0,232.0\" fill=\"currentColor\"/>\n",
              "</g>\n",
              "</svg></span>"
            ],
            "text/plain": [
              "<IPython.core.display.HTML object>"
            ]
          },
          "metadata": {
            "tags": []
          }
        }
      ]
    },
    {
      "cell_type": "code",
      "metadata": {
        "colab": {
          "base_uri": "https://localhost:8080/",
          "height": 478
        },
        "id": "CeWIQtpLLrgH",
        "outputId": "800e9e71-d43d-4276-f77f-5e0d4baa9fe4"
      },
      "source": [
        "displacy.render(nlp(str(sentences[0])), style='dep', jupyter = True, options = {'distance': 120})"
      ],
      "execution_count": null,
      "outputs": [
        {
          "output_type": "display_data",
          "data": {
            "text/html": [
              "<span class=\"tex2jax_ignore\"><svg xmlns=\"http://www.w3.org/2000/svg\" xmlns:xlink=\"http://www.w3.org/1999/xlink\" xml:lang=\"en\" id=\"86a730cdc1144941af532469194c41bd-0\" class=\"displacy\" width=\"2810\" height=\"437.0\" direction=\"ltr\" style=\"max-width: none; height: 437.0px; color: #000000; background: #ffffff; font-family: Arial; direction: ltr\">\n",
              "<text class=\"displacy-token\" fill=\"currentColor\" text-anchor=\"middle\" y=\"347.0\">\n",
              "    <tspan class=\"displacy-word\" fill=\"currentColor\" x=\"50\">Thousands</tspan>\n",
              "    <tspan class=\"displacy-tag\" dy=\"2em\" fill=\"currentColor\" x=\"50\">NOUN</tspan>\n",
              "</text>\n",
              "\n",
              "<text class=\"displacy-token\" fill=\"currentColor\" text-anchor=\"middle\" y=\"347.0\">\n",
              "    <tspan class=\"displacy-word\" fill=\"currentColor\" x=\"170\">of</tspan>\n",
              "    <tspan class=\"displacy-tag\" dy=\"2em\" fill=\"currentColor\" x=\"170\">ADP</tspan>\n",
              "</text>\n",
              "\n",
              "<text class=\"displacy-token\" fill=\"currentColor\" text-anchor=\"middle\" y=\"347.0\">\n",
              "    <tspan class=\"displacy-word\" fill=\"currentColor\" x=\"290\">demonstrators</tspan>\n",
              "    <tspan class=\"displacy-tag\" dy=\"2em\" fill=\"currentColor\" x=\"290\">NOUN</tspan>\n",
              "</text>\n",
              "\n",
              "<text class=\"displacy-token\" fill=\"currentColor\" text-anchor=\"middle\" y=\"347.0\">\n",
              "    <tspan class=\"displacy-word\" fill=\"currentColor\" x=\"410\">have</tspan>\n",
              "    <tspan class=\"displacy-tag\" dy=\"2em\" fill=\"currentColor\" x=\"410\">AUX</tspan>\n",
              "</text>\n",
              "\n",
              "<text class=\"displacy-token\" fill=\"currentColor\" text-anchor=\"middle\" y=\"347.0\">\n",
              "    <tspan class=\"displacy-word\" fill=\"currentColor\" x=\"530\">marched</tspan>\n",
              "    <tspan class=\"displacy-tag\" dy=\"2em\" fill=\"currentColor\" x=\"530\">VERB</tspan>\n",
              "</text>\n",
              "\n",
              "<text class=\"displacy-token\" fill=\"currentColor\" text-anchor=\"middle\" y=\"347.0\">\n",
              "    <tspan class=\"displacy-word\" fill=\"currentColor\" x=\"650\">through</tspan>\n",
              "    <tspan class=\"displacy-tag\" dy=\"2em\" fill=\"currentColor\" x=\"650\">ADP</tspan>\n",
              "</text>\n",
              "\n",
              "<text class=\"displacy-token\" fill=\"currentColor\" text-anchor=\"middle\" y=\"347.0\">\n",
              "    <tspan class=\"displacy-word\" fill=\"currentColor\" x=\"770\">London</tspan>\n",
              "    <tspan class=\"displacy-tag\" dy=\"2em\" fill=\"currentColor\" x=\"770\">PROPN</tspan>\n",
              "</text>\n",
              "\n",
              "<text class=\"displacy-token\" fill=\"currentColor\" text-anchor=\"middle\" y=\"347.0\">\n",
              "    <tspan class=\"displacy-word\" fill=\"currentColor\" x=\"890\">to</tspan>\n",
              "    <tspan class=\"displacy-tag\" dy=\"2em\" fill=\"currentColor\" x=\"890\">PART</tspan>\n",
              "</text>\n",
              "\n",
              "<text class=\"displacy-token\" fill=\"currentColor\" text-anchor=\"middle\" y=\"347.0\">\n",
              "    <tspan class=\"displacy-word\" fill=\"currentColor\" x=\"1010\">protest</tspan>\n",
              "    <tspan class=\"displacy-tag\" dy=\"2em\" fill=\"currentColor\" x=\"1010\">VERB</tspan>\n",
              "</text>\n",
              "\n",
              "<text class=\"displacy-token\" fill=\"currentColor\" text-anchor=\"middle\" y=\"347.0\">\n",
              "    <tspan class=\"displacy-word\" fill=\"currentColor\" x=\"1130\">the</tspan>\n",
              "    <tspan class=\"displacy-tag\" dy=\"2em\" fill=\"currentColor\" x=\"1130\">DET</tspan>\n",
              "</text>\n",
              "\n",
              "<text class=\"displacy-token\" fill=\"currentColor\" text-anchor=\"middle\" y=\"347.0\">\n",
              "    <tspan class=\"displacy-word\" fill=\"currentColor\" x=\"1250\">war</tspan>\n",
              "    <tspan class=\"displacy-tag\" dy=\"2em\" fill=\"currentColor\" x=\"1250\">NOUN</tspan>\n",
              "</text>\n",
              "\n",
              "<text class=\"displacy-token\" fill=\"currentColor\" text-anchor=\"middle\" y=\"347.0\">\n",
              "    <tspan class=\"displacy-word\" fill=\"currentColor\" x=\"1370\">in</tspan>\n",
              "    <tspan class=\"displacy-tag\" dy=\"2em\" fill=\"currentColor\" x=\"1370\">ADP</tspan>\n",
              "</text>\n",
              "\n",
              "<text class=\"displacy-token\" fill=\"currentColor\" text-anchor=\"middle\" y=\"347.0\">\n",
              "    <tspan class=\"displacy-word\" fill=\"currentColor\" x=\"1490\">Iraq</tspan>\n",
              "    <tspan class=\"displacy-tag\" dy=\"2em\" fill=\"currentColor\" x=\"1490\">PROPN</tspan>\n",
              "</text>\n",
              "\n",
              "<text class=\"displacy-token\" fill=\"currentColor\" text-anchor=\"middle\" y=\"347.0\">\n",
              "    <tspan class=\"displacy-word\" fill=\"currentColor\" x=\"1610\">and</tspan>\n",
              "    <tspan class=\"displacy-tag\" dy=\"2em\" fill=\"currentColor\" x=\"1610\">CCONJ</tspan>\n",
              "</text>\n",
              "\n",
              "<text class=\"displacy-token\" fill=\"currentColor\" text-anchor=\"middle\" y=\"347.0\">\n",
              "    <tspan class=\"displacy-word\" fill=\"currentColor\" x=\"1730\">demand</tspan>\n",
              "    <tspan class=\"displacy-tag\" dy=\"2em\" fill=\"currentColor\" x=\"1730\">VERB</tspan>\n",
              "</text>\n",
              "\n",
              "<text class=\"displacy-token\" fill=\"currentColor\" text-anchor=\"middle\" y=\"347.0\">\n",
              "    <tspan class=\"displacy-word\" fill=\"currentColor\" x=\"1850\">the</tspan>\n",
              "    <tspan class=\"displacy-tag\" dy=\"2em\" fill=\"currentColor\" x=\"1850\">DET</tspan>\n",
              "</text>\n",
              "\n",
              "<text class=\"displacy-token\" fill=\"currentColor\" text-anchor=\"middle\" y=\"347.0\">\n",
              "    <tspan class=\"displacy-word\" fill=\"currentColor\" x=\"1970\">withdrawal</tspan>\n",
              "    <tspan class=\"displacy-tag\" dy=\"2em\" fill=\"currentColor\" x=\"1970\">NOUN</tspan>\n",
              "</text>\n",
              "\n",
              "<text class=\"displacy-token\" fill=\"currentColor\" text-anchor=\"middle\" y=\"347.0\">\n",
              "    <tspan class=\"displacy-word\" fill=\"currentColor\" x=\"2090\">of</tspan>\n",
              "    <tspan class=\"displacy-tag\" dy=\"2em\" fill=\"currentColor\" x=\"2090\">ADP</tspan>\n",
              "</text>\n",
              "\n",
              "<text class=\"displacy-token\" fill=\"currentColor\" text-anchor=\"middle\" y=\"347.0\">\n",
              "    <tspan class=\"displacy-word\" fill=\"currentColor\" x=\"2210\">British</tspan>\n",
              "    <tspan class=\"displacy-tag\" dy=\"2em\" fill=\"currentColor\" x=\"2210\">ADJ</tspan>\n",
              "</text>\n",
              "\n",
              "<text class=\"displacy-token\" fill=\"currentColor\" text-anchor=\"middle\" y=\"347.0\">\n",
              "    <tspan class=\"displacy-word\" fill=\"currentColor\" x=\"2330\">troops</tspan>\n",
              "    <tspan class=\"displacy-tag\" dy=\"2em\" fill=\"currentColor\" x=\"2330\">NOUN</tspan>\n",
              "</text>\n",
              "\n",
              "<text class=\"displacy-token\" fill=\"currentColor\" text-anchor=\"middle\" y=\"347.0\">\n",
              "    <tspan class=\"displacy-word\" fill=\"currentColor\" x=\"2450\">from</tspan>\n",
              "    <tspan class=\"displacy-tag\" dy=\"2em\" fill=\"currentColor\" x=\"2450\">ADP</tspan>\n",
              "</text>\n",
              "\n",
              "<text class=\"displacy-token\" fill=\"currentColor\" text-anchor=\"middle\" y=\"347.0\">\n",
              "    <tspan class=\"displacy-word\" fill=\"currentColor\" x=\"2570\">that</tspan>\n",
              "    <tspan class=\"displacy-tag\" dy=\"2em\" fill=\"currentColor\" x=\"2570\">DET</tspan>\n",
              "</text>\n",
              "\n",
              "<text class=\"displacy-token\" fill=\"currentColor\" text-anchor=\"middle\" y=\"347.0\">\n",
              "    <tspan class=\"displacy-word\" fill=\"currentColor\" x=\"2690\">country .</tspan>\n",
              "    <tspan class=\"displacy-tag\" dy=\"2em\" fill=\"currentColor\" x=\"2690\">NOUN</tspan>\n",
              "</text>\n",
              "\n",
              "<g class=\"displacy-arrow\">\n",
              "    <path class=\"displacy-arc\" id=\"arrow-86a730cdc1144941af532469194c41bd-0-0\" stroke-width=\"2px\" d=\"M70,302.0 C70,122.0 520.0,122.0 520.0,302.0\" fill=\"none\" stroke=\"currentColor\"/>\n",
              "    <text dy=\"1.25em\" style=\"font-size: 0.8em; letter-spacing: 1px\">\n",
              "        <textPath xlink:href=\"#arrow-86a730cdc1144941af532469194c41bd-0-0\" class=\"displacy-label\" startOffset=\"50%\" side=\"left\" fill=\"currentColor\" text-anchor=\"middle\">nsubj</textPath>\n",
              "    </text>\n",
              "    <path class=\"displacy-arrowhead\" d=\"M70,304.0 L62,292.0 78,292.0\" fill=\"currentColor\"/>\n",
              "</g>\n",
              "\n",
              "<g class=\"displacy-arrow\">\n",
              "    <path class=\"displacy-arc\" id=\"arrow-86a730cdc1144941af532469194c41bd-0-1\" stroke-width=\"2px\" d=\"M70,302.0 C70,242.0 150.0,242.0 150.0,302.0\" fill=\"none\" stroke=\"currentColor\"/>\n",
              "    <text dy=\"1.25em\" style=\"font-size: 0.8em; letter-spacing: 1px\">\n",
              "        <textPath xlink:href=\"#arrow-86a730cdc1144941af532469194c41bd-0-1\" class=\"displacy-label\" startOffset=\"50%\" side=\"left\" fill=\"currentColor\" text-anchor=\"middle\">prep</textPath>\n",
              "    </text>\n",
              "    <path class=\"displacy-arrowhead\" d=\"M150.0,304.0 L158.0,292.0 142.0,292.0\" fill=\"currentColor\"/>\n",
              "</g>\n",
              "\n",
              "<g class=\"displacy-arrow\">\n",
              "    <path class=\"displacy-arc\" id=\"arrow-86a730cdc1144941af532469194c41bd-0-2\" stroke-width=\"2px\" d=\"M190,302.0 C190,242.0 270.0,242.0 270.0,302.0\" fill=\"none\" stroke=\"currentColor\"/>\n",
              "    <text dy=\"1.25em\" style=\"font-size: 0.8em; letter-spacing: 1px\">\n",
              "        <textPath xlink:href=\"#arrow-86a730cdc1144941af532469194c41bd-0-2\" class=\"displacy-label\" startOffset=\"50%\" side=\"left\" fill=\"currentColor\" text-anchor=\"middle\">pobj</textPath>\n",
              "    </text>\n",
              "    <path class=\"displacy-arrowhead\" d=\"M270.0,304.0 L278.0,292.0 262.0,292.0\" fill=\"currentColor\"/>\n",
              "</g>\n",
              "\n",
              "<g class=\"displacy-arrow\">\n",
              "    <path class=\"displacy-arc\" id=\"arrow-86a730cdc1144941af532469194c41bd-0-3\" stroke-width=\"2px\" d=\"M430,302.0 C430,242.0 510.0,242.0 510.0,302.0\" fill=\"none\" stroke=\"currentColor\"/>\n",
              "    <text dy=\"1.25em\" style=\"font-size: 0.8em; letter-spacing: 1px\">\n",
              "        <textPath xlink:href=\"#arrow-86a730cdc1144941af532469194c41bd-0-3\" class=\"displacy-label\" startOffset=\"50%\" side=\"left\" fill=\"currentColor\" text-anchor=\"middle\">aux</textPath>\n",
              "    </text>\n",
              "    <path class=\"displacy-arrowhead\" d=\"M430,304.0 L422,292.0 438,292.0\" fill=\"currentColor\"/>\n",
              "</g>\n",
              "\n",
              "<g class=\"displacy-arrow\">\n",
              "    <path class=\"displacy-arc\" id=\"arrow-86a730cdc1144941af532469194c41bd-0-4\" stroke-width=\"2px\" d=\"M550,302.0 C550,242.0 630.0,242.0 630.0,302.0\" fill=\"none\" stroke=\"currentColor\"/>\n",
              "    <text dy=\"1.25em\" style=\"font-size: 0.8em; letter-spacing: 1px\">\n",
              "        <textPath xlink:href=\"#arrow-86a730cdc1144941af532469194c41bd-0-4\" class=\"displacy-label\" startOffset=\"50%\" side=\"left\" fill=\"currentColor\" text-anchor=\"middle\">prep</textPath>\n",
              "    </text>\n",
              "    <path class=\"displacy-arrowhead\" d=\"M630.0,304.0 L638.0,292.0 622.0,292.0\" fill=\"currentColor\"/>\n",
              "</g>\n",
              "\n",
              "<g class=\"displacy-arrow\">\n",
              "    <path class=\"displacy-arc\" id=\"arrow-86a730cdc1144941af532469194c41bd-0-5\" stroke-width=\"2px\" d=\"M670,302.0 C670,242.0 750.0,242.0 750.0,302.0\" fill=\"none\" stroke=\"currentColor\"/>\n",
              "    <text dy=\"1.25em\" style=\"font-size: 0.8em; letter-spacing: 1px\">\n",
              "        <textPath xlink:href=\"#arrow-86a730cdc1144941af532469194c41bd-0-5\" class=\"displacy-label\" startOffset=\"50%\" side=\"left\" fill=\"currentColor\" text-anchor=\"middle\">pobj</textPath>\n",
              "    </text>\n",
              "    <path class=\"displacy-arrowhead\" d=\"M750.0,304.0 L758.0,292.0 742.0,292.0\" fill=\"currentColor\"/>\n",
              "</g>\n",
              "\n",
              "<g class=\"displacy-arrow\">\n",
              "    <path class=\"displacy-arc\" id=\"arrow-86a730cdc1144941af532469194c41bd-0-6\" stroke-width=\"2px\" d=\"M910,302.0 C910,242.0 990.0,242.0 990.0,302.0\" fill=\"none\" stroke=\"currentColor\"/>\n",
              "    <text dy=\"1.25em\" style=\"font-size: 0.8em; letter-spacing: 1px\">\n",
              "        <textPath xlink:href=\"#arrow-86a730cdc1144941af532469194c41bd-0-6\" class=\"displacy-label\" startOffset=\"50%\" side=\"left\" fill=\"currentColor\" text-anchor=\"middle\">aux</textPath>\n",
              "    </text>\n",
              "    <path class=\"displacy-arrowhead\" d=\"M910,304.0 L902,292.0 918,292.0\" fill=\"currentColor\"/>\n",
              "</g>\n",
              "\n",
              "<g class=\"displacy-arrow\">\n",
              "    <path class=\"displacy-arc\" id=\"arrow-86a730cdc1144941af532469194c41bd-0-7\" stroke-width=\"2px\" d=\"M550,302.0 C550,122.0 1000.0,122.0 1000.0,302.0\" fill=\"none\" stroke=\"currentColor\"/>\n",
              "    <text dy=\"1.25em\" style=\"font-size: 0.8em; letter-spacing: 1px\">\n",
              "        <textPath xlink:href=\"#arrow-86a730cdc1144941af532469194c41bd-0-7\" class=\"displacy-label\" startOffset=\"50%\" side=\"left\" fill=\"currentColor\" text-anchor=\"middle\">advcl</textPath>\n",
              "    </text>\n",
              "    <path class=\"displacy-arrowhead\" d=\"M1000.0,304.0 L1008.0,292.0 992.0,292.0\" fill=\"currentColor\"/>\n",
              "</g>\n",
              "\n",
              "<g class=\"displacy-arrow\">\n",
              "    <path class=\"displacy-arc\" id=\"arrow-86a730cdc1144941af532469194c41bd-0-8\" stroke-width=\"2px\" d=\"M1150,302.0 C1150,242.0 1230.0,242.0 1230.0,302.0\" fill=\"none\" stroke=\"currentColor\"/>\n",
              "    <text dy=\"1.25em\" style=\"font-size: 0.8em; letter-spacing: 1px\">\n",
              "        <textPath xlink:href=\"#arrow-86a730cdc1144941af532469194c41bd-0-8\" class=\"displacy-label\" startOffset=\"50%\" side=\"left\" fill=\"currentColor\" text-anchor=\"middle\">det</textPath>\n",
              "    </text>\n",
              "    <path class=\"displacy-arrowhead\" d=\"M1150,304.0 L1142,292.0 1158,292.0\" fill=\"currentColor\"/>\n",
              "</g>\n",
              "\n",
              "<g class=\"displacy-arrow\">\n",
              "    <path class=\"displacy-arc\" id=\"arrow-86a730cdc1144941af532469194c41bd-0-9\" stroke-width=\"2px\" d=\"M1030,302.0 C1030,182.0 1235.0,182.0 1235.0,302.0\" fill=\"none\" stroke=\"currentColor\"/>\n",
              "    <text dy=\"1.25em\" style=\"font-size: 0.8em; letter-spacing: 1px\">\n",
              "        <textPath xlink:href=\"#arrow-86a730cdc1144941af532469194c41bd-0-9\" class=\"displacy-label\" startOffset=\"50%\" side=\"left\" fill=\"currentColor\" text-anchor=\"middle\">dobj</textPath>\n",
              "    </text>\n",
              "    <path class=\"displacy-arrowhead\" d=\"M1235.0,304.0 L1243.0,292.0 1227.0,292.0\" fill=\"currentColor\"/>\n",
              "</g>\n",
              "\n",
              "<g class=\"displacy-arrow\">\n",
              "    <path class=\"displacy-arc\" id=\"arrow-86a730cdc1144941af532469194c41bd-0-10\" stroke-width=\"2px\" d=\"M1270,302.0 C1270,242.0 1350.0,242.0 1350.0,302.0\" fill=\"none\" stroke=\"currentColor\"/>\n",
              "    <text dy=\"1.25em\" style=\"font-size: 0.8em; letter-spacing: 1px\">\n",
              "        <textPath xlink:href=\"#arrow-86a730cdc1144941af532469194c41bd-0-10\" class=\"displacy-label\" startOffset=\"50%\" side=\"left\" fill=\"currentColor\" text-anchor=\"middle\">prep</textPath>\n",
              "    </text>\n",
              "    <path class=\"displacy-arrowhead\" d=\"M1350.0,304.0 L1358.0,292.0 1342.0,292.0\" fill=\"currentColor\"/>\n",
              "</g>\n",
              "\n",
              "<g class=\"displacy-arrow\">\n",
              "    <path class=\"displacy-arc\" id=\"arrow-86a730cdc1144941af532469194c41bd-0-11\" stroke-width=\"2px\" d=\"M1390,302.0 C1390,242.0 1470.0,242.0 1470.0,302.0\" fill=\"none\" stroke=\"currentColor\"/>\n",
              "    <text dy=\"1.25em\" style=\"font-size: 0.8em; letter-spacing: 1px\">\n",
              "        <textPath xlink:href=\"#arrow-86a730cdc1144941af532469194c41bd-0-11\" class=\"displacy-label\" startOffset=\"50%\" side=\"left\" fill=\"currentColor\" text-anchor=\"middle\">pobj</textPath>\n",
              "    </text>\n",
              "    <path class=\"displacy-arrowhead\" d=\"M1470.0,304.0 L1478.0,292.0 1462.0,292.0\" fill=\"currentColor\"/>\n",
              "</g>\n",
              "\n",
              "<g class=\"displacy-arrow\">\n",
              "    <path class=\"displacy-arc\" id=\"arrow-86a730cdc1144941af532469194c41bd-0-12\" stroke-width=\"2px\" d=\"M1030,302.0 C1030,62.0 1605.0,62.0 1605.0,302.0\" fill=\"none\" stroke=\"currentColor\"/>\n",
              "    <text dy=\"1.25em\" style=\"font-size: 0.8em; letter-spacing: 1px\">\n",
              "        <textPath xlink:href=\"#arrow-86a730cdc1144941af532469194c41bd-0-12\" class=\"displacy-label\" startOffset=\"50%\" side=\"left\" fill=\"currentColor\" text-anchor=\"middle\">cc</textPath>\n",
              "    </text>\n",
              "    <path class=\"displacy-arrowhead\" d=\"M1605.0,304.0 L1613.0,292.0 1597.0,292.0\" fill=\"currentColor\"/>\n",
              "</g>\n",
              "\n",
              "<g class=\"displacy-arrow\">\n",
              "    <path class=\"displacy-arc\" id=\"arrow-86a730cdc1144941af532469194c41bd-0-13\" stroke-width=\"2px\" d=\"M1030,302.0 C1030,2.0 1730.0,2.0 1730.0,302.0\" fill=\"none\" stroke=\"currentColor\"/>\n",
              "    <text dy=\"1.25em\" style=\"font-size: 0.8em; letter-spacing: 1px\">\n",
              "        <textPath xlink:href=\"#arrow-86a730cdc1144941af532469194c41bd-0-13\" class=\"displacy-label\" startOffset=\"50%\" side=\"left\" fill=\"currentColor\" text-anchor=\"middle\">conj</textPath>\n",
              "    </text>\n",
              "    <path class=\"displacy-arrowhead\" d=\"M1730.0,304.0 L1738.0,292.0 1722.0,292.0\" fill=\"currentColor\"/>\n",
              "</g>\n",
              "\n",
              "<g class=\"displacy-arrow\">\n",
              "    <path class=\"displacy-arc\" id=\"arrow-86a730cdc1144941af532469194c41bd-0-14\" stroke-width=\"2px\" d=\"M1870,302.0 C1870,242.0 1950.0,242.0 1950.0,302.0\" fill=\"none\" stroke=\"currentColor\"/>\n",
              "    <text dy=\"1.25em\" style=\"font-size: 0.8em; letter-spacing: 1px\">\n",
              "        <textPath xlink:href=\"#arrow-86a730cdc1144941af532469194c41bd-0-14\" class=\"displacy-label\" startOffset=\"50%\" side=\"left\" fill=\"currentColor\" text-anchor=\"middle\">det</textPath>\n",
              "    </text>\n",
              "    <path class=\"displacy-arrowhead\" d=\"M1870,304.0 L1862,292.0 1878,292.0\" fill=\"currentColor\"/>\n",
              "</g>\n",
              "\n",
              "<g class=\"displacy-arrow\">\n",
              "    <path class=\"displacy-arc\" id=\"arrow-86a730cdc1144941af532469194c41bd-0-15\" stroke-width=\"2px\" d=\"M1750,302.0 C1750,182.0 1955.0,182.0 1955.0,302.0\" fill=\"none\" stroke=\"currentColor\"/>\n",
              "    <text dy=\"1.25em\" style=\"font-size: 0.8em; letter-spacing: 1px\">\n",
              "        <textPath xlink:href=\"#arrow-86a730cdc1144941af532469194c41bd-0-15\" class=\"displacy-label\" startOffset=\"50%\" side=\"left\" fill=\"currentColor\" text-anchor=\"middle\">dobj</textPath>\n",
              "    </text>\n",
              "    <path class=\"displacy-arrowhead\" d=\"M1955.0,304.0 L1963.0,292.0 1947.0,292.0\" fill=\"currentColor\"/>\n",
              "</g>\n",
              "\n",
              "<g class=\"displacy-arrow\">\n",
              "    <path class=\"displacy-arc\" id=\"arrow-86a730cdc1144941af532469194c41bd-0-16\" stroke-width=\"2px\" d=\"M1990,302.0 C1990,242.0 2070.0,242.0 2070.0,302.0\" fill=\"none\" stroke=\"currentColor\"/>\n",
              "    <text dy=\"1.25em\" style=\"font-size: 0.8em; letter-spacing: 1px\">\n",
              "        <textPath xlink:href=\"#arrow-86a730cdc1144941af532469194c41bd-0-16\" class=\"displacy-label\" startOffset=\"50%\" side=\"left\" fill=\"currentColor\" text-anchor=\"middle\">prep</textPath>\n",
              "    </text>\n",
              "    <path class=\"displacy-arrowhead\" d=\"M2070.0,304.0 L2078.0,292.0 2062.0,292.0\" fill=\"currentColor\"/>\n",
              "</g>\n",
              "\n",
              "<g class=\"displacy-arrow\">\n",
              "    <path class=\"displacy-arc\" id=\"arrow-86a730cdc1144941af532469194c41bd-0-17\" stroke-width=\"2px\" d=\"M2230,302.0 C2230,242.0 2310.0,242.0 2310.0,302.0\" fill=\"none\" stroke=\"currentColor\"/>\n",
              "    <text dy=\"1.25em\" style=\"font-size: 0.8em; letter-spacing: 1px\">\n",
              "        <textPath xlink:href=\"#arrow-86a730cdc1144941af532469194c41bd-0-17\" class=\"displacy-label\" startOffset=\"50%\" side=\"left\" fill=\"currentColor\" text-anchor=\"middle\">amod</textPath>\n",
              "    </text>\n",
              "    <path class=\"displacy-arrowhead\" d=\"M2230,304.0 L2222,292.0 2238,292.0\" fill=\"currentColor\"/>\n",
              "</g>\n",
              "\n",
              "<g class=\"displacy-arrow\">\n",
              "    <path class=\"displacy-arc\" id=\"arrow-86a730cdc1144941af532469194c41bd-0-18\" stroke-width=\"2px\" d=\"M2110,302.0 C2110,182.0 2315.0,182.0 2315.0,302.0\" fill=\"none\" stroke=\"currentColor\"/>\n",
              "    <text dy=\"1.25em\" style=\"font-size: 0.8em; letter-spacing: 1px\">\n",
              "        <textPath xlink:href=\"#arrow-86a730cdc1144941af532469194c41bd-0-18\" class=\"displacy-label\" startOffset=\"50%\" side=\"left\" fill=\"currentColor\" text-anchor=\"middle\">pobj</textPath>\n",
              "    </text>\n",
              "    <path class=\"displacy-arrowhead\" d=\"M2315.0,304.0 L2323.0,292.0 2307.0,292.0\" fill=\"currentColor\"/>\n",
              "</g>\n",
              "\n",
              "<g class=\"displacy-arrow\">\n",
              "    <path class=\"displacy-arc\" id=\"arrow-86a730cdc1144941af532469194c41bd-0-19\" stroke-width=\"2px\" d=\"M1750,302.0 C1750,2.0 2450.0,2.0 2450.0,302.0\" fill=\"none\" stroke=\"currentColor\"/>\n",
              "    <text dy=\"1.25em\" style=\"font-size: 0.8em; letter-spacing: 1px\">\n",
              "        <textPath xlink:href=\"#arrow-86a730cdc1144941af532469194c41bd-0-19\" class=\"displacy-label\" startOffset=\"50%\" side=\"left\" fill=\"currentColor\" text-anchor=\"middle\">prep</textPath>\n",
              "    </text>\n",
              "    <path class=\"displacy-arrowhead\" d=\"M2450.0,304.0 L2458.0,292.0 2442.0,292.0\" fill=\"currentColor\"/>\n",
              "</g>\n",
              "\n",
              "<g class=\"displacy-arrow\">\n",
              "    <path class=\"displacy-arc\" id=\"arrow-86a730cdc1144941af532469194c41bd-0-20\" stroke-width=\"2px\" d=\"M2590,302.0 C2590,242.0 2670.0,242.0 2670.0,302.0\" fill=\"none\" stroke=\"currentColor\"/>\n",
              "    <text dy=\"1.25em\" style=\"font-size: 0.8em; letter-spacing: 1px\">\n",
              "        <textPath xlink:href=\"#arrow-86a730cdc1144941af532469194c41bd-0-20\" class=\"displacy-label\" startOffset=\"50%\" side=\"left\" fill=\"currentColor\" text-anchor=\"middle\">det</textPath>\n",
              "    </text>\n",
              "    <path class=\"displacy-arrowhead\" d=\"M2590,304.0 L2582,292.0 2598,292.0\" fill=\"currentColor\"/>\n",
              "</g>\n",
              "\n",
              "<g class=\"displacy-arrow\">\n",
              "    <path class=\"displacy-arc\" id=\"arrow-86a730cdc1144941af532469194c41bd-0-21\" stroke-width=\"2px\" d=\"M2470,302.0 C2470,182.0 2675.0,182.0 2675.0,302.0\" fill=\"none\" stroke=\"currentColor\"/>\n",
              "    <text dy=\"1.25em\" style=\"font-size: 0.8em; letter-spacing: 1px\">\n",
              "        <textPath xlink:href=\"#arrow-86a730cdc1144941af532469194c41bd-0-21\" class=\"displacy-label\" startOffset=\"50%\" side=\"left\" fill=\"currentColor\" text-anchor=\"middle\">pobj</textPath>\n",
              "    </text>\n",
              "    <path class=\"displacy-arrowhead\" d=\"M2675.0,304.0 L2683.0,292.0 2667.0,292.0\" fill=\"currentColor\"/>\n",
              "</g>\n",
              "</svg></span>"
            ],
            "text/plain": [
              "<IPython.core.display.HTML object>"
            ]
          },
          "metadata": {
            "tags": []
          }
        }
      ]
    },
    {
      "cell_type": "code",
      "metadata": {
        "colab": {
          "base_uri": "https://localhost:8080/",
          "height": 538
        },
        "id": "Y2cG8pF3LtZa",
        "outputId": "7e1894a3-7b32-478f-dbf2-1370f73fcff7"
      },
      "source": [
        "displacy.render(nlp(str(sentences[100])), style='dep', jupyter = True, options = {'distance': 120})"
      ],
      "execution_count": null,
      "outputs": [
        {
          "output_type": "display_data",
          "data": {
            "text/html": [
              "<span class=\"tex2jax_ignore\"><svg xmlns=\"http://www.w3.org/2000/svg\" xmlns:xlink=\"http://www.w3.org/1999/xlink\" xml:lang=\"en\" id=\"b7fb5a08338048908ae150fec8866a63-0\" class=\"displacy\" width=\"2210\" height=\"497.0\" direction=\"ltr\" style=\"max-width: none; height: 497.0px; color: #000000; background: #ffffff; font-family: Arial; direction: ltr\">\n",
              "<text class=\"displacy-token\" fill=\"currentColor\" text-anchor=\"middle\" y=\"407.0\">\n",
              "    <tspan class=\"displacy-word\" fill=\"currentColor\" x=\"50\">She</tspan>\n",
              "    <tspan class=\"displacy-tag\" dy=\"2em\" fill=\"currentColor\" x=\"50\">PRON</tspan>\n",
              "</text>\n",
              "\n",
              "<text class=\"displacy-token\" fill=\"currentColor\" text-anchor=\"middle\" y=\"407.0\">\n",
              "    <tspan class=\"displacy-word\" fill=\"currentColor\" x=\"170\">was</tspan>\n",
              "    <tspan class=\"displacy-tag\" dy=\"2em\" fill=\"currentColor\" x=\"170\">AUX</tspan>\n",
              "</text>\n",
              "\n",
              "<text class=\"displacy-token\" fill=\"currentColor\" text-anchor=\"middle\" y=\"407.0\">\n",
              "    <tspan class=\"displacy-word\" fill=\"currentColor\" x=\"290\">a</tspan>\n",
              "    <tspan class=\"displacy-tag\" dy=\"2em\" fill=\"currentColor\" x=\"290\">DET</tspan>\n",
              "</text>\n",
              "\n",
              "<text class=\"displacy-token\" fill=\"currentColor\" text-anchor=\"middle\" y=\"407.0\">\n",
              "    <tspan class=\"displacy-word\" fill=\"currentColor\" x=\"410\">longtime</tspan>\n",
              "    <tspan class=\"displacy-tag\" dy=\"2em\" fill=\"currentColor\" x=\"410\">ADJ</tspan>\n",
              "</text>\n",
              "\n",
              "<text class=\"displacy-token\" fill=\"currentColor\" text-anchor=\"middle\" y=\"407.0\">\n",
              "    <tspan class=\"displacy-word\" fill=\"currentColor\" x=\"530\">member</tspan>\n",
              "    <tspan class=\"displacy-tag\" dy=\"2em\" fill=\"currentColor\" x=\"530\">NOUN</tspan>\n",
              "</text>\n",
              "\n",
              "<text class=\"displacy-token\" fill=\"currentColor\" text-anchor=\"middle\" y=\"407.0\">\n",
              "    <tspan class=\"displacy-word\" fill=\"currentColor\" x=\"650\">of</tspan>\n",
              "    <tspan class=\"displacy-tag\" dy=\"2em\" fill=\"currentColor\" x=\"650\">ADP</tspan>\n",
              "</text>\n",
              "\n",
              "<text class=\"displacy-token\" fill=\"currentColor\" text-anchor=\"middle\" y=\"407.0\">\n",
              "    <tspan class=\"displacy-word\" fill=\"currentColor\" x=\"770\">the</tspan>\n",
              "    <tspan class=\"displacy-tag\" dy=\"2em\" fill=\"currentColor\" x=\"770\">DET</tspan>\n",
              "</text>\n",
              "\n",
              "<text class=\"displacy-token\" fill=\"currentColor\" text-anchor=\"middle\" y=\"407.0\">\n",
              "    <tspan class=\"displacy-word\" fill=\"currentColor\" x=\"890\">Zapatista</tspan>\n",
              "    <tspan class=\"displacy-tag\" dy=\"2em\" fill=\"currentColor\" x=\"890\">PROPN</tspan>\n",
              "</text>\n",
              "\n",
              "<text class=\"displacy-token\" fill=\"currentColor\" text-anchor=\"middle\" y=\"407.0\">\n",
              "    <tspan class=\"displacy-word\" fill=\"currentColor\" x=\"1010\">movement</tspan>\n",
              "    <tspan class=\"displacy-tag\" dy=\"2em\" fill=\"currentColor\" x=\"1010\">NOUN</tspan>\n",
              "</text>\n",
              "\n",
              "<text class=\"displacy-token\" fill=\"currentColor\" text-anchor=\"middle\" y=\"407.0\">\n",
              "    <tspan class=\"displacy-word\" fill=\"currentColor\" x=\"1130\">and</tspan>\n",
              "    <tspan class=\"displacy-tag\" dy=\"2em\" fill=\"currentColor\" x=\"1130\">CCONJ</tspan>\n",
              "</text>\n",
              "\n",
              "<text class=\"displacy-token\" fill=\"currentColor\" text-anchor=\"middle\" y=\"407.0\">\n",
              "    <tspan class=\"displacy-word\" fill=\"currentColor\" x=\"1250\">appeared</tspan>\n",
              "    <tspan class=\"displacy-tag\" dy=\"2em\" fill=\"currentColor\" x=\"1250\">VERB</tspan>\n",
              "</text>\n",
              "\n",
              "<text class=\"displacy-token\" fill=\"currentColor\" text-anchor=\"middle\" y=\"407.0\">\n",
              "    <tspan class=\"displacy-word\" fill=\"currentColor\" x=\"1370\">in</tspan>\n",
              "    <tspan class=\"displacy-tag\" dy=\"2em\" fill=\"currentColor\" x=\"1370\">ADP</tspan>\n",
              "</text>\n",
              "\n",
              "<text class=\"displacy-token\" fill=\"currentColor\" text-anchor=\"middle\" y=\"407.0\">\n",
              "    <tspan class=\"displacy-word\" fill=\"currentColor\" x=\"1490\">public</tspan>\n",
              "    <tspan class=\"displacy-tag\" dy=\"2em\" fill=\"currentColor\" x=\"1490\">ADJ</tspan>\n",
              "</text>\n",
              "\n",
              "<text class=\"displacy-token\" fill=\"currentColor\" text-anchor=\"middle\" y=\"407.0\">\n",
              "    <tspan class=\"displacy-word\" fill=\"currentColor\" x=\"1610\">wearing</tspan>\n",
              "    <tspan class=\"displacy-tag\" dy=\"2em\" fill=\"currentColor\" x=\"1610\">VERB</tspan>\n",
              "</text>\n",
              "\n",
              "<text class=\"displacy-token\" fill=\"currentColor\" text-anchor=\"middle\" y=\"407.0\">\n",
              "    <tspan class=\"displacy-word\" fill=\"currentColor\" x=\"1730\">a</tspan>\n",
              "    <tspan class=\"displacy-tag\" dy=\"2em\" fill=\"currentColor\" x=\"1730\">DET</tspan>\n",
              "</text>\n",
              "\n",
              "<text class=\"displacy-token\" fill=\"currentColor\" text-anchor=\"middle\" y=\"407.0\">\n",
              "    <tspan class=\"displacy-word\" fill=\"currentColor\" x=\"1850\">black</tspan>\n",
              "    <tspan class=\"displacy-tag\" dy=\"2em\" fill=\"currentColor\" x=\"1850\">ADJ</tspan>\n",
              "</text>\n",
              "\n",
              "<text class=\"displacy-token\" fill=\"currentColor\" text-anchor=\"middle\" y=\"407.0\">\n",
              "    <tspan class=\"displacy-word\" fill=\"currentColor\" x=\"1970\">ski</tspan>\n",
              "    <tspan class=\"displacy-tag\" dy=\"2em\" fill=\"currentColor\" x=\"1970\">NOUN</tspan>\n",
              "</text>\n",
              "\n",
              "<text class=\"displacy-token\" fill=\"currentColor\" text-anchor=\"middle\" y=\"407.0\">\n",
              "    <tspan class=\"displacy-word\" fill=\"currentColor\" x=\"2090\">mask .</tspan>\n",
              "    <tspan class=\"displacy-tag\" dy=\"2em\" fill=\"currentColor\" x=\"2090\">NOUN</tspan>\n",
              "</text>\n",
              "\n",
              "<g class=\"displacy-arrow\">\n",
              "    <path class=\"displacy-arc\" id=\"arrow-b7fb5a08338048908ae150fec8866a63-0-0\" stroke-width=\"2px\" d=\"M70,362.0 C70,302.0 145.0,302.0 145.0,362.0\" fill=\"none\" stroke=\"currentColor\"/>\n",
              "    <text dy=\"1.25em\" style=\"font-size: 0.8em; letter-spacing: 1px\">\n",
              "        <textPath xlink:href=\"#arrow-b7fb5a08338048908ae150fec8866a63-0-0\" class=\"displacy-label\" startOffset=\"50%\" side=\"left\" fill=\"currentColor\" text-anchor=\"middle\">nsubj</textPath>\n",
              "    </text>\n",
              "    <path class=\"displacy-arrowhead\" d=\"M70,364.0 L62,352.0 78,352.0\" fill=\"currentColor\"/>\n",
              "</g>\n",
              "\n",
              "<g class=\"displacy-arrow\">\n",
              "    <path class=\"displacy-arc\" id=\"arrow-b7fb5a08338048908ae150fec8866a63-0-1\" stroke-width=\"2px\" d=\"M310,362.0 C310,242.0 510.0,242.0 510.0,362.0\" fill=\"none\" stroke=\"currentColor\"/>\n",
              "    <text dy=\"1.25em\" style=\"font-size: 0.8em; letter-spacing: 1px\">\n",
              "        <textPath xlink:href=\"#arrow-b7fb5a08338048908ae150fec8866a63-0-1\" class=\"displacy-label\" startOffset=\"50%\" side=\"left\" fill=\"currentColor\" text-anchor=\"middle\">det</textPath>\n",
              "    </text>\n",
              "    <path class=\"displacy-arrowhead\" d=\"M310,364.0 L302,352.0 318,352.0\" fill=\"currentColor\"/>\n",
              "</g>\n",
              "\n",
              "<g class=\"displacy-arrow\">\n",
              "    <path class=\"displacy-arc\" id=\"arrow-b7fb5a08338048908ae150fec8866a63-0-2\" stroke-width=\"2px\" d=\"M430,362.0 C430,302.0 505.0,302.0 505.0,362.0\" fill=\"none\" stroke=\"currentColor\"/>\n",
              "    <text dy=\"1.25em\" style=\"font-size: 0.8em; letter-spacing: 1px\">\n",
              "        <textPath xlink:href=\"#arrow-b7fb5a08338048908ae150fec8866a63-0-2\" class=\"displacy-label\" startOffset=\"50%\" side=\"left\" fill=\"currentColor\" text-anchor=\"middle\">amod</textPath>\n",
              "    </text>\n",
              "    <path class=\"displacy-arrowhead\" d=\"M430,364.0 L422,352.0 438,352.0\" fill=\"currentColor\"/>\n",
              "</g>\n",
              "\n",
              "<g class=\"displacy-arrow\">\n",
              "    <path class=\"displacy-arc\" id=\"arrow-b7fb5a08338048908ae150fec8866a63-0-3\" stroke-width=\"2px\" d=\"M190,362.0 C190,182.0 515.0,182.0 515.0,362.0\" fill=\"none\" stroke=\"currentColor\"/>\n",
              "    <text dy=\"1.25em\" style=\"font-size: 0.8em; letter-spacing: 1px\">\n",
              "        <textPath xlink:href=\"#arrow-b7fb5a08338048908ae150fec8866a63-0-3\" class=\"displacy-label\" startOffset=\"50%\" side=\"left\" fill=\"currentColor\" text-anchor=\"middle\">attr</textPath>\n",
              "    </text>\n",
              "    <path class=\"displacy-arrowhead\" d=\"M515.0,364.0 L523.0,352.0 507.0,352.0\" fill=\"currentColor\"/>\n",
              "</g>\n",
              "\n",
              "<g class=\"displacy-arrow\">\n",
              "    <path class=\"displacy-arc\" id=\"arrow-b7fb5a08338048908ae150fec8866a63-0-4\" stroke-width=\"2px\" d=\"M550,362.0 C550,302.0 625.0,302.0 625.0,362.0\" fill=\"none\" stroke=\"currentColor\"/>\n",
              "    <text dy=\"1.25em\" style=\"font-size: 0.8em; letter-spacing: 1px\">\n",
              "        <textPath xlink:href=\"#arrow-b7fb5a08338048908ae150fec8866a63-0-4\" class=\"displacy-label\" startOffset=\"50%\" side=\"left\" fill=\"currentColor\" text-anchor=\"middle\">prep</textPath>\n",
              "    </text>\n",
              "    <path class=\"displacy-arrowhead\" d=\"M625.0,364.0 L633.0,352.0 617.0,352.0\" fill=\"currentColor\"/>\n",
              "</g>\n",
              "\n",
              "<g class=\"displacy-arrow\">\n",
              "    <path class=\"displacy-arc\" id=\"arrow-b7fb5a08338048908ae150fec8866a63-0-5\" stroke-width=\"2px\" d=\"M790,362.0 C790,242.0 990.0,242.0 990.0,362.0\" fill=\"none\" stroke=\"currentColor\"/>\n",
              "    <text dy=\"1.25em\" style=\"font-size: 0.8em; letter-spacing: 1px\">\n",
              "        <textPath xlink:href=\"#arrow-b7fb5a08338048908ae150fec8866a63-0-5\" class=\"displacy-label\" startOffset=\"50%\" side=\"left\" fill=\"currentColor\" text-anchor=\"middle\">det</textPath>\n",
              "    </text>\n",
              "    <path class=\"displacy-arrowhead\" d=\"M790,364.0 L782,352.0 798,352.0\" fill=\"currentColor\"/>\n",
              "</g>\n",
              "\n",
              "<g class=\"displacy-arrow\">\n",
              "    <path class=\"displacy-arc\" id=\"arrow-b7fb5a08338048908ae150fec8866a63-0-6\" stroke-width=\"2px\" d=\"M910,362.0 C910,302.0 985.0,302.0 985.0,362.0\" fill=\"none\" stroke=\"currentColor\"/>\n",
              "    <text dy=\"1.25em\" style=\"font-size: 0.8em; letter-spacing: 1px\">\n",
              "        <textPath xlink:href=\"#arrow-b7fb5a08338048908ae150fec8866a63-0-6\" class=\"displacy-label\" startOffset=\"50%\" side=\"left\" fill=\"currentColor\" text-anchor=\"middle\">compound</textPath>\n",
              "    </text>\n",
              "    <path class=\"displacy-arrowhead\" d=\"M910,364.0 L902,352.0 918,352.0\" fill=\"currentColor\"/>\n",
              "</g>\n",
              "\n",
              "<g class=\"displacy-arrow\">\n",
              "    <path class=\"displacy-arc\" id=\"arrow-b7fb5a08338048908ae150fec8866a63-0-7\" stroke-width=\"2px\" d=\"M670,362.0 C670,182.0 995.0,182.0 995.0,362.0\" fill=\"none\" stroke=\"currentColor\"/>\n",
              "    <text dy=\"1.25em\" style=\"font-size: 0.8em; letter-spacing: 1px\">\n",
              "        <textPath xlink:href=\"#arrow-b7fb5a08338048908ae150fec8866a63-0-7\" class=\"displacy-label\" startOffset=\"50%\" side=\"left\" fill=\"currentColor\" text-anchor=\"middle\">pobj</textPath>\n",
              "    </text>\n",
              "    <path class=\"displacy-arrowhead\" d=\"M995.0,364.0 L1003.0,352.0 987.0,352.0\" fill=\"currentColor\"/>\n",
              "</g>\n",
              "\n",
              "<g class=\"displacy-arrow\">\n",
              "    <path class=\"displacy-arc\" id=\"arrow-b7fb5a08338048908ae150fec8866a63-0-8\" stroke-width=\"2px\" d=\"M190,362.0 C190,62.0 1125.0,62.0 1125.0,362.0\" fill=\"none\" stroke=\"currentColor\"/>\n",
              "    <text dy=\"1.25em\" style=\"font-size: 0.8em; letter-spacing: 1px\">\n",
              "        <textPath xlink:href=\"#arrow-b7fb5a08338048908ae150fec8866a63-0-8\" class=\"displacy-label\" startOffset=\"50%\" side=\"left\" fill=\"currentColor\" text-anchor=\"middle\">cc</textPath>\n",
              "    </text>\n",
              "    <path class=\"displacy-arrowhead\" d=\"M1125.0,364.0 L1133.0,352.0 1117.0,352.0\" fill=\"currentColor\"/>\n",
              "</g>\n",
              "\n",
              "<g class=\"displacy-arrow\">\n",
              "    <path class=\"displacy-arc\" id=\"arrow-b7fb5a08338048908ae150fec8866a63-0-9\" stroke-width=\"2px\" d=\"M190,362.0 C190,2.0 1250.0,2.0 1250.0,362.0\" fill=\"none\" stroke=\"currentColor\"/>\n",
              "    <text dy=\"1.25em\" style=\"font-size: 0.8em; letter-spacing: 1px\">\n",
              "        <textPath xlink:href=\"#arrow-b7fb5a08338048908ae150fec8866a63-0-9\" class=\"displacy-label\" startOffset=\"50%\" side=\"left\" fill=\"currentColor\" text-anchor=\"middle\">conj</textPath>\n",
              "    </text>\n",
              "    <path class=\"displacy-arrowhead\" d=\"M1250.0,364.0 L1258.0,352.0 1242.0,352.0\" fill=\"currentColor\"/>\n",
              "</g>\n",
              "\n",
              "<g class=\"displacy-arrow\">\n",
              "    <path class=\"displacy-arc\" id=\"arrow-b7fb5a08338048908ae150fec8866a63-0-10\" stroke-width=\"2px\" d=\"M1270,362.0 C1270,302.0 1345.0,302.0 1345.0,362.0\" fill=\"none\" stroke=\"currentColor\"/>\n",
              "    <text dy=\"1.25em\" style=\"font-size: 0.8em; letter-spacing: 1px\">\n",
              "        <textPath xlink:href=\"#arrow-b7fb5a08338048908ae150fec8866a63-0-10\" class=\"displacy-label\" startOffset=\"50%\" side=\"left\" fill=\"currentColor\" text-anchor=\"middle\">prep</textPath>\n",
              "    </text>\n",
              "    <path class=\"displacy-arrowhead\" d=\"M1345.0,364.0 L1353.0,352.0 1337.0,352.0\" fill=\"currentColor\"/>\n",
              "</g>\n",
              "\n",
              "<g class=\"displacy-arrow\">\n",
              "    <path class=\"displacy-arc\" id=\"arrow-b7fb5a08338048908ae150fec8866a63-0-11\" stroke-width=\"2px\" d=\"M1390,362.0 C1390,302.0 1465.0,302.0 1465.0,362.0\" fill=\"none\" stroke=\"currentColor\"/>\n",
              "    <text dy=\"1.25em\" style=\"font-size: 0.8em; letter-spacing: 1px\">\n",
              "        <textPath xlink:href=\"#arrow-b7fb5a08338048908ae150fec8866a63-0-11\" class=\"displacy-label\" startOffset=\"50%\" side=\"left\" fill=\"currentColor\" text-anchor=\"middle\">pobj</textPath>\n",
              "    </text>\n",
              "    <path class=\"displacy-arrowhead\" d=\"M1465.0,364.0 L1473.0,352.0 1457.0,352.0\" fill=\"currentColor\"/>\n",
              "</g>\n",
              "\n",
              "<g class=\"displacy-arrow\">\n",
              "    <path class=\"displacy-arc\" id=\"arrow-b7fb5a08338048908ae150fec8866a63-0-12\" stroke-width=\"2px\" d=\"M1270,362.0 C1270,182.0 1595.0,182.0 1595.0,362.0\" fill=\"none\" stroke=\"currentColor\"/>\n",
              "    <text dy=\"1.25em\" style=\"font-size: 0.8em; letter-spacing: 1px\">\n",
              "        <textPath xlink:href=\"#arrow-b7fb5a08338048908ae150fec8866a63-0-12\" class=\"displacy-label\" startOffset=\"50%\" side=\"left\" fill=\"currentColor\" text-anchor=\"middle\">xcomp</textPath>\n",
              "    </text>\n",
              "    <path class=\"displacy-arrowhead\" d=\"M1595.0,364.0 L1603.0,352.0 1587.0,352.0\" fill=\"currentColor\"/>\n",
              "</g>\n",
              "\n",
              "<g class=\"displacy-arrow\">\n",
              "    <path class=\"displacy-arc\" id=\"arrow-b7fb5a08338048908ae150fec8866a63-0-13\" stroke-width=\"2px\" d=\"M1750,362.0 C1750,182.0 2075.0,182.0 2075.0,362.0\" fill=\"none\" stroke=\"currentColor\"/>\n",
              "    <text dy=\"1.25em\" style=\"font-size: 0.8em; letter-spacing: 1px\">\n",
              "        <textPath xlink:href=\"#arrow-b7fb5a08338048908ae150fec8866a63-0-13\" class=\"displacy-label\" startOffset=\"50%\" side=\"left\" fill=\"currentColor\" text-anchor=\"middle\">det</textPath>\n",
              "    </text>\n",
              "    <path class=\"displacy-arrowhead\" d=\"M1750,364.0 L1742,352.0 1758,352.0\" fill=\"currentColor\"/>\n",
              "</g>\n",
              "\n",
              "<g class=\"displacy-arrow\">\n",
              "    <path class=\"displacy-arc\" id=\"arrow-b7fb5a08338048908ae150fec8866a63-0-14\" stroke-width=\"2px\" d=\"M1870,362.0 C1870,242.0 2070.0,242.0 2070.0,362.0\" fill=\"none\" stroke=\"currentColor\"/>\n",
              "    <text dy=\"1.25em\" style=\"font-size: 0.8em; letter-spacing: 1px\">\n",
              "        <textPath xlink:href=\"#arrow-b7fb5a08338048908ae150fec8866a63-0-14\" class=\"displacy-label\" startOffset=\"50%\" side=\"left\" fill=\"currentColor\" text-anchor=\"middle\">amod</textPath>\n",
              "    </text>\n",
              "    <path class=\"displacy-arrowhead\" d=\"M1870,364.0 L1862,352.0 1878,352.0\" fill=\"currentColor\"/>\n",
              "</g>\n",
              "\n",
              "<g class=\"displacy-arrow\">\n",
              "    <path class=\"displacy-arc\" id=\"arrow-b7fb5a08338048908ae150fec8866a63-0-15\" stroke-width=\"2px\" d=\"M1990,362.0 C1990,302.0 2065.0,302.0 2065.0,362.0\" fill=\"none\" stroke=\"currentColor\"/>\n",
              "    <text dy=\"1.25em\" style=\"font-size: 0.8em; letter-spacing: 1px\">\n",
              "        <textPath xlink:href=\"#arrow-b7fb5a08338048908ae150fec8866a63-0-15\" class=\"displacy-label\" startOffset=\"50%\" side=\"left\" fill=\"currentColor\" text-anchor=\"middle\">compound</textPath>\n",
              "    </text>\n",
              "    <path class=\"displacy-arrowhead\" d=\"M1990,364.0 L1982,352.0 1998,352.0\" fill=\"currentColor\"/>\n",
              "</g>\n",
              "\n",
              "<g class=\"displacy-arrow\">\n",
              "    <path class=\"displacy-arc\" id=\"arrow-b7fb5a08338048908ae150fec8866a63-0-16\" stroke-width=\"2px\" d=\"M1630,362.0 C1630,122.0 2080.0,122.0 2080.0,362.0\" fill=\"none\" stroke=\"currentColor\"/>\n",
              "    <text dy=\"1.25em\" style=\"font-size: 0.8em; letter-spacing: 1px\">\n",
              "        <textPath xlink:href=\"#arrow-b7fb5a08338048908ae150fec8866a63-0-16\" class=\"displacy-label\" startOffset=\"50%\" side=\"left\" fill=\"currentColor\" text-anchor=\"middle\">dobj</textPath>\n",
              "    </text>\n",
              "    <path class=\"displacy-arrowhead\" d=\"M2080.0,364.0 L2088.0,352.0 2072.0,352.0\" fill=\"currentColor\"/>\n",
              "</g>\n",
              "</svg></span>"
            ],
            "text/plain": [
              "<IPython.core.display.HTML object>"
            ]
          },
          "metadata": {
            "tags": []
          }
        }
      ]
    }
  ]
}